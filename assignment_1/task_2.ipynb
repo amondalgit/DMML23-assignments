{
 "cells": [
  {
   "cell_type": "markdown",
   "metadata": {},
   "source": [
    "# Problem Statement ❔"
   ]
  },
  {
   "attachments": {},
   "cell_type": "markdown",
   "metadata": {},
   "source": [
    "The following is a database of 1698 Hindi Movies from 2005-2017: [https://www.kaggle.com/datasets/rishidamarla/bollywood-movies-dataset](https://www.kaggle.com/datasets/rishidamarla/bollywood-movies-dataset)\n",
    "\n",
    "[Local Data](/data/bollywood-movie-dataset.csv)\n",
    "\n",
    "A movie is a `hit` if _revenue_ > _budget_, and it is a `flop` otherwise. The goal is to predict whether a movie will be a `hit` or `flop`, given all the other attributes.\n",
    "\n",
    "Once again, your task is to build two classifiers for this data set: a Decision Tree and a Naïve Bayes classifier. Use a suitable evaluation metric to compare the performance of the the classifiers."
   ]
  },
  {
   "cell_type": "markdown",
   "metadata": {},
   "source": [
    "# Solution ✅"
   ]
  },
  {
   "cell_type": "markdown",
   "metadata": {},
   "source": [
    "## Decision Tree Classifier 🌲"
   ]
  },
  {
   "cell_type": "markdown",
   "metadata": {},
   "source": [
    "#### 1.1 Packages Import"
   ]
  },
  {
   "cell_type": "code",
   "execution_count": 1,
   "metadata": {},
   "outputs": [],
   "source": [
    "import os\n",
    "import numpy as np\n",
    "import pandas as pd\n",
    "import matplotlib.pyplot as plt\n",
    "import seaborn as sns\n",
    "import graphviz as gviz\n",
    "import missingno as msno\n",
    "\n",
    "from sklearn.preprocessing import OrdinalEncoder\n",
    "\n",
    "from sklearn.impute import SimpleImputer\n",
    "\n",
    "from sklearn.model_selection import train_test_split, GridSearchCV, cross_validate, cross_val_score\n",
    "from sklearn.tree import DecisionTreeClassifier, export_graphviz\n",
    "\n",
    "from sklearn.metrics import confusion_matrix, ConfusionMatrixDisplay\n",
    "from sklearn.metrics import accuracy_score, precision_score, recall_score, roc_auc_score, make_scorer\n",
    "\n",
    "from datetime import datetime\n",
    "import calendar\n",
    "\n",
    "from time import perf_counter_ns as perf\n",
    "import pickle\n",
    "\n",
    "import warnings\n",
    "warnings.filterwarnings('ignore')"
   ]
  },
  {
   "cell_type": "code",
   "execution_count": 2,
   "metadata": {},
   "outputs": [],
   "source": [
    "model_count = 0"
   ]
  },
  {
   "cell_type": "markdown",
   "metadata": {},
   "source": [
    "#### 1.2 Extract CSV data into pandas DataFrame"
   ]
  },
  {
   "cell_type": "code",
   "execution_count": 3,
   "metadata": {},
   "outputs": [],
   "source": [
    "df_original = pd.read_csv(\"./datasets/bollywood-movie-dataset.csv\")"
   ]
  },
  {
   "cell_type": "markdown",
   "metadata": {},
   "source": [
    "### 2. Data Description"
   ]
  },
  {
   "cell_type": "markdown",
   "metadata": {},
   "source": [
    "#### 2.1 Top 5 records"
   ]
  },
  {
   "cell_type": "code",
   "execution_count": 4,
   "metadata": {},
   "outputs": [
    {
     "data": {
      "text/html": [
       "<div><div id=cb1ae9fb-2edb-411a-97a3-604e40854c3a style=\"display:none; background-color:#9D6CFF; color:white; width:200px; height:30px; padding-left:5px; border-radius:4px; flex-direction:row; justify-content:space-around; align-items:center;\" onmouseover=\"this.style.backgroundColor='#BA9BF8'\" onmouseout=\"this.style.backgroundColor='#9D6CFF'\" onclick=\"window.commands?.execute('create-mitosheet-from-dataframe-output');\">See Full Dataframe in Mito</div> <script> if (window.commands?.hasCommand('create-mitosheet-from-dataframe-output')) document.getElementById('cb1ae9fb-2edb-411a-97a3-604e40854c3a').style.display = 'flex' </script> <table border=\"1\" class=\"dataframe\">\n",
       "  <thead>\n",
       "    <tr style=\"text-align: right;\">\n",
       "      <th></th>\n",
       "      <th>Movie Name</th>\n",
       "      <th>Release Period</th>\n",
       "      <th>Whether Remake</th>\n",
       "      <th>Whether Franchise</th>\n",
       "      <th>Genre</th>\n",
       "      <th>New Actor</th>\n",
       "      <th>New Director</th>\n",
       "      <th>New Music Director</th>\n",
       "      <th>Lead Star</th>\n",
       "      <th>Director</th>\n",
       "      <th>Music Director</th>\n",
       "      <th>Number of Screens</th>\n",
       "      <th>Revenue(INR)</th>\n",
       "      <th>Budget(INR)</th>\n",
       "    </tr>\n",
       "  </thead>\n",
       "  <tbody>\n",
       "    <tr>\n",
       "      <th>0</th>\n",
       "      <td>Golden Boys</td>\n",
       "      <td>Normal</td>\n",
       "      <td>No</td>\n",
       "      <td>No</td>\n",
       "      <td>suspense</td>\n",
       "      <td>Yes</td>\n",
       "      <td>No</td>\n",
       "      <td>No</td>\n",
       "      <td>Jeet Goswami</td>\n",
       "      <td>Ravi Varma</td>\n",
       "      <td>Baba Jagirdar</td>\n",
       "      <td>5</td>\n",
       "      <td>5000000</td>\n",
       "      <td>85000</td>\n",
       "    </tr>\n",
       "    <tr>\n",
       "      <th>1</th>\n",
       "      <td>Kaccha Limboo</td>\n",
       "      <td>Holiday</td>\n",
       "      <td>No</td>\n",
       "      <td>No</td>\n",
       "      <td>drama</td>\n",
       "      <td>Yes</td>\n",
       "      <td>No</td>\n",
       "      <td>Yes</td>\n",
       "      <td>Karan Bhanushali</td>\n",
       "      <td>Sagar Ballary</td>\n",
       "      <td>Amardeep Nijjer</td>\n",
       "      <td>75</td>\n",
       "      <td>15000000</td>\n",
       "      <td>825000</td>\n",
       "    </tr>\n",
       "    <tr>\n",
       "      <th>2</th>\n",
       "      <td>Not A Love Story</td>\n",
       "      <td>Holiday</td>\n",
       "      <td>No</td>\n",
       "      <td>No</td>\n",
       "      <td>thriller</td>\n",
       "      <td>No</td>\n",
       "      <td>No</td>\n",
       "      <td>No</td>\n",
       "      <td>Mahie Gill</td>\n",
       "      <td>Ram Gopal Verma</td>\n",
       "      <td>Sandeep Chowta</td>\n",
       "      <td>525</td>\n",
       "      <td>75000000</td>\n",
       "      <td>56700000</td>\n",
       "    </tr>\n",
       "    <tr>\n",
       "      <th>3</th>\n",
       "      <td>Qaidi Band</td>\n",
       "      <td>Holiday</td>\n",
       "      <td>No</td>\n",
       "      <td>No</td>\n",
       "      <td>drama</td>\n",
       "      <td>Yes</td>\n",
       "      <td>No</td>\n",
       "      <td>No</td>\n",
       "      <td>Aadar Jain</td>\n",
       "      <td>Habib Faisal</td>\n",
       "      <td>Amit Trivedi</td>\n",
       "      <td>800</td>\n",
       "      <td>210000000</td>\n",
       "      <td>4500000</td>\n",
       "    </tr>\n",
       "    <tr>\n",
       "      <th>4</th>\n",
       "      <td>Chaatwali</td>\n",
       "      <td>Holiday</td>\n",
       "      <td>No</td>\n",
       "      <td>No</td>\n",
       "      <td>adult</td>\n",
       "      <td>Yes</td>\n",
       "      <td>Yes</td>\n",
       "      <td>Yes</td>\n",
       "      <td>Aadil Khan</td>\n",
       "      <td>Aadil Khan</td>\n",
       "      <td>Babloo Ustad</td>\n",
       "      <td>1</td>\n",
       "      <td>1000000</td>\n",
       "      <td>1075000</td>\n",
       "    </tr>\n",
       "  </tbody>\n",
       "</table></div>"
      ],
      "text/plain": [
       "         Movie Name Release Period Whether Remake Whether Franchise     Genre  \\\n",
       "0       Golden Boys         Normal             No                No  suspense   \n",
       "1     Kaccha Limboo        Holiday             No                No     drama   \n",
       "2  Not A Love Story        Holiday             No                No  thriller   \n",
       "3        Qaidi Band        Holiday             No                No     drama   \n",
       "4         Chaatwali        Holiday             No                No     adult   \n",
       "\n",
       "  New Actor New Director New Music Director         Lead Star  \\\n",
       "0       Yes           No                 No      Jeet Goswami   \n",
       "1       Yes           No                Yes  Karan Bhanushali   \n",
       "2        No           No                 No        Mahie Gill   \n",
       "3       Yes           No                 No        Aadar Jain   \n",
       "4       Yes          Yes                Yes        Aadil Khan   \n",
       "\n",
       "          Director   Music Director  Number of Screens  Revenue(INR)  \\\n",
       "0       Ravi Varma    Baba Jagirdar                  5       5000000   \n",
       "1    Sagar Ballary  Amardeep Nijjer                 75      15000000   \n",
       "2  Ram Gopal Verma   Sandeep Chowta                525      75000000   \n",
       "3     Habib Faisal     Amit Trivedi                800     210000000   \n",
       "4       Aadil Khan     Babloo Ustad                  1       1000000   \n",
       "\n",
       "   Budget(INR)  \n",
       "0        85000  \n",
       "1       825000  \n",
       "2     56700000  \n",
       "3      4500000  \n",
       "4      1075000  "
      ]
     },
     "execution_count": 4,
     "metadata": {},
     "output_type": "execute_result"
    }
   ],
   "source": [
    "df_original.head()"
   ]
  },
  {
   "cell_type": "code",
   "execution_count": 8,
   "metadata": {},
   "outputs": [
    {
     "data": {
      "text/plain": [
       "(1, 4600)"
      ]
     },
     "execution_count": 8,
     "metadata": {},
     "output_type": "execute_result"
    }
   ],
   "source": [
    "df_original['Number of Screens'].min(),df_original['Number of Screens'].max()"
   ]
  },
  {
   "cell_type": "code",
   "execution_count": 7,
   "metadata": {},
   "outputs": [
    {
     "data": {
      "text/plain": [
       "(325000, 2100000000)"
      ]
     },
     "execution_count": 7,
     "metadata": {},
     "output_type": "execute_result"
    }
   ],
   "source": [
    "df_original['Revenue(INR)'].min(),df_original['Revenue(INR)'].max()"
   ]
  },
  {
   "cell_type": "code",
   "execution_count": 5,
   "metadata": {},
   "outputs": [
    {
     "data": {
      "text/plain": [
       "Index(['Movie Name', 'Release Period', 'Whether Remake', 'Whether Franchise',\n",
       "       'Genre', 'New Actor', 'New Director', 'New Music Director', 'Lead Star',\n",
       "       'Director', 'Music Director', 'Number of Screens', 'Revenue(INR)',\n",
       "       'Budget(INR)'],\n",
       "      dtype='object')"
      ]
     },
     "execution_count": 5,
     "metadata": {},
     "output_type": "execute_result"
    }
   ],
   "source": [
    "df_original.columns"
   ]
  },
  {
   "cell_type": "markdown",
   "metadata": {},
   "source": [
    "#### 2.2 Shape of the dataset"
   ]
  },
  {
   "cell_type": "code",
   "execution_count": 6,
   "metadata": {},
   "outputs": [
    {
     "name": "stdout",
     "output_type": "stream",
     "text": [
      "Count of (Records, Features) = (1698, 14)\n"
     ]
    }
   ],
   "source": [
    "print(f'Count of (Records, Features) = {df_original.shape}')"
   ]
  },
  {
   "cell_type": "markdown",
   "metadata": {},
   "source": [
    "#### 2.3 Datatype of features"
   ]
  },
  {
   "cell_type": "code",
   "execution_count": 7,
   "metadata": {},
   "outputs": [
    {
     "name": "stdout",
     "output_type": "stream",
     "text": [
      "Movie Name            object\n",
      "Release Period        object\n",
      "Whether Remake        object\n",
      "Whether Franchise     object\n",
      "Genre                 object\n",
      "New Actor             object\n",
      "New Director          object\n",
      "New Music Director    object\n",
      "Lead Star             object\n",
      "Director              object\n",
      "Music Director        object\n",
      "Number of Screens      int64\n",
      "Revenue(INR)           int64\n",
      "Budget(INR)            int64\n",
      "dtype: object\n"
     ]
    }
   ],
   "source": [
    "feature_description = df_original.dtypes\n",
    "print(feature_description)"
   ]
  },
  {
   "cell_type": "markdown",
   "metadata": {},
   "source": [
    "##### Seperate features based on the datatype"
   ]
  },
  {
   "cell_type": "code",
   "execution_count": 8,
   "metadata": {},
   "outputs": [
    {
     "name": "stdout",
     "output_type": "stream",
     "text": [
      "There are 11 Categorical, 3 Discrete Numerical and 0 Continuous Numerical features in the dataset.\n"
     ]
    }
   ],
   "source": [
    "categorical_features = feature_description[feature_description=='O'].index\n",
    "discrete_numerical_features = feature_description[feature_description=='int64'].index\n",
    "continuous_numerical_features = feature_description[feature_description=='float'].index\n",
    "\n",
    "print(f'There are {len(categorical_features)} Categorical, {len(discrete_numerical_features)} Discrete Numerical and {len(continuous_numerical_features)} Continuous Numerical features in the dataset.')"
   ]
  },
  {
   "cell_type": "markdown",
   "metadata": {},
   "source": [
    "By analysing real world box-office data we can corroborate that, the `Revenue(INR)` and `Budget(INR)` of the dataframe need to be interchanged."
   ]
  },
  {
   "cell_type": "code",
   "execution_count": 9,
   "metadata": {},
   "outputs": [
    {
     "data": {
      "text/html": [
       "<div><div id=e24afe81-248a-4fda-9ac9-fa7ed20d60a8 style=\"display:none; background-color:#9D6CFF; color:white; width:200px; height:30px; padding-left:5px; border-radius:4px; flex-direction:row; justify-content:space-around; align-items:center;\" onmouseover=\"this.style.backgroundColor='#BA9BF8'\" onmouseout=\"this.style.backgroundColor='#9D6CFF'\" onclick=\"window.commands?.execute('create-mitosheet-from-dataframe-output');\">See Full Dataframe in Mito</div> <script> if (window.commands?.hasCommand('create-mitosheet-from-dataframe-output')) document.getElementById('e24afe81-248a-4fda-9ac9-fa7ed20d60a8').style.display = 'flex' </script> <table border=\"1\" class=\"dataframe\">\n",
       "  <thead>\n",
       "    <tr style=\"text-align: right;\">\n",
       "      <th></th>\n",
       "      <th>Movie Name</th>\n",
       "      <th>Release Period</th>\n",
       "      <th>Whether Remake</th>\n",
       "      <th>Whether Franchise</th>\n",
       "      <th>Genre</th>\n",
       "      <th>New Actor</th>\n",
       "      <th>New Director</th>\n",
       "      <th>New Music Director</th>\n",
       "      <th>Lead Star</th>\n",
       "      <th>Director</th>\n",
       "      <th>Music Director</th>\n",
       "      <th>Number of Screens</th>\n",
       "      <th>Revenue(INR)</th>\n",
       "      <th>Budget(INR)</th>\n",
       "    </tr>\n",
       "  </thead>\n",
       "  <tbody>\n",
       "    <tr>\n",
       "      <th>0</th>\n",
       "      <td>Golden Boys</td>\n",
       "      <td>Normal</td>\n",
       "      <td>No</td>\n",
       "      <td>No</td>\n",
       "      <td>suspense</td>\n",
       "      <td>Yes</td>\n",
       "      <td>No</td>\n",
       "      <td>No</td>\n",
       "      <td>Jeet Goswami</td>\n",
       "      <td>Ravi Varma</td>\n",
       "      <td>Baba Jagirdar</td>\n",
       "      <td>5</td>\n",
       "      <td>85000</td>\n",
       "      <td>5000000</td>\n",
       "    </tr>\n",
       "    <tr>\n",
       "      <th>1</th>\n",
       "      <td>Kaccha Limboo</td>\n",
       "      <td>Holiday</td>\n",
       "      <td>No</td>\n",
       "      <td>No</td>\n",
       "      <td>drama</td>\n",
       "      <td>Yes</td>\n",
       "      <td>No</td>\n",
       "      <td>Yes</td>\n",
       "      <td>Karan Bhanushali</td>\n",
       "      <td>Sagar Ballary</td>\n",
       "      <td>Amardeep Nijjer</td>\n",
       "      <td>75</td>\n",
       "      <td>825000</td>\n",
       "      <td>15000000</td>\n",
       "    </tr>\n",
       "    <tr>\n",
       "      <th>2</th>\n",
       "      <td>Not A Love Story</td>\n",
       "      <td>Holiday</td>\n",
       "      <td>No</td>\n",
       "      <td>No</td>\n",
       "      <td>thriller</td>\n",
       "      <td>No</td>\n",
       "      <td>No</td>\n",
       "      <td>No</td>\n",
       "      <td>Mahie Gill</td>\n",
       "      <td>Ram Gopal Verma</td>\n",
       "      <td>Sandeep Chowta</td>\n",
       "      <td>525</td>\n",
       "      <td>56700000</td>\n",
       "      <td>75000000</td>\n",
       "    </tr>\n",
       "    <tr>\n",
       "      <th>3</th>\n",
       "      <td>Qaidi Band</td>\n",
       "      <td>Holiday</td>\n",
       "      <td>No</td>\n",
       "      <td>No</td>\n",
       "      <td>drama</td>\n",
       "      <td>Yes</td>\n",
       "      <td>No</td>\n",
       "      <td>No</td>\n",
       "      <td>Aadar Jain</td>\n",
       "      <td>Habib Faisal</td>\n",
       "      <td>Amit Trivedi</td>\n",
       "      <td>800</td>\n",
       "      <td>4500000</td>\n",
       "      <td>210000000</td>\n",
       "    </tr>\n",
       "    <tr>\n",
       "      <th>4</th>\n",
       "      <td>Chaatwali</td>\n",
       "      <td>Holiday</td>\n",
       "      <td>No</td>\n",
       "      <td>No</td>\n",
       "      <td>adult</td>\n",
       "      <td>Yes</td>\n",
       "      <td>Yes</td>\n",
       "      <td>Yes</td>\n",
       "      <td>Aadil Khan</td>\n",
       "      <td>Aadil Khan</td>\n",
       "      <td>Babloo Ustad</td>\n",
       "      <td>1</td>\n",
       "      <td>1075000</td>\n",
       "      <td>1000000</td>\n",
       "    </tr>\n",
       "  </tbody>\n",
       "</table></div>"
      ],
      "text/plain": [
       "         Movie Name Release Period Whether Remake Whether Franchise     Genre  \\\n",
       "0       Golden Boys         Normal             No                No  suspense   \n",
       "1     Kaccha Limboo        Holiday             No                No     drama   \n",
       "2  Not A Love Story        Holiday             No                No  thriller   \n",
       "3        Qaidi Band        Holiday             No                No     drama   \n",
       "4         Chaatwali        Holiday             No                No     adult   \n",
       "\n",
       "  New Actor New Director New Music Director         Lead Star  \\\n",
       "0       Yes           No                 No      Jeet Goswami   \n",
       "1       Yes           No                Yes  Karan Bhanushali   \n",
       "2        No           No                 No        Mahie Gill   \n",
       "3       Yes           No                 No        Aadar Jain   \n",
       "4       Yes          Yes                Yes        Aadil Khan   \n",
       "\n",
       "          Director   Music Director  Number of Screens  Revenue(INR)  \\\n",
       "0       Ravi Varma    Baba Jagirdar                  5         85000   \n",
       "1    Sagar Ballary  Amardeep Nijjer                 75        825000   \n",
       "2  Ram Gopal Verma   Sandeep Chowta                525      56700000   \n",
       "3     Habib Faisal     Amit Trivedi                800       4500000   \n",
       "4       Aadil Khan     Babloo Ustad                  1       1075000   \n",
       "\n",
       "   Budget(INR)  \n",
       "0      5000000  \n",
       "1     15000000  \n",
       "2     75000000  \n",
       "3    210000000  \n",
       "4      1000000  "
      ]
     },
     "execution_count": 9,
     "metadata": {},
     "output_type": "execute_result"
    }
   ],
   "source": [
    "df_original[df_original.columns[[-1,-2]]] = df_original[df_original.columns[[-2, -1]]]\n",
    "df_original.head()"
   ]
  },
  {
   "cell_type": "markdown",
   "metadata": {},
   "source": [
    "#### 2.4 Making of Target variable"
   ]
  },
  {
   "cell_type": "code",
   "execution_count": 10,
   "metadata": {},
   "outputs": [
    {
     "data": {
      "text/plain": [
       "Movie Name              Golden Boys\n",
       "Release Period               Normal\n",
       "Whether Remake                   No\n",
       "Whether Franchise                No\n",
       "Genre                      suspense\n",
       "New Actor                       Yes\n",
       "New Director                     No\n",
       "New Music Director               No\n",
       "Lead Star              Jeet Goswami\n",
       "Director                 Ravi Varma\n",
       "Music Director        Baba Jagirdar\n",
       "Number of Screens                 5\n",
       "Revenue(INR)                  85000\n",
       "Budget(INR)                 5000000\n",
       "hit                               0\n",
       "Name: 0, dtype: object"
      ]
     },
     "execution_count": 10,
     "metadata": {},
     "output_type": "execute_result"
    }
   ],
   "source": [
    "df_original['hit'] = (df_original['Revenue(INR)'] > df_original['Budget(INR)']).apply(lambda x: int(x))\n",
    "df_original.loc[0]"
   ]
  },
  {
   "cell_type": "markdown",
   "metadata": {},
   "source": [
    "### 3. Data Checks to perform\n",
    "\n",
    "- Check Duplicates\n",
    "- Check data types and unique values of each column\n",
    "- Check unique items in each Categorical feature\n",
    "- Check missing values\n",
    "- Check statistics of numerical variables of the dataset\n",
    "- Check collinearity among the Numerical variables"
   ]
  },
  {
   "cell_type": "markdown",
   "metadata": {},
   "source": [
    "#### 3.1 Check Duplicates"
   ]
  },
  {
   "cell_type": "code",
   "execution_count": 11,
   "metadata": {},
   "outputs": [
    {
     "data": {
      "text/plain": [
       "2"
      ]
     },
     "execution_count": 11,
     "metadata": {},
     "output_type": "execute_result"
    }
   ],
   "source": [
    "df_original.duplicated().sum()"
   ]
  },
  {
   "cell_type": "markdown",
   "metadata": {},
   "source": [
    "#### 3.2 Check data types and unique values of each column"
   ]
  },
  {
   "cell_type": "code",
   "execution_count": 12,
   "metadata": {},
   "outputs": [
    {
     "name": "stdout",
     "output_type": "stream",
     "text": [
      "                   datatype  unique_value_count\n",
      "Movie Name           object                1695\n",
      "Release Period       object                   2\n",
      "Whether Remake       object                   2\n",
      "Whether Franchise    object                   2\n",
      "Genre                object                  14\n",
      "New Actor            object                   2\n",
      "New Director         object                   2\n",
      "New Music Director   object                   2\n",
      "Lead Star            object                 764\n",
      "Director             object                1048\n",
      "Music Director       object                 630\n",
      "Number of Screens     int64                 147\n",
      "Revenue(INR)          int64                1104\n",
      "Budget(INR)           int64                 184\n",
      "hit                   int64                   2\n"
     ]
    }
   ],
   "source": [
    "feature_description = pd.DataFrame(pd.concat([df_original.dtypes, df_original.nunique()], axis=1).rename(columns={0:'datatype', 1:'unique_value_count'}))\n",
    "\n",
    "print(feature_description)"
   ]
  },
  {
   "cell_type": "markdown",
   "metadata": {},
   "source": [
    "#### 3.3 Check unique categories in each Categorical feature"
   ]
  },
  {
   "cell_type": "code",
   "execution_count": 13,
   "metadata": {},
   "outputs": [
    {
     "name": "stdout",
     "output_type": "stream",
     "text": [
      "Categories in MOVIE NAME variable:\n",
      "['Golden Boys' 'Kaccha Limboo' 'Not A Love Story' ...\n",
      " 'Dunno Y Na Jaane Kyun' 'Taj Mahal - An Eternal Love Story'\n",
      " 'Mr. Hot Mr. Kool']\n",
      "\n",
      "Categories in RELEASE PERIOD variable:\n",
      "['Normal' 'Holiday']\n",
      "\n",
      "Categories in WHETHER REMAKE variable:\n",
      "['No' 'Yes']\n",
      "\n",
      "Categories in WHETHER FRANCHISE variable:\n",
      "['No' 'Yes']\n",
      "\n",
      "Categories in GENRE variable:\n",
      "['suspense' 'drama' 'thriller' 'adult' 'comedy' 'action' 'love_story'\n",
      " 'rom__com' 'horror' 'fantasy' 'masala' 'mythological' 'animation'\n",
      " 'documentary']\n",
      "\n",
      "Categories in NEW ACTOR variable:\n",
      "['Yes' 'No']\n",
      "\n",
      "Categories in NEW DIRECTOR variable:\n",
      "['No' 'Yes']\n",
      "\n",
      "Categories in NEW MUSIC DIRECTOR variable:\n",
      "['No' 'Yes']\n",
      "\n",
      "Categories in LEAD STAR variable:\n",
      "['Jeet Goswami' 'Karan Bhanushali' 'Mahie Gill' 'Aadar Jain' 'Aadil Khan'\n",
      " 'Aakar Kaushik' 'Aakash' 'Aamir Bashir' 'Aamir Khan' 'Aanamika Bawa'\n",
      " 'Aarun Nagar' 'Aaryan' 'Aasad Mirza' 'Aashish Chanana'\n",
      " 'Aashish Chaudhary' 'Aasif Albela' 'Aatri Kumar' 'Abhay Bakshi'\n",
      " 'Abhay Deol' 'Abhijeet Sawant' 'Abhinav Shukla' 'Abhishek Anand'\n",
      " 'Abhishek Bachchan' 'Abhishek Gupta' 'Abhishek Sharma' 'Abhishek Urade'\n",
      " 'Adah Sharma' 'Adam Bedi' 'Adhvik Mahajan' 'Adhyayan Suman'\n",
      " 'Adil Hussain' 'Aditi Inamdar' 'Aditi Sharma' 'Aditya Narayan'\n",
      " 'Aditya Om' 'Aditya Roy Kapoor' 'Aditya Samanta' 'Aditya Shrivastava'\n",
      " 'Affi Khan' 'Afsar Khan' 'Aftab Shivdasani' 'Ahsaas Channa'\n",
      " 'Aishwarya Rai' 'Ajay Devgn' 'Ajay Jadeja' 'Ajay Kumar' 'Ajay Shukla'\n",
      " 'Ajay Sinh Rathod' 'Ajay Soni' 'Ajaz Khan' 'Akanksha Puri' 'Akash'\n",
      " 'Akbar Khan' 'Akshay Kapoor' 'Akshay Kumar' 'Akshay Oberoi'\n",
      " 'Akshaye Khanna' 'Akshita' 'Aksshat' 'Al Amin' 'Ali Fazal' 'Ali Zafar'\n",
      " 'Alia Bhatt' 'Alia Shah' 'Alma Grey' 'Amaan Khan' 'Aman Sagar'\n",
      " 'Amar Sidhu' 'Amarjeet' 'Amit Hotchandani' 'Amit Kapoor' 'Amit Pachori'\n",
      " 'Amit Purohit' 'Amit Rao' 'Amit Riyaan' 'Amit Sadh' 'Amit Sharma'\n",
      " 'Amitabh Bachchan' 'Anand Tiwari' 'Anant Mahadevan' 'Ananya Khare'\n",
      " 'Anara Gupta' 'Anay' 'Anil Kapoor' 'Anirudh Loka' 'Anita Kanwal'\n",
      " 'Ankur Khanna' 'Ankush Choudhary' 'Anmol Singh' 'Anshuman Jha'\n",
      " 'Antara Mali' 'Anu Kapoor' 'Anu Kashyap' 'Anubhav Anand' 'Anuj Mishra'\n",
      " 'Anuj Pandit' 'Anuj Sawhney' 'Anuj Saxena' 'Anupam Kher' 'Apurv Ratan'\n",
      " 'Arayan Singh' 'Arbaaz Khan' 'Arif Zakaria' 'Arjun Chakraborty'\n",
      " 'Arjun Gaur' 'Arjun Kapoor' 'Arjun Punj' 'Arjun Rampal' 'Armaan Jain'\n",
      " 'Arman' 'Arsh Deol' 'Arshad Warsi' 'Arunoday Singh' 'Arvindo'\n",
      " 'Arya Babbar' 'Aryan Singh' 'Aryan Vaid' 'Aryeman Ramsay'\n",
      " 'Aseem Ali Khan' 'Asha Bhonsle' 'Ashima Sharma' 'Ashish Lal'\n",
      " 'Ashmit Patel' 'Ashok Kumar' 'Ashraf Khan' 'Ashrita Agarwaal'\n",
      " 'Ashutosh Rana' 'Attin Bhalla' 'Atul Kulkarni' 'Aushim Khetarpal'\n",
      " 'Avinash Bhargava' 'Ayaan Ahmad' 'Ayesha Takia' 'Ayub Khan'\n",
      " 'Ayushman Khurana' 'Azim' 'Barun Sobti' 'Bhagyashree' 'Bharat'\n",
      " 'Bhoop Yaduvanshi' 'Bipasha Basu' 'Biswaroop Roy Chowdhary' 'Bobby Deol'\n",
      " 'Bobby Khan' 'Boman Irani' 'Buali Shah' 'Celina Jaitley' 'Chahat Khanna'\n",
      " 'Chaitanya Naidu' 'Chaman Jackson' 'Chandan Roy Sanyal'\n",
      " 'Chandrachur Singh' 'Chinmay Mandlekar' 'Chirag Paswan' 'Chirag Patil'\n",
      " 'Cyrus Broacha' 'Danny Denzongpa' 'Darshan Jariwala' 'Darsheel Safary'\n",
      " 'Debashree' 'Deep' 'Deep Bhattacharya' 'Deepak Dobriyal' 'Deepal Shaw'\n",
      " 'Deepika Padukone' 'Deepshika' 'Deepti Naval' 'Delzad Hiwale' 'Dev Anand'\n",
      " 'Dev Gill' 'Devasish Ray' 'Devi' 'Dhananjay' 'Dhanush' 'Dharmendra'\n",
      " 'Dheren Kushesh Rusto' 'Dia Mirza' 'Dibyendu Bhattacharya'\n",
      " 'Diljit Dosanjh' 'Dilzan Wadia' 'Dimple Kapadia' 'Dimple Sevak'\n",
      " 'Dinesh Mehta' 'Dino Morea' 'Disha Chaudhary' 'Divvj Kak' 'Divya Dutta'\n",
      " 'Eijaz Khan' 'Eisha Deol' 'Emraan Hashmi' 'Faheem Ul Haq' 'Faisal Khan'\n",
      " 'Fardeen Khan' 'Farhan Akhtar' 'Farooque Shaikh' 'Farrukh Jaffar'\n",
      " 'Fatima' 'Fawad Khan' 'Gagan Nimesh' 'Ganesh Venkatraman' 'Garry Gill'\n",
      " 'Gashmeer Mahajani' 'Gaurav Bajaj' 'Gaurav Kakkar' 'Gaurav Kapur'\n",
      " 'Gauri Angel' 'Gautam Gupta' 'Gautam Jadhav' 'Gayatri Patel'\n",
      " 'Geoffrey Broderick' 'Girish Taurani' 'Govinda' 'Gracy Singh'\n",
      " 'Guddi Maruti' 'Gul Panag' 'Gulshan Rana' 'Gulzar Inder Chahal' 'Gunj'\n",
      " 'Gurdeep Mehndi' 'Gurmeet Ram Rahim Singh' 'Gursewak Mann' 'Hameed Khan'\n",
      " 'Harish Raj' 'Harman Baweja' 'Harsh Chhaya' 'Harsh Mayar'\n",
      " 'Harshvardhan Deo' 'Harshvardhan Kapoor' 'Harshvardhan Rane'\n",
      " 'Hema Malini' 'Hemant Pandey' 'Himansh Kohli' 'Himanshu Bhatt'\n",
      " 'Himanshu Malik' 'Himesh Reshammiya' 'Hina Rehman' 'Hitesh Agrawal'\n",
      " 'Hithaishaini' 'Hrishita Bhatt' 'Hrithik Roshan' 'Hussain Dalal'\n",
      " 'Hussain Kuwajerwala' 'Hyder Ali' 'Ihad Khan' 'Imaad Shah' 'Imran'\n",
      " 'Imran Khan' 'Irfan Choudhary' 'Irrfan Khan' 'Isaiah' 'Isha Koppikar'\n",
      " 'Ishaan Manhaas' 'Ishaan Tandon' 'Izabelle Leite' 'J.B. Rana'\n",
      " 'J.D. Chakravarthi' 'Jackie Shroff' 'Jacky Bhagnani' 'Jai Kalra'\n",
      " 'Jason Lewis' 'Jatin Khurana' 'Javed Jaffrey' 'Jaya Bachchan' 'Jeetendra'\n",
      " 'Jimmy Shergill' 'John Abraham' 'Joysen Gupta' 'Juhi Chawla' 'Jyoti Dev'\n",
      " 'K.Gauri' 'Kabir Sawhney' 'Kaif Khan' 'Kailash Manav' 'Kajol'\n",
      " 'Kalaynji Jana' 'Kalki Koechlin' 'Kalpana Pandit' 'Kamaal R. Khan'\n",
      " 'Kamal Hassan' 'Kanan Malhotra' 'Kangana Ranaut' 'Kanwaljeet'\n",
      " 'Kapil Jhaveri' 'Kapil Sharma' 'Karan Grover' 'Karan Hakku' 'Karan Mehra'\n",
      " 'Karan Sharma' 'Karanvir Sharma' 'Kareena Kapoor' 'Karisma Kapoor'\n",
      " 'Karron Mallik' 'Kartik Aryan' 'Kartik Tiwari' 'Kashish' 'Kashmira Shah'\n",
      " 'Kavin Dave' 'Kay Kay Menon' 'Kaya Bunti' 'Khushboo Khan' 'Kiran Janjani'\n",
      " 'Kiran Karmarkar' 'Kirran Sharad' 'Kirron Kher' 'Kirti Kulhari'\n",
      " 'Koel Puri' 'Kohinoor Khan' 'Konkona Sen Sharma' 'Kranti Redkar'\n",
      " 'Krishna' 'Krishna Abhishek' 'Kumaar Aadarsh' 'Kumar Jai Baliyaan'\n",
      " 'Kunal Kapoor' 'Kunal Khemu' 'Kush Khurana' 'Laala Khan' 'Leander Paes'\n",
      " 'Lee Williiams' 'Leeza Mangaldas' 'Linus Roach' 'Lucky Ali' 'Luke Kenny'\n",
      " 'Luv Sinha' 'Maanas Srivastava' 'Madhoo' 'Madhuri Dixit'\n",
      " 'Mahakshay Chakraborty' 'Mahesh' 'Mahima Chaudhary' 'Mallika Sherawat'\n",
      " 'Mammootty' 'Manav Sohal' 'Manav Vij' 'Mandira Bedi' 'Manish Chaudhary'\n",
      " 'Manish Paul' 'Manisha Koirala' 'Manoj Amarnani' 'Manoj Bajpai'\n",
      " 'Manoj Pandey' 'Manoranjan Jha' 'Manzar Sehbai' 'Mashaal Durrani'\n",
      " 'Mashhoor Amrohi' 'Master Shams' 'Meera' 'Meghna Naidu'\n",
      " 'Mehrunnisa Hassan' 'Melanie Kannokada' 'Mighty' 'Mika Singh'\n",
      " 'Mikaal Zulfikaar' 'Milind Gunaji' 'Mink' 'Mishti' 'Mithun Chakraborty'\n",
      " 'Mohammad Iqbal Khan' 'Mohd. Samad' 'Mohit Ahlawat' 'Mohit Chauhan'\n",
      " 'Mohit Sharma' 'Mohsin' 'Mohsin Khan' 'Monali Thakur' 'Monalisa'\n",
      " 'Mrinal Kulkarni' 'Mrunmayee Lagoo' 'Mukesh R.K. Chouksey'\n",
      " 'Mukesh Tiwari' 'Mukesh Vyas' 'Munish Khan' 'Munsif Qureshi'\n",
      " 'Mustafa Burmawalla' 'Muzahid Khan' 'Muzammil Ibrahim' 'Nafe Khan'\n",
      " 'Nakul Vaid' 'Nana Patekar' 'Nandita Das' 'Narayan Singh Sisodia'\n",
      " 'Nargis Bagheri' 'Narinder Samra' 'Naseer Khan' 'Naseeruddin Shah'\n",
      " 'Nassar Abdulla' 'Nataliya Kozhenova' 'Natasha Sikka' 'Navdip Singh'\n",
      " 'Naveen Kasturia' 'Navin Prabhakar' 'Nawazuddin Siddiqui' 'Neha Dhupia'\n",
      " 'Neha Sharma' 'Neil Nitin Mukesh' 'Nidhi Gill' 'Nikhil Dwivedi'\n",
      " 'Nilesh Kumar' 'Nilesh Sahay' 'Nilu Thakur' 'Nisha Triloki'\n",
      " 'Nishan Nanaiah' 'Nishant Dahiya' 'Nishant Sharma' 'Nishi Verma'\n",
      " 'Nishigandha Wad' 'Nithiin' 'Nitika Sharma' 'Om Puri'\n",
      " 'Omkar Das Manikpuri' 'Pankaj Badra' 'Pankaj Kapoor' 'Paoli Dam'\n",
      " 'Paras Chhabra' 'Paresh Rawal' 'Paritosh Goswami' 'Parmeet Sethi'\n",
      " 'Parmita Katkar' 'Partho A. Gupte' 'Parvathy Omanakuttan' 'Parvin Dabas'\n",
      " 'Parzan Dastur' 'Patralekha' 'Payal Rohatgi' 'Phool Singh' 'Piu Chauhan'\n",
      " 'Poonam Dasgupta' 'Poonam Pandey' 'Prabhas' 'Prabhu Deva'\n",
      " 'Prajakt Rebeloma' 'Prakash Sagar' 'Prashant Narayanan' 'Prateik Babbar'\n",
      " 'Pravin Dabbas' 'Preeti Jhangiani' 'Preity Zinta' 'Prince Amit'\n",
      " 'Prithvi Soni' 'Pritika Chawla' 'Priya Singh' 'Priyanka'\n",
      " 'Priyanka Chopra' 'Priyanshu Chatterjee' 'Pulkit Samrat'\n",
      " 'Puneet Singh Ratn' 'Purab Kohli' 'Purav Bhandare' 'Puru Chibber'\n",
      " 'Pushkar Jog' 'R. Madhavan' 'Sachin Tendulkar' 'Raai Laxmi'\n",
      " 'Radhika Apte' 'Rafiq Batcha' 'Raghuvir Yadav' 'Rahil Tandon' 'Rahul'\n",
      " 'Rahul Bagga' 'Rahul Bose' 'Rahul Khanna' 'Rahul Pendkalkar' 'Rahul Roy'\n",
      " 'Rahul Singh' 'Rahul Sood' 'Raj Babbar' 'Raj Gautam' 'Raj Rajawat'\n",
      " 'Raj Singh Chaudhary' 'Raj Tandon' 'Raj Tara' 'Raj Verma' 'Raj Zutshi'\n",
      " 'Rajan Verma' 'Rajat Bedi' 'Rajat Kapoor' 'Rajbeer Singh'\n",
      " 'Rajeev Khandelwal' 'Rajeev Raj' 'Rajeev Verma' 'Rajendraprasad'\n",
      " 'Rajesh Bhardwaj' 'Rajesh Khanna' 'Rajesh Kumar' 'Rajesh Pathak'\n",
      " 'Rajesh Sabharwal' 'Rajesh Shringharpure' 'Rajesh Tiwari' 'Raji James'\n",
      " 'Rajit Kapoor' 'Rajiv Roda' 'Rajkummar Rao' 'Rajneesh Duggal'\n",
      " 'Rajpal Yadav' 'Rajveer Dutt' 'Rajveer Sharma' 'Rakesh' 'Rakesh Bapat'\n",
      " 'Rakhi Vohra' 'Ram Charan' 'Ramesh Goyal' 'Ranbir Kapoor' 'Randeep Hooda'\n",
      " 'Rani Mukherjee' 'Rannvijay Singh' 'Ranveer Singh' 'Ranvir Shorey'\n",
      " 'Rashmi Somvanshi' 'Rasika Dugal' 'Raveena Tandon' 'Ravi Ahlawat'\n",
      " 'Ravi Arora' 'Ravi Kapoor' 'Ravi Kissen' 'Ravish Pandey' 'Raza Murad'\n",
      " 'Rehaan Khan' 'Rehal Khan' 'Rehan Khan' 'Rekha' 'Rekha Gautam'\n",
      " 'Rekha Rana' 'Reshma Singh' 'Richa Chaddha' 'Rikkee' 'Rishabh'\n",
      " 'Rishi Bhutani' 'Rishi Kapoor' 'Rishi Rehan' 'Rishi Verma' 'Rita S. Roy'\n",
      " 'Riteish Deshmukh' 'Ritesh Raghuvanshi' 'Rituparna Sengupta' 'Riya Sen'\n",
      " 'Riya Vij' 'Rohan Jardosh' 'Rohit Roy' 'Romit Raaj' 'Ronak Bhatia'\n",
      " 'Ronit Roy' 'Roopa Ganguly' 'Ruslan Mumtaz' 'Saahib' 'Sachiin Joshi'\n",
      " 'Sachin' 'Sachin Khedekar' 'Saagar Bhatia' 'Sachit Patil'\n",
      " 'Sadashiv Amrapurkar' 'Sagar' 'Sahil Anand' 'Sahil Khan' 'Sahil Mehta'\n",
      " 'Sahil Pathan' 'Sahil Prem' 'Saif Ali Khan' 'Sail Hasan'\n",
      " 'Saksham Kulkarni' 'Saleem Ahmed' 'Saleem Ansari' 'Salim Gaur'\n",
      " 'Salman Khan' 'Samapika' 'Sameer Aftab' 'Sameer Dattani'\n",
      " 'Sameer Dharmadhikari' 'Sameer Sarkit' 'Samir Aftab' 'Samir Kochhar'\n",
      " 'Sanam Khan' 'Sandeep Bharadwaj' 'Sandeep Kulkarni' 'Sandhya Mridul'\n",
      " 'Sangram Singh' 'Sanjay Dutt' 'Sanjay Kapoor' 'Sanjay Kumar'\n",
      " 'Sanjay Mishra' 'Sanjay Pundir' 'Sanjay Suri' 'Sankalp Shrivastava'\n",
      " 'Sanket More' 'Santosh Barmola' 'Sapna' 'Saqib Saleem' 'Sarah Jane Dias'\n",
      " 'Sarat Pujari' 'Sarika' 'Sarita Joshi' 'Sartaj Singh Pannu'\n",
      " 'Sarvar Ahuja' 'Sasho Satiiysh Saarathy' 'Satnam Kaur' 'Saurabh Malik'\n",
      " 'Seema Parihar' 'Seth Daksh' 'Shaad Randhawa' 'Shaadab Khan'\n",
      " 'Shaarib Hashmi' 'Shabaaz Khan' 'Shabana Azmi' 'Shahana Chaterjee'\n",
      " 'Shahid Kapoor' 'Shahnawaz Khan' 'Shahrukh Khan' 'Shahzad Pathan'\n",
      " 'Shakeela' 'Sharad Malhotra' 'Sharad Ponkshe' 'Sharman Joshi'\n",
      " 'Sharmila Tagore' 'Shatrughan Sinha' 'Shawar Ali' 'Sheena Nayar'\n",
      " 'Sheetal Pathak' 'Sherlyn Chopra' 'Shevum Shetty' 'Shilpa Shetty'\n",
      " 'Shiney Ahuja' 'Shital Shah' 'Shiv Darshan' 'Shraddha Kapoor'\n",
      " 'Shreela Majumder' 'Shreyas Talpade' 'Shubh' 'Shubh Mukherjee'\n",
      " 'Shweta Bhardwaj' 'Siddhant Kumar' 'Siddharth' 'Siddharth Dhawan'\n",
      " 'Siddharth Gupta' 'Siddharth Koirala' 'Sidhant Kapur' 'Sidharth Malhotra'\n",
      " 'Sikander Kher' 'Simone Singh' 'Simran' 'Smeep Kang' 'Smriti Singh'\n",
      " 'Soha Ali Khan' 'Sohail Khan' 'Sohrab Ardeshir' 'Sonakshi Sinha'\n",
      " 'Sonali Kulkarni' 'Sonam Kapoor' 'Sonu Pahuja' 'Sonu Sood'\n",
      " 'Sooraj Pancholi' 'Sridevi' 'Subrat Dutta' 'Suchhi Kumar' 'Sudeep'\n",
      " 'Sudesh Berry' 'Sudhanshu Pandey' 'Suhail Karim' 'Sukhwinder Singh'\n",
      " 'Suman Ranganathan' 'Sumeet Nijhawan' 'Suneil Shetty' 'Sunil Grover'\n",
      " 'Sunil Pal' 'Sunny Deol' 'Sunny Gill' 'Sunny Leone' 'Sunny Singh'\n",
      " 'Supriya Pathak' 'Suraj Dev Sahu' 'Suriya' 'Surveen Chawla'\n",
      " 'Susanna Mohan' 'Sushant Singh' 'Sushant Singh Rajput' 'Sushma Sharma'\n",
      " 'Sushmita Sen' 'Swanand Kirkire' 'Swara Bhaskar' 'Swaraaj Singh'\n",
      " 'Swaroop Kanchi' 'Swati Sharma' 'Swati Verma' 'Sween Sharma'\n",
      " 'Swini Khara' 'Taapsee Pannu' 'Tabu' 'Tanuj Virwani' 'Tanushree'\n",
      " 'Tanushree Datta' 'Tanveer Ahmed' 'Tanveer Hashmi' 'Tanya Oberoi'\n",
      " 'Tara Sharma' 'Tarun Arora' 'Tarun Khanna' 'Tejasvita Kapoor'\n",
      " 'Tejaswini Sarkar' 'Tena Desae' 'Tia Bajpai' 'Tiger Shroff' 'Tina'\n",
      " 'Tina Gujjar' 'Tom Alter' 'Trimala Adhikari' 'Tulip Joshi'\n",
      " 'Tushar Jalota' 'Tusshar Kapoor' 'Uday Chopra' 'Udita Goswami'\n",
      " 'Ujwal Chopra' 'Umed Khandelwal' 'Upasna Singh' 'Urmila'\n",
      " 'Urmila Matondkar' 'Uttar Kumar' 'Uunnat Duutt' 'V.P. Singh'\n",
      " 'Vaishali Rawat' 'Varun Dhawan' 'Vasundhara Das' 'Vatsal Sheth'\n",
      " 'Veena Malik' 'Veer' 'Vega Tamotia' 'Vicky Kaushal' 'Victor Banerjee'\n",
      " 'Vidya Balan' 'Vidyut Jammwal' 'Vijay Bhaskar' 'Vijay Raaz'\n",
      " 'Vijay Saxena' 'Vikram' 'Vikram Aditya' 'Vikram Chatwal' 'Vikram Kumar'\n",
      " 'Vikram Singh' 'Vikrant Mahajan' 'Vinay Anand' 'Vinay Arora'\n",
      " 'Vinay Pathak' 'Vinay Virmani' \"Vincent D'Onofrio\" 'Vineeth'\n",
      " 'Vinit Bhardwaj' 'Vinod Khanna' 'Vinod Painter' 'Vinod Sherawat'\n",
      " 'Vippino' 'Vir Das' 'Vishaw Kashyap' 'Vivek Oberoi' 'Vivek Sudarshan'\n",
      " 'Waqar Khan' 'Yash Gera' 'Yatin Karyekar' 'Yogendra Chouhan'\n",
      " 'Yugboah Garewal' 'Yugraj Jain' 'Yukta Mookhey' 'Zaira Wasim'\n",
      " 'Zakir Hussain' 'Zarine Khan' 'Zayed Khan' 'Zeenat Aman' 'Zulfi Sayed']\n",
      "\n",
      "Categories in DIRECTOR variable:\n",
      "['Ravi Varma' 'Sagar Ballary' 'Ram Gopal Verma' ... 'Vikram Chopra'\n",
      " 'Sanghamitra Chaudhuri' 'Akbar Khan']\n",
      "\n",
      "Categories in MUSIC DIRECTOR variable:\n",
      "['Baba Jagirdar' 'Amardeep Nijjer' 'Sandeep Chowta' 'Amit Trivedi'\n",
      " 'Babloo Ustad' 'Avinash Baghel' 'Dharma' 'Amir Ali' 'A.R. Rehman'\n",
      " 'Shankar - Ehsaan - Loy' 'Jatin - Lalit' 'Pritam' 'Shantanu Moitra'\n",
      " 'Ajay - Atul' 'Ram Sampath' 'Shabab Azmi' 'Ashish Donald' 'S. Paul'\n",
      " 'Jatin Pandit' 'Sajid - Wajid' 'Chirantan Bhatt' 'Sahil Patil' 'Udbhav'\n",
      " 'Sneha Khanwalkar' 'Sandesh Shandilya' 'Sohail Sen' 'Jayesh Gandhi'\n",
      " 'Vishal - Shekhar' 'Himesh Reshammiya' 'Santosh Singh' 'John Stewart'\n",
      " 'Anand Raj Anand' 'Dhruv Ghanekar' 'Suresh Kumar' 'Rupesh Pathak'\n",
      " 'Pravin Damle' 'Sangeet - Siddharth' 'Zubeen Garg' 'Amar Mohile'\n",
      " 'Vishal Bhardwaj' 'Hanif Sheikh' 'Gaurav Dagaonkar' 'Sukhwinder Singh'\n",
      " 'Zakir Hussain' 'Ganesh Kumaresh' 'Salim - Sulaiman' 'Tabun Sutradhar'\n",
      " 'Nazam Sheraz' 'Nikhil Kamath' 'Mithoon' 'Anu Malik' 'Aadesh Shrivastava'\n",
      " 'Shivam Farhaan' 'C.L. John' 'Ankur Tewari' 'Nitin Raikwar' 'RDB'\n",
      " 'Nirmal - Shekhar' 'Mahesh Balraj' 'Jasleen Royal' 'Viju Shah'\n",
      " 'Ankit Tiwari' 'Raghav Sachar' 'Ashish Pandit' 'Honey Singh' 'DJ Chetas'\n",
      " 'Abhishek Ray' 'Harish Sharma' 'Raja Pandit' 'Amjad - Nadeem'\n",
      " 'Mike Mitra' 'Vaishnav Deva' 'Dilshad' 'Amal Malik' 'Ashok Bhadra'\n",
      " 'Meet Bros' 'Nadeem - Shravan' 'Sachin - Jigar' 'Mika Singh' 'M.M. Kreem'\n",
      " 'G.V. Prakash Kumar' 'Vickey Prasad' 'Manj Musik' 'Shamir Tandon'\n",
      " 'Manmeet Singh' 'Debjit Bera' 'Piyush Kanojia' 'Vidyasagar' 'Benson Baby'\n",
      " 'Daniel B. George' 'Naveed Zafar' 'Harpreet' 'Ali Zafar' ' Amit Trivedi'\n",
      " 'Bappi Lahiri' 'Sunna Wehrmeijer' 'Tasawar Azmi' 'Amar - Akbar'\n",
      " 'Chander Makwana' 'Tapan' 'Tarun' 'Sayyed Ahmed' 'Avi Raaj'\n",
      " 'Pravin Kumar' 'Agnee' 'Mani Shankar' 'Abhishek - Akshay' 'Jayant Aaryan'\n",
      " 'Akash Chopra' 'Anupam Roy' 'R.D. Burman' 'Ilaiyaraja' 'Bappi - Tutal'\n",
      " 'Prasanna Shekhar' ' Ram Shankar' 'Sanjoy Das' 'Monty Sharma'\n",
      " 'Manish Tipu' 'Sanjoy Chowdhary' 'Ram Shankar' 'Iqbal Darbar' 'Anay'\n",
      " 'Divyang Arora' 'Rajat Dholakia' 'Ajit Parab' 'Sajid Salam' 'Sushmit Sen'\n",
      " 'Josh' 'Shiv Prakash Mishra' 'Sanjay Dhakan' 'Daboo Malik' 'Udhav Ohja'\n",
      " 'Vikram Khajuria' 'Jeet Ganguly' 'Bappa Lahiri' 'Channi Singh'\n",
      " 'Siddharth - Suhas' 'Abu Malik' 'Sushil Dalai' 'Babu Kishen' 'Raju Singh'\n",
      " 'Raaj Aashoo' 'Shubayu' 'Imraan Khan' 'Rishi Rich' 'Amartya Rahut'\n",
      " 'Sunil Jha' 'Gurnam Singh Mann' 'Vishnu Narayan' 'Labh Junjua'\n",
      " 'Rochak Kohli' 'Rajesh Roshan' 'Krsna' 'Ravi Pawar' 'Bobby Rehman'\n",
      " 'Anand - Milind' 'Tauseef Akhtar' 'Vijay Kapoor' 'Vishwanath Dixit'\n",
      " 'Nishad Vaidya' 'Rajendra Shiv' 'Nithin R. Shankar' 'Naresh Karwala'\n",
      " 'Durga - Natraj' 'Shankar - Jaikishen' 'Atul Sriva' 'Madhumay'\n",
      " 'Jaidev Kumar' 'Lisa Stanislawski' 'Sachin Gupta' 'M.G. Sreekumar'\n",
      " 'Surinder Bachan' 'Pravin More' 'Tapas Relia' 'Samira Koppikar'\n",
      " 'Raghu Dixit' 'Vayu' 'Mikey McCleary' 'Mangesh Dhakde'\n",
      " 'Shailendra - Sayanti' 'Ravi Shukla' 'Nirmal Pawar' 'Kavita Seth'\n",
      " 'Tony Kakkar' 'Manjit Arora' 'Gourov Dasgupta' 'Babbu Mann'\n",
      " 'Sawan Kumar Sawan' 'Jassi Katyal' 'Saurabh Malhotra' 'Bali Brahmbhatt'\n",
      " 'Atif Afzal' 'Ronit Chatterji' 'Kartik Shah' 'Shailendra Barve'\n",
      " 'Shankar Sahney' 'John P. Varkey' 'Raj Sen' 'Haricharan Verma'\n",
      " 'Vivek Philip' 'Sanjay Pathak' 'Dev Sikander' 'Mathias Duplessy'\n",
      " 'Reeg Deb' 'Debajyoti Mishra' 'Darshan Dave' 'Sanjay Jaydip'\n",
      " 'Narendra Sharma' 'Ravindra Jain' 'Mahesh Naik' 'Jatinder Shah'\n",
      " 'R.K. Pandit' 'Alokananda Dasgupta' 'Jona Kampa' 'Shahank Phadnis'\n",
      " 'John T. Hunt' 'Abhi - Raj' 'Ranjit Barot' 'Lalit Pandit' 'Farzan Faaiz'\n",
      " 'Ali Ghani' 'Nikhil - Vinay' 'Vivek Prakash' 'Raju Rao' 'Taufiq Qureshi'\n",
      " 'Santokh Singh' ' Vishal - Shekhar' 'Kamran Ahmed' 'Yuvan Shankar Raja'\n",
      " 'Roop Kumar Rathod' 'Toshi - Sharib' 'Gulraj Singh' 'Rashid Khan'\n",
      " 'Rajesh S.S' 'Manasi Scott' 'Gaurav Godkhindi' 'Sidhant Mathur'\n",
      " 'Rohit Sharma' 'Lava Kumar S.R.' 'Faizan Hussain' 'Ali Vasudev'\n",
      " 'Munni Raj' 'Madhu Bhosle' 'Vipin Mishra' 'Sony Chandy' 'Kamini Khanna'\n",
      " 'Shabbir Ahmed' 'Arvind Haldipur' 'Kuldeep Singh' 'Abu Zar' 'Ravee Jule'\n",
      " 'Shivam Bagchi' 'Sudhakar Sharma' 'Billu' 'Daler Mehndi'\n",
      " 'Gurmeet Ram Rahim Singh' 'C.P. Aslam' 'Vasu Dixit' 'Vinay Kapadia'\n",
      " 'Susmit Bose' 'Raj - Prakash' 'Hriju Roy' 'Varsha' 'Sunil Kashyap'\n",
      " 'Satish - Ajay' 'Gunwant Sharma' 'Manikanth Kadari'\n",
      " 'Sanjay Leela Bhansali' 'Swarathma' 'Talaash - Band Of Seekers'\n",
      " 'Sunil Singh' 'Imaad Shah' 'Vishal - Shekhar ' 'Bhajan Sopori'\n",
      " 'Lesle Lewis' 'Nishat Khan' 'Nitin Kumar Gupta' 'Jalalludin Khan'\n",
      " 'Adam Avil - Eddie Avil' 'Param' 'Aabfm' 'Vinay Tiwari'\n",
      " 'Jaideep Choudhury' 'Anwar Hussain' 'Santosh Sharma' 'Jazzy Bains'\n",
      " 'Prashant Singh' 'Baba Sehgal' 'Shashi Pritam' 'Reeky Dev'\n",
      " 'Matt Robertson' 'Usha Uthup' 'Khayyam' 'Uttam Singh' 'Rabbi Shergill'\n",
      " 'J.D. Singh - Rajan' 'Arun Bhairav' 'Harris Jayraj' 'Bombay Rockers'\n",
      " 'Aman' 'Sandarbh' 'Naren Chandavarkar' 'Mike Paul Hughes' 'Nikhil'\n",
      " 'Dilip Sen' 'Sanjeev Srivastava' 'Runa Rizvi' 'Dr. Zeus'\n",
      " 'Sahil Fatehpuri' 'Afsar - Sajid' 'Sudheer - Milind' 'Clinton Cerejo'\n",
      " 'Hitesh Sonik' 'Amresh Shahabadi' 'Faiz ur Rehmen' 'Sandeep - Surya'\n",
      " 'Indian Ocean' 'Piyush Mishra' 'Faizal Qureshi' 'Samir Phatarpekar'\n",
      " 'Vinay Jaiswal' 'Inder Bawra' 'Sayad Ali' 'Shiv - Ram' 'Niranjan - Saket'\n",
      " 'Laxmi - Vasant' 'Rahul Ranade' 'Jaan Nissar Lone' 'Randolph Correa'\n",
      " 'Kaushal Inamdar' 'Liyaqat Asmmen' 'Zubunnisa Bangash' 'Sawan Datta'\n",
      " 'Nandlal Nayak' 'Deepak Pandit' 'A.K. Alrin' 'Ravi Chopra'\n",
      " 'Aditya Shankar' 'Veivek Asthaana' 'Rana Mazumder' 'Roshan Machado'\n",
      " 'Pranay Rijia' 'Dheeraj Sen' 'Sanjeev Chorasiya' 'Lahu Madhav'\n",
      " 'Mark Kilian' 'Caralisa Monteiro' 'Adnan Sami' 'Chiradeep Dasgupta'\n",
      " 'Soumik Sen' 'Yasin Darbar' 'N.K. Nandan' 'Onkar Singh'\n",
      " ' Sneha Khanwalkar' 'Nitin Arora' 'Karan Kulkarni' 'Imran Wasim'\n",
      " 'Leonard Victor' 'K.P.' 'Dan Omelia' 'Sanjeev - Darshan'\n",
      " 'Abhijeet - Kuljeet' 'Pranit' 'Laxmi Pawan' 'Sujeet Shetty'\n",
      " 'Manan Munjal' 'Anaamik' 'Sikander Khan' 'Palash Sen'\n",
      " 'Dilip Sen - Sameer Sen' 'Karthik - Arjun' 'Anand Modak'\n",
      " 'Ashish Manchanda' 'Shriram Shankar' 'Nashraj Chigre' 'Rajiv Thanvi'\n",
      " 'Sumit Telang' 'Tukaram' 'Tanishk' 'Deen Mohammad' 'Vivek Priyadarshan'\n",
      " 'Goutam Ghose' 'Ravi' 'Prem Bhandari' 'Kailash Kher' 'Neeraj Shridhar'\n",
      " 'Shri Rangaras' 'Shibani Kashyap' 'Sunil Patni' 'Arfaaz Kagalwala' 'Dinu'\n",
      " 'R. Anandh' 'Saurabh Mukherjee' 'Chand Sadhwani' 'D. Sushant'\n",
      " 'Ashish Keskar' 'Arjuna Harjai' 'Pramod Chillal' 'Anil Hajaria'\n",
      " 'Ujjwal Thengdi' 'Sanjay Basu' 'Annujj Kappoo' 'Nizam Khan'\n",
      " 'Tarannum Malik' 'Ramen Barua' 'Harshit Saxena' 'Sujeet Chaubey'\n",
      " 'Anil Mohile' 'Arun Daga' 'Usha Khanna' 'Bhupesh Sawai' 'Nayab - Raja'\n",
      " 'Manoj Tikaria' 'Shujaat Hussain Khan' 'Sudeep Banerjee' 'Mychael Danna'\n",
      " 'Raj Hans' 'Darshan Kaher' 'Vasuda Sharma' 'Ghulam Ali Chander'\n",
      " 'Shashi Suman' 'Kumar Sanu' 'Shree - Isshq' 'G.J. Singh' 'Bikram Ghosh'\n",
      " 'Saii - Piiyush' 'Surj RDB' 'Tubby Parik' 'Atif Ali'\n",
      " 'Praveen Duth Stephen' 'S. Prabhath' 'Manoj Santoshi' 'Sagar Desai'\n",
      " 'Ashutosh Phatak' 'Zubin Balaporia' 'Kishore Parashar' 'Nazakat - Shujat'\n",
      " 'Sunil Khosla' 'Ahmed Hussain' 'Rajan Bawa' 'Madan Atram'\n",
      " 'Abhijeet Kumar' 'Luv - Kush' 'Subhi' 'Chandraprakash Dwivedi'\n",
      " 'Arun Bakshi' 'Mahesh Sharma' 'Gajendra Verma' 'Vishal Vaid'\n",
      " 'Suraj Kumar' 'Arpan-Sumit' 'Nandu Honap' 'Bhai Pawar' 'Prashant Kumar'\n",
      " 'Ashraf Fani' 'Ismail Darbar' 'Bipin Panchal' 'Rooshin Dalal' 'Jam 8'\n",
      " 'Agnel Roman' 'Arko Pravo Mukherjee' 'Nitz - Sony' 'Vijay Verma'\n",
      " 'Nishadh Chandra' 'Chinar-Mahesh' 'Raees Khan' 'Kabir' 'Dinesh Arjuna'\n",
      " ' Pritam' 'Kshitij Tarey' 'Satya' 'Shiraz Uppal' 'Manan'\n",
      " 'Kaushal Mahavir' 'Karan Gour' 'Fuzon' 'Issan Manik' 'Siddhant Madhav'\n",
      " 'Akshay Bafila' 'Tasavar Azmi' 'Pramod Tripathi' 'Romilla Mukherjee'\n",
      " 'Suresh Mathur' 'Prakash Prabhakar' 'Praveen Bhardwaj' 'Uttsava Anand'\n",
      " 'Uttankk V. Vorra' 'Aditya Gaud' 'Parampara Band' 'Santosh Anand'\n",
      " 'Neel Dutt' 'Amit Kasaria' 'Santhosh Narayanan' 'Itek Bhutani'\n",
      " 'Kamran Khan' 'Gurudutt Sahil' 'Bishakh - Kanish' 'DJ Aqeel'\n",
      " 'Asheesh Thadani' 'Sur Rhyeal' 'Prawaldeep' 'Mahesh - Vinod'\n",
      " 'Sushil Lalji' 'Onkar Shinde' 'Munnawar Azmi' 'Astitva - The Band'\n",
      " 'Vikram Negi' 'Kinky Ronald' 'Visshuraj' 'Prakash - Ashish - Veeru'\n",
      " 'Vinod - Prakash - Ashish' 'Sankalp Shrivastava' 'Swapnil Salkar'\n",
      " 'Akshaya Mohanty' 'Claver Menezes' 'Ved Nair' 'Nitish Pires' 'Manoj Negi'\n",
      " 'Sonam - Nitin - Subir' 'Babla Mehta' 'Aslam Keyi' 'Arijit Datta'\n",
      " 'Raj Inder Raj' 'Jyotishka Dasgupta' 'Michael Cohen' 'Neel Murgai'\n",
      " 'Ankur Mukherjee' 'Vikrant Mathur' 'Brooklyn Shanti' 'Manish'\n",
      " 'Dharam - Sandeep' 'Gourav - Roshin' 'Soumik Datta' 'Aqeel'\n",
      " 'Justin - Uday' 'Abid Shah' 'Nadeem Saifi' 'Pinak Bhattacharya'\n",
      " 'Vivek Asthana' 'Parichay' 'Adnan Dhool' 'Bilal Saeed' 'Abheer Mukherjee'\n",
      " 'Vinay Prasanna' 'Baadshah' 'Prabuddha Banerjee' 'Uday Ramdas'\n",
      " 'Vishal Khurana' 'Rakesh Trivedi' 'Sameer Phaterpekar'\n",
      " 'Bhoopi - Kanakraj' 'Parvez - Subhash' 'Superbia' 'Sonu Nigam'\n",
      " 'Sukhshinder Shinda' 'Uzair Jaswal' 'Vivek Kar' 'Munish Makhija'\n",
      " 'Deepak Shah' 'Navraj Baskota' 'Rohit Sinha' 'Mode AKA' 'Avinash Pathak'\n",
      " 'Rohan - Vinayak' 'Indraneel Hariharan' 'Amit Mishra' 'Aashish Dwivedi'\n",
      " 'Swaroop Kanchi' 'Sahil Rayyan' 'Harish Mangoli' 'Sunil Bhatia'\n",
      " 'Pandit Jalwa Prasad' 'Pradeep Kumar Das' 'Afsar' 'Rajib - Mounaa'\n",
      " 'Babli Haq' 'Rahul B. Seth' 'Harendra Panijar' 'Raja Ali' 'Mustafa Zahid'\n",
      " 'Anand Singh' 'Serge Eisen' 'Brince Bora' 'Paresh A. Shah'\n",
      " 'Umed Khandelwal' 'Suman - Sudeep' 'Mukesh Verma' 'A.R. Saxena'\n",
      " 'Santosh Mehta' 'Omkar Rana' 'B.S. Akhilesh' 'Akhil Sachdeva'\n",
      " 'Virag Mishra' 'DJ Sheizwood' 'Pramod Nair' 'Ashu Pathak'\n",
      " ' Clinton Cerejo' 'Santanu Ghatak' 'Mannan Shaah' 'Abu Murali'\n",
      " 'Nutan-Pankaj' 'Dudal Sakia' 'J. Subhash' 'Wayne Sharpe' 'Lalit Sen'\n",
      " 'Gaurav Dayal' 'Siddharth Madhay' 'Aziz Ali' 'Sangeeta Pant'\n",
      " 'Shivangi Kashyap' 'Malhar' ' Rohit Kulkarni' 'John Debney' 'Anurag Ware'\n",
      " 'Sushant - Shankar' 'Akbar Sami' 'Kapil Jangir' 'Rahul Gupta' 'Strings'\n",
      " 'Neeraj Shrivastava' 'Praveen Kunwar' 'Sanjay Gite' 'Rajesh Pillay'\n",
      " 'Hirju Roy' 'Aman Shlok' 'Baman' 'Faridkot' 'Dev Sikdar' 'Naushad'\n",
      " 'Rishi - Ranjit']\n",
      "\n"
     ]
    }
   ],
   "source": [
    "for feature in categorical_features:\n",
    "    print(f'Categories in {feature.upper()} variable:\\n{df_original[feature].unique()}\\n')"
   ]
  },
  {
   "attachments": {},
   "cell_type": "markdown",
   "metadata": {},
   "source": [
    "#### 3.4 Check Missing values"
   ]
  },
  {
   "cell_type": "code",
   "execution_count": 14,
   "metadata": {},
   "outputs": [
    {
     "data": {
      "text/plain": [
       "Movie Name            0\n",
       "Release Period        0\n",
       "Whether Remake        0\n",
       "Whether Franchise     0\n",
       "Genre                 0\n",
       "New Actor             0\n",
       "New Director          0\n",
       "New Music Director    0\n",
       "Lead Star             0\n",
       "Director              0\n",
       "Music Director        0\n",
       "Number of Screens     0\n",
       "Revenue(INR)          0\n",
       "Budget(INR)           0\n",
       "hit                   0\n",
       "dtype: int64"
      ]
     },
     "execution_count": 14,
     "metadata": {},
     "output_type": "execute_result"
    }
   ],
   "source": [
    "df_original.isna().sum()"
   ]
  },
  {
   "attachments": {},
   "cell_type": "markdown",
   "metadata": {},
   "source": [
    "Manually checking and by using inbuilt package both seems to conclude that the dataset has no missing values."
   ]
  },
  {
   "cell_type": "markdown",
   "metadata": {},
   "source": [
    "#### 3.5. Check statistics of numerical variables of the dataset"
   ]
  },
  {
   "cell_type": "code",
   "execution_count": 15,
   "metadata": {},
   "outputs": [
    {
     "data": {
      "text/html": [
       "<div><div id=fdbd0bba-23f4-4c96-9683-59c7f5bdf552 style=\"display:none; background-color:#9D6CFF; color:white; width:200px; height:30px; padding-left:5px; border-radius:4px; flex-direction:row; justify-content:space-around; align-items:center;\" onmouseover=\"this.style.backgroundColor='#BA9BF8'\" onmouseout=\"this.style.backgroundColor='#9D6CFF'\" onclick=\"window.commands?.execute('create-mitosheet-from-dataframe-output');\">See Full Dataframe in Mito</div> <script> if (window.commands?.hasCommand('create-mitosheet-from-dataframe-output')) document.getElementById('fdbd0bba-23f4-4c96-9683-59c7f5bdf552').style.display = 'flex' </script> <table border=\"1\" class=\"dataframe\">\n",
       "  <thead>\n",
       "    <tr style=\"text-align: right;\">\n",
       "      <th></th>\n",
       "      <th>Number of Screens</th>\n",
       "      <th>Revenue(INR)</th>\n",
       "      <th>Budget(INR)</th>\n",
       "    </tr>\n",
       "  </thead>\n",
       "  <tbody>\n",
       "    <tr>\n",
       "      <th>count</th>\n",
       "      <td>1698.000000</td>\n",
       "      <td>1.698000e+03</td>\n",
       "      <td>1.698000e+03</td>\n",
       "    </tr>\n",
       "    <tr>\n",
       "      <th>mean</th>\n",
       "      <td>553.831567</td>\n",
       "      <td>2.377287e+08</td>\n",
       "      <td>1.501674e+08</td>\n",
       "    </tr>\n",
       "    <tr>\n",
       "      <th>std</th>\n",
       "      <td>782.951839</td>\n",
       "      <td>6.134398e+08</td>\n",
       "      <td>2.434838e+08</td>\n",
       "    </tr>\n",
       "    <tr>\n",
       "      <th>min</th>\n",
       "      <td>1.000000</td>\n",
       "      <td>7.250000e+03</td>\n",
       "      <td>3.250000e+05</td>\n",
       "    </tr>\n",
       "    <tr>\n",
       "      <th>25%</th>\n",
       "      <td>30.000000</td>\n",
       "      <td>1.150000e+06</td>\n",
       "      <td>1.500000e+07</td>\n",
       "    </tr>\n",
       "    <tr>\n",
       "      <th>50%</th>\n",
       "      <td>200.000000</td>\n",
       "      <td>1.240000e+07</td>\n",
       "      <td>5.500000e+07</td>\n",
       "    </tr>\n",
       "    <tr>\n",
       "      <th>75%</th>\n",
       "      <td>800.000000</td>\n",
       "      <td>1.778325e+08</td>\n",
       "      <td>1.900000e+08</td>\n",
       "    </tr>\n",
       "    <tr>\n",
       "      <th>max</th>\n",
       "      <td>4600.000000</td>\n",
       "      <td>8.016120e+09</td>\n",
       "      <td>2.100000e+09</td>\n",
       "    </tr>\n",
       "  </tbody>\n",
       "</table></div>"
      ],
      "text/plain": [
       "       Number of Screens  Revenue(INR)   Budget(INR)\n",
       "count        1698.000000  1.698000e+03  1.698000e+03\n",
       "mean          553.831567  2.377287e+08  1.501674e+08\n",
       "std           782.951839  6.134398e+08  2.434838e+08\n",
       "min             1.000000  7.250000e+03  3.250000e+05\n",
       "25%            30.000000  1.150000e+06  1.500000e+07\n",
       "50%           200.000000  1.240000e+07  5.500000e+07\n",
       "75%           800.000000  1.778325e+08  1.900000e+08\n",
       "max          4600.000000  8.016120e+09  2.100000e+09"
      ]
     },
     "execution_count": 15,
     "metadata": {},
     "output_type": "execute_result"
    }
   ],
   "source": [
    "df_original.drop(columns=['hit']).describe()"
   ]
  },
  {
   "cell_type": "markdown",
   "metadata": {},
   "source": [
    "#### 3.6. Check collinearity among the Numerical variables"
   ]
  },
  {
   "cell_type": "code",
   "execution_count": 16,
   "metadata": {},
   "outputs": [
    {
     "data": {
      "image/png": "[encoded data removed]",
      "text/plain": [
       "<Figure size 1000x800 with 2 Axes>"
      ]
     },
     "metadata": {},
     "output_type": "display_data"
    }
   ],
   "source": [
    "# Compute the correlation matrix\n",
    "corr = df_original.corr()\n",
    "\n",
    "# Generate a mask for the upper triangle\n",
    "mask = np.triu(np.ones_like(corr, dtype=bool))\n",
    "\n",
    "# Set up the matplotlib figure\n",
    "fig, ax = plt.subplots(figsize=(10, 8))\n",
    "\n",
    "# Generate the heatmap with Seaborn\n",
    "sns.heatmap(corr, mask=mask, cmap='coolwarm', center=0, annot=True,\n",
    "            square=True, linewidths=.5, cbar_kws={\"shrink\": .5})\n",
    "\n",
    "# Set the title of the plot\n",
    "plt.title('Correlation Heatmap b/w Numerical Variables')\n",
    "\n",
    "# Show the plot\n",
    "plt.show()"
   ]
  },
  {
   "cell_type": "markdown",
   "metadata": {},
   "source": [
    "### 4 Data Cleaning"
   ]
  },
  {
   "cell_type": "markdown",
   "metadata": {},
   "source": [
    "#### 4.1 Drop Columns"
   ]
  },
  {
   "cell_type": "markdown",
   "metadata": {},
   "source": [
    "\n",
    "Splitting the dataset into explanatory and target variable."
   ]
  },
  {
   "cell_type": "code",
   "execution_count": 17,
   "metadata": {},
   "outputs": [
    {
     "data": {
      "text/html": [
       "<div><div id=d72c9a64-c230-404e-8292-615cc72016a0 style=\"display:none; background-color:#9D6CFF; color:white; width:200px; height:30px; padding-left:5px; border-radius:4px; flex-direction:row; justify-content:space-around; align-items:center;\" onmouseover=\"this.style.backgroundColor='#BA9BF8'\" onmouseout=\"this.style.backgroundColor='#9D6CFF'\" onclick=\"window.commands?.execute('create-mitosheet-from-dataframe-output');\">See Full Dataframe in Mito</div> <script> if (window.commands?.hasCommand('create-mitosheet-from-dataframe-output')) document.getElementById('d72c9a64-c230-404e-8292-615cc72016a0').style.display = 'flex' </script> <table border=\"1\" class=\"dataframe\">\n",
       "  <thead>\n",
       "    <tr style=\"text-align: right;\">\n",
       "      <th></th>\n",
       "      <th>Movie Name</th>\n",
       "      <th>Release Period</th>\n",
       "      <th>Whether Remake</th>\n",
       "      <th>Whether Franchise</th>\n",
       "      <th>Genre</th>\n",
       "      <th>New Actor</th>\n",
       "      <th>New Director</th>\n",
       "      <th>New Music Director</th>\n",
       "      <th>Lead Star</th>\n",
       "      <th>Director</th>\n",
       "      <th>Music Director</th>\n",
       "      <th>Number of Screens</th>\n",
       "      <th>Budget(INR)</th>\n",
       "    </tr>\n",
       "  </thead>\n",
       "  <tbody>\n",
       "    <tr>\n",
       "      <th>0</th>\n",
       "      <td>Golden Boys</td>\n",
       "      <td>Normal</td>\n",
       "      <td>No</td>\n",
       "      <td>No</td>\n",
       "      <td>suspense</td>\n",
       "      <td>Yes</td>\n",
       "      <td>No</td>\n",
       "      <td>No</td>\n",
       "      <td>Jeet Goswami</td>\n",
       "      <td>Ravi Varma</td>\n",
       "      <td>Baba Jagirdar</td>\n",
       "      <td>5</td>\n",
       "      <td>5000000</td>\n",
       "    </tr>\n",
       "    <tr>\n",
       "      <th>1</th>\n",
       "      <td>Kaccha Limboo</td>\n",
       "      <td>Holiday</td>\n",
       "      <td>No</td>\n",
       "      <td>No</td>\n",
       "      <td>drama</td>\n",
       "      <td>Yes</td>\n",
       "      <td>No</td>\n",
       "      <td>Yes</td>\n",
       "      <td>Karan Bhanushali</td>\n",
       "      <td>Sagar Ballary</td>\n",
       "      <td>Amardeep Nijjer</td>\n",
       "      <td>75</td>\n",
       "      <td>15000000</td>\n",
       "    </tr>\n",
       "    <tr>\n",
       "      <th>2</th>\n",
       "      <td>Not A Love Story</td>\n",
       "      <td>Holiday</td>\n",
       "      <td>No</td>\n",
       "      <td>No</td>\n",
       "      <td>thriller</td>\n",
       "      <td>No</td>\n",
       "      <td>No</td>\n",
       "      <td>No</td>\n",
       "      <td>Mahie Gill</td>\n",
       "      <td>Ram Gopal Verma</td>\n",
       "      <td>Sandeep Chowta</td>\n",
       "      <td>525</td>\n",
       "      <td>75000000</td>\n",
       "    </tr>\n",
       "    <tr>\n",
       "      <th>3</th>\n",
       "      <td>Qaidi Band</td>\n",
       "      <td>Holiday</td>\n",
       "      <td>No</td>\n",
       "      <td>No</td>\n",
       "      <td>drama</td>\n",
       "      <td>Yes</td>\n",
       "      <td>No</td>\n",
       "      <td>No</td>\n",
       "      <td>Aadar Jain</td>\n",
       "      <td>Habib Faisal</td>\n",
       "      <td>Amit Trivedi</td>\n",
       "      <td>800</td>\n",
       "      <td>210000000</td>\n",
       "    </tr>\n",
       "    <tr>\n",
       "      <th>4</th>\n",
       "      <td>Chaatwali</td>\n",
       "      <td>Holiday</td>\n",
       "      <td>No</td>\n",
       "      <td>No</td>\n",
       "      <td>adult</td>\n",
       "      <td>Yes</td>\n",
       "      <td>Yes</td>\n",
       "      <td>Yes</td>\n",
       "      <td>Aadil Khan</td>\n",
       "      <td>Aadil Khan</td>\n",
       "      <td>Babloo Ustad</td>\n",
       "      <td>1</td>\n",
       "      <td>1000000</td>\n",
       "    </tr>\n",
       "  </tbody>\n",
       "</table></div>"
      ],
      "text/plain": [
       "         Movie Name Release Period Whether Remake Whether Franchise     Genre  \\\n",
       "0       Golden Boys         Normal             No                No  suspense   \n",
       "1     Kaccha Limboo        Holiday             No                No     drama   \n",
       "2  Not A Love Story        Holiday             No                No  thriller   \n",
       "3        Qaidi Band        Holiday             No                No     drama   \n",
       "4         Chaatwali        Holiday             No                No     adult   \n",
       "\n",
       "  New Actor New Director New Music Director         Lead Star  \\\n",
       "0       Yes           No                 No      Jeet Goswami   \n",
       "1       Yes           No                Yes  Karan Bhanushali   \n",
       "2        No           No                 No        Mahie Gill   \n",
       "3       Yes           No                 No        Aadar Jain   \n",
       "4       Yes          Yes                Yes        Aadil Khan   \n",
       "\n",
       "          Director   Music Director  Number of Screens  Budget(INR)  \n",
       "0       Ravi Varma    Baba Jagirdar                  5      5000000  \n",
       "1    Sagar Ballary  Amardeep Nijjer                 75     15000000  \n",
       "2  Ram Gopal Verma   Sandeep Chowta                525     75000000  \n",
       "3     Habib Faisal     Amit Trivedi                800    210000000  \n",
       "4       Aadil Khan     Babloo Ustad                  1      1000000  "
      ]
     },
     "execution_count": 17,
     "metadata": {},
     "output_type": "execute_result"
    }
   ],
   "source": [
    "X, y = df_original.drop(columns=['Revenue(INR)','hit']), df_original['hit']\n",
    "X.head()"
   ]
  },
  {
   "attachments": {},
   "cell_type": "markdown",
   "metadata": {},
   "source": [
    "From **3.2** and **3.3** we can see `Movie Name` has nearly equal no. of categories as the no. of records. Therefore keeping this feature would lead to high variance.\n",
    "\n",
    "Similarly, other categorical features like `Lead Star`, `Director` & `Music Director` has unique categories $>33\\%$ of total records count. As Decision Tree Classifier model is **prone to overfitting**, therefore dropping these features would reduce the complexity of the model and thus stop it from overfitting."
   ]
  },
  {
   "cell_type": "code",
   "execution_count": 18,
   "metadata": {},
   "outputs": [],
   "source": [
    "X = X.drop(columns=['Movie Name','Lead Star',\n",
    "       'Director', 'Music Director'])"
   ]
  },
  {
   "cell_type": "code",
   "execution_count": 19,
   "metadata": {},
   "outputs": [
    {
     "data": {
      "text/plain": [
       "Index(['Release Period', 'Whether Remake', 'Whether Franchise', 'Genre',\n",
       "       'New Actor', 'New Director', 'New Music Director', 'Number of Screens',\n",
       "       'Budget(INR)'],\n",
       "      dtype='object')"
      ]
     },
     "execution_count": 19,
     "metadata": {},
     "output_type": "execute_result"
    }
   ],
   "source": [
    "X.columns"
   ]
  },
  {
   "cell_type": "code",
   "execution_count": 20,
   "metadata": {},
   "outputs": [
    {
     "data": {
      "text/html": [
       "<div><div id=479cb1ee-7d0a-41ab-8d8c-549a45e7fd3a style=\"display:none; background-color:#9D6CFF; color:white; width:200px; height:30px; padding-left:5px; border-radius:4px; flex-direction:row; justify-content:space-around; align-items:center;\" onmouseover=\"this.style.backgroundColor='#BA9BF8'\" onmouseout=\"this.style.backgroundColor='#9D6CFF'\" onclick=\"window.commands?.execute('create-mitosheet-from-dataframe-output');\">See Full Dataframe in Mito</div> <script> if (window.commands?.hasCommand('create-mitosheet-from-dataframe-output')) document.getElementById('479cb1ee-7d0a-41ab-8d8c-549a45e7fd3a').style.display = 'flex' </script> <table border=\"1\" class=\"dataframe\">\n",
       "  <thead>\n",
       "    <tr style=\"text-align: right;\">\n",
       "      <th></th>\n",
       "      <th>Release Period</th>\n",
       "      <th>Whether Remake</th>\n",
       "      <th>Whether Franchise</th>\n",
       "      <th>Genre</th>\n",
       "      <th>New Actor</th>\n",
       "      <th>New Director</th>\n",
       "      <th>New Music Director</th>\n",
       "      <th>Number of Screens</th>\n",
       "      <th>Budget(INR)</th>\n",
       "    </tr>\n",
       "  </thead>\n",
       "  <tbody>\n",
       "    <tr>\n",
       "      <th>0</th>\n",
       "      <td>Normal</td>\n",
       "      <td>No</td>\n",
       "      <td>No</td>\n",
       "      <td>suspense</td>\n",
       "      <td>Yes</td>\n",
       "      <td>No</td>\n",
       "      <td>No</td>\n",
       "      <td>5</td>\n",
       "      <td>5000000</td>\n",
       "    </tr>\n",
       "    <tr>\n",
       "      <th>1</th>\n",
       "      <td>Holiday</td>\n",
       "      <td>No</td>\n",
       "      <td>No</td>\n",
       "      <td>drama</td>\n",
       "      <td>Yes</td>\n",
       "      <td>No</td>\n",
       "      <td>Yes</td>\n",
       "      <td>75</td>\n",
       "      <td>15000000</td>\n",
       "    </tr>\n",
       "    <tr>\n",
       "      <th>2</th>\n",
       "      <td>Holiday</td>\n",
       "      <td>No</td>\n",
       "      <td>No</td>\n",
       "      <td>thriller</td>\n",
       "      <td>No</td>\n",
       "      <td>No</td>\n",
       "      <td>No</td>\n",
       "      <td>525</td>\n",
       "      <td>75000000</td>\n",
       "    </tr>\n",
       "    <tr>\n",
       "      <th>3</th>\n",
       "      <td>Holiday</td>\n",
       "      <td>No</td>\n",
       "      <td>No</td>\n",
       "      <td>drama</td>\n",
       "      <td>Yes</td>\n",
       "      <td>No</td>\n",
       "      <td>No</td>\n",
       "      <td>800</td>\n",
       "      <td>210000000</td>\n",
       "    </tr>\n",
       "    <tr>\n",
       "      <th>4</th>\n",
       "      <td>Holiday</td>\n",
       "      <td>No</td>\n",
       "      <td>No</td>\n",
       "      <td>adult</td>\n",
       "      <td>Yes</td>\n",
       "      <td>Yes</td>\n",
       "      <td>Yes</td>\n",
       "      <td>1</td>\n",
       "      <td>1000000</td>\n",
       "    </tr>\n",
       "  </tbody>\n",
       "</table></div>"
      ],
      "text/plain": [
       "  Release Period Whether Remake Whether Franchise     Genre New Actor  \\\n",
       "0         Normal             No                No  suspense       Yes   \n",
       "1        Holiday             No                No     drama       Yes   \n",
       "2        Holiday             No                No  thriller        No   \n",
       "3        Holiday             No                No     drama       Yes   \n",
       "4        Holiday             No                No     adult       Yes   \n",
       "\n",
       "  New Director New Music Director  Number of Screens  Budget(INR)  \n",
       "0           No                 No                  5      5000000  \n",
       "1           No                Yes                 75     15000000  \n",
       "2           No                 No                525     75000000  \n",
       "3           No                 No                800    210000000  \n",
       "4          Yes                Yes                  1      1000000  "
      ]
     },
     "execution_count": 20,
     "metadata": {},
     "output_type": "execute_result"
    }
   ],
   "source": [
    "X.head()"
   ]
  },
  {
   "cell_type": "markdown",
   "metadata": {},
   "source": [
    "### 5 Data Transform"
   ]
  },
  {
   "attachments": {},
   "cell_type": "markdown",
   "metadata": {},
   "source": [
    "#### 5.1 Encoding\n",
    "No feature which seems to have Ordinal properties."
   ]
  },
  {
   "attachments": {},
   "cell_type": "markdown",
   "metadata": {},
   "source": [
    "##### Dummies Encoding"
   ]
  },
  {
   "cell_type": "code",
   "execution_count": 21,
   "metadata": {},
   "outputs": [],
   "source": [
    "X = pd.get_dummies(X, drop_first=True)"
   ]
  },
  {
   "cell_type": "code",
   "execution_count": 22,
   "metadata": {},
   "outputs": [
    {
     "data": {
      "text/html": [
       "<div><div id=48c02a9e-b3eb-4e43-9e13-1bec930fba3a style=\"display:none; background-color:#9D6CFF; color:white; width:200px; height:30px; padding-left:5px; border-radius:4px; flex-direction:row; justify-content:space-around; align-items:center;\" onmouseover=\"this.style.backgroundColor='#BA9BF8'\" onmouseout=\"this.style.backgroundColor='#9D6CFF'\" onclick=\"window.commands?.execute('create-mitosheet-from-dataframe-output');\">See Full Dataframe in Mito</div> <script> if (window.commands?.hasCommand('create-mitosheet-from-dataframe-output')) document.getElementById('48c02a9e-b3eb-4e43-9e13-1bec930fba3a').style.display = 'flex' </script> <table border=\"1\" class=\"dataframe\">\n",
       "  <thead>\n",
       "    <tr style=\"text-align: right;\">\n",
       "      <th></th>\n",
       "      <th>Number of Screens</th>\n",
       "      <th>Budget(INR)</th>\n",
       "      <th>Release Period_Normal</th>\n",
       "      <th>Whether Remake_Yes</th>\n",
       "      <th>Whether Franchise_Yes</th>\n",
       "      <th>Genre_adult</th>\n",
       "      <th>Genre_animation</th>\n",
       "      <th>Genre_comedy</th>\n",
       "      <th>Genre_documentary</th>\n",
       "      <th>Genre_drama</th>\n",
       "      <th>...</th>\n",
       "      <th>Genre_horror</th>\n",
       "      <th>Genre_love_story</th>\n",
       "      <th>Genre_masala</th>\n",
       "      <th>Genre_mythological</th>\n",
       "      <th>Genre_rom__com</th>\n",
       "      <th>Genre_suspense</th>\n",
       "      <th>Genre_thriller</th>\n",
       "      <th>New Actor_Yes</th>\n",
       "      <th>New Director_Yes</th>\n",
       "      <th>New Music Director_Yes</th>\n",
       "    </tr>\n",
       "  </thead>\n",
       "  <tbody>\n",
       "    <tr>\n",
       "      <th>0</th>\n",
       "      <td>5</td>\n",
       "      <td>5000000</td>\n",
       "      <td>1</td>\n",
       "      <td>0</td>\n",
       "      <td>0</td>\n",
       "      <td>0</td>\n",
       "      <td>0</td>\n",
       "      <td>0</td>\n",
       "      <td>0</td>\n",
       "      <td>0</td>\n",
       "      <td>...</td>\n",
       "      <td>0</td>\n",
       "      <td>0</td>\n",
       "      <td>0</td>\n",
       "      <td>0</td>\n",
       "      <td>0</td>\n",
       "      <td>1</td>\n",
       "      <td>0</td>\n",
       "      <td>1</td>\n",
       "      <td>0</td>\n",
       "      <td>0</td>\n",
       "    </tr>\n",
       "    <tr>\n",
       "      <th>1</th>\n",
       "      <td>75</td>\n",
       "      <td>15000000</td>\n",
       "      <td>0</td>\n",
       "      <td>0</td>\n",
       "      <td>0</td>\n",
       "      <td>0</td>\n",
       "      <td>0</td>\n",
       "      <td>0</td>\n",
       "      <td>0</td>\n",
       "      <td>1</td>\n",
       "      <td>...</td>\n",
       "      <td>0</td>\n",
       "      <td>0</td>\n",
       "      <td>0</td>\n",
       "      <td>0</td>\n",
       "      <td>0</td>\n",
       "      <td>0</td>\n",
       "      <td>0</td>\n",
       "      <td>1</td>\n",
       "      <td>0</td>\n",
       "      <td>1</td>\n",
       "    </tr>\n",
       "    <tr>\n",
       "      <th>2</th>\n",
       "      <td>525</td>\n",
       "      <td>75000000</td>\n",
       "      <td>0</td>\n",
       "      <td>0</td>\n",
       "      <td>0</td>\n",
       "      <td>0</td>\n",
       "      <td>0</td>\n",
       "      <td>0</td>\n",
       "      <td>0</td>\n",
       "      <td>0</td>\n",
       "      <td>...</td>\n",
       "      <td>0</td>\n",
       "      <td>0</td>\n",
       "      <td>0</td>\n",
       "      <td>0</td>\n",
       "      <td>0</td>\n",
       "      <td>0</td>\n",
       "      <td>1</td>\n",
       "      <td>0</td>\n",
       "      <td>0</td>\n",
       "      <td>0</td>\n",
       "    </tr>\n",
       "    <tr>\n",
       "      <th>3</th>\n",
       "      <td>800</td>\n",
       "      <td>210000000</td>\n",
       "      <td>0</td>\n",
       "      <td>0</td>\n",
       "      <td>0</td>\n",
       "      <td>0</td>\n",
       "      <td>0</td>\n",
       "      <td>0</td>\n",
       "      <td>0</td>\n",
       "      <td>1</td>\n",
       "      <td>...</td>\n",
       "      <td>0</td>\n",
       "      <td>0</td>\n",
       "      <td>0</td>\n",
       "      <td>0</td>\n",
       "      <td>0</td>\n",
       "      <td>0</td>\n",
       "      <td>0</td>\n",
       "      <td>1</td>\n",
       "      <td>0</td>\n",
       "      <td>0</td>\n",
       "    </tr>\n",
       "    <tr>\n",
       "      <th>4</th>\n",
       "      <td>1</td>\n",
       "      <td>1000000</td>\n",
       "      <td>0</td>\n",
       "      <td>0</td>\n",
       "      <td>0</td>\n",
       "      <td>1</td>\n",
       "      <td>0</td>\n",
       "      <td>0</td>\n",
       "      <td>0</td>\n",
       "      <td>0</td>\n",
       "      <td>...</td>\n",
       "      <td>0</td>\n",
       "      <td>0</td>\n",
       "      <td>0</td>\n",
       "      <td>0</td>\n",
       "      <td>0</td>\n",
       "      <td>0</td>\n",
       "      <td>0</td>\n",
       "      <td>1</td>\n",
       "      <td>1</td>\n",
       "      <td>1</td>\n",
       "    </tr>\n",
       "  </tbody>\n",
       "</table></div>"
      ],
      "text/plain": [
       "   Number of Screens  Budget(INR)  Release Period_Normal  Whether Remake_Yes  \\\n",
       "0                  5      5000000                      1                   0   \n",
       "1                 75     15000000                      0                   0   \n",
       "2                525     75000000                      0                   0   \n",
       "3                800    210000000                      0                   0   \n",
       "4                  1      1000000                      0                   0   \n",
       "\n",
       "   Whether Franchise_Yes  Genre_adult  Genre_animation  Genre_comedy  \\\n",
       "0                      0            0                0             0   \n",
       "1                      0            0                0             0   \n",
       "2                      0            0                0             0   \n",
       "3                      0            0                0             0   \n",
       "4                      0            1                0             0   \n",
       "\n",
       "   Genre_documentary  Genre_drama  ...  Genre_horror  Genre_love_story  \\\n",
       "0                  0            0  ...             0                 0   \n",
       "1                  0            1  ...             0                 0   \n",
       "2                  0            0  ...             0                 0   \n",
       "3                  0            1  ...             0                 0   \n",
       "4                  0            0  ...             0                 0   \n",
       "\n",
       "   Genre_masala  Genre_mythological  Genre_rom__com  Genre_suspense  \\\n",
       "0             0                   0               0               1   \n",
       "1             0                   0               0               0   \n",
       "2             0                   0               0               0   \n",
       "3             0                   0               0               0   \n",
       "4             0                   0               0               0   \n",
       "\n",
       "   Genre_thriller  New Actor_Yes  New Director_Yes  New Music Director_Yes  \n",
       "0               0              1                 0                       0  \n",
       "1               0              1                 0                       1  \n",
       "2               1              0                 0                       0  \n",
       "3               0              1                 0                       0  \n",
       "4               0              1                 1                       1  \n",
       "\n",
       "[5 rows x 21 columns]"
      ]
     },
     "execution_count": 22,
     "metadata": {},
     "output_type": "execute_result"
    }
   ],
   "source": [
    "X.head()"
   ]
  },
  {
   "cell_type": "code",
   "execution_count": 23,
   "metadata": {},
   "outputs": [
    {
     "data": {
      "text/plain": [
       "Index(['Number of Screens', 'Budget(INR)', 'Release Period_Normal',\n",
       "       'Whether Remake_Yes', 'Whether Franchise_Yes', 'Genre_adult',\n",
       "       'Genre_animation', 'Genre_comedy', 'Genre_documentary', 'Genre_drama',\n",
       "       'Genre_fantasy', 'Genre_horror', 'Genre_love_story', 'Genre_masala',\n",
       "       'Genre_mythological', 'Genre_rom__com', 'Genre_suspense',\n",
       "       'Genre_thriller', 'New Actor_Yes', 'New Director_Yes',\n",
       "       'New Music Director_Yes'],\n",
       "      dtype='object')"
      ]
     },
     "execution_count": 23,
     "metadata": {},
     "output_type": "execute_result"
    }
   ],
   "source": [
    "X.columns"
   ]
  },
  {
   "cell_type": "markdown",
   "metadata": {},
   "source": [
    "### 6 Fitting Model"
   ]
  },
  {
   "cell_type": "markdown",
   "metadata": {},
   "source": [
    "#### 6.1 Dividing Dataset into Train and Test sets"
   ]
  },
  {
   "cell_type": "markdown",
   "metadata": {},
   "source": [
    "As dataset is highly imbalanced, Train-Test split must be **stratified**."
   ]
  },
  {
   "cell_type": "code",
   "execution_count": 24,
   "metadata": {},
   "outputs": [],
   "source": [
    "# split train 80% & test 20%\n",
    "X_train, X_test, y_train, y_test = train_test_split(X, y, test_size = .20, random_state=51, stratify=y)"
   ]
  },
  {
   "cell_type": "code",
   "execution_count": 25,
   "metadata": {},
   "outputs": [
    {
     "name": "stdout",
     "output_type": "stream",
     "text": [
      "train\n",
      " 0    0.723859\n",
      "1    0.276141\n",
      "Name: hit, dtype: float64 \n",
      "\n",
      "test\n",
      " 0    0.723529\n",
      "1    0.276471\n",
      "Name: hit, dtype: float64\n"
     ]
    }
   ],
   "source": [
    "print('train\\n',y_train.value_counts(normalize=True),'\\n\\ntest\\n',y_test.value_counts(normalize=True))"
   ]
  },
  {
   "cell_type": "markdown",
   "metadata": {},
   "source": [
    "#### 6.2 Model buildinig"
   ]
  },
  {
   "attachments": {},
   "cell_type": "markdown",
   "metadata": {},
   "source": [
    "##### Choosing Performance Metrics\n",
    "\n",
    "**Not buying a movie which my model predicted to be a flop but ended up being a once-in-a-decade hit movie could be more detrimental from a business POV.**\n",
    "\n",
    "The reason is that business like the OTT platform has to pay a considerable amount of money to acquire the digital rights of a movie, and not buying a potentially successful movie may result in losing out on revenue and market share to competitors. In contrast, if the company buys a movie that ends up being a flop, the financial loss can be absorbed by the company as part of its risk management strategy."
   ]
  },
  {
   "cell_type": "code",
   "execution_count": 26,
   "metadata": {},
   "outputs": [],
   "source": [
    "# weighted recall is chosen as performance metrics\n",
    "weighted_recall = make_scorer(recall_score, average='weighted')"
   ]
  },
  {
   "cell_type": "markdown",
   "metadata": {},
   "source": [
    "##### UDF for measuring time to train the best estimator model and its size"
   ]
  },
  {
   "cell_type": "code",
   "execution_count": 27,
   "metadata": {},
   "outputs": [],
   "source": [
    "def model_measure(estimator, X_train, y_train):\n",
    "    global model_count\n",
    "    start_time = perf()\n",
    "    trained_model = estimator.fit(X_train, y_train)\n",
    "    model_time_to_train = perf() - start_time\n",
    "\n",
    "    dir_path = './model_files/Q2/'\n",
    "\n",
    "    if not os.path.exists(dir_path):\n",
    "        os.makedirs(dir_path)\n",
    "\n",
    "    with open(f'{dir_path}{str(model_count)}.pkl','wb') as file:\n",
    "        pickle.dump(trained_model, file)\n",
    "\n",
    "    # measure the model size\n",
    "    PATH = f'{dir_path}{str(model_count)}.pkl'\n",
    "    model_size = os.path.getsize(PATH)/1024\n",
    "\n",
    "    model_count += 1\n",
    "    return trained_model, model_time_to_train, model_size\n"
   ]
  },
  {
   "cell_type": "code",
   "execution_count": 28,
   "metadata": {},
   "outputs": [],
   "source": [
    "def eval_metrics(test, pred):\n",
    "    return recall_score(test, pred, average='weighted'), accuracy_score(test, pred), precision_score(test, pred), roc_auc_score(test, pred), confusion_matrix(test, pred)"
   ]
  },
  {
   "attachments": {},
   "cell_type": "markdown",
   "metadata": {},
   "source": [
    "##### Hyperparameter Tuning and Cross Validation\n",
    "Iteratively train model on the variable CV folds"
   ]
  },
  {
   "cell_type": "code",
   "execution_count": 29,
   "metadata": {},
   "outputs": [],
   "source": [
    "# define the hyperparameter grid to search over\n",
    "param_grid = {\n",
    "    'criterion':['gini','entropy'],\n",
    "    'max_depth': [*range(2,6)],\n",
    "    'min_samples_split': [1, 2, 3, 4, 5],\n",
    "    'min_samples_leaf': [1, 2, 3, 4, 5, 10, 12]\n",
    "}\n",
    "\n",
    "CVfold_train_score = {}\n",
    "for fold in range(2,9):\n",
    "    # create a decision tree classifier instance\n",
    "    DTclf = DecisionTreeClassifier()\n",
    "\n",
    "    # create a GridSearchCV instance with the decision tree classifier and hyperparameter grid\n",
    "    grid_search = GridSearchCV(DTclf, param_grid=param_grid, scoring=weighted_recall, cv=fold)\n",
    "\n",
    "    # fit the GridSearchCV instance on the data\n",
    "    grid_search.fit(X_train, y_train)\n",
    "    best_clf = grid_search.best_estimator_\n",
    "    dt_train_score = grid_search.best_score_\n",
    "\n",
    "    CVfold_train_score[fold] = dt_train_score"
   ]
  },
  {
   "cell_type": "markdown",
   "metadata": {},
   "source": [
    "##### Ideal count of CV folds\n",
    "- depending on train score"
   ]
  },
  {
   "cell_type": "code",
   "execution_count": 30,
   "metadata": {},
   "outputs": [
    {
     "data": {
      "text/plain": [
       "5"
      ]
     },
     "execution_count": 30,
     "metadata": {},
     "output_type": "execute_result"
    }
   ],
   "source": [
    "ideal_fold = sorted(CVfold_train_score.items(), key=lambda x:x[1], reverse=True)[0][0]\n",
    "ideal_fold"
   ]
  },
  {
   "attachments": {},
   "cell_type": "markdown",
   "metadata": {},
   "source": [
    "##### Train model on ideal count of CV folds and predict"
   ]
  },
  {
   "cell_type": "code",
   "execution_count": 31,
   "metadata": {},
   "outputs": [
    {
     "data": {
      "text/html": [
       "<style>#sk-container-id-1 {color: black;background-color: white;}#sk-container-id-1 pre{padding: 0;}#sk-container-id-1 div.sk-toggleable {background-color: white;}#sk-container-id-1 label.sk-toggleable__label {cursor: pointer;display: block;width: 100%;margin-bottom: 0;padding: 0.3em;box-sizing: border-box;text-align: center;}#sk-container-id-1 label.sk-toggleable__label-arrow:before {content: \"▸\";float: left;margin-right: 0.25em;color: #696969;}#sk-container-id-1 label.sk-toggleable__label-arrow:hover:before {color: black;}#sk-container-id-1 div.sk-estimator:hover label.sk-toggleable__label-arrow:before {color: black;}#sk-container-id-1 div.sk-toggleable__content {max-height: 0;max-width: 0;overflow: hidden;text-align: left;background-color: #f0f8ff;}#sk-container-id-1 div.sk-toggleable__content pre {margin: 0.2em;color: black;border-radius: 0.25em;background-color: #f0f8ff;}#sk-container-id-1 input.sk-toggleable__control:checked~div.sk-toggleable__content {max-height: 200px;max-width: 100%;overflow: auto;}#sk-container-id-1 input.sk-toggleable__control:checked~label.sk-toggleable__label-arrow:before {content: \"▾\";}#sk-container-id-1 div.sk-estimator input.sk-toggleable__control:checked~label.sk-toggleable__label {background-color: #d4ebff;}#sk-container-id-1 div.sk-label input.sk-toggleable__control:checked~label.sk-toggleable__label {background-color: #d4ebff;}#sk-container-id-1 input.sk-hidden--visually {border: 0;clip: rect(1px 1px 1px 1px);clip: rect(1px, 1px, 1px, 1px);height: 1px;margin: -1px;overflow: hidden;padding: 0;position: absolute;width: 1px;}#sk-container-id-1 div.sk-estimator {font-family: monospace;background-color: #f0f8ff;border: 1px dotted black;border-radius: 0.25em;box-sizing: border-box;margin-bottom: 0.5em;}#sk-container-id-1 div.sk-estimator:hover {background-color: #d4ebff;}#sk-container-id-1 div.sk-parallel-item::after {content: \"\";width: 100%;border-bottom: 1px solid gray;flex-grow: 1;}#sk-container-id-1 div.sk-label:hover label.sk-toggleable__label {background-color: #d4ebff;}#sk-container-id-1 div.sk-serial::before {content: \"\";position: absolute;border-left: 1px solid gray;box-sizing: border-box;top: 0;bottom: 0;left: 50%;z-index: 0;}#sk-container-id-1 div.sk-serial {display: flex;flex-direction: column;align-items: center;background-color: white;padding-right: 0.2em;padding-left: 0.2em;position: relative;}#sk-container-id-1 div.sk-item {position: relative;z-index: 1;}#sk-container-id-1 div.sk-parallel {display: flex;align-items: stretch;justify-content: center;background-color: white;position: relative;}#sk-container-id-1 div.sk-item::before, #sk-container-id-1 div.sk-parallel-item::before {content: \"\";position: absolute;border-left: 1px solid gray;box-sizing: border-box;top: 0;bottom: 0;left: 50%;z-index: -1;}#sk-container-id-1 div.sk-parallel-item {display: flex;flex-direction: column;z-index: 1;position: relative;background-color: white;}#sk-container-id-1 div.sk-parallel-item:first-child::after {align-self: flex-end;width: 50%;}#sk-container-id-1 div.sk-parallel-item:last-child::after {align-self: flex-start;width: 50%;}#sk-container-id-1 div.sk-parallel-item:only-child::after {width: 0;}#sk-container-id-1 div.sk-dashed-wrapped {border: 1px dashed gray;margin: 0 0.4em 0.5em 0.4em;box-sizing: border-box;padding-bottom: 0.4em;background-color: white;}#sk-container-id-1 div.sk-label label {font-family: monospace;font-weight: bold;display: inline-block;line-height: 1.2em;}#sk-container-id-1 div.sk-label-container {text-align: center;}#sk-container-id-1 div.sk-container {/* jupyter's `normalize.less` sets `[hidden] { display: none; }` but bootstrap.min.css set `[hidden] { display: none !important; }` so we also need the `!important` here to be able to override the default hidden behavior on the sphinx rendered scikit-learn.org. See: https://github.com/scikit-learn/scikit-learn/issues/21755 */display: inline-block !important;position: relative;}#sk-container-id-1 div.sk-text-repr-fallback {display: none;}</style><div id=\"sk-container-id-1\" class=\"sk-top-container\"><div class=\"sk-text-repr-fallback\"><pre>GridSearchCV(cv=5, estimator=DecisionTreeClassifier(),\n",
       "             param_grid={&#x27;criterion&#x27;: [&#x27;gini&#x27;, &#x27;entropy&#x27;],\n",
       "                         &#x27;max_depth&#x27;: [2, 3, 4, 5],\n",
       "                         &#x27;min_samples_leaf&#x27;: [1, 2, 3, 4, 5, 10, 12],\n",
       "                         &#x27;min_samples_split&#x27;: [1, 2, 3, 4, 5]},\n",
       "             scoring=make_scorer(recall_score, average=weighted))</pre><b>In a Jupyter environment, please rerun this cell to show the HTML representation or trust the notebook. <br />On GitHub, the HTML representation is unable to render, please try loading this page with nbviewer.org.</b></div><div class=\"sk-container\" hidden><div class=\"sk-item sk-dashed-wrapped\"><div class=\"sk-label-container\"><div class=\"sk-label sk-toggleable\"><input class=\"sk-toggleable__control sk-hidden--visually\" id=\"sk-estimator-id-1\" type=\"checkbox\" ><label for=\"sk-estimator-id-1\" class=\"sk-toggleable__label sk-toggleable__label-arrow\">GridSearchCV</label><div class=\"sk-toggleable__content\"><pre>GridSearchCV(cv=5, estimator=DecisionTreeClassifier(),\n",
       "             param_grid={&#x27;criterion&#x27;: [&#x27;gini&#x27;, &#x27;entropy&#x27;],\n",
       "                         &#x27;max_depth&#x27;: [2, 3, 4, 5],\n",
       "                         &#x27;min_samples_leaf&#x27;: [1, 2, 3, 4, 5, 10, 12],\n",
       "                         &#x27;min_samples_split&#x27;: [1, 2, 3, 4, 5]},\n",
       "             scoring=make_scorer(recall_score, average=weighted))</pre></div></div></div><div class=\"sk-parallel\"><div class=\"sk-parallel-item\"><div class=\"sk-item\"><div class=\"sk-label-container\"><div class=\"sk-label sk-toggleable\"><input class=\"sk-toggleable__control sk-hidden--visually\" id=\"sk-estimator-id-2\" type=\"checkbox\" ><label for=\"sk-estimator-id-2\" class=\"sk-toggleable__label sk-toggleable__label-arrow\">estimator: DecisionTreeClassifier</label><div class=\"sk-toggleable__content\"><pre>DecisionTreeClassifier()</pre></div></div></div><div class=\"sk-serial\"><div class=\"sk-item\"><div class=\"sk-estimator sk-toggleable\"><input class=\"sk-toggleable__control sk-hidden--visually\" id=\"sk-estimator-id-3\" type=\"checkbox\" ><label for=\"sk-estimator-id-3\" class=\"sk-toggleable__label sk-toggleable__label-arrow\">DecisionTreeClassifier</label><div class=\"sk-toggleable__content\"><pre>DecisionTreeClassifier()</pre></div></div></div></div></div></div></div></div></div></div>"
      ],
      "text/plain": [
       "GridSearchCV(cv=5, estimator=DecisionTreeClassifier(),\n",
       "             param_grid={'criterion': ['gini', 'entropy'],\n",
       "                         'max_depth': [2, 3, 4, 5],\n",
       "                         'min_samples_leaf': [1, 2, 3, 4, 5, 10, 12],\n",
       "                         'min_samples_split': [1, 2, 3, 4, 5]},\n",
       "             scoring=make_scorer(recall_score, average=weighted))"
      ]
     },
     "execution_count": 31,
     "metadata": {},
     "output_type": "execute_result"
    }
   ],
   "source": [
    "DTclf = DecisionTreeClassifier()\n",
    "\n",
    "# create a GridSearchCV instance with the decision tree classifier and hyperparameter grid and ideal count of CV folds\n",
    "grid_search = GridSearchCV(DTclf, param_grid=param_grid, scoring=weighted_recall, cv=ideal_fold)\n",
    "\n",
    "grid_search.fit(X_train, y_train)"
   ]
  },
  {
   "cell_type": "markdown",
   "metadata": {},
   "source": [
    "##### Test Model"
   ]
  },
  {
   "cell_type": "code",
   "execution_count": 32,
   "metadata": {},
   "outputs": [
    {
     "name": "stdout",
     "output_type": "stream",
     "text": [
      "Best Train Score: 0.818125 ,Test Score: 0.805882\n"
     ]
    }
   ],
   "source": [
    "vanila_model = DecisionTreeClassifier(**grid_search.best_params_)\n",
    "\n",
    "# measure time to train the best estimator model and its size\n",
    "best_clf, dt_time_to_train, dt_model_size = model_measure(vanila_model, X_train, y_train)\n",
    "\n",
    "dt_train_score = grid_search.best_score_\n",
    "y_pred = best_clf.predict(X_test)\n",
    "\n",
    "dt_test_score, dt_test_acc, dt_test_prec, dt_test_roc, conf_mat = eval_metrics(y_test, y_pred)\n",
    "print('Best Train Score:',round(dt_train_score,6),',Test Score:', round(dt_test_score,6))"
   ]
  },
  {
   "cell_type": "markdown",
   "metadata": {},
   "source": [
    "##### Confusion Matrix"
   ]
  },
  {
   "cell_type": "code",
   "execution_count": 33,
   "metadata": {},
   "outputs": [
    {
     "data": {
      "image/png": "[encoded data removed]",
      "text/plain": [
       "<Figure size 640x480 with 2 Axes>"
      ]
     },
     "metadata": {},
     "output_type": "display_data"
    }
   ],
   "source": [
    "# create the confusion matrix display\n",
    "cmd = ConfusionMatrixDisplay(conf_mat, display_labels=['no', 'yes'])\n",
    "\n",
    "# plot the confusion matrix\n",
    "cmd.plot(cmap=plt.cm.Blues)\n",
    "\n",
    "# add a title and axis labels\n",
    "plt.title('Confusion matrix of DT_clf')\n",
    "plt.xlabel('Predicted label')\n",
    "plt.ylabel('True label')\n",
    "\n",
    "# show the plot\n",
    "plt.show()"
   ]
  },
  {
   "cell_type": "markdown",
   "metadata": {},
   "source": [
    "##### Storing model train & test metrics"
   ]
  },
  {
   "cell_type": "code",
   "execution_count": 34,
   "metadata": {},
   "outputs": [
    {
     "data": {
      "text/html": [
       "<div><div id=4748e752-ec85-42da-ae94-aec26ca9f36a style=\"display:none; background-color:#9D6CFF; color:white; width:200px; height:30px; padding-left:5px; border-radius:4px; flex-direction:row; justify-content:space-around; align-items:center;\" onmouseover=\"this.style.backgroundColor='#BA9BF8'\" onmouseout=\"this.style.backgroundColor='#9D6CFF'\" onclick=\"window.commands?.execute('create-mitosheet-from-dataframe-output');\">See Full Dataframe in Mito</div> <script> if (window.commands?.hasCommand('create-mitosheet-from-dataframe-output')) document.getElementById('4748e752-ec85-42da-ae94-aec26ca9f36a').style.display = 'flex' </script> <table border=\"1\" class=\"dataframe\">\n",
       "  <thead>\n",
       "    <tr style=\"text-align: right;\">\n",
       "      <th></th>\n",
       "      <th>train_whtd_rcl</th>\n",
       "      <th>test_whtd_rcl</th>\n",
       "      <th>test_acc</th>\n",
       "      <th>test_prec</th>\n",
       "      <th>test_roc</th>\n",
       "      <th>time_to_train(ns)</th>\n",
       "      <th>model_size(KB)</th>\n",
       "    </tr>\n",
       "  </thead>\n",
       "  <tbody>\n",
       "    <tr>\n",
       "      <th>DTclf</th>\n",
       "      <td>0.818125</td>\n",
       "      <td>0.805882</td>\n",
       "      <td>0.805882</td>\n",
       "      <td>0.705882</td>\n",
       "      <td>0.714669</td>\n",
       "      <td>5325000.0</td>\n",
       "      <td>3.639648</td>\n",
       "    </tr>\n",
       "  </tbody>\n",
       "</table></div>"
      ],
      "text/plain": [
       "       train_whtd_rcl  test_whtd_rcl  test_acc  test_prec  test_roc  \\\n",
       "DTclf        0.818125       0.805882  0.805882   0.705882  0.714669   \n",
       "\n",
       "       time_to_train(ns)  model_size(KB)  \n",
       "DTclf          5325000.0        3.639648  "
      ]
     },
     "execution_count": 34,
     "metadata": {},
     "output_type": "execute_result"
    }
   ],
   "source": [
    "model_scores = pd.DataFrame(columns=['train_whtd_rcl', 'test_whtd_rcl', 'test_acc', 'test_prec', 'test_roc','time_to_train(ns)','model_size(KB)'])\n",
    "model_scores.loc['DTclf'] = [dt_train_score, dt_test_score, dt_test_acc, dt_test_prec, dt_test_roc, dt_time_to_train, dt_model_size]\n",
    "model_scores"
   ]
  },
  {
   "cell_type": "markdown",
   "metadata": {},
   "source": [
    "BEST PARAMETER"
   ]
  },
  {
   "cell_type": "code",
   "execution_count": 35,
   "metadata": {},
   "outputs": [
    {
     "name": "stdout",
     "output_type": "stream",
     "text": [
      "Best hyperparameters:  {'criterion': 'gini', 'max_depth': 4, 'min_samples_leaf': 5, 'min_samples_split': 1}\n"
     ]
    }
   ],
   "source": [
    "print(\"Best hyperparameters: \", grid_search.best_params_)"
   ]
  },
  {
   "attachments": {},
   "cell_type": "markdown",
   "metadata": {},
   "source": [
    "#### 6.3 Tree Graphics"
   ]
  },
  {
   "cell_type": "code",
   "execution_count": 36,
   "metadata": {},
   "outputs": [
    {
     "data": {
      "image/svg+xml": [
       "<?xml version=\"1.0\" encoding=\"UTF-8\" standalone=\"no\"?>\n",
       "<!DOCTYPE svg PUBLIC \"-//W3C//DTD SVG 1.1//EN\"\n",
       " \"http://www.w3.org/Graphics/SVG/1.1/DTD/svg11.dtd\">\n",
       "<!-- Generated by graphviz version 7.1.0 (20230121.1956)\n",
       " -->\n",
       "<!-- Title: Tree Pages: 1 -->\n",
       "<svg width=\"1984pt\" height=\"552pt\"\n",
       " viewBox=\"0.00 0.00 1984.00 552.00\" xmlns=\"http://www.w3.org/2000/svg\" xmlns:xlink=\"http://www.w3.org/1999/xlink\">\n",
       "<g id=\"graph0\" class=\"graph\" transform=\"scale(1 1) rotate(0) translate(4 548)\">\n",
       "<title>Tree</title>\n",
       "<polygon fill=\"white\" stroke=\"none\" points=\"-4,4 -4,-548 1980,-548 1980,4 -4,4\"/>\n",
       "<!-- 0 -->\n",
       "<g id=\"node1\" class=\"node\">\n",
       "<title>0</title>\n",
       "<path fill=\"#efb185\" stroke=\"black\" d=\"M1064.5,-544C1064.5,-544 896.5,-544 896.5,-544 890.5,-544 884.5,-538 884.5,-532 884.5,-532 884.5,-473 884.5,-473 884.5,-467 890.5,-461 896.5,-461 896.5,-461 1064.5,-461 1064.5,-461 1070.5,-461 1076.5,-467 1076.5,-473 1076.5,-473 1076.5,-532 1076.5,-532 1076.5,-538 1070.5,-544 1064.5,-544\"/>\n",
       "<text text-anchor=\"start\" x=\"892.5\" y=\"-528.8\" font-family=\"Helvetica,sans-Serif\" font-size=\"14.00\">Number of Screens ≤ 512.5</text>\n",
       "<text text-anchor=\"start\" x=\"951.5\" y=\"-513.8\" font-family=\"Helvetica,sans-Serif\" font-size=\"14.00\">gini = 0.4</text>\n",
       "<text text-anchor=\"start\" x=\"929\" y=\"-498.8\" font-family=\"Helvetica,sans-Serif\" font-size=\"14.00\">samples = 1358</text>\n",
       "<text text-anchor=\"start\" x=\"923.5\" y=\"-483.8\" font-family=\"Helvetica,sans-Serif\" font-size=\"14.00\">value = [983, 375]</text>\n",
       "<text text-anchor=\"start\" x=\"948\" y=\"-468.8\" font-family=\"Helvetica,sans-Serif\" font-size=\"14.00\">class = no</text>\n",
       "</g>\n",
       "<!-- 1 -->\n",
       "<g id=\"node2\" class=\"node\">\n",
       "<title>1</title>\n",
       "<path fill=\"#e88f4f\" stroke=\"black\" d=\"M860.5,-425C860.5,-425 692.5,-425 692.5,-425 686.5,-425 680.5,-419 680.5,-413 680.5,-413 680.5,-354 680.5,-354 680.5,-348 686.5,-342 692.5,-342 692.5,-342 860.5,-342 860.5,-342 866.5,-342 872.5,-348 872.5,-354 872.5,-354 872.5,-413 872.5,-413 872.5,-419 866.5,-425 860.5,-425\"/>\n",
       "<text text-anchor=\"start\" x=\"688.5\" y=\"-409.8\" font-family=\"Helvetica,sans-Serif\" font-size=\"14.00\">Number of Screens ≤ 217.5</text>\n",
       "<text text-anchor=\"start\" x=\"739\" y=\"-394.8\" font-family=\"Helvetica,sans-Serif\" font-size=\"14.00\">gini = 0.182</text>\n",
       "<text text-anchor=\"start\" x=\"729\" y=\"-379.8\" font-family=\"Helvetica,sans-Serif\" font-size=\"14.00\">samples = 901</text>\n",
       "<text text-anchor=\"start\" x=\"723.5\" y=\"-364.8\" font-family=\"Helvetica,sans-Serif\" font-size=\"14.00\">value = [810, 91]</text>\n",
       "<text text-anchor=\"start\" x=\"744\" y=\"-349.8\" font-family=\"Helvetica,sans-Serif\" font-size=\"14.00\">class = no</text>\n",
       "</g>\n",
       "<!-- 0&#45;&gt;1 -->\n",
       "<g id=\"edge1\" class=\"edge\">\n",
       "<title>0&#45;&gt;1</title>\n",
       "<path fill=\"none\" stroke=\"black\" d=\"M909.15,-460.58C892.53,-451.05 874.72,-440.83 857.71,-431.08\"/>\n",
       "<polygon fill=\"black\" stroke=\"black\" points=\"859.54,-428.09 849.12,-426.15 856.06,-434.16 859.54,-428.09\"/>\n",
       "<text text-anchor=\"middle\" x=\"854.35\" y=\"-445.83\" font-family=\"Helvetica,sans-Serif\" font-size=\"14.00\">True</text>\n",
       "</g>\n",
       "<!-- 16 -->\n",
       "<g id=\"node17\" class=\"node\">\n",
       "<title>16</title>\n",
       "<path fill=\"#b2d9f5\" stroke=\"black\" d=\"M1313.5,-425C1313.5,-425 1137.5,-425 1137.5,-425 1131.5,-425 1125.5,-419 1125.5,-413 1125.5,-413 1125.5,-354 1125.5,-354 1125.5,-348 1131.5,-342 1137.5,-342 1137.5,-342 1313.5,-342 1313.5,-342 1319.5,-342 1325.5,-348 1325.5,-354 1325.5,-354 1325.5,-413 1325.5,-413 1325.5,-419 1319.5,-425 1313.5,-425\"/>\n",
       "<text text-anchor=\"start\" x=\"1133.5\" y=\"-409.8\" font-family=\"Helvetica,sans-Serif\" font-size=\"14.00\">Number of Screens ≤ 2125.0</text>\n",
       "<text text-anchor=\"start\" x=\"1188\" y=\"-394.8\" font-family=\"Helvetica,sans-Serif\" font-size=\"14.00\">gini = 0.471</text>\n",
       "<text text-anchor=\"start\" x=\"1178\" y=\"-379.8\" font-family=\"Helvetica,sans-Serif\" font-size=\"14.00\">samples = 457</text>\n",
       "<text text-anchor=\"start\" x=\"1168.5\" y=\"-364.8\" font-family=\"Helvetica,sans-Serif\" font-size=\"14.00\">value = [173, 284]</text>\n",
       "<text text-anchor=\"start\" x=\"1189.5\" y=\"-349.8\" font-family=\"Helvetica,sans-Serif\" font-size=\"14.00\">class = yes</text>\n",
       "</g>\n",
       "<!-- 0&#45;&gt;16 -->\n",
       "<g id=\"edge16\" class=\"edge\">\n",
       "<title>0&#45;&gt;16</title>\n",
       "<path fill=\"none\" stroke=\"black\" d=\"M1066.19,-460.58C1086.7,-450.78 1108.74,-440.26 1129.68,-430.26\"/>\n",
       "<polygon fill=\"black\" stroke=\"black\" points=\"1130.98,-433.52 1138.49,-426.05 1127.96,-427.2 1130.98,-433.52\"/>\n",
       "<text text-anchor=\"middle\" x=\"1131.53\" y=\"-445.27\" font-family=\"Helvetica,sans-Serif\" font-size=\"14.00\">False</text>\n",
       "</g>\n",
       "<!-- 2 -->\n",
       "<g id=\"node3\" class=\"node\">\n",
       "<title>2</title>\n",
       "<path fill=\"#e68742\" stroke=\"black\" d=\"M468.5,-306C468.5,-306 362.5,-306 362.5,-306 356.5,-306 350.5,-300 350.5,-294 350.5,-294 350.5,-235 350.5,-235 350.5,-229 356.5,-223 362.5,-223 362.5,-223 468.5,-223 468.5,-223 474.5,-223 480.5,-229 480.5,-235 480.5,-235 480.5,-294 480.5,-294 480.5,-300 474.5,-306 468.5,-306\"/>\n",
       "<text text-anchor=\"start\" x=\"358.5\" y=\"-290.8\" font-family=\"Helvetica,sans-Serif\" font-size=\"14.00\">Genre_adult ≤ 0.5</text>\n",
       "<text text-anchor=\"start\" x=\"378\" y=\"-275.8\" font-family=\"Helvetica,sans-Serif\" font-size=\"14.00\">gini = 0.082</text>\n",
       "<text text-anchor=\"start\" x=\"368\" y=\"-260.8\" font-family=\"Helvetica,sans-Serif\" font-size=\"14.00\">samples = 678</text>\n",
       "<text text-anchor=\"start\" x=\"362.5\" y=\"-245.8\" font-family=\"Helvetica,sans-Serif\" font-size=\"14.00\">value = [649, 29]</text>\n",
       "<text text-anchor=\"start\" x=\"383\" y=\"-230.8\" font-family=\"Helvetica,sans-Serif\" font-size=\"14.00\">class = no</text>\n",
       "</g>\n",
       "<!-- 1&#45;&gt;2 -->\n",
       "<g id=\"edge2\" class=\"edge\">\n",
       "<title>1&#45;&gt;2</title>\n",
       "<path fill=\"none\" stroke=\"black\" d=\"M680.23,-351.3C621.1,-332.13 546.41,-307.93 491.46,-290.12\"/>\n",
       "<polygon fill=\"black\" stroke=\"black\" points=\"492.77,-286.86 482.18,-287.11 490.61,-293.52 492.77,-286.86\"/>\n",
       "</g>\n",
       "<!-- 9 -->\n",
       "<g id=\"node10\" class=\"node\">\n",
       "<title>9</title>\n",
       "<path fill=\"#efb285\" stroke=\"black\" d=\"M868,-306C868,-306 685,-306 685,-306 679,-306 673,-300 673,-294 673,-294 673,-235 673,-235 673,-229 679,-223 685,-223 685,-223 868,-223 868,-223 874,-223 880,-229 880,-235 880,-235 880,-294 880,-294 880,-300 874,-306 868,-306\"/>\n",
       "<text text-anchor=\"start\" x=\"681\" y=\"-290.8\" font-family=\"Helvetica,sans-Serif\" font-size=\"14.00\">New Music Director_Yes ≤ 0.5</text>\n",
       "<text text-anchor=\"start\" x=\"739\" y=\"-275.8\" font-family=\"Helvetica,sans-Serif\" font-size=\"14.00\">gini = 0.401</text>\n",
       "<text text-anchor=\"start\" x=\"729\" y=\"-260.8\" font-family=\"Helvetica,sans-Serif\" font-size=\"14.00\">samples = 223</text>\n",
       "<text text-anchor=\"start\" x=\"723.5\" y=\"-245.8\" font-family=\"Helvetica,sans-Serif\" font-size=\"14.00\">value = [161, 62]</text>\n",
       "<text text-anchor=\"start\" x=\"744\" y=\"-230.8\" font-family=\"Helvetica,sans-Serif\" font-size=\"14.00\">class = no</text>\n",
       "</g>\n",
       "<!-- 1&#45;&gt;9 -->\n",
       "<g id=\"edge9\" class=\"edge\">\n",
       "<title>1&#45;&gt;9</title>\n",
       "<path fill=\"none\" stroke=\"black\" d=\"M776.5,-341.58C776.5,-333.79 776.5,-325.53 776.5,-317.45\"/>\n",
       "<polygon fill=\"black\" stroke=\"black\" points=\"780,-317.71 776.5,-307.71 773,-317.71 780,-317.71\"/>\n",
       "</g>\n",
       "<!-- 3 -->\n",
       "<g id=\"node4\" class=\"node\">\n",
       "<title>3</title>\n",
       "<path fill=\"#e6853f\" stroke=\"black\" d=\"M271.5,-187C271.5,-187 103.5,-187 103.5,-187 97.5,-187 91.5,-181 91.5,-175 91.5,-175 91.5,-116 91.5,-116 91.5,-110 97.5,-104 103.5,-104 103.5,-104 271.5,-104 271.5,-104 277.5,-104 283.5,-110 283.5,-116 283.5,-116 283.5,-175 283.5,-175 283.5,-181 277.5,-187 271.5,-187\"/>\n",
       "<text text-anchor=\"start\" x=\"99.5\" y=\"-171.8\" font-family=\"Helvetica,sans-Serif\" font-size=\"14.00\">Number of Screens ≤ 112.5</text>\n",
       "<text text-anchor=\"start\" x=\"150\" y=\"-156.8\" font-family=\"Helvetica,sans-Serif\" font-size=\"14.00\">gini = 0.053</text>\n",
       "<text text-anchor=\"start\" x=\"140\" y=\"-141.8\" font-family=\"Helvetica,sans-Serif\" font-size=\"14.00\">samples = 619</text>\n",
       "<text text-anchor=\"start\" x=\"134.5\" y=\"-126.8\" font-family=\"Helvetica,sans-Serif\" font-size=\"14.00\">value = [602, 17]</text>\n",
       "<text text-anchor=\"start\" x=\"155\" y=\"-111.8\" font-family=\"Helvetica,sans-Serif\" font-size=\"14.00\">class = no</text>\n",
       "</g>\n",
       "<!-- 2&#45;&gt;3 -->\n",
       "<g id=\"edge3\" class=\"edge\">\n",
       "<title>2&#45;&gt;3</title>\n",
       "<path fill=\"none\" stroke=\"black\" d=\"M350.16,-229.97C327.38,-218.28 301.4,-204.95 277,-192.43\"/>\n",
       "<polygon fill=\"black\" stroke=\"black\" points=\"278.86,-189.45 268.36,-187.99 275.66,-195.67 278.86,-189.45\"/>\n",
       "</g>\n",
       "<!-- 6 -->\n",
       "<g id=\"node7\" class=\"node\">\n",
       "<title>6</title>\n",
       "<path fill=\"#eca16c\" stroke=\"black\" d=\"M487,-187C487,-187 344,-187 344,-187 338,-187 332,-181 332,-175 332,-175 332,-116 332,-116 332,-110 338,-104 344,-104 344,-104 487,-104 487,-104 493,-104 499,-110 499,-116 499,-116 499,-175 499,-175 499,-181 493,-187 487,-187\"/>\n",
       "<text text-anchor=\"start\" x=\"340\" y=\"-171.8\" font-family=\"Helvetica,sans-Serif\" font-size=\"14.00\">New Director_Yes ≤ 0.5</text>\n",
       "<text text-anchor=\"start\" x=\"378\" y=\"-156.8\" font-family=\"Helvetica,sans-Serif\" font-size=\"14.00\">gini = 0.324</text>\n",
       "<text text-anchor=\"start\" x=\"372\" y=\"-141.8\" font-family=\"Helvetica,sans-Serif\" font-size=\"14.00\">samples = 59</text>\n",
       "<text text-anchor=\"start\" x=\"367\" y=\"-126.8\" font-family=\"Helvetica,sans-Serif\" font-size=\"14.00\">value = [47, 12]</text>\n",
       "<text text-anchor=\"start\" x=\"383\" y=\"-111.8\" font-family=\"Helvetica,sans-Serif\" font-size=\"14.00\">class = no</text>\n",
       "</g>\n",
       "<!-- 2&#45;&gt;6 -->\n",
       "<g id=\"edge6\" class=\"edge\">\n",
       "<title>2&#45;&gt;6</title>\n",
       "<path fill=\"none\" stroke=\"black\" d=\"M415.5,-222.58C415.5,-214.79 415.5,-206.53 415.5,-198.45\"/>\n",
       "<polygon fill=\"black\" stroke=\"black\" points=\"419,-198.71 415.5,-188.71 412,-198.71 419,-198.71\"/>\n",
       "</g>\n",
       "<!-- 4 -->\n",
       "<g id=\"node5\" class=\"node\">\n",
       "<title>4</title>\n",
       "<path fill=\"#e5833c\" stroke=\"black\" d=\"M101,-68C101,-68 12,-68 12,-68 6,-68 0,-62 0,-56 0,-56 0,-12 0,-12 0,-6 6,0 12,0 12,0 101,0 101,0 107,0 113,-6 113,-12 113,-12 113,-56 113,-56 113,-62 107,-68 101,-68\"/>\n",
       "<text text-anchor=\"start\" x=\"19\" y=\"-52.8\" font-family=\"Helvetica,sans-Serif\" font-size=\"14.00\">gini = 0.027</text>\n",
       "<text text-anchor=\"start\" x=\"9\" y=\"-37.8\" font-family=\"Helvetica,sans-Serif\" font-size=\"14.00\">samples = 512</text>\n",
       "<text text-anchor=\"start\" x=\"8\" y=\"-22.8\" font-family=\"Helvetica,sans-Serif\" font-size=\"14.00\">value = [505, 7]</text>\n",
       "<text text-anchor=\"start\" x=\"24\" y=\"-7.8\" font-family=\"Helvetica,sans-Serif\" font-size=\"14.00\">class = no</text>\n",
       "</g>\n",
       "<!-- 3&#45;&gt;4 -->\n",
       "<g id=\"edge4\" class=\"edge\">\n",
       "<title>3&#45;&gt;4</title>\n",
       "<path fill=\"none\" stroke=\"black\" d=\"M138.72,-103.73C127.7,-94.51 116,-84.74 104.99,-75.53\"/>\n",
       "<polygon fill=\"black\" stroke=\"black\" points=\"107.42,-73 97.5,-69.27 102.93,-78.37 107.42,-73\"/>\n",
       "</g>\n",
       "<!-- 5 -->\n",
       "<g id=\"node6\" class=\"node\">\n",
       "<title>5</title>\n",
       "<path fill=\"#e88e4d\" stroke=\"black\" d=\"M232,-68C232,-68 143,-68 143,-68 137,-68 131,-62 131,-56 131,-56 131,-12 131,-12 131,-6 137,0 143,0 143,0 232,0 232,0 238,0 244,-6 244,-12 244,-12 244,-56 244,-56 244,-62 238,-68 232,-68\"/>\n",
       "<text text-anchor=\"start\" x=\"150\" y=\"-52.8\" font-family=\"Helvetica,sans-Serif\" font-size=\"14.00\">gini = 0.169</text>\n",
       "<text text-anchor=\"start\" x=\"140\" y=\"-37.8\" font-family=\"Helvetica,sans-Serif\" font-size=\"14.00\">samples = 107</text>\n",
       "<text text-anchor=\"start\" x=\"139\" y=\"-22.8\" font-family=\"Helvetica,sans-Serif\" font-size=\"14.00\">value = [97, 10]</text>\n",
       "<text text-anchor=\"start\" x=\"155\" y=\"-7.8\" font-family=\"Helvetica,sans-Serif\" font-size=\"14.00\">class = no</text>\n",
       "</g>\n",
       "<!-- 3&#45;&gt;5 -->\n",
       "<g id=\"edge5\" class=\"edge\">\n",
       "<title>3&#45;&gt;5</title>\n",
       "<path fill=\"none\" stroke=\"black\" d=\"M187.5,-103.73C187.5,-95.88 187.5,-87.63 187.5,-79.67\"/>\n",
       "<polygon fill=\"black\" stroke=\"black\" points=\"191,-79.81 187.5,-69.81 184,-79.81 191,-79.81\"/>\n",
       "</g>\n",
       "<!-- 7 -->\n",
       "<g id=\"node8\" class=\"node\">\n",
       "<title>7</title>\n",
       "<path fill=\"#efb287\" stroke=\"black\" d=\"M363,-68C363,-68 274,-68 274,-68 268,-68 262,-62 262,-56 262,-56 262,-12 262,-12 262,-6 268,0 274,0 274,0 363,0 363,0 369,0 375,-6 375,-12 375,-12 375,-56 375,-56 375,-62 369,-68 363,-68\"/>\n",
       "<text text-anchor=\"start\" x=\"281\" y=\"-52.8\" font-family=\"Helvetica,sans-Serif\" font-size=\"14.00\">gini = 0.405</text>\n",
       "<text text-anchor=\"start\" x=\"275\" y=\"-37.8\" font-family=\"Helvetica,sans-Serif\" font-size=\"14.00\">samples = 39</text>\n",
       "<text text-anchor=\"start\" x=\"270\" y=\"-22.8\" font-family=\"Helvetica,sans-Serif\" font-size=\"14.00\">value = [28, 11]</text>\n",
       "<text text-anchor=\"start\" x=\"286\" y=\"-7.8\" font-family=\"Helvetica,sans-Serif\" font-size=\"14.00\">class = no</text>\n",
       "</g>\n",
       "<!-- 6&#45;&gt;7 -->\n",
       "<g id=\"edge7\" class=\"edge\">\n",
       "<title>6&#45;&gt;7</title>\n",
       "<path fill=\"none\" stroke=\"black\" d=\"M379.38,-103.73C371.62,-94.97 363.42,-85.7 355.62,-76.91\"/>\n",
       "<polygon fill=\"black\" stroke=\"black\" points=\"358.25,-74.6 349,-69.43 353.01,-79.24 358.25,-74.6\"/>\n",
       "</g>\n",
       "<!-- 8 -->\n",
       "<g id=\"node9\" class=\"node\">\n",
       "<title>8</title>\n",
       "<path fill=\"#e68843\" stroke=\"black\" d=\"M486,-68C486,-68 405,-68 405,-68 399,-68 393,-62 393,-56 393,-56 393,-12 393,-12 393,-6 399,0 405,0 405,0 486,0 486,0 492,0 498,-6 498,-12 498,-12 498,-56 498,-56 498,-62 492,-68 486,-68\"/>\n",
       "<text text-anchor=\"start\" x=\"408\" y=\"-52.8\" font-family=\"Helvetica,sans-Serif\" font-size=\"14.00\">gini = 0.095</text>\n",
       "<text text-anchor=\"start\" x=\"402\" y=\"-37.8\" font-family=\"Helvetica,sans-Serif\" font-size=\"14.00\">samples = 20</text>\n",
       "<text text-anchor=\"start\" x=\"401\" y=\"-22.8\" font-family=\"Helvetica,sans-Serif\" font-size=\"14.00\">value = [19, 1]</text>\n",
       "<text text-anchor=\"start\" x=\"413\" y=\"-7.8\" font-family=\"Helvetica,sans-Serif\" font-size=\"14.00\">class = no</text>\n",
       "</g>\n",
       "<!-- 6&#45;&gt;8 -->\n",
       "<g id=\"edge8\" class=\"edge\">\n",
       "<title>6&#45;&gt;8</title>\n",
       "<path fill=\"none\" stroke=\"black\" d=\"M426.67,-103.73C428.84,-95.79 431.13,-87.44 433.34,-79.39\"/>\n",
       "<polygon fill=\"black\" stroke=\"black\" points=\"436.71,-80.33 435.98,-69.76 429.96,-78.48 436.71,-80.33\"/>\n",
       "</g>\n",
       "<!-- 10 -->\n",
       "<g id=\"node11\" class=\"node\">\n",
       "<title>10</title>\n",
       "<path fill=\"#f1bd97\" stroke=\"black\" d=\"M743.5,-187C743.5,-187 617.5,-187 617.5,-187 611.5,-187 605.5,-181 605.5,-175 605.5,-175 605.5,-116 605.5,-116 605.5,-110 611.5,-104 617.5,-104 617.5,-104 743.5,-104 743.5,-104 749.5,-104 755.5,-110 755.5,-116 755.5,-116 755.5,-175 755.5,-175 755.5,-181 749.5,-187 743.5,-187\"/>\n",
       "<text text-anchor=\"start\" x=\"613.5\" y=\"-171.8\" font-family=\"Helvetica,sans-Serif\" font-size=\"14.00\">New Actor_Yes ≤ 0.5</text>\n",
       "<text text-anchor=\"start\" x=\"643\" y=\"-156.8\" font-family=\"Helvetica,sans-Serif\" font-size=\"14.00\">gini = 0.436</text>\n",
       "<text text-anchor=\"start\" x=\"633\" y=\"-141.8\" font-family=\"Helvetica,sans-Serif\" font-size=\"14.00\">samples = 171</text>\n",
       "<text text-anchor=\"start\" x=\"627.5\" y=\"-126.8\" font-family=\"Helvetica,sans-Serif\" font-size=\"14.00\">value = [116, 55]</text>\n",
       "<text text-anchor=\"start\" x=\"648\" y=\"-111.8\" font-family=\"Helvetica,sans-Serif\" font-size=\"14.00\">class = no</text>\n",
       "</g>\n",
       "<!-- 9&#45;&gt;10 -->\n",
       "<g id=\"edge10\" class=\"edge\">\n",
       "<title>9&#45;&gt;10</title>\n",
       "<path fill=\"none\" stroke=\"black\" d=\"M742.92,-222.58C735.87,-213.98 728.35,-204.82 721.07,-195.95\"/>\n",
       "<polygon fill=\"black\" stroke=\"black\" points=\"723.9,-193.88 714.86,-188.37 718.49,-198.32 723.9,-193.88\"/>\n",
       "</g>\n",
       "<!-- 13 -->\n",
       "<g id=\"node14\" class=\"node\">\n",
       "<title>13</title>\n",
       "<path fill=\"#e99558\" stroke=\"black\" d=\"M959,-187C959,-187 786,-187 786,-187 780,-187 774,-181 774,-175 774,-175 774,-116 774,-116 774,-110 780,-104 786,-104 786,-104 959,-104 959,-104 965,-104 971,-110 971,-116 971,-116 971,-175 971,-175 971,-181 965,-187 959,-187\"/>\n",
       "<text text-anchor=\"start\" x=\"782\" y=\"-171.8\" font-family=\"Helvetica,sans-Serif\" font-size=\"14.00\">Budget(INR) ≤ 115000000.0</text>\n",
       "<text text-anchor=\"start\" x=\"835\" y=\"-156.8\" font-family=\"Helvetica,sans-Serif\" font-size=\"14.00\">gini = 0.233</text>\n",
       "<text text-anchor=\"start\" x=\"829\" y=\"-141.8\" font-family=\"Helvetica,sans-Serif\" font-size=\"14.00\">samples = 52</text>\n",
       "<text text-anchor=\"start\" x=\"828\" y=\"-126.8\" font-family=\"Helvetica,sans-Serif\" font-size=\"14.00\">value = [45, 7]</text>\n",
       "<text text-anchor=\"start\" x=\"840\" y=\"-111.8\" font-family=\"Helvetica,sans-Serif\" font-size=\"14.00\">class = no</text>\n",
       "</g>\n",
       "<!-- 9&#45;&gt;13 -->\n",
       "<g id=\"edge13\" class=\"edge\">\n",
       "<title>9&#45;&gt;13</title>\n",
       "<path fill=\"none\" stroke=\"black\" d=\"M810.08,-222.58C817.13,-213.98 824.65,-204.82 831.93,-195.95\"/>\n",
       "<polygon fill=\"black\" stroke=\"black\" points=\"834.51,-198.32 838.14,-188.37 829.1,-193.88 834.51,-198.32\"/>\n",
       "</g>\n",
       "<!-- 11 -->\n",
       "<g id=\"node12\" class=\"node\">\n",
       "<title>11</title>\n",
       "<path fill=\"#f3c4a2\" stroke=\"black\" d=\"M617,-68C617,-68 528,-68 528,-68 522,-68 516,-62 516,-56 516,-56 516,-12 516,-12 516,-6 522,0 528,0 528,0 617,0 617,0 623,0 629,-6 629,-12 629,-12 629,-56 629,-56 629,-62 623,-68 617,-68\"/>\n",
       "<text text-anchor=\"start\" x=\"535\" y=\"-52.8\" font-family=\"Helvetica,sans-Serif\" font-size=\"14.00\">gini = 0.453</text>\n",
       "<text text-anchor=\"start\" x=\"525\" y=\"-37.8\" font-family=\"Helvetica,sans-Serif\" font-size=\"14.00\">samples = 144</text>\n",
       "<text text-anchor=\"start\" x=\"524\" y=\"-22.8\" font-family=\"Helvetica,sans-Serif\" font-size=\"14.00\">value = [94, 50]</text>\n",
       "<text text-anchor=\"start\" x=\"540\" y=\"-7.8\" font-family=\"Helvetica,sans-Serif\" font-size=\"14.00\">class = no</text>\n",
       "</g>\n",
       "<!-- 10&#45;&gt;11 -->\n",
       "<g id=\"edge11\" class=\"edge\">\n",
       "<title>10&#45;&gt;11</title>\n",
       "<path fill=\"none\" stroke=\"black\" d=\"M640.28,-103.73C631.47,-94.79 622.13,-85.32 613.29,-76.36\"/>\n",
       "<polygon fill=\"black\" stroke=\"black\" points=\"615.92,-74.04 606.41,-69.38 610.94,-78.95 615.92,-74.04\"/>\n",
       "</g>\n",
       "<!-- 12 -->\n",
       "<g id=\"node13\" class=\"node\">\n",
       "<title>12</title>\n",
       "<path fill=\"#eb9e66\" stroke=\"black\" d=\"M740,-68C740,-68 659,-68 659,-68 653,-68 647,-62 647,-56 647,-56 647,-12 647,-12 647,-6 653,0 659,0 659,0 740,0 740,0 746,0 752,-6 752,-12 752,-12 752,-56 752,-56 752,-62 746,-68 740,-68\"/>\n",
       "<text text-anchor=\"start\" x=\"662\" y=\"-52.8\" font-family=\"Helvetica,sans-Serif\" font-size=\"14.00\">gini = 0.302</text>\n",
       "<text text-anchor=\"start\" x=\"656\" y=\"-37.8\" font-family=\"Helvetica,sans-Serif\" font-size=\"14.00\">samples = 27</text>\n",
       "<text text-anchor=\"start\" x=\"655\" y=\"-22.8\" font-family=\"Helvetica,sans-Serif\" font-size=\"14.00\">value = [22, 5]</text>\n",
       "<text text-anchor=\"start\" x=\"667\" y=\"-7.8\" font-family=\"Helvetica,sans-Serif\" font-size=\"14.00\">class = no</text>\n",
       "</g>\n",
       "<!-- 10&#45;&gt;12 -->\n",
       "<g id=\"edge12\" class=\"edge\">\n",
       "<title>10&#45;&gt;12</title>\n",
       "<path fill=\"none\" stroke=\"black\" d=\"M687.57,-103.73C688.95,-95.79 690.4,-87.44 691.8,-79.39\"/>\n",
       "<polygon fill=\"black\" stroke=\"black\" points=\"695.2,-80.24 693.46,-69.79 688.31,-79.05 695.2,-80.24\"/>\n",
       "</g>\n",
       "<!-- 14 -->\n",
       "<g id=\"node15\" class=\"node\">\n",
       "<title>14</title>\n",
       "<path fill=\"#e78a47\" stroke=\"black\" d=\"M863,-68C863,-68 782,-68 782,-68 776,-68 770,-62 770,-56 770,-56 770,-12 770,-12 770,-6 776,0 782,0 782,0 863,0 863,0 869,0 875,-6 875,-12 875,-12 875,-56 875,-56 875,-62 869,-68 863,-68\"/>\n",
       "<text text-anchor=\"start\" x=\"785\" y=\"-52.8\" font-family=\"Helvetica,sans-Serif\" font-size=\"14.00\">gini = 0.122</text>\n",
       "<text text-anchor=\"start\" x=\"779\" y=\"-37.8\" font-family=\"Helvetica,sans-Serif\" font-size=\"14.00\">samples = 46</text>\n",
       "<text text-anchor=\"start\" x=\"778\" y=\"-22.8\" font-family=\"Helvetica,sans-Serif\" font-size=\"14.00\">value = [43, 3]</text>\n",
       "<text text-anchor=\"start\" x=\"790\" y=\"-7.8\" font-family=\"Helvetica,sans-Serif\" font-size=\"14.00\">class = no</text>\n",
       "</g>\n",
       "<!-- 13&#45;&gt;14 -->\n",
       "<g id=\"edge14\" class=\"edge\">\n",
       "<title>13&#45;&gt;14</title>\n",
       "<path fill=\"none\" stroke=\"black\" d=\"M853.88,-103.73C850.13,-95.52 846.18,-86.86 842.39,-78.56\"/>\n",
       "<polygon fill=\"black\" stroke=\"black\" points=\"845.67,-77.32 838.33,-69.68 839.3,-80.23 845.67,-77.32\"/>\n",
       "</g>\n",
       "<!-- 15 -->\n",
       "<g id=\"node16\" class=\"node\">\n",
       "<title>15</title>\n",
       "<path fill=\"#9ccef2\" stroke=\"black\" d=\"M978,-68C978,-68 905,-68 905,-68 899,-68 893,-62 893,-56 893,-56 893,-12 893,-12 893,-6 899,0 905,0 905,0 978,0 978,0 984,0 990,-6 990,-12 990,-12 990,-56 990,-56 990,-62 984,-68 978,-68\"/>\n",
       "<text text-anchor=\"start\" x=\"904\" y=\"-52.8\" font-family=\"Helvetica,sans-Serif\" font-size=\"14.00\">gini = 0.444</text>\n",
       "<text text-anchor=\"start\" x=\"902\" y=\"-37.8\" font-family=\"Helvetica,sans-Serif\" font-size=\"14.00\">samples = 6</text>\n",
       "<text text-anchor=\"start\" x=\"901\" y=\"-22.8\" font-family=\"Helvetica,sans-Serif\" font-size=\"14.00\">value = [2, 4]</text>\n",
       "<text text-anchor=\"start\" x=\"905.5\" y=\"-7.8\" font-family=\"Helvetica,sans-Serif\" font-size=\"14.00\">class = yes</text>\n",
       "</g>\n",
       "<!-- 13&#45;&gt;15 -->\n",
       "<g id=\"edge15\" class=\"edge\">\n",
       "<title>13&#45;&gt;15</title>\n",
       "<path fill=\"none\" stroke=\"black\" d=\"M898.19,-103.73C903.48,-95.34 909.06,-86.47 914.4,-78.01\"/>\n",
       "<polygon fill=\"black\" stroke=\"black\" points=\"917.34,-79.91 919.71,-69.58 911.42,-76.17 917.34,-79.91\"/>\n",
       "</g>\n",
       "<!-- 17 -->\n",
       "<g id=\"node18\" class=\"node\">\n",
       "<title>17</title>\n",
       "<path fill=\"#d6ebfa\" stroke=\"black\" d=\"M1312,-306C1312,-306 1139,-306 1139,-306 1133,-306 1127,-300 1127,-294 1127,-294 1127,-235 1127,-235 1127,-229 1133,-223 1139,-223 1139,-223 1312,-223 1312,-223 1318,-223 1324,-229 1324,-235 1324,-235 1324,-294 1324,-294 1324,-300 1318,-306 1312,-306\"/>\n",
       "<text text-anchor=\"start\" x=\"1135\" y=\"-290.8\" font-family=\"Helvetica,sans-Serif\" font-size=\"14.00\">Budget(INR) ≤ 185000000.0</text>\n",
       "<text text-anchor=\"start\" x=\"1188\" y=\"-275.8\" font-family=\"Helvetica,sans-Serif\" font-size=\"14.00\">gini = 0.493</text>\n",
       "<text text-anchor=\"start\" x=\"1178\" y=\"-260.8\" font-family=\"Helvetica,sans-Serif\" font-size=\"14.00\">samples = 380</text>\n",
       "<text text-anchor=\"start\" x=\"1168.5\" y=\"-245.8\" font-family=\"Helvetica,sans-Serif\" font-size=\"14.00\">value = [168, 212]</text>\n",
       "<text text-anchor=\"start\" x=\"1189.5\" y=\"-230.8\" font-family=\"Helvetica,sans-Serif\" font-size=\"14.00\">class = yes</text>\n",
       "</g>\n",
       "<!-- 16&#45;&gt;17 -->\n",
       "<g id=\"edge17\" class=\"edge\">\n",
       "<title>16&#45;&gt;17</title>\n",
       "<path fill=\"none\" stroke=\"black\" d=\"M1225.5,-341.58C1225.5,-333.79 1225.5,-325.53 1225.5,-317.45\"/>\n",
       "<polygon fill=\"black\" stroke=\"black\" points=\"1229,-317.71 1225.5,-307.71 1222,-317.71 1229,-317.71\"/>\n",
       "</g>\n",
       "<!-- 24 -->\n",
       "<g id=\"node25\" class=\"node\">\n",
       "<title>24</title>\n",
       "<path fill=\"#47a4e7\" stroke=\"black\" d=\"M1643,-306C1643,-306 1522,-306 1522,-306 1516,-306 1510,-300 1510,-294 1510,-294 1510,-235 1510,-235 1510,-229 1516,-223 1522,-223 1522,-223 1643,-223 1643,-223 1649,-223 1655,-229 1655,-235 1655,-235 1655,-294 1655,-294 1655,-300 1649,-306 1643,-306\"/>\n",
       "<text text-anchor=\"start\" x=\"1518\" y=\"-290.8\" font-family=\"Helvetica,sans-Serif\" font-size=\"14.00\">Genre_masala ≤ 0.5</text>\n",
       "<text text-anchor=\"start\" x=\"1545\" y=\"-275.8\" font-family=\"Helvetica,sans-Serif\" font-size=\"14.00\">gini = 0.121</text>\n",
       "<text text-anchor=\"start\" x=\"1539\" y=\"-260.8\" font-family=\"Helvetica,sans-Serif\" font-size=\"14.00\">samples = 77</text>\n",
       "<text text-anchor=\"start\" x=\"1538\" y=\"-245.8\" font-family=\"Helvetica,sans-Serif\" font-size=\"14.00\">value = [5, 72]</text>\n",
       "<text text-anchor=\"start\" x=\"1546.5\" y=\"-230.8\" font-family=\"Helvetica,sans-Serif\" font-size=\"14.00\">class = yes</text>\n",
       "</g>\n",
       "<!-- 16&#45;&gt;24 -->\n",
       "<g id=\"edge24\" class=\"edge\">\n",
       "<title>16&#45;&gt;24</title>\n",
       "<path fill=\"none\" stroke=\"black\" d=\"M1325.89,-349.6C1380.48,-331.71 1447.2,-309.84 1498.93,-292.89\"/>\n",
       "<polygon fill=\"black\" stroke=\"black\" points=\"1499.88,-296.26 1508.29,-289.82 1497.7,-289.61 1499.88,-296.26\"/>\n",
       "</g>\n",
       "<!-- 18 -->\n",
       "<g id=\"node19\" class=\"node\">\n",
       "<title>18</title>\n",
       "<path fill=\"#f7d7c1\" stroke=\"black\" d=\"M1205.5,-187C1205.5,-187 1029.5,-187 1029.5,-187 1023.5,-187 1017.5,-181 1017.5,-175 1017.5,-175 1017.5,-116 1017.5,-116 1017.5,-110 1023.5,-104 1029.5,-104 1029.5,-104 1205.5,-104 1205.5,-104 1211.5,-104 1217.5,-110 1217.5,-116 1217.5,-116 1217.5,-175 1217.5,-175 1217.5,-181 1211.5,-187 1205.5,-187\"/>\n",
       "<text text-anchor=\"start\" x=\"1025.5\" y=\"-171.8\" font-family=\"Helvetica,sans-Serif\" font-size=\"14.00\">Number of Screens ≤ 1250.0</text>\n",
       "<text text-anchor=\"start\" x=\"1080\" y=\"-156.8\" font-family=\"Helvetica,sans-Serif\" font-size=\"14.00\">gini = 0.483</text>\n",
       "<text text-anchor=\"start\" x=\"1070\" y=\"-141.8\" font-family=\"Helvetica,sans-Serif\" font-size=\"14.00\">samples = 118</text>\n",
       "<text text-anchor=\"start\" x=\"1069\" y=\"-126.8\" font-family=\"Helvetica,sans-Serif\" font-size=\"14.00\">value = [70, 48]</text>\n",
       "<text text-anchor=\"start\" x=\"1085\" y=\"-111.8\" font-family=\"Helvetica,sans-Serif\" font-size=\"14.00\">class = no</text>\n",
       "</g>\n",
       "<!-- 17&#45;&gt;18 -->\n",
       "<g id=\"edge18\" class=\"edge\">\n",
       "<title>17&#45;&gt;18</title>\n",
       "<path fill=\"none\" stroke=\"black\" d=\"M1187.73,-222.58C1179.62,-213.8 1170.98,-204.44 1162.63,-195.39\"/>\n",
       "<polygon fill=\"black\" stroke=\"black\" points=\"1165.45,-193.29 1156.1,-188.31 1160.31,-198.03 1165.45,-193.29\"/>\n",
       "</g>\n",
       "<!-- 21 -->\n",
       "<g id=\"node22\" class=\"node\">\n",
       "<title>21</title>\n",
       "<path fill=\"#afd8f5\" stroke=\"black\" d=\"M1421,-187C1421,-187 1248,-187 1248,-187 1242,-187 1236,-181 1236,-175 1236,-175 1236,-116 1236,-116 1236,-110 1242,-104 1248,-104 1248,-104 1421,-104 1421,-104 1427,-104 1433,-110 1433,-116 1433,-116 1433,-175 1433,-175 1433,-181 1427,-187 1421,-187\"/>\n",
       "<text text-anchor=\"start\" x=\"1244\" y=\"-171.8\" font-family=\"Helvetica,sans-Serif\" font-size=\"14.00\">Budget(INR) ≤ 615000000.0</text>\n",
       "<text text-anchor=\"start\" x=\"1297\" y=\"-156.8\" font-family=\"Helvetica,sans-Serif\" font-size=\"14.00\">gini = 0.468</text>\n",
       "<text text-anchor=\"start\" x=\"1287\" y=\"-141.8\" font-family=\"Helvetica,sans-Serif\" font-size=\"14.00\">samples = 262</text>\n",
       "<text text-anchor=\"start\" x=\"1281.5\" y=\"-126.8\" font-family=\"Helvetica,sans-Serif\" font-size=\"14.00\">value = [98, 164]</text>\n",
       "<text text-anchor=\"start\" x=\"1298.5\" y=\"-111.8\" font-family=\"Helvetica,sans-Serif\" font-size=\"14.00\">class = yes</text>\n",
       "</g>\n",
       "<!-- 17&#45;&gt;21 -->\n",
       "<g id=\"edge21\" class=\"edge\">\n",
       "<title>17&#45;&gt;21</title>\n",
       "<path fill=\"none\" stroke=\"black\" d=\"M1263.62,-222.58C1271.8,-213.8 1280.52,-204.44 1288.95,-195.39\"/>\n",
       "<polygon fill=\"black\" stroke=\"black\" points=\"1291.3,-198.01 1295.55,-188.31 1286.17,-193.24 1291.3,-198.01\"/>\n",
       "</g>\n",
       "<!-- 19 -->\n",
       "<g id=\"node20\" class=\"node\">\n",
       "<title>19</title>\n",
       "<path fill=\"#f5cdb0\" stroke=\"black\" d=\"M1109,-68C1109,-68 1020,-68 1020,-68 1014,-68 1008,-62 1008,-56 1008,-56 1008,-12 1008,-12 1008,-6 1014,0 1020,0 1020,0 1109,0 1109,0 1115,0 1121,-6 1121,-12 1121,-12 1121,-56 1121,-56 1121,-62 1115,-68 1109,-68\"/>\n",
       "<text text-anchor=\"start\" x=\"1027\" y=\"-52.8\" font-family=\"Helvetica,sans-Serif\" font-size=\"14.00\">gini = 0.469</text>\n",
       "<text text-anchor=\"start\" x=\"1017\" y=\"-37.8\" font-family=\"Helvetica,sans-Serif\" font-size=\"14.00\">samples = 109</text>\n",
       "<text text-anchor=\"start\" x=\"1016\" y=\"-22.8\" font-family=\"Helvetica,sans-Serif\" font-size=\"14.00\">value = [68, 41]</text>\n",
       "<text text-anchor=\"start\" x=\"1032\" y=\"-7.8\" font-family=\"Helvetica,sans-Serif\" font-size=\"14.00\">class = no</text>\n",
       "</g>\n",
       "<!-- 18&#45;&gt;19 -->\n",
       "<g id=\"edge19\" class=\"edge\">\n",
       "<title>18&#45;&gt;19</title>\n",
       "<path fill=\"none\" stroke=\"black\" d=\"M1097.76,-103.73C1093.79,-95.52 1089.6,-86.86 1085.58,-78.56\"/>\n",
       "<polygon fill=\"black\" stroke=\"black\" points=\"1088.78,-77.14 1081.28,-69.66 1082.48,-80.19 1088.78,-77.14\"/>\n",
       "</g>\n",
       "<!-- 20 -->\n",
       "<g id=\"node21\" class=\"node\">\n",
       "<title>20</title>\n",
       "<path fill=\"#72b9ec\" stroke=\"black\" d=\"M1224,-68C1224,-68 1151,-68 1151,-68 1145,-68 1139,-62 1139,-56 1139,-56 1139,-12 1139,-12 1139,-6 1145,0 1151,0 1151,0 1224,0 1224,0 1230,0 1236,-6 1236,-12 1236,-12 1236,-56 1236,-56 1236,-62 1230,-68 1224,-68\"/>\n",
       "<text text-anchor=\"start\" x=\"1150\" y=\"-52.8\" font-family=\"Helvetica,sans-Serif\" font-size=\"14.00\">gini = 0.346</text>\n",
       "<text text-anchor=\"start\" x=\"1148\" y=\"-37.8\" font-family=\"Helvetica,sans-Serif\" font-size=\"14.00\">samples = 9</text>\n",
       "<text text-anchor=\"start\" x=\"1147\" y=\"-22.8\" font-family=\"Helvetica,sans-Serif\" font-size=\"14.00\">value = [2, 7]</text>\n",
       "<text text-anchor=\"start\" x=\"1151.5\" y=\"-7.8\" font-family=\"Helvetica,sans-Serif\" font-size=\"14.00\">class = yes</text>\n",
       "</g>\n",
       "<!-- 18&#45;&gt;20 -->\n",
       "<g id=\"edge20\" class=\"edge\">\n",
       "<title>18&#45;&gt;20</title>\n",
       "<path fill=\"none\" stroke=\"black\" d=\"M1143.57,-103.73C1148.99,-95.24 1154.72,-86.28 1160.18,-77.73\"/>\n",
       "<polygon fill=\"black\" stroke=\"black\" points=\"1162.96,-79.89 1165.4,-69.57 1157.06,-76.12 1162.96,-79.89\"/>\n",
       "</g>\n",
       "<!-- 22 -->\n",
       "<g id=\"node23\" class=\"node\">\n",
       "<title>22</title>\n",
       "<path fill=\"#a6d3f3\" stroke=\"black\" d=\"M1364.5,-68C1364.5,-68 1266.5,-68 1266.5,-68 1260.5,-68 1254.5,-62 1254.5,-56 1254.5,-56 1254.5,-12 1254.5,-12 1254.5,-6 1260.5,0 1266.5,0 1266.5,0 1364.5,0 1364.5,0 1370.5,0 1376.5,-6 1376.5,-12 1376.5,-12 1376.5,-56 1376.5,-56 1376.5,-62 1370.5,-68 1364.5,-68\"/>\n",
       "<text text-anchor=\"start\" x=\"1278\" y=\"-52.8\" font-family=\"Helvetica,sans-Serif\" font-size=\"14.00\">gini = 0.458</text>\n",
       "<text text-anchor=\"start\" x=\"1268\" y=\"-37.8\" font-family=\"Helvetica,sans-Serif\" font-size=\"14.00\">samples = 248</text>\n",
       "<text text-anchor=\"start\" x=\"1262.5\" y=\"-22.8\" font-family=\"Helvetica,sans-Serif\" font-size=\"14.00\">value = [88, 160]</text>\n",
       "<text text-anchor=\"start\" x=\"1279.5\" y=\"-7.8\" font-family=\"Helvetica,sans-Serif\" font-size=\"14.00\">class = yes</text>\n",
       "</g>\n",
       "<!-- 21&#45;&gt;22 -->\n",
       "<g id=\"edge22\" class=\"edge\">\n",
       "<title>21&#45;&gt;22</title>\n",
       "<path fill=\"none\" stroke=\"black\" d=\"M1327.43,-103.73C1326.05,-95.79 1324.6,-87.44 1323.2,-79.39\"/>\n",
       "<polygon fill=\"black\" stroke=\"black\" points=\"1326.69,-79.05 1321.54,-69.79 1319.8,-80.24 1326.69,-79.05\"/>\n",
       "</g>\n",
       "<!-- 23 -->\n",
       "<g id=\"node24\" class=\"node\">\n",
       "<title>23</title>\n",
       "<path fill=\"#efb388\" stroke=\"black\" d=\"M1488,-68C1488,-68 1407,-68 1407,-68 1401,-68 1395,-62 1395,-56 1395,-56 1395,-12 1395,-12 1395,-6 1401,0 1407,0 1407,0 1488,0 1488,0 1494,0 1500,-6 1500,-12 1500,-12 1500,-56 1500,-56 1500,-62 1494,-68 1488,-68\"/>\n",
       "<text text-anchor=\"start\" x=\"1410\" y=\"-52.8\" font-family=\"Helvetica,sans-Serif\" font-size=\"14.00\">gini = 0.408</text>\n",
       "<text text-anchor=\"start\" x=\"1404\" y=\"-37.8\" font-family=\"Helvetica,sans-Serif\" font-size=\"14.00\">samples = 14</text>\n",
       "<text text-anchor=\"start\" x=\"1403\" y=\"-22.8\" font-family=\"Helvetica,sans-Serif\" font-size=\"14.00\">value = [10, 4]</text>\n",
       "<text text-anchor=\"start\" x=\"1415\" y=\"-7.8\" font-family=\"Helvetica,sans-Serif\" font-size=\"14.00\">class = no</text>\n",
       "</g>\n",
       "<!-- 21&#45;&gt;23 -->\n",
       "<g id=\"edge23\" class=\"edge\">\n",
       "<title>21&#45;&gt;23</title>\n",
       "<path fill=\"none\" stroke=\"black\" d=\"M1376.58,-103.73C1385.9,-94.7 1395.77,-85.12 1405.11,-76.08\"/>\n",
       "<polygon fill=\"black\" stroke=\"black\" points=\"1407.3,-78.83 1412.05,-69.35 1402.43,-73.8 1407.3,-78.83\"/>\n",
       "</g>\n",
       "<!-- 25 -->\n",
       "<g id=\"node26\" class=\"node\">\n",
       "<title>25</title>\n",
       "<path fill=\"#42a2e6\" stroke=\"black\" d=\"M1670.5,-187C1670.5,-187 1494.5,-187 1494.5,-187 1488.5,-187 1482.5,-181 1482.5,-175 1482.5,-175 1482.5,-116 1482.5,-116 1482.5,-110 1488.5,-104 1494.5,-104 1494.5,-104 1670.5,-104 1670.5,-104 1676.5,-104 1682.5,-110 1682.5,-116 1682.5,-116 1682.5,-175 1682.5,-175 1682.5,-181 1676.5,-187 1670.5,-187\"/>\n",
       "<text text-anchor=\"start\" x=\"1490.5\" y=\"-171.8\" font-family=\"Helvetica,sans-Serif\" font-size=\"14.00\">Number of Screens ≤ 2325.0</text>\n",
       "<text text-anchor=\"start\" x=\"1545\" y=\"-156.8\" font-family=\"Helvetica,sans-Serif\" font-size=\"14.00\">gini = 0.086</text>\n",
       "<text text-anchor=\"start\" x=\"1539\" y=\"-141.8\" font-family=\"Helvetica,sans-Serif\" font-size=\"14.00\">samples = 67</text>\n",
       "<text text-anchor=\"start\" x=\"1538\" y=\"-126.8\" font-family=\"Helvetica,sans-Serif\" font-size=\"14.00\">value = [3, 64]</text>\n",
       "<text text-anchor=\"start\" x=\"1546.5\" y=\"-111.8\" font-family=\"Helvetica,sans-Serif\" font-size=\"14.00\">class = yes</text>\n",
       "</g>\n",
       "<!-- 24&#45;&gt;25 -->\n",
       "<g id=\"edge25\" class=\"edge\">\n",
       "<title>24&#45;&gt;25</title>\n",
       "<path fill=\"none\" stroke=\"black\" d=\"M1582.5,-222.58C1582.5,-214.79 1582.5,-206.53 1582.5,-198.45\"/>\n",
       "<polygon fill=\"black\" stroke=\"black\" points=\"1586,-198.71 1582.5,-188.71 1579,-198.71 1586,-198.71\"/>\n",
       "</g>\n",
       "<!-- 28 -->\n",
       "<g id=\"node29\" class=\"node\">\n",
       "<title>28</title>\n",
       "<path fill=\"#6ab6ec\" stroke=\"black\" d=\"M1899,-187C1899,-187 1726,-187 1726,-187 1720,-187 1714,-181 1714,-175 1714,-175 1714,-116 1714,-116 1714,-110 1720,-104 1726,-104 1726,-104 1899,-104 1899,-104 1905,-104 1911,-110 1911,-116 1911,-116 1911,-175 1911,-175 1911,-181 1905,-187 1899,-187\"/>\n",
       "<text text-anchor=\"start\" x=\"1722\" y=\"-171.8\" font-family=\"Helvetica,sans-Serif\" font-size=\"14.00\">Budget(INR) ≤ 795000000.0</text>\n",
       "<text text-anchor=\"start\" x=\"1779\" y=\"-156.8\" font-family=\"Helvetica,sans-Serif\" font-size=\"14.00\">gini = 0.32</text>\n",
       "<text text-anchor=\"start\" x=\"1769\" y=\"-141.8\" font-family=\"Helvetica,sans-Serif\" font-size=\"14.00\">samples = 10</text>\n",
       "<text text-anchor=\"start\" x=\"1772\" y=\"-126.8\" font-family=\"Helvetica,sans-Serif\" font-size=\"14.00\">value = [2, 8]</text>\n",
       "<text text-anchor=\"start\" x=\"1776.5\" y=\"-111.8\" font-family=\"Helvetica,sans-Serif\" font-size=\"14.00\">class = yes</text>\n",
       "</g>\n",
       "<!-- 24&#45;&gt;28 -->\n",
       "<g id=\"edge28\" class=\"edge\">\n",
       "<title>24&#45;&gt;28</title>\n",
       "<path fill=\"none\" stroke=\"black\" d=\"M1655.27,-226.48C1676.5,-215.68 1699.96,-203.75 1722.13,-192.47\"/>\n",
       "<polygon fill=\"black\" stroke=\"black\" points=\"1723.54,-195.68 1730.87,-188.03 1720.37,-189.44 1723.54,-195.68\"/>\n",
       "</g>\n",
       "<!-- 26 -->\n",
       "<g id=\"node27\" class=\"node\">\n",
       "<title>26</title>\n",
       "<path fill=\"#57ace9\" stroke=\"black\" d=\"M1611,-68C1611,-68 1530,-68 1530,-68 1524,-68 1518,-62 1518,-56 1518,-56 1518,-12 1518,-12 1518,-6 1524,0 1530,0 1530,0 1611,0 1611,0 1617,0 1623,-6 1623,-12 1623,-12 1623,-56 1623,-56 1623,-62 1617,-68 1611,-68\"/>\n",
       "<text text-anchor=\"start\" x=\"1533\" y=\"-52.8\" font-family=\"Helvetica,sans-Serif\" font-size=\"14.00\">gini = 0.231</text>\n",
       "<text text-anchor=\"start\" x=\"1527\" y=\"-37.8\" font-family=\"Helvetica,sans-Serif\" font-size=\"14.00\">samples = 15</text>\n",
       "<text text-anchor=\"start\" x=\"1526\" y=\"-22.8\" font-family=\"Helvetica,sans-Serif\" font-size=\"14.00\">value = [2, 13]</text>\n",
       "<text text-anchor=\"start\" x=\"1534.5\" y=\"-7.8\" font-family=\"Helvetica,sans-Serif\" font-size=\"14.00\">class = yes</text>\n",
       "</g>\n",
       "<!-- 25&#45;&gt;26 -->\n",
       "<g id=\"edge26\" class=\"edge\">\n",
       "<title>25&#45;&gt;26</title>\n",
       "<path fill=\"none\" stroke=\"black\" d=\"M1578.03,-103.73C1577.17,-95.88 1576.27,-87.63 1575.4,-79.67\"/>\n",
       "<polygon fill=\"black\" stroke=\"black\" points=\"1578.88,-79.36 1574.31,-69.8 1571.92,-80.13 1578.88,-79.36\"/>\n",
       "</g>\n",
       "<!-- 27 -->\n",
       "<g id=\"node28\" class=\"node\">\n",
       "<title>27</title>\n",
       "<path fill=\"#3d9fe6\" stroke=\"black\" d=\"M1734,-68C1734,-68 1653,-68 1653,-68 1647,-68 1641,-62 1641,-56 1641,-56 1641,-12 1641,-12 1641,-6 1647,0 1653,0 1653,0 1734,0 1734,0 1740,0 1746,-6 1746,-12 1746,-12 1746,-56 1746,-56 1746,-62 1740,-68 1734,-68\"/>\n",
       "<text text-anchor=\"start\" x=\"1656\" y=\"-52.8\" font-family=\"Helvetica,sans-Serif\" font-size=\"14.00\">gini = 0.038</text>\n",
       "<text text-anchor=\"start\" x=\"1650\" y=\"-37.8\" font-family=\"Helvetica,sans-Serif\" font-size=\"14.00\">samples = 52</text>\n",
       "<text text-anchor=\"start\" x=\"1649\" y=\"-22.8\" font-family=\"Helvetica,sans-Serif\" font-size=\"14.00\">value = [1, 51]</text>\n",
       "<text text-anchor=\"start\" x=\"1657.5\" y=\"-7.8\" font-family=\"Helvetica,sans-Serif\" font-size=\"14.00\">class = yes</text>\n",
       "</g>\n",
       "<!-- 25&#45;&gt;27 -->\n",
       "<g id=\"edge27\" class=\"edge\">\n",
       "<title>25&#45;&gt;27</title>\n",
       "<path fill=\"none\" stroke=\"black\" d=\"M1623.83,-103.73C1632.89,-94.79 1642.49,-85.32 1651.58,-76.36\"/>\n",
       "<polygon fill=\"black\" stroke=\"black\" points=\"1654.01,-78.88 1658.67,-69.36 1649.09,-73.89 1654.01,-78.88\"/>\n",
       "</g>\n",
       "<!-- 29 -->\n",
       "<g id=\"node30\" class=\"node\">\n",
       "<title>29</title>\n",
       "<path fill=\"#bddef6\" stroke=\"black\" d=\"M1849,-68C1849,-68 1776,-68 1776,-68 1770,-68 1764,-62 1764,-56 1764,-56 1764,-12 1764,-12 1764,-6 1770,0 1776,0 1776,0 1849,0 1849,0 1855,0 1861,-6 1861,-12 1861,-12 1861,-56 1861,-56 1861,-62 1855,-68 1849,-68\"/>\n",
       "<text text-anchor=\"start\" x=\"1779\" y=\"-52.8\" font-family=\"Helvetica,sans-Serif\" font-size=\"14.00\">gini = 0.48</text>\n",
       "<text text-anchor=\"start\" x=\"1773\" y=\"-37.8\" font-family=\"Helvetica,sans-Serif\" font-size=\"14.00\">samples = 5</text>\n",
       "<text text-anchor=\"start\" x=\"1772\" y=\"-22.8\" font-family=\"Helvetica,sans-Serif\" font-size=\"14.00\">value = [2, 3]</text>\n",
       "<text text-anchor=\"start\" x=\"1776.5\" y=\"-7.8\" font-family=\"Helvetica,sans-Serif\" font-size=\"14.00\">class = yes</text>\n",
       "</g>\n",
       "<!-- 28&#45;&gt;29 -->\n",
       "<g id=\"edge29\" class=\"edge\">\n",
       "<title>28&#45;&gt;29</title>\n",
       "<path fill=\"none\" stroke=\"black\" d=\"M1812.5,-103.73C1812.5,-95.88 1812.5,-87.63 1812.5,-79.67\"/>\n",
       "<polygon fill=\"black\" stroke=\"black\" points=\"1816,-79.81 1812.5,-69.81 1809,-79.81 1816,-79.81\"/>\n",
       "</g>\n",
       "<!-- 30 -->\n",
       "<g id=\"node31\" class=\"node\">\n",
       "<title>30</title>\n",
       "<path fill=\"#399de5\" stroke=\"black\" d=\"M1964,-68C1964,-68 1891,-68 1891,-68 1885,-68 1879,-62 1879,-56 1879,-56 1879,-12 1879,-12 1879,-6 1885,0 1891,0 1891,0 1964,0 1964,0 1970,0 1976,-6 1976,-12 1976,-12 1976,-56 1976,-56 1976,-62 1970,-68 1964,-68\"/>\n",
       "<text text-anchor=\"start\" x=\"1898.5\" y=\"-52.8\" font-family=\"Helvetica,sans-Serif\" font-size=\"14.00\">gini = 0.0</text>\n",
       "<text text-anchor=\"start\" x=\"1888\" y=\"-37.8\" font-family=\"Helvetica,sans-Serif\" font-size=\"14.00\">samples = 5</text>\n",
       "<text text-anchor=\"start\" x=\"1887\" y=\"-22.8\" font-family=\"Helvetica,sans-Serif\" font-size=\"14.00\">value = [0, 5]</text>\n",
       "<text text-anchor=\"start\" x=\"1891.5\" y=\"-7.8\" font-family=\"Helvetica,sans-Serif\" font-size=\"14.00\">class = yes</text>\n",
       "</g>\n",
       "<!-- 28&#45;&gt;30 -->\n",
       "<g id=\"edge30\" class=\"edge\">\n",
       "<title>28&#45;&gt;30</title>\n",
       "<path fill=\"none\" stroke=\"black\" d=\"M1855.32,-103.73C1864.8,-94.7 1874.86,-85.12 1884.35,-76.08\"/>\n",
       "<polygon fill=\"black\" stroke=\"black\" points=\"1886.6,-78.77 1891.43,-69.34 1881.78,-73.7 1886.6,-78.77\"/>\n",
       "</g>\n",
       "</g>\n",
       "</svg>\n"
      ],
      "text/plain": [
       "<graphviz.sources.Source at 0x1f97c29f1f0>"
      ]
     },
     "execution_count": 36,
     "metadata": {},
     "output_type": "execute_result"
    }
   ],
   "source": [
    "import graphviz\n",
    "dot_data = export_graphviz(best_clf, out_file=None, feature_names=X.columns,\n",
    "                           class_names=['no','yes'], filled=True, rounded=True,\n",
    "                           special_characters=True)\n",
    "graph = graphviz.Source(dot_data)\n",
    "graph"
   ]
  },
  {
   "cell_type": "markdown",
   "metadata": {},
   "source": [
    "## NB Classifier 🤓"
   ]
  },
  {
   "cell_type": "markdown",
   "metadata": {},
   "source": [
    "### Have to follow steps from 1 to 5 of Decision Tree Classifier. After that..."
   ]
  },
  {
   "cell_type": "code",
   "execution_count": 37,
   "metadata": {},
   "outputs": [],
   "source": [
    "from sklearn.naive_bayes import GaussianNB, MultinomialNB, BernoulliNB\n",
    "from sklearn.model_selection import cross_val_score"
   ]
  },
  {
   "cell_type": "markdown",
   "metadata": {},
   "source": [
    "### 6 Fitting Model"
   ]
  },
  {
   "cell_type": "code",
   "execution_count": 38,
   "metadata": {},
   "outputs": [
    {
     "data": {
      "text/plain": [
       "0.0"
      ]
     },
     "execution_count": 38,
     "metadata": {},
     "output_type": "execute_result"
    }
   ],
   "source": [
    "X_nb = X.copy()\n",
    "X_nb.describe().loc['min'].min()"
   ]
  },
  {
   "cell_type": "markdown",
   "metadata": {},
   "source": [
    "Dataset has no negetive value. No need to Normalize."
   ]
  },
  {
   "cell_type": "code",
   "execution_count": 39,
   "metadata": {},
   "outputs": [
    {
     "data": {
      "text/html": [
       "<div><div id=f57e6810-2289-43ed-8bfe-efef96285f9a style=\"display:none; background-color:#9D6CFF; color:white; width:200px; height:30px; padding-left:5px; border-radius:4px; flex-direction:row; justify-content:space-around; align-items:center;\" onmouseover=\"this.style.backgroundColor='#BA9BF8'\" onmouseout=\"this.style.backgroundColor='#9D6CFF'\" onclick=\"window.commands?.execute('create-mitosheet-from-dataframe-output');\">See Full Dataframe in Mito</div> <script> if (window.commands?.hasCommand('create-mitosheet-from-dataframe-output')) document.getElementById('f57e6810-2289-43ed-8bfe-efef96285f9a').style.display = 'flex' </script> <table border=\"1\" class=\"dataframe\">\n",
       "  <thead>\n",
       "    <tr style=\"text-align: right;\">\n",
       "      <th></th>\n",
       "      <th>Number of Screens</th>\n",
       "      <th>Budget(INR)</th>\n",
       "      <th>Release Period_Normal</th>\n",
       "      <th>Whether Remake_Yes</th>\n",
       "      <th>Whether Franchise_Yes</th>\n",
       "      <th>Genre_adult</th>\n",
       "      <th>Genre_animation</th>\n",
       "      <th>Genre_comedy</th>\n",
       "      <th>Genre_documentary</th>\n",
       "      <th>Genre_drama</th>\n",
       "      <th>...</th>\n",
       "      <th>Genre_horror</th>\n",
       "      <th>Genre_love_story</th>\n",
       "      <th>Genre_masala</th>\n",
       "      <th>Genre_mythological</th>\n",
       "      <th>Genre_rom__com</th>\n",
       "      <th>Genre_suspense</th>\n",
       "      <th>Genre_thriller</th>\n",
       "      <th>New Actor_Yes</th>\n",
       "      <th>New Director_Yes</th>\n",
       "      <th>New Music Director_Yes</th>\n",
       "    </tr>\n",
       "  </thead>\n",
       "  <tbody>\n",
       "    <tr>\n",
       "      <th>0</th>\n",
       "      <td>5</td>\n",
       "      <td>5000000</td>\n",
       "      <td>1</td>\n",
       "      <td>0</td>\n",
       "      <td>0</td>\n",
       "      <td>0</td>\n",
       "      <td>0</td>\n",
       "      <td>0</td>\n",
       "      <td>0</td>\n",
       "      <td>0</td>\n",
       "      <td>...</td>\n",
       "      <td>0</td>\n",
       "      <td>0</td>\n",
       "      <td>0</td>\n",
       "      <td>0</td>\n",
       "      <td>0</td>\n",
       "      <td>1</td>\n",
       "      <td>0</td>\n",
       "      <td>1</td>\n",
       "      <td>0</td>\n",
       "      <td>0</td>\n",
       "    </tr>\n",
       "    <tr>\n",
       "      <th>1</th>\n",
       "      <td>75</td>\n",
       "      <td>15000000</td>\n",
       "      <td>0</td>\n",
       "      <td>0</td>\n",
       "      <td>0</td>\n",
       "      <td>0</td>\n",
       "      <td>0</td>\n",
       "      <td>0</td>\n",
       "      <td>0</td>\n",
       "      <td>1</td>\n",
       "      <td>...</td>\n",
       "      <td>0</td>\n",
       "      <td>0</td>\n",
       "      <td>0</td>\n",
       "      <td>0</td>\n",
       "      <td>0</td>\n",
       "      <td>0</td>\n",
       "      <td>0</td>\n",
       "      <td>1</td>\n",
       "      <td>0</td>\n",
       "      <td>1</td>\n",
       "    </tr>\n",
       "    <tr>\n",
       "      <th>2</th>\n",
       "      <td>525</td>\n",
       "      <td>75000000</td>\n",
       "      <td>0</td>\n",
       "      <td>0</td>\n",
       "      <td>0</td>\n",
       "      <td>0</td>\n",
       "      <td>0</td>\n",
       "      <td>0</td>\n",
       "      <td>0</td>\n",
       "      <td>0</td>\n",
       "      <td>...</td>\n",
       "      <td>0</td>\n",
       "      <td>0</td>\n",
       "      <td>0</td>\n",
       "      <td>0</td>\n",
       "      <td>0</td>\n",
       "      <td>0</td>\n",
       "      <td>1</td>\n",
       "      <td>0</td>\n",
       "      <td>0</td>\n",
       "      <td>0</td>\n",
       "    </tr>\n",
       "    <tr>\n",
       "      <th>3</th>\n",
       "      <td>800</td>\n",
       "      <td>210000000</td>\n",
       "      <td>0</td>\n",
       "      <td>0</td>\n",
       "      <td>0</td>\n",
       "      <td>0</td>\n",
       "      <td>0</td>\n",
       "      <td>0</td>\n",
       "      <td>0</td>\n",
       "      <td>1</td>\n",
       "      <td>...</td>\n",
       "      <td>0</td>\n",
       "      <td>0</td>\n",
       "      <td>0</td>\n",
       "      <td>0</td>\n",
       "      <td>0</td>\n",
       "      <td>0</td>\n",
       "      <td>0</td>\n",
       "      <td>1</td>\n",
       "      <td>0</td>\n",
       "      <td>0</td>\n",
       "    </tr>\n",
       "    <tr>\n",
       "      <th>4</th>\n",
       "      <td>1</td>\n",
       "      <td>1000000</td>\n",
       "      <td>0</td>\n",
       "      <td>0</td>\n",
       "      <td>0</td>\n",
       "      <td>1</td>\n",
       "      <td>0</td>\n",
       "      <td>0</td>\n",
       "      <td>0</td>\n",
       "      <td>0</td>\n",
       "      <td>...</td>\n",
       "      <td>0</td>\n",
       "      <td>0</td>\n",
       "      <td>0</td>\n",
       "      <td>0</td>\n",
       "      <td>0</td>\n",
       "      <td>0</td>\n",
       "      <td>0</td>\n",
       "      <td>1</td>\n",
       "      <td>1</td>\n",
       "      <td>1</td>\n",
       "    </tr>\n",
       "  </tbody>\n",
       "</table></div>"
      ],
      "text/plain": [
       "   Number of Screens  Budget(INR)  Release Period_Normal  Whether Remake_Yes  \\\n",
       "0                  5      5000000                      1                   0   \n",
       "1                 75     15000000                      0                   0   \n",
       "2                525     75000000                      0                   0   \n",
       "3                800    210000000                      0                   0   \n",
       "4                  1      1000000                      0                   0   \n",
       "\n",
       "   Whether Franchise_Yes  Genre_adult  Genre_animation  Genre_comedy  \\\n",
       "0                      0            0                0             0   \n",
       "1                      0            0                0             0   \n",
       "2                      0            0                0             0   \n",
       "3                      0            0                0             0   \n",
       "4                      0            1                0             0   \n",
       "\n",
       "   Genre_documentary  Genre_drama  ...  Genre_horror  Genre_love_story  \\\n",
       "0                  0            0  ...             0                 0   \n",
       "1                  0            1  ...             0                 0   \n",
       "2                  0            0  ...             0                 0   \n",
       "3                  0            1  ...             0                 0   \n",
       "4                  0            0  ...             0                 0   \n",
       "\n",
       "   Genre_masala  Genre_mythological  Genre_rom__com  Genre_suspense  \\\n",
       "0             0                   0               0               1   \n",
       "1             0                   0               0               0   \n",
       "2             0                   0               0               0   \n",
       "3             0                   0               0               0   \n",
       "4             0                   0               0               0   \n",
       "\n",
       "   Genre_thriller  New Actor_Yes  New Director_Yes  New Music Director_Yes  \n",
       "0               0              1                 0                       0  \n",
       "1               0              1                 0                       1  \n",
       "2               1              0                 0                       0  \n",
       "3               0              1                 0                       0  \n",
       "4               0              1                 1                       1  \n",
       "\n",
       "[5 rows x 21 columns]"
      ]
     },
     "execution_count": 39,
     "metadata": {},
     "output_type": "execute_result"
    }
   ],
   "source": [
    "X_nb.head()"
   ]
  },
  {
   "cell_type": "markdown",
   "metadata": {},
   "source": [
    "#### 6.1 Dividing Dataset into Train and Test sets"
   ]
  },
  {
   "cell_type": "code",
   "execution_count": 40,
   "metadata": {},
   "outputs": [],
   "source": [
    "X_train, X_test, y_train, y_test = train_test_split(X_nb, y, test_size=0.2,stratify=y, random_state=42)"
   ]
  },
  {
   "cell_type": "code",
   "execution_count": 41,
   "metadata": {},
   "outputs": [
    {
     "name": "stdout",
     "output_type": "stream",
     "text": [
      "train\n",
      " 0    0.723859\n",
      "1    0.276141\n",
      "Name: hit, dtype: float64 \n",
      "\n",
      "test\n",
      " 0    0.723529\n",
      "1    0.276471\n",
      "Name: hit, dtype: float64\n"
     ]
    }
   ],
   "source": [
    "print('train\\n',y_train.value_counts(normalize=True),'\\n\\ntest\\n',y_test.value_counts(normalize=True))"
   ]
  },
  {
   "attachments": {},
   "cell_type": "markdown",
   "metadata": {},
   "source": [
    "#### 6.2 Model building"
   ]
  },
  {
   "cell_type": "markdown",
   "metadata": {},
   "source": [
    "##### NB Classifier Models"
   ]
  },
  {
   "cell_type": "code",
   "execution_count": 42,
   "metadata": {},
   "outputs": [],
   "source": [
    "nb_models = {'gnb':GaussianNB(),\n",
    "            'mnb':MultinomialNB(),\n",
    "            'bnb':BernoulliNB()}"
   ]
  },
  {
   "cell_type": "markdown",
   "metadata": {},
   "source": [
    "##### Performance metric ~ Weighted Recall"
   ]
  },
  {
   "cell_type": "code",
   "execution_count": 43,
   "metadata": {},
   "outputs": [],
   "source": [
    "weighted_recall = make_scorer(recall_score, average='weighted')"
   ]
  },
  {
   "cell_type": "code",
   "execution_count": 44,
   "metadata": {},
   "outputs": [
    {
     "data": {
      "image/png": "[encoded data removed]",
      "text/plain": [
       "<Figure size 640x480 with 2 Axes>"
      ]
     },
     "metadata": {},
     "output_type": "display_data"
    },
    {
     "data": {
      "image/png": "[encoded data removed]",
      "text/plain": [
       "<Figure size 640x480 with 2 Axes>"
      ]
     },
     "metadata": {},
     "output_type": "display_data"
    },
    {
     "data": {
      "image/png": "[encoded data removed]",
      "text/plain": [
       "<Figure size 640x480 with 2 Axes>"
      ]
     },
     "metadata": {},
     "output_type": "display_data"
    }
   ],
   "source": [
    "for model in nb_models:\n",
    "    # average of all performance metrics calculated from each fold\n",
    "    nb_mean_train_score = cross_val_score(estimator=nb_models[model],X=X_train,y=y_train,cv=5, scoring=weighted_recall).mean()\n",
    "\n",
    "    fit_model, time_to_train, model_size = model_measure(nb_models[model],X_train, y_train)\n",
    "\n",
    "    # calculate predicted values\n",
    "    y_pred = fit_model.predict(X_test)\n",
    "    \n",
    "    nb_test_score, nb_test_acc, nb_test_prec, nb_test_roc, conf_mat = eval_metrics(y_test, y_pred)\n",
    "\n",
    "    model_scores.loc[model] = [nb_mean_train_score, nb_test_score, nb_test_acc, nb_test_prec, nb_test_roc, time_to_train, model_size]\n",
    "\n",
    "    # create the confusion matrix display\n",
    "    cmd = ConfusionMatrixDisplay(conf_mat, display_labels=['no', 'yes'])\n",
    "\n",
    "    # plot the confusion matrix\n",
    "    cmd.plot(cmap=plt.cm.Blues)\n",
    "\n",
    "    # add a title and axis labels\n",
    "    plt.title(f'Confusion matrix of {model}')\n",
    "    plt.xlabel('Predicted label')\n",
    "    plt.ylabel('True label')\n",
    "\n",
    "    # show the plot\n",
    "    plt.show()"
   ]
  },
  {
   "cell_type": "markdown",
   "metadata": {},
   "source": [
    "##### Compare Performance b/w DTClassifier & NBClassifier models"
   ]
  },
  {
   "cell_type": "code",
   "execution_count": 45,
   "metadata": {},
   "outputs": [
    {
     "data": {
      "text/html": [
       "<div><div id=830135d4-3647-4e23-be86-b2f254b90d18 style=\"display:none; background-color:#9D6CFF; color:white; width:200px; height:30px; padding-left:5px; border-radius:4px; flex-direction:row; justify-content:space-around; align-items:center;\" onmouseover=\"this.style.backgroundColor='#BA9BF8'\" onmouseout=\"this.style.backgroundColor='#9D6CFF'\" onclick=\"window.commands?.execute('create-mitosheet-from-dataframe-output');\">See Full Dataframe in Mito</div> <script> if (window.commands?.hasCommand('create-mitosheet-from-dataframe-output')) document.getElementById('830135d4-3647-4e23-be86-b2f254b90d18').style.display = 'flex' </script> <table border=\"1\" class=\"dataframe\">\n",
       "  <thead>\n",
       "    <tr style=\"text-align: right;\">\n",
       "      <th></th>\n",
       "      <th>train_whtd_rcl</th>\n",
       "      <th>test_whtd_rcl</th>\n",
       "      <th>test_acc</th>\n",
       "      <th>test_prec</th>\n",
       "      <th>test_roc</th>\n",
       "      <th>time_to_train(ns)</th>\n",
       "      <th>model_size(KB)</th>\n",
       "    </tr>\n",
       "  </thead>\n",
       "  <tbody>\n",
       "    <tr>\n",
       "      <th>DTclf</th>\n",
       "      <td>0.818125</td>\n",
       "      <td>0.805882</td>\n",
       "      <td>0.805882</td>\n",
       "      <td>0.705882</td>\n",
       "      <td>0.714669</td>\n",
       "      <td>5325000.0</td>\n",
       "      <td>3.639648</td>\n",
       "    </tr>\n",
       "    <tr>\n",
       "      <th>gnb</th>\n",
       "      <td>0.784241</td>\n",
       "      <td>0.785294</td>\n",
       "      <td>0.785294</td>\n",
       "      <td>0.818182</td>\n",
       "      <td>0.631422</td>\n",
       "      <td>3338600.0</td>\n",
       "      <td>1.682617</td>\n",
       "    </tr>\n",
       "    <tr>\n",
       "      <th>mnb</th>\n",
       "      <td>0.749677</td>\n",
       "      <td>0.758824</td>\n",
       "      <td>0.758824</td>\n",
       "      <td>0.571429</td>\n",
       "      <td>0.682148</td>\n",
       "      <td>2518300.0</td>\n",
       "      <td>1.700195</td>\n",
       "    </tr>\n",
       "    <tr>\n",
       "      <th>bnb</th>\n",
       "      <td>0.722374</td>\n",
       "      <td>0.761765</td>\n",
       "      <td>0.761765</td>\n",
       "      <td>0.614035</td>\n",
       "      <td>0.641455</td>\n",
       "      <td>1960200.0</td>\n",
       "      <td>1.717773</td>\n",
       "    </tr>\n",
       "  </tbody>\n",
       "</table></div>"
      ],
      "text/plain": [
       "       train_whtd_rcl  test_whtd_rcl  test_acc  test_prec  test_roc  \\\n",
       "DTclf        0.818125       0.805882  0.805882   0.705882  0.714669   \n",
       "gnb          0.784241       0.785294  0.785294   0.818182  0.631422   \n",
       "mnb          0.749677       0.758824  0.758824   0.571429  0.682148   \n",
       "bnb          0.722374       0.761765  0.761765   0.614035  0.641455   \n",
       "\n",
       "       time_to_train(ns)  model_size(KB)  \n",
       "DTclf          5325000.0        3.639648  \n",
       "gnb            3338600.0        1.682617  \n",
       "mnb            2518300.0        1.700195  \n",
       "bnb            1960200.0        1.717773  "
      ]
     },
     "execution_count": 45,
     "metadata": {},
     "output_type": "execute_result"
    }
   ],
   "source": [
    "model_scores"
   ]
  }
 ],
 "metadata": {
  "kernelspec": {
   "display_name": "Python 3",
   "language": "python",
   "name": "python3"
  },
  "language_info": {
   "codemirror_mode": {
    "name": "ipython",
    "version": 3
   },
   "file_extension": ".py",
   "mimetype": "text/x-python",
   "name": "python",
   "nbconvert_exporter": "python",
   "pygments_lexer": "ipython3",
   "version": "3.10.4"
  },
  "orig_nbformat": 4,
  "vscode": {
   "interpreter": {
    "hash": "22a8ea357d453445cc82658ebbb40350f6423fa9803dd2d6bb589b92cbb3f7a5"
   }
  }
 },
 "nbformat": 4,
 "nbformat_minor": 2
}
