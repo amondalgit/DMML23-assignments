{
 "cells": [
  {
   "attachments": {},
   "cell_type": "markdown",
   "metadata": {},
   "source": [
    "# Problem Statement ❔"
   ]
  },
  {
   "cell_type": "markdown",
   "metadata": {},
   "source": [
    "The *Bank Marketing data Set* from the UCI Machine Learning Repository is related with direct marketing campaigns (phone calls) of a Portuguese banking institution.\n",
    "\n",
    "The classification goal is to predict if the client will subscribe a term deposit (variable y). You can find a description of the attributes at the [original UCI URL](https://archive.ics.uci.edu/ml/datasets/Bank+Marketing)\n",
    "\n",
    "The UCI page contains multiple versions of the data, so the version that you need to work with is here:\n",
    "\n",
    "- [Bank Marketing data](/data/bank-marketing-dataset.csv)\n",
    "\n",
    "\n",
    "Your task is to build two classifiers for this data set: a decision tree and a naïve Bayes classifier. Use a suitable evaluation metric to compare the performance of the three classifiers."
   ]
  },
  {
   "attachments": {},
   "cell_type": "markdown",
   "metadata": {},
   "source": [
    "# Solution ✅"
   ]
  },
  {
   "attachments": {},
   "cell_type": "markdown",
   "metadata": {},
   "source": [
    "## Decision Tree Classifier 🌲"
   ]
  },
  {
   "cell_type": "markdown",
   "metadata": {},
   "source": [
    "#### 1.1 Packages Import"
   ]
  },
  {
   "cell_type": "code",
   "execution_count": 1,
   "metadata": {},
   "outputs": [],
   "source": [
    "import os\n",
    "import numpy as np\n",
    "import pandas as pd\n",
    "import matplotlib.pyplot as plt\n",
    "import seaborn as sns\n",
    "import graphviz as gviz\n",
    "import missingno as msno\n",
    "\n",
    "from sklearn.preprocessing import OrdinalEncoder\n",
    "\n",
    "from sklearn.impute import SimpleImputer\n",
    "\n",
    "from sklearn.model_selection import train_test_split, GridSearchCV, cross_validate, cross_val_score\n",
    "from sklearn.tree import DecisionTreeClassifier, export_graphviz\n",
    "\n",
    "from sklearn.metrics import confusion_matrix, ConfusionMatrixDisplay\n",
    "from sklearn.metrics import accuracy_score, precision_score, recall_score, roc_auc_score, make_scorer\n",
    "\n",
    "from datetime import datetime\n",
    "import calendar\n",
    "\n",
    "from time import perf_counter_ns as perf\n",
    "import pickle\n",
    "\n",
    "from IPython.display import display\n",
    "import warnings\n",
    "warnings.filterwarnings('ignore')"
   ]
  },
  {
   "cell_type": "code",
   "execution_count": 2,
   "metadata": {},
   "outputs": [],
   "source": [
    "model_count = 0"
   ]
  },
  {
   "cell_type": "markdown",
   "metadata": {},
   "source": [
    "#### 1.2 Extract CSV data into pandas DataFrame"
   ]
  },
  {
   "cell_type": "code",
   "execution_count": 3,
   "metadata": {},
   "outputs": [],
   "source": [
    "df_original = pd.read_csv(\"./datasets/bank-marketing-dataset.csv\")"
   ]
  },
  {
   "cell_type": "markdown",
   "metadata": {},
   "source": [
    "### 2. Data Description"
   ]
  },
  {
   "cell_type": "markdown",
   "metadata": {},
   "source": [
    "#### 2.1 Top 5 records"
   ]
  },
  {
   "cell_type": "code",
   "execution_count": 4,
   "metadata": {},
   "outputs": [
    {
     "data": {
      "text/html": [
       "<div><div id=44732761-05d2-4754-8013-3781f38d01ac style=\"display:none; background-color:#9D6CFF; color:white; width:200px; height:30px; padding-left:5px; border-radius:4px; flex-direction:row; justify-content:space-around; align-items:center;\" onmouseover=\"this.style.backgroundColor='#BA9BF8'\" onmouseout=\"this.style.backgroundColor='#9D6CFF'\" onclick=\"window.commands?.execute('create-mitosheet-from-dataframe-output');\">See Full Dataframe in Mito</div> <script> if (window.commands?.hasCommand('create-mitosheet-from-dataframe-output')) document.getElementById('44732761-05d2-4754-8013-3781f38d01ac').style.display = 'flex' </script> <table border=\"1\" class=\"dataframe\">\n",
       "  <thead>\n",
       "    <tr style=\"text-align: right;\">\n",
       "      <th></th>\n",
       "      <th>age</th>\n",
       "      <th>job</th>\n",
       "      <th>marital</th>\n",
       "      <th>education</th>\n",
       "      <th>default</th>\n",
       "      <th>housing</th>\n",
       "      <th>loan</th>\n",
       "      <th>contact</th>\n",
       "      <th>month</th>\n",
       "      <th>day_of_week</th>\n",
       "      <th>...</th>\n",
       "      <th>campaign</th>\n",
       "      <th>pdays</th>\n",
       "      <th>previous</th>\n",
       "      <th>poutcome</th>\n",
       "      <th>emp.var.rate</th>\n",
       "      <th>cons.price.idx</th>\n",
       "      <th>cons.conf.idx</th>\n",
       "      <th>euribor3m</th>\n",
       "      <th>nr.employed</th>\n",
       "      <th>y</th>\n",
       "    </tr>\n",
       "  </thead>\n",
       "  <tbody>\n",
       "    <tr>\n",
       "      <th>0</th>\n",
       "      <td>43</td>\n",
       "      <td>self-employed</td>\n",
       "      <td>divorced</td>\n",
       "      <td>university.degree</td>\n",
       "      <td>no</td>\n",
       "      <td>no</td>\n",
       "      <td>no</td>\n",
       "      <td>cellular</td>\n",
       "      <td>aug</td>\n",
       "      <td>mon</td>\n",
       "      <td>...</td>\n",
       "      <td>1</td>\n",
       "      <td>999</td>\n",
       "      <td>1</td>\n",
       "      <td>failure</td>\n",
       "      <td>-2.9</td>\n",
       "      <td>92.201</td>\n",
       "      <td>-31.4</td>\n",
       "      <td>0.884</td>\n",
       "      <td>5076.2</td>\n",
       "      <td>no</td>\n",
       "    </tr>\n",
       "    <tr>\n",
       "      <th>1</th>\n",
       "      <td>74</td>\n",
       "      <td>retired</td>\n",
       "      <td>married</td>\n",
       "      <td>high.school</td>\n",
       "      <td>no</td>\n",
       "      <td>yes</td>\n",
       "      <td>no</td>\n",
       "      <td>cellular</td>\n",
       "      <td>aug</td>\n",
       "      <td>thu</td>\n",
       "      <td>...</td>\n",
       "      <td>1</td>\n",
       "      <td>999</td>\n",
       "      <td>1</td>\n",
       "      <td>failure</td>\n",
       "      <td>-2.9</td>\n",
       "      <td>92.201</td>\n",
       "      <td>-31.4</td>\n",
       "      <td>0.883</td>\n",
       "      <td>5076.2</td>\n",
       "      <td>yes</td>\n",
       "    </tr>\n",
       "    <tr>\n",
       "      <th>2</th>\n",
       "      <td>34</td>\n",
       "      <td>technician</td>\n",
       "      <td>single</td>\n",
       "      <td>professional.course</td>\n",
       "      <td>no</td>\n",
       "      <td>yes</td>\n",
       "      <td>no</td>\n",
       "      <td>cellular</td>\n",
       "      <td>aug</td>\n",
       "      <td>tue</td>\n",
       "      <td>...</td>\n",
       "      <td>2</td>\n",
       "      <td>12</td>\n",
       "      <td>1</td>\n",
       "      <td>success</td>\n",
       "      <td>-2.9</td>\n",
       "      <td>92.201</td>\n",
       "      <td>-31.4</td>\n",
       "      <td>0.883</td>\n",
       "      <td>5076.2</td>\n",
       "      <td>yes</td>\n",
       "    </tr>\n",
       "    <tr>\n",
       "      <th>3</th>\n",
       "      <td>50</td>\n",
       "      <td>blue-collar</td>\n",
       "      <td>married</td>\n",
       "      <td>unknown</td>\n",
       "      <td>no</td>\n",
       "      <td>yes</td>\n",
       "      <td>no</td>\n",
       "      <td>cellular</td>\n",
       "      <td>aug</td>\n",
       "      <td>tue</td>\n",
       "      <td>...</td>\n",
       "      <td>1</td>\n",
       "      <td>999</td>\n",
       "      <td>0</td>\n",
       "      <td>nonexistent</td>\n",
       "      <td>-2.9</td>\n",
       "      <td>92.201</td>\n",
       "      <td>-31.4</td>\n",
       "      <td>0.883</td>\n",
       "      <td>5076.2</td>\n",
       "      <td>no</td>\n",
       "    </tr>\n",
       "    <tr>\n",
       "      <th>4</th>\n",
       "      <td>27</td>\n",
       "      <td>admin.</td>\n",
       "      <td>single</td>\n",
       "      <td>university.degree</td>\n",
       "      <td>no</td>\n",
       "      <td>no</td>\n",
       "      <td>no</td>\n",
       "      <td>cellular</td>\n",
       "      <td>aug</td>\n",
       "      <td>wed</td>\n",
       "      <td>...</td>\n",
       "      <td>2</td>\n",
       "      <td>999</td>\n",
       "      <td>0</td>\n",
       "      <td>nonexistent</td>\n",
       "      <td>-2.9</td>\n",
       "      <td>92.201</td>\n",
       "      <td>-31.4</td>\n",
       "      <td>0.879</td>\n",
       "      <td>5076.2</td>\n",
       "      <td>yes</td>\n",
       "    </tr>\n",
       "  </tbody>\n",
       "</table></div>"
      ],
      "text/plain": [
       "   age            job   marital            education default housing loan  \\\n",
       "0   43  self-employed  divorced    university.degree      no      no   no   \n",
       "1   74        retired   married          high.school      no     yes   no   \n",
       "2   34     technician    single  professional.course      no     yes   no   \n",
       "3   50    blue-collar   married              unknown      no     yes   no   \n",
       "4   27         admin.    single    university.degree      no      no   no   \n",
       "\n",
       "    contact month day_of_week  ...  campaign  pdays  previous     poutcome  \\\n",
       "0  cellular   aug         mon  ...         1    999         1      failure   \n",
       "1  cellular   aug         thu  ...         1    999         1      failure   \n",
       "2  cellular   aug         tue  ...         2     12         1      success   \n",
       "3  cellular   aug         tue  ...         1    999         0  nonexistent   \n",
       "4  cellular   aug         wed  ...         2    999         0  nonexistent   \n",
       "\n",
       "  emp.var.rate  cons.price.idx  cons.conf.idx  euribor3m  nr.employed    y  \n",
       "0         -2.9          92.201          -31.4      0.884       5076.2   no  \n",
       "1         -2.9          92.201          -31.4      0.883       5076.2  yes  \n",
       "2         -2.9          92.201          -31.4      0.883       5076.2  yes  \n",
       "3         -2.9          92.201          -31.4      0.883       5076.2   no  \n",
       "4         -2.9          92.201          -31.4      0.879       5076.2  yes  \n",
       "\n",
       "[5 rows x 21 columns]"
      ]
     },
     "execution_count": 4,
     "metadata": {},
     "output_type": "execute_result"
    }
   ],
   "source": [
    "df_original.head()"
   ]
  },
  {
   "cell_type": "markdown",
   "metadata": {},
   "source": [
    "#### 2.2 Shape of the dataset"
   ]
  },
  {
   "cell_type": "code",
   "execution_count": 5,
   "metadata": {},
   "outputs": [
    {
     "name": "stdout",
     "output_type": "stream",
     "text": [
      "Count of (Records, Features) = (41188, 21)\n"
     ]
    }
   ],
   "source": [
    "print(f'Count of (Records, Features) = {df_original.shape}')"
   ]
  },
  {
   "cell_type": "markdown",
   "metadata": {},
   "source": [
    "#### 2.3 Datatype of features"
   ]
  },
  {
   "cell_type": "code",
   "execution_count": 6,
   "metadata": {},
   "outputs": [
    {
     "data": {
      "text/plain": [
       "age                 int64\n",
       "job                object\n",
       "marital            object\n",
       "education          object\n",
       "default            object\n",
       "housing            object\n",
       "loan               object\n",
       "contact            object\n",
       "month              object\n",
       "day_of_week        object\n",
       "duration            int64\n",
       "campaign            int64\n",
       "pdays               int64\n",
       "previous            int64\n",
       "poutcome           object\n",
       "emp.var.rate      float64\n",
       "cons.price.idx    float64\n",
       "cons.conf.idx     float64\n",
       "euribor3m         float64\n",
       "nr.employed       float64\n",
       "y                  object\n",
       "dtype: object"
      ]
     },
     "metadata": {},
     "output_type": "display_data"
    }
   ],
   "source": [
    "feature_description = df_original.dtypes\n",
    "display(feature_description)"
   ]
  },
  {
   "cell_type": "markdown",
   "metadata": {},
   "source": [
    "##### Seperate features based on the datatype"
   ]
  },
  {
   "cell_type": "code",
   "execution_count": 7,
   "metadata": {},
   "outputs": [
    {
     "name": "stdout",
     "output_type": "stream",
     "text": [
      "There are 11 Categorical, 5 Discrete Numerical and 5 Continuous Numerical features in the dataset.\n"
     ]
    }
   ],
   "source": [
    "categorical_features = feature_description[feature_description=='O'].index\n",
    "discrete_numerical_features = feature_description[feature_description=='int64'].index\n",
    "continuous_numerical_features = feature_description[feature_description=='float'].index\n",
    "\n",
    "print(f'There are {len(categorical_features)} Categorical, {len(discrete_numerical_features)} Discrete Numerical and {len(continuous_numerical_features)} Continuous Numerical features in the dataset.')"
   ]
  },
  {
   "cell_type": "markdown",
   "metadata": {},
   "source": [
    "### 3. Data Checks to perform\n",
    "\n",
    "- Check Duplicates\n",
    "- Check data types and unique values of each column\n",
    "- Check unique items in each Categorical feature\n",
    "- Check missing values\n",
    "- Check statistics of numerical variables of the dataset\n",
    "- Check collinearity among the Numerical variables"
   ]
  },
  {
   "cell_type": "markdown",
   "metadata": {},
   "source": [
    "#### 3.1 Check Duplicates"
   ]
  },
  {
   "cell_type": "code",
   "execution_count": 8,
   "metadata": {},
   "outputs": [
    {
     "data": {
      "text/plain": [
       "12"
      ]
     },
     "execution_count": 8,
     "metadata": {},
     "output_type": "execute_result"
    }
   ],
   "source": [
    "df_original.duplicated().sum()"
   ]
  },
  {
   "cell_type": "markdown",
   "metadata": {},
   "source": [
    "#### 3.2 Check data types and unique values of each column"
   ]
  },
  {
   "cell_type": "code",
   "execution_count": 9,
   "metadata": {},
   "outputs": [
    {
     "name": "stdout",
     "output_type": "stream",
     "text": [
      "               datatype  unique_value_count\n",
      "age               int64                  78\n",
      "job              object                  12\n",
      "marital          object                   4\n",
      "education        object                   8\n",
      "default          object                   3\n",
      "housing          object                   3\n",
      "loan             object                   3\n",
      "contact          object                   2\n",
      "month            object                  10\n",
      "day_of_week      object                   5\n",
      "duration          int64                1544\n",
      "campaign          int64                  42\n",
      "pdays             int64                  27\n",
      "previous          int64                   8\n",
      "poutcome         object                   3\n",
      "emp.var.rate    float64                  10\n",
      "cons.price.idx  float64                  26\n",
      "cons.conf.idx   float64                  26\n",
      "euribor3m       float64                 316\n",
      "nr.employed     float64                  11\n",
      "y                object                   2\n"
     ]
    }
   ],
   "source": [
    "feature_description = pd.DataFrame(pd.concat([df_original.dtypes, df_original.nunique()], axis=1).rename(columns={0:'datatype', 1:'unique_value_count'}))\n",
    "\n",
    "print(feature_description)"
   ]
  },
  {
   "cell_type": "markdown",
   "metadata": {},
   "source": [
    "#### 3.3 Check unique categories in each Categorical feature"
   ]
  },
  {
   "cell_type": "code",
   "execution_count": 10,
   "metadata": {},
   "outputs": [
    {
     "name": "stdout",
     "output_type": "stream",
     "text": [
      "Categories in JOB variable:\n",
      "['self-employed' 'retired' 'technician' 'blue-collar' 'admin.'\n",
      " 'management' 'housemaid' 'student' 'services' 'unemployed' 'entrepreneur'\n",
      " 'unknown']\n",
      "\n",
      "Categories in MARITAL variable:\n",
      "['divorced' 'married' 'single' 'unknown']\n",
      "\n",
      "Categories in EDUCATION variable:\n",
      "['university.degree' 'high.school' 'professional.course' 'unknown'\n",
      " 'basic.6y' 'basic.9y' 'basic.4y' 'illiterate']\n",
      "\n",
      "Categories in DEFAULT variable:\n",
      "['no' 'unknown' 'yes']\n",
      "\n",
      "Categories in HOUSING variable:\n",
      "['no' 'yes' 'unknown']\n",
      "\n",
      "Categories in LOAN variable:\n",
      "['no' 'yes' 'unknown']\n",
      "\n",
      "Categories in CONTACT variable:\n",
      "['cellular' 'telephone']\n",
      "\n",
      "Categories in MONTH variable:\n",
      "['aug' 'sep' 'oct' 'jul' 'nov' 'dec' 'mar' 'may' 'jun' 'apr']\n",
      "\n",
      "Categories in DAY_OF_WEEK variable:\n",
      "['mon' 'thu' 'tue' 'wed' 'fri']\n",
      "\n",
      "Categories in POUTCOME variable:\n",
      "['failure' 'success' 'nonexistent']\n",
      "\n",
      "Categories in Y variable:\n",
      "['no' 'yes']\n",
      "\n"
     ]
    }
   ],
   "source": [
    "for feature in categorical_features:\n",
    "    print(f'Categories in {feature.upper()} variable:\\n{df_original[feature].unique()}\\n')"
   ]
  },
  {
   "cell_type": "markdown",
   "metadata": {},
   "source": [
    "#### 3.2 Check Missing values"
   ]
  },
  {
   "cell_type": "code",
   "execution_count": 11,
   "metadata": {},
   "outputs": [
    {
     "data": {
      "text/plain": [
       "age               0\n",
       "job               0\n",
       "marital           0\n",
       "education         0\n",
       "default           0\n",
       "housing           0\n",
       "loan              0\n",
       "contact           0\n",
       "month             0\n",
       "day_of_week       0\n",
       "duration          0\n",
       "campaign          0\n",
       "pdays             0\n",
       "previous          0\n",
       "poutcome          0\n",
       "emp.var.rate      0\n",
       "cons.price.idx    0\n",
       "cons.conf.idx     0\n",
       "euribor3m         0\n",
       "nr.employed       0\n",
       "y                 0\n",
       "dtype: int64"
      ]
     },
     "execution_count": 11,
     "metadata": {},
     "output_type": "execute_result"
    }
   ],
   "source": [
    "df_original.isna().sum()"
   ]
  },
  {
   "attachments": {},
   "cell_type": "markdown",
   "metadata": {},
   "source": [
    "> As checked in **3.1**, some of the categorical features consists of the value `unknown`. Unless we claim it to be a seperate category, it can be seen as missing values. If so, our previous claim of this dataset not having any missing value proves to be wrong.\n",
    "> >\n",
    "> If we check the dataset in terms of standard `NaN` values, we could not find any missing values.\n",
    "> >\n",
    "> But if we search for string `unknown` and treat it as a missing value, we could find, it is distributed through multiple attributes in the following magnitude."
   ]
  },
  {
   "cell_type": "code",
   "execution_count": 12,
   "metadata": {},
   "outputs": [
    {
     "data": {
      "text/plain": [
       "age                  0\n",
       "job                330\n",
       "marital             80\n",
       "education         1731\n",
       "default           8597\n",
       "housing            990\n",
       "loan               990\n",
       "contact              0\n",
       "month                0\n",
       "day_of_week          0\n",
       "duration             0\n",
       "campaign             0\n",
       "pdays                0\n",
       "previous             0\n",
       "poutcome             0\n",
       "emp.var.rate         0\n",
       "cons.price.idx       0\n",
       "cons.conf.idx        0\n",
       "euribor3m            0\n",
       "nr.employed          0\n",
       "y                    0\n",
       "dtype: int64"
      ]
     },
     "execution_count": 12,
     "metadata": {},
     "output_type": "execute_result"
    }
   ],
   "source": [
    "# df_original = df_original.copy()\n",
    "df_original.replace('unknown', np.nan, inplace=True)\n",
    "\n",
    "# count of missing values/unknowns\n",
    "missing = df_original.isna().sum()\n",
    "missing"
   ]
  },
  {
   "cell_type": "code",
   "execution_count": 13,
   "metadata": {},
   "outputs": [
    {
     "name": "stdout",
     "output_type": "stream",
     "text": [
      "               datatype  unique_value_count  percent_missing\n",
      "age               int64                  78              0.0\n",
      "job              object                  12              0.8\n",
      "marital          object                   4              0.2\n",
      "education        object                   8              4.2\n",
      "default          object                   3             20.9\n",
      "housing          object                   3              2.4\n",
      "loan             object                   3              2.4\n",
      "contact          object                   2              0.0\n",
      "month            object                  10              0.0\n",
      "day_of_week      object                   5              0.0\n",
      "duration          int64                1544              0.0\n",
      "campaign          int64                  42              0.0\n",
      "pdays             int64                  27              0.0\n",
      "previous          int64                   8              0.0\n",
      "poutcome         object                   3              0.0\n",
      "emp.var.rate    float64                  10              0.0\n",
      "cons.price.idx  float64                  26              0.0\n",
      "cons.conf.idx   float64                  26              0.0\n",
      "euribor3m       float64                 316              0.0\n",
      "nr.employed     float64                  11              0.0\n",
      "y                object                   2              0.0\n"
     ]
    }
   ],
   "source": [
    "feature_description['percent_missing'] = round(missing/len(df_original) *100,1)\n",
    "\n",
    "print(feature_description)"
   ]
  },
  {
   "cell_type": "markdown",
   "metadata": {},
   "source": [
    "##### All the features which have **Missing Values** belong to **object** datatype."
   ]
  },
  {
   "cell_type": "markdown",
   "metadata": {},
   "source": [
    "#### 3.5. Check statistics of numerical variables of the dataset"
   ]
  },
  {
   "cell_type": "code",
   "execution_count": 14,
   "metadata": {},
   "outputs": [
    {
     "data": {
      "text/html": [
       "<div><div id=becebf6c-a47f-41fd-b29b-099a5db0421c style=\"display:none; background-color:#9D6CFF; color:white; width:200px; height:30px; padding-left:5px; border-radius:4px; flex-direction:row; justify-content:space-around; align-items:center;\" onmouseover=\"this.style.backgroundColor='#BA9BF8'\" onmouseout=\"this.style.backgroundColor='#9D6CFF'\" onclick=\"window.commands?.execute('create-mitosheet-from-dataframe-output');\">See Full Dataframe in Mito</div> <script> if (window.commands?.hasCommand('create-mitosheet-from-dataframe-output')) document.getElementById('becebf6c-a47f-41fd-b29b-099a5db0421c').style.display = 'flex' </script> <table border=\"1\" class=\"dataframe\">\n",
       "  <thead>\n",
       "    <tr style=\"text-align: right;\">\n",
       "      <th></th>\n",
       "      <th>age</th>\n",
       "      <th>duration</th>\n",
       "      <th>campaign</th>\n",
       "      <th>pdays</th>\n",
       "      <th>previous</th>\n",
       "      <th>emp.var.rate</th>\n",
       "      <th>cons.price.idx</th>\n",
       "      <th>cons.conf.idx</th>\n",
       "      <th>euribor3m</th>\n",
       "      <th>nr.employed</th>\n",
       "    </tr>\n",
       "  </thead>\n",
       "  <tbody>\n",
       "    <tr>\n",
       "      <th>count</th>\n",
       "      <td>41188.00000</td>\n",
       "      <td>41188.000000</td>\n",
       "      <td>41188.000000</td>\n",
       "      <td>41188.000000</td>\n",
       "      <td>41188.000000</td>\n",
       "      <td>41188.000000</td>\n",
       "      <td>41188.000000</td>\n",
       "      <td>41188.000000</td>\n",
       "      <td>41188.000000</td>\n",
       "      <td>41188.000000</td>\n",
       "    </tr>\n",
       "    <tr>\n",
       "      <th>mean</th>\n",
       "      <td>40.02406</td>\n",
       "      <td>258.285010</td>\n",
       "      <td>2.567593</td>\n",
       "      <td>962.475454</td>\n",
       "      <td>0.172963</td>\n",
       "      <td>0.081886</td>\n",
       "      <td>93.575664</td>\n",
       "      <td>-40.502600</td>\n",
       "      <td>3.621291</td>\n",
       "      <td>5167.035911</td>\n",
       "    </tr>\n",
       "    <tr>\n",
       "      <th>std</th>\n",
       "      <td>10.42125</td>\n",
       "      <td>259.279249</td>\n",
       "      <td>2.770014</td>\n",
       "      <td>186.910907</td>\n",
       "      <td>0.494901</td>\n",
       "      <td>1.570960</td>\n",
       "      <td>0.578840</td>\n",
       "      <td>4.628198</td>\n",
       "      <td>1.734447</td>\n",
       "      <td>72.251528</td>\n",
       "    </tr>\n",
       "    <tr>\n",
       "      <th>min</th>\n",
       "      <td>17.00000</td>\n",
       "      <td>0.000000</td>\n",
       "      <td>1.000000</td>\n",
       "      <td>0.000000</td>\n",
       "      <td>0.000000</td>\n",
       "      <td>-3.400000</td>\n",
       "      <td>92.201000</td>\n",
       "      <td>-50.800000</td>\n",
       "      <td>0.634000</td>\n",
       "      <td>4963.600000</td>\n",
       "    </tr>\n",
       "    <tr>\n",
       "      <th>25%</th>\n",
       "      <td>32.00000</td>\n",
       "      <td>102.000000</td>\n",
       "      <td>1.000000</td>\n",
       "      <td>999.000000</td>\n",
       "      <td>0.000000</td>\n",
       "      <td>-1.800000</td>\n",
       "      <td>93.075000</td>\n",
       "      <td>-42.700000</td>\n",
       "      <td>1.344000</td>\n",
       "      <td>5099.100000</td>\n",
       "    </tr>\n",
       "    <tr>\n",
       "      <th>50%</th>\n",
       "      <td>38.00000</td>\n",
       "      <td>180.000000</td>\n",
       "      <td>2.000000</td>\n",
       "      <td>999.000000</td>\n",
       "      <td>0.000000</td>\n",
       "      <td>1.100000</td>\n",
       "      <td>93.749000</td>\n",
       "      <td>-41.800000</td>\n",
       "      <td>4.857000</td>\n",
       "      <td>5191.000000</td>\n",
       "    </tr>\n",
       "    <tr>\n",
       "      <th>75%</th>\n",
       "      <td>47.00000</td>\n",
       "      <td>319.000000</td>\n",
       "      <td>3.000000</td>\n",
       "      <td>999.000000</td>\n",
       "      <td>0.000000</td>\n",
       "      <td>1.400000</td>\n",
       "      <td>93.994000</td>\n",
       "      <td>-36.400000</td>\n",
       "      <td>4.961000</td>\n",
       "      <td>5228.100000</td>\n",
       "    </tr>\n",
       "    <tr>\n",
       "      <th>max</th>\n",
       "      <td>98.00000</td>\n",
       "      <td>4918.000000</td>\n",
       "      <td>56.000000</td>\n",
       "      <td>999.000000</td>\n",
       "      <td>7.000000</td>\n",
       "      <td>1.400000</td>\n",
       "      <td>94.767000</td>\n",
       "      <td>-26.900000</td>\n",
       "      <td>5.045000</td>\n",
       "      <td>5228.100000</td>\n",
       "    </tr>\n",
       "  </tbody>\n",
       "</table></div>"
      ],
      "text/plain": [
       "               age      duration      campaign         pdays      previous  \\\n",
       "count  41188.00000  41188.000000  41188.000000  41188.000000  41188.000000   \n",
       "mean      40.02406    258.285010      2.567593    962.475454      0.172963   \n",
       "std       10.42125    259.279249      2.770014    186.910907      0.494901   \n",
       "min       17.00000      0.000000      1.000000      0.000000      0.000000   \n",
       "25%       32.00000    102.000000      1.000000    999.000000      0.000000   \n",
       "50%       38.00000    180.000000      2.000000    999.000000      0.000000   \n",
       "75%       47.00000    319.000000      3.000000    999.000000      0.000000   \n",
       "max       98.00000   4918.000000     56.000000    999.000000      7.000000   \n",
       "\n",
       "       emp.var.rate  cons.price.idx  cons.conf.idx     euribor3m   nr.employed  \n",
       "count  41188.000000    41188.000000   41188.000000  41188.000000  41188.000000  \n",
       "mean       0.081886       93.575664     -40.502600      3.621291   5167.035911  \n",
       "std        1.570960        0.578840       4.628198      1.734447     72.251528  \n",
       "min       -3.400000       92.201000     -50.800000      0.634000   4963.600000  \n",
       "25%       -1.800000       93.075000     -42.700000      1.344000   5099.100000  \n",
       "50%        1.100000       93.749000     -41.800000      4.857000   5191.000000  \n",
       "75%        1.400000       93.994000     -36.400000      4.961000   5228.100000  \n",
       "max        1.400000       94.767000     -26.900000      5.045000   5228.100000  "
      ]
     },
     "execution_count": 14,
     "metadata": {},
     "output_type": "execute_result"
    }
   ],
   "source": [
    "df_original.describe()"
   ]
  },
  {
   "cell_type": "markdown",
   "metadata": {},
   "source": [
    "#### 3.6. Check collinearity among the Numerical variables"
   ]
  },
  {
   "cell_type": "code",
   "execution_count": 15,
   "metadata": {},
   "outputs": [
    {
     "data": {
      "image/png": "[encoded data removed]",
      "text/plain": [
       "<Figure size 1000x800 with 2 Axes>"
      ]
     },
     "metadata": {},
     "output_type": "display_data"
    }
   ],
   "source": [
    "# Compute the correlation matrix\n",
    "corr = df_original.corr()\n",
    "\n",
    "# Generate a mask for the upper triangle\n",
    "mask = np.triu(np.ones_like(corr, dtype=bool))\n",
    "\n",
    "# Set up the matplotlib figure\n",
    "fig, ax = plt.subplots(figsize=(10, 8))\n",
    "\n",
    "# Generate the heatmap with Seaborn\n",
    "sns.heatmap(corr, mask=mask, cmap='coolwarm', center=0, annot=True,\n",
    "            square=True, linewidths=.5, cbar_kws={\"shrink\": .5})\n",
    "\n",
    "# Set the title of the plot\n",
    "plt.title('Correlation Heatmap b/w Numerical Variables')\n",
    "\n",
    "# Show the plot\n",
    "plt.show()"
   ]
  },
  {
   "cell_type": "markdown",
   "metadata": {},
   "source": [
    "- ##### Insight\n",
    "> Variables like `euribor3m`, `nr.employed` and `emp.var.rate` have a correlation factor *> 0.9* with each other. Which suggest that, these variables are very strongly correlated with each other. Therefore keeping all of them in the dataset increases collinearity among explanatory variables which increases variance and thus leads to *Overfitted* model.\n",
    ">\n",
    "> As we know, Decision Tree models are highly prone to overfitting. Thus decreasing collinearity happens to be one of the most significant preprocessing for optimal Decision Tree model building."
   ]
  },
  {
   "attachments": {},
   "cell_type": "markdown",
   "metadata": {},
   "source": [
    "### 4 Data Cleaning"
   ]
  },
  {
   "attachments": {},
   "cell_type": "markdown",
   "metadata": {},
   "source": [
    "#### 4.1 Drop Columns"
   ]
  },
  {
   "attachments": {},
   "cell_type": "markdown",
   "metadata": {},
   "source": [
    "##### `duration` column\n",
    "\n",
    "This attribute highly affects the output target (e.g., if duration=0 then y='no'). Yet, the `duration` is not known before a call is performed. Also, after the end of the call y is obviously known. Thus, this input should only be included for benchmark purposes and should be discarded if the intention is to have a realistic predictive model."
   ]
  },
  {
   "cell_type": "code",
   "execution_count": 16,
   "metadata": {},
   "outputs": [],
   "source": [
    "df_original = df_original.drop(columns=['duration'])"
   ]
  },
  {
   "attachments": {},
   "cell_type": "markdown",
   "metadata": {},
   "source": [
    "##### `day_of_week` column"
   ]
  },
  {
   "cell_type": "code",
   "execution_count": 17,
   "metadata": {},
   "outputs": [
    {
     "data": {
      "image/png": "[encoded data removed]",
      "text/plain": [
       "<Figure size 640x480 with 1 Axes>"
      ]
     },
     "metadata": {},
     "output_type": "display_data"
    }
   ],
   "source": [
    "prop_df = df_original.groupby(['day_of_week','y']).count()['age']\n",
    "prop_df = round(prop_df/sum(prop_df)*100,2)\n",
    "prop_df = prop_df.reset_index()\n",
    "\n",
    "# Create the stacked bar plot\n",
    "sns.barplot(x='day_of_week', y='age', hue='y', data=prop_df, dodge=False)\n",
    "\n",
    "# Add legend and set title\n",
    "plt.legend(title='y')\n",
    "plt.ylabel('% in whole dataset')\n",
    "plt.title('DAY_OF_WEEK countplot')\n",
    "\n",
    "# Show the plot\n",
    "plt.show()\n"
   ]
  },
  {
   "cell_type": "code",
   "execution_count": 18,
   "metadata": {},
   "outputs": [
    {
     "data": {
      "image/png": "[encoded data removed]",
      "text/plain": [
       "<Figure size 640x480 with 1 Axes>"
      ]
     },
     "metadata": {},
     "output_type": "display_data"
    }
   ],
   "source": [
    "prop_df = df_original.groupby(['month','y']).count()['age']\n",
    "prop_df = round(prop_df/sum(prop_df)*100,2)\n",
    "prop_df = prop_df.reset_index()\n",
    "\n",
    "# Create the stacked bar plot\n",
    "sns.barplot(x='month', y='age', hue='y', data=prop_df, dodge=False)\n",
    "\n",
    "# Add legend and set title\n",
    "plt.legend(title='y')\n",
    "plt.ylabel('% in whole dataset')\n",
    "plt.title('MONTH countplot')\n",
    "\n",
    "# Show the plot\n",
    "plt.show()\n"
   ]
  },
  {
   "attachments": {},
   "cell_type": "markdown",
   "metadata": {},
   "source": [
    "As we can see proportion of responses (`yes`, `no`) is nearly similar in each `day_of_week` class. Therefore, keeping `day_of_week` attribute would add negligible, if any, information gain into our model. So we can safely drop this."
   ]
  },
  {
   "cell_type": "code",
   "execution_count": 19,
   "metadata": {},
   "outputs": [],
   "source": [
    "df_original = df_original.drop(columns=['day_of_week'])"
   ]
  },
  {
   "cell_type": "markdown",
   "metadata": {},
   "source": [
    "#### 4.2 Analysis for dropping the records with misssing values"
   ]
  },
  {
   "attachments": {},
   "cell_type": "markdown",
   "metadata": {},
   "source": [
    "##### Distribution and correlation of missing vlaues (`NaN`) among features"
   ]
  },
  {
   "cell_type": "code",
   "execution_count": 20,
   "metadata": {},
   "outputs": [
    {
     "data": {
      "text/plain": [
       "<Axes: >"
      ]
     },
     "execution_count": 20,
     "metadata": {},
     "output_type": "execute_result"
    },
    {
     "data": {
      "image/png": "[encoded data removed]",
      "text/plain": [
       "<Figure size 2500x1000 with 2 Axes>"
      ]
     },
     "metadata": {},
     "output_type": "display_data"
    }
   ],
   "source": [
    "msno.matrix(df_original.sort_values('age'))"
   ]
  },
  {
   "cell_type": "code",
   "execution_count": 21,
   "metadata": {},
   "outputs": [
    {
     "data": {
      "text/plain": [
       "<Axes: >"
      ]
     },
     "execution_count": 21,
     "metadata": {},
     "output_type": "execute_result"
    },
    {
     "data": {
      "image/png": "[encoded data removed]",
      "text/plain": [
       "<Figure size 2000x1200 with 2 Axes>"
      ]
     },
     "metadata": {},
     "output_type": "display_data"
    }
   ],
   "source": [
    "msno.heatmap(df_original)"
   ]
  },
  {
   "cell_type": "code",
   "execution_count": 22,
   "metadata": {},
   "outputs": [
    {
     "data": {
      "text/html": [
       "<div><div id=a24e060d-15e7-4819-a72e-31c5a018317e style=\"display:none; background-color:#9D6CFF; color:white; width:200px; height:30px; padding-left:5px; border-radius:4px; flex-direction:row; justify-content:space-around; align-items:center;\" onmouseover=\"this.style.backgroundColor='#BA9BF8'\" onmouseout=\"this.style.backgroundColor='#9D6CFF'\" onclick=\"window.commands?.execute('create-mitosheet-from-dataframe-output');\">See Full Dataframe in Mito</div> <script> if (window.commands?.hasCommand('create-mitosheet-from-dataframe-output')) document.getElementById('a24e060d-15e7-4819-a72e-31c5a018317e').style.display = 'flex' </script> <table border=\"1\" class=\"dataframe\">\n",
       "  <thead>\n",
       "    <tr style=\"text-align: right;\">\n",
       "      <th></th>\n",
       "      <th>datatype</th>\n",
       "      <th>unique_value_count</th>\n",
       "      <th>percent_missing</th>\n",
       "    </tr>\n",
       "  </thead>\n",
       "  <tbody>\n",
       "    <tr>\n",
       "      <th>job</th>\n",
       "      <td>object</td>\n",
       "      <td>12</td>\n",
       "      <td>0.8</td>\n",
       "    </tr>\n",
       "    <tr>\n",
       "      <th>marital</th>\n",
       "      <td>object</td>\n",
       "      <td>4</td>\n",
       "      <td>0.2</td>\n",
       "    </tr>\n",
       "    <tr>\n",
       "      <th>education</th>\n",
       "      <td>object</td>\n",
       "      <td>8</td>\n",
       "      <td>4.2</td>\n",
       "    </tr>\n",
       "    <tr>\n",
       "      <th>housing</th>\n",
       "      <td>object</td>\n",
       "      <td>3</td>\n",
       "      <td>2.4</td>\n",
       "    </tr>\n",
       "    <tr>\n",
       "      <th>loan</th>\n",
       "      <td>object</td>\n",
       "      <td>3</td>\n",
       "      <td>2.4</td>\n",
       "    </tr>\n",
       "  </tbody>\n",
       "</table></div>"
      ],
      "text/plain": [
       "          datatype  unique_value_count  percent_missing\n",
       "job         object                  12              0.8\n",
       "marital     object                   4              0.2\n",
       "education   object                   8              4.2\n",
       "housing     object                   3              2.4\n",
       "loan        object                   3              2.4"
      ]
     },
     "execution_count": 22,
     "metadata": {},
     "output_type": "execute_result"
    }
   ],
   "source": [
    "features_with_safe_range_missing_values = feature_description[(feature_description['datatype']=='O') & (feature_description['percent_missing']>0)&(feature_description['percent_missing']<5)]\n",
    "features_with_safe_range_missing_values"
   ]
  },
  {
   "attachments": {},
   "cell_type": "markdown",
   "metadata": {},
   "source": [
    "If we drop all the records having missing values in features '`job`', '`marital`', '`education`', '`housing`', '`loan`' we lose around $7\\%$ of data."
   ]
  },
  {
   "cell_type": "code",
   "execution_count": 23,
   "metadata": {},
   "outputs": [],
   "source": [
    "df_original = df_original[df_original[features_with_safe_range_missing_values.index].isna().any(axis=1)==False]"
   ]
  },
  {
   "cell_type": "code",
   "execution_count": 24,
   "metadata": {},
   "outputs": [
    {
     "data": {
      "text/plain": [
       "age                0.0\n",
       "job                0.0\n",
       "marital            0.0\n",
       "education          0.0\n",
       "default           20.3\n",
       "housing            0.0\n",
       "loan               0.0\n",
       "contact            0.0\n",
       "month              0.0\n",
       "campaign           0.0\n",
       "pdays              0.0\n",
       "previous           0.0\n",
       "poutcome           0.0\n",
       "emp.var.rate       0.0\n",
       "cons.price.idx     0.0\n",
       "cons.conf.idx      0.0\n",
       "euribor3m          0.0\n",
       "nr.employed        0.0\n",
       "y                  0.0\n",
       "dtype: float64"
      ]
     },
     "execution_count": 24,
     "metadata": {},
     "output_type": "execute_result"
    }
   ],
   "source": [
    "# After dropping\n",
    "round(df_original.isna().sum() / len(df_original) * 100, 1)"
   ]
  },
  {
   "cell_type": "code",
   "execution_count": 25,
   "metadata": {},
   "outputs": [
    {
     "data": {
      "text/html": [
       "<div><div id=91462d2a-efd2-4a4e-88fa-0fe94018e5ed style=\"display:none; background-color:#9D6CFF; color:white; width:200px; height:30px; padding-left:5px; border-radius:4px; flex-direction:row; justify-content:space-around; align-items:center;\" onmouseover=\"this.style.backgroundColor='#BA9BF8'\" onmouseout=\"this.style.backgroundColor='#9D6CFF'\" onclick=\"window.commands?.execute('create-mitosheet-from-dataframe-output');\">See Full Dataframe in Mito</div> <script> if (window.commands?.hasCommand('create-mitosheet-from-dataframe-output')) document.getElementById('91462d2a-efd2-4a4e-88fa-0fe94018e5ed').style.display = 'flex' </script> <table border=\"1\" class=\"dataframe\">\n",
       "  <thead>\n",
       "    <tr style=\"text-align: right;\">\n",
       "      <th></th>\n",
       "      <th>no</th>\n",
       "      <th>yes</th>\n",
       "    </tr>\n",
       "  </thead>\n",
       "  <tbody>\n",
       "    <tr>\n",
       "      <th>overall</th>\n",
       "      <td>0.888665</td>\n",
       "      <td>0.111335</td>\n",
       "    </tr>\n",
       "    <tr>\n",
       "      <th>default</th>\n",
       "      <td>0.948563</td>\n",
       "      <td>0.051437</td>\n",
       "    </tr>\n",
       "  </tbody>\n",
       "</table></div>"
      ],
      "text/plain": [
       "               no       yes\n",
       "overall  0.888665  0.111335\n",
       "default  0.948563  0.051437"
      ]
     },
     "execution_count": 25,
     "metadata": {},
     "output_type": "execute_result"
    }
   ],
   "source": [
    "value_proportions = pd.DataFrame(columns=['no','yes'])\n",
    "\n",
    "value_proportions.loc['overall'] = df_original['y'].value_counts(normalize=True)\n",
    "value_proportions.loc['default'] = df_original['y'][df_original['default'].isna()].value_counts(normalize=True)\n",
    "value_proportions"
   ]
  },
  {
   "cell_type": "code",
   "execution_count": 26,
   "metadata": {},
   "outputs": [
    {
     "data": {
      "text/plain": [
       "'|         |       no |       yes |\\n|:--------|---------:|----------:|\\n| overall | 0.888665 | 0.111335  |\\n| default | 0.948563 | 0.0514374 |'"
      ]
     },
     "execution_count": 26,
     "metadata": {},
     "output_type": "execute_result"
    }
   ],
   "source": [
    "value_proportions"
   ]
  },
  {
   "attachments": {},
   "cell_type": "markdown",
   "metadata": {},
   "source": [
    "The class imbalance is significantly more in the missing value records of `default` attribute, compared to overall dataset. We can leverage this fact while imputing the missing values in the next **Data Tranformation** section."
   ]
  },
  {
   "attachments": {},
   "cell_type": "markdown",
   "metadata": {},
   "source": [
    "### 5 Data Transform"
   ]
  },
  {
   "attachments": {},
   "cell_type": "markdown",
   "metadata": {},
   "source": [
    "#### 5.1 Imputation\n",
    "Only `default` attribute remains for imputation. From the above datatable we can see it is highly imbalanced. So, we can apply mode strategy for imputation."
   ]
  },
  {
   "cell_type": "code",
   "execution_count": 27,
   "metadata": {},
   "outputs": [
    {
     "data": {
      "text/html": [
       "<div><div id=ba2c6d18-ecd5-471b-8fef-4cb599afda99 style=\"display:none; background-color:#9D6CFF; color:white; width:200px; height:30px; padding-left:5px; border-radius:4px; flex-direction:row; justify-content:space-around; align-items:center;\" onmouseover=\"this.style.backgroundColor='#BA9BF8'\" onmouseout=\"this.style.backgroundColor='#9D6CFF'\" onclick=\"window.commands?.execute('create-mitosheet-from-dataframe-output');\">See Full Dataframe in Mito</div> <script> if (window.commands?.hasCommand('create-mitosheet-from-dataframe-output')) document.getElementById('ba2c6d18-ecd5-471b-8fef-4cb599afda99').style.display = 'flex' </script> <table border=\"1\" class=\"dataframe\">\n",
       "  <thead>\n",
       "    <tr style=\"text-align: right;\">\n",
       "      <th></th>\n",
       "      <th>age</th>\n",
       "      <th>job</th>\n",
       "      <th>marital</th>\n",
       "      <th>education</th>\n",
       "      <th>default</th>\n",
       "      <th>housing</th>\n",
       "      <th>loan</th>\n",
       "      <th>contact</th>\n",
       "      <th>month</th>\n",
       "      <th>campaign</th>\n",
       "      <th>pdays</th>\n",
       "      <th>previous</th>\n",
       "      <th>poutcome</th>\n",
       "      <th>emp.var.rate</th>\n",
       "      <th>cons.price.idx</th>\n",
       "      <th>cons.conf.idx</th>\n",
       "      <th>euribor3m</th>\n",
       "      <th>nr.employed</th>\n",
       "      <th>y</th>\n",
       "    </tr>\n",
       "  </thead>\n",
       "  <tbody>\n",
       "    <tr>\n",
       "      <th>0</th>\n",
       "      <td>43</td>\n",
       "      <td>self-employed</td>\n",
       "      <td>divorced</td>\n",
       "      <td>university.degree</td>\n",
       "      <td>no</td>\n",
       "      <td>no</td>\n",
       "      <td>no</td>\n",
       "      <td>cellular</td>\n",
       "      <td>aug</td>\n",
       "      <td>1</td>\n",
       "      <td>999</td>\n",
       "      <td>1</td>\n",
       "      <td>failure</td>\n",
       "      <td>-2.9</td>\n",
       "      <td>92.201</td>\n",
       "      <td>-31.4</td>\n",
       "      <td>0.884</td>\n",
       "      <td>5076.2</td>\n",
       "      <td>no</td>\n",
       "    </tr>\n",
       "    <tr>\n",
       "      <th>1</th>\n",
       "      <td>74</td>\n",
       "      <td>retired</td>\n",
       "      <td>married</td>\n",
       "      <td>high.school</td>\n",
       "      <td>no</td>\n",
       "      <td>yes</td>\n",
       "      <td>no</td>\n",
       "      <td>cellular</td>\n",
       "      <td>aug</td>\n",
       "      <td>1</td>\n",
       "      <td>999</td>\n",
       "      <td>1</td>\n",
       "      <td>failure</td>\n",
       "      <td>-2.9</td>\n",
       "      <td>92.201</td>\n",
       "      <td>-31.4</td>\n",
       "      <td>0.883</td>\n",
       "      <td>5076.2</td>\n",
       "      <td>yes</td>\n",
       "    </tr>\n",
       "    <tr>\n",
       "      <th>2</th>\n",
       "      <td>34</td>\n",
       "      <td>technician</td>\n",
       "      <td>single</td>\n",
       "      <td>professional.course</td>\n",
       "      <td>no</td>\n",
       "      <td>yes</td>\n",
       "      <td>no</td>\n",
       "      <td>cellular</td>\n",
       "      <td>aug</td>\n",
       "      <td>2</td>\n",
       "      <td>12</td>\n",
       "      <td>1</td>\n",
       "      <td>success</td>\n",
       "      <td>-2.9</td>\n",
       "      <td>92.201</td>\n",
       "      <td>-31.4</td>\n",
       "      <td>0.883</td>\n",
       "      <td>5076.2</td>\n",
       "      <td>yes</td>\n",
       "    </tr>\n",
       "    <tr>\n",
       "      <th>4</th>\n",
       "      <td>27</td>\n",
       "      <td>admin.</td>\n",
       "      <td>single</td>\n",
       "      <td>university.degree</td>\n",
       "      <td>no</td>\n",
       "      <td>no</td>\n",
       "      <td>no</td>\n",
       "      <td>cellular</td>\n",
       "      <td>aug</td>\n",
       "      <td>2</td>\n",
       "      <td>999</td>\n",
       "      <td>0</td>\n",
       "      <td>nonexistent</td>\n",
       "      <td>-2.9</td>\n",
       "      <td>92.201</td>\n",
       "      <td>-31.4</td>\n",
       "      <td>0.879</td>\n",
       "      <td>5076.2</td>\n",
       "      <td>yes</td>\n",
       "    </tr>\n",
       "    <tr>\n",
       "      <th>5</th>\n",
       "      <td>36</td>\n",
       "      <td>management</td>\n",
       "      <td>married</td>\n",
       "      <td>university.degree</td>\n",
       "      <td>no</td>\n",
       "      <td>no</td>\n",
       "      <td>no</td>\n",
       "      <td>cellular</td>\n",
       "      <td>aug</td>\n",
       "      <td>2</td>\n",
       "      <td>999</td>\n",
       "      <td>0</td>\n",
       "      <td>nonexistent</td>\n",
       "      <td>-2.9</td>\n",
       "      <td>92.201</td>\n",
       "      <td>-31.4</td>\n",
       "      <td>0.884</td>\n",
       "      <td>5076.2</td>\n",
       "      <td>no</td>\n",
       "    </tr>\n",
       "  </tbody>\n",
       "</table></div>"
      ],
      "text/plain": [
       "   age            job   marital            education default housing loan  \\\n",
       "0   43  self-employed  divorced    university.degree      no      no   no   \n",
       "1   74        retired   married          high.school      no     yes   no   \n",
       "2   34     technician    single  professional.course      no     yes   no   \n",
       "4   27         admin.    single    university.degree      no      no   no   \n",
       "5   36     management   married    university.degree      no      no   no   \n",
       "\n",
       "    contact month  campaign  pdays  previous     poutcome  emp.var.rate  \\\n",
       "0  cellular   aug         1    999         1      failure          -2.9   \n",
       "1  cellular   aug         1    999         1      failure          -2.9   \n",
       "2  cellular   aug         2     12         1      success          -2.9   \n",
       "4  cellular   aug         2    999         0  nonexistent          -2.9   \n",
       "5  cellular   aug         2    999         0  nonexistent          -2.9   \n",
       "\n",
       "   cons.price.idx  cons.conf.idx  euribor3m  nr.employed    y  \n",
       "0          92.201          -31.4      0.884       5076.2   no  \n",
       "1          92.201          -31.4      0.883       5076.2  yes  \n",
       "2          92.201          -31.4      0.883       5076.2  yes  \n",
       "4          92.201          -31.4      0.879       5076.2  yes  \n",
       "5          92.201          -31.4      0.884       5076.2   no  "
      ]
     },
     "execution_count": 27,
     "metadata": {},
     "output_type": "execute_result"
    }
   ],
   "source": [
    "imputer = SimpleImputer(strategy = 'most_frequent')\n",
    "df_original['default'] = imputer.fit_transform(pd.DataFrame(df_original['default']))\n",
    "df_original.head()"
   ]
  },
  {
   "attachments": {},
   "cell_type": "markdown",
   "metadata": {},
   "source": [
    "#### 5.2 Encoding"
   ]
  },
  {
   "attachments": {},
   "cell_type": "markdown",
   "metadata": {},
   "source": [
    "Splitting the dataset into Explanatory **`X`** and Response variable **`y`**."
   ]
  },
  {
   "cell_type": "code",
   "execution_count": 28,
   "metadata": {},
   "outputs": [],
   "source": [
    "X, y = df_original.drop(columns=['y']), df_original['y']"
   ]
  },
  {
   "attachments": {},
   "cell_type": "markdown",
   "metadata": {},
   "source": [
    "#### Ordinal Encoding"
   ]
  },
  {
   "cell_type": "markdown",
   "metadata": {},
   "source": [
    "`education`"
   ]
  },
  {
   "cell_type": "code",
   "execution_count": 29,
   "metadata": {},
   "outputs": [
    {
     "data": {
      "text/plain": [
       "array(['university.degree', 'high.school', 'professional.course',\n",
       "       'basic.6y', 'basic.9y', 'basic.4y', 'illiterate'], dtype=object)"
      ]
     },
     "execution_count": 29,
     "metadata": {},
     "output_type": "execute_result"
    }
   ],
   "source": [
    "df_original['education'].unique()"
   ]
  },
  {
   "cell_type": "code",
   "execution_count": 30,
   "metadata": {},
   "outputs": [],
   "source": [
    "education_mapper = {'professional.course':4,\n",
    "                    'university.degree':3,\n",
    "                    'high.school':2,\n",
    "                    'basic.6y':1,\n",
    "                    'basic.9y':1, \n",
    "                    'basic.4y':1, \n",
    "                    'illiterate':0}\n",
    "X['education'].replace(education_mapper, inplace=True)"
   ]
  },
  {
   "cell_type": "code",
   "execution_count": 31,
   "metadata": {},
   "outputs": [
    {
     "data": {
      "text/plain": [
       "0        3\n",
       "1        2\n",
       "2        4\n",
       "4        3\n",
       "5        3\n",
       "        ..\n",
       "41182    3\n",
       "41183    3\n",
       "41184    4\n",
       "41186    2\n",
       "41187    1\n",
       "Name: education, Length: 38245, dtype: int64"
      ]
     },
     "execution_count": 31,
     "metadata": {},
     "output_type": "execute_result"
    }
   ],
   "source": [
    "X['education']"
   ]
  },
  {
   "attachments": {},
   "cell_type": "markdown",
   "metadata": {},
   "source": [
    "#### Dummies Encoding"
   ]
  },
  {
   "cell_type": "code",
   "execution_count": 32,
   "metadata": {},
   "outputs": [],
   "source": [
    "X = pd.get_dummies(X, drop_first=True)\n",
    "y = pd.get_dummies(y, drop_first=True)"
   ]
  },
  {
   "cell_type": "code",
   "execution_count": 33,
   "metadata": {},
   "outputs": [
    {
     "data": {
      "text/html": [
       "<div><div id=9960f1a0-3e31-4655-8227-25d44dab87b0 style=\"display:none; background-color:#9D6CFF; color:white; width:200px; height:30px; padding-left:5px; border-radius:4px; flex-direction:row; justify-content:space-around; align-items:center;\" onmouseover=\"this.style.backgroundColor='#BA9BF8'\" onmouseout=\"this.style.backgroundColor='#9D6CFF'\" onclick=\"window.commands?.execute('create-mitosheet-from-dataframe-output');\">See Full Dataframe in Mito</div> <script> if (window.commands?.hasCommand('create-mitosheet-from-dataframe-output')) document.getElementById('9960f1a0-3e31-4655-8227-25d44dab87b0').style.display = 'flex' </script> <table border=\"1\" class=\"dataframe\">\n",
       "  <thead>\n",
       "    <tr style=\"text-align: right;\">\n",
       "      <th></th>\n",
       "      <th>age</th>\n",
       "      <th>education</th>\n",
       "      <th>campaign</th>\n",
       "      <th>pdays</th>\n",
       "      <th>previous</th>\n",
       "      <th>emp.var.rate</th>\n",
       "      <th>cons.price.idx</th>\n",
       "      <th>cons.conf.idx</th>\n",
       "      <th>euribor3m</th>\n",
       "      <th>nr.employed</th>\n",
       "      <th>...</th>\n",
       "      <th>month_dec</th>\n",
       "      <th>month_jul</th>\n",
       "      <th>month_jun</th>\n",
       "      <th>month_mar</th>\n",
       "      <th>month_may</th>\n",
       "      <th>month_nov</th>\n",
       "      <th>month_oct</th>\n",
       "      <th>month_sep</th>\n",
       "      <th>poutcome_nonexistent</th>\n",
       "      <th>poutcome_success</th>\n",
       "    </tr>\n",
       "  </thead>\n",
       "  <tbody>\n",
       "    <tr>\n",
       "      <th>0</th>\n",
       "      <td>43</td>\n",
       "      <td>3</td>\n",
       "      <td>1</td>\n",
       "      <td>999</td>\n",
       "      <td>1</td>\n",
       "      <td>-2.9</td>\n",
       "      <td>92.201</td>\n",
       "      <td>-31.4</td>\n",
       "      <td>0.884</td>\n",
       "      <td>5076.2</td>\n",
       "      <td>...</td>\n",
       "      <td>0</td>\n",
       "      <td>0</td>\n",
       "      <td>0</td>\n",
       "      <td>0</td>\n",
       "      <td>0</td>\n",
       "      <td>0</td>\n",
       "      <td>0</td>\n",
       "      <td>0</td>\n",
       "      <td>0</td>\n",
       "      <td>0</td>\n",
       "    </tr>\n",
       "    <tr>\n",
       "      <th>1</th>\n",
       "      <td>74</td>\n",
       "      <td>2</td>\n",
       "      <td>1</td>\n",
       "      <td>999</td>\n",
       "      <td>1</td>\n",
       "      <td>-2.9</td>\n",
       "      <td>92.201</td>\n",
       "      <td>-31.4</td>\n",
       "      <td>0.883</td>\n",
       "      <td>5076.2</td>\n",
       "      <td>...</td>\n",
       "      <td>0</td>\n",
       "      <td>0</td>\n",
       "      <td>0</td>\n",
       "      <td>0</td>\n",
       "      <td>0</td>\n",
       "      <td>0</td>\n",
       "      <td>0</td>\n",
       "      <td>0</td>\n",
       "      <td>0</td>\n",
       "      <td>0</td>\n",
       "    </tr>\n",
       "    <tr>\n",
       "      <th>2</th>\n",
       "      <td>34</td>\n",
       "      <td>4</td>\n",
       "      <td>2</td>\n",
       "      <td>12</td>\n",
       "      <td>1</td>\n",
       "      <td>-2.9</td>\n",
       "      <td>92.201</td>\n",
       "      <td>-31.4</td>\n",
       "      <td>0.883</td>\n",
       "      <td>5076.2</td>\n",
       "      <td>...</td>\n",
       "      <td>0</td>\n",
       "      <td>0</td>\n",
       "      <td>0</td>\n",
       "      <td>0</td>\n",
       "      <td>0</td>\n",
       "      <td>0</td>\n",
       "      <td>0</td>\n",
       "      <td>0</td>\n",
       "      <td>0</td>\n",
       "      <td>1</td>\n",
       "    </tr>\n",
       "    <tr>\n",
       "      <th>4</th>\n",
       "      <td>27</td>\n",
       "      <td>3</td>\n",
       "      <td>2</td>\n",
       "      <td>999</td>\n",
       "      <td>0</td>\n",
       "      <td>-2.9</td>\n",
       "      <td>92.201</td>\n",
       "      <td>-31.4</td>\n",
       "      <td>0.879</td>\n",
       "      <td>5076.2</td>\n",
       "      <td>...</td>\n",
       "      <td>0</td>\n",
       "      <td>0</td>\n",
       "      <td>0</td>\n",
       "      <td>0</td>\n",
       "      <td>0</td>\n",
       "      <td>0</td>\n",
       "      <td>0</td>\n",
       "      <td>0</td>\n",
       "      <td>1</td>\n",
       "      <td>0</td>\n",
       "    </tr>\n",
       "    <tr>\n",
       "      <th>5</th>\n",
       "      <td>36</td>\n",
       "      <td>3</td>\n",
       "      <td>2</td>\n",
       "      <td>999</td>\n",
       "      <td>0</td>\n",
       "      <td>-2.9</td>\n",
       "      <td>92.201</td>\n",
       "      <td>-31.4</td>\n",
       "      <td>0.884</td>\n",
       "      <td>5076.2</td>\n",
       "      <td>...</td>\n",
       "      <td>0</td>\n",
       "      <td>0</td>\n",
       "      <td>0</td>\n",
       "      <td>0</td>\n",
       "      <td>0</td>\n",
       "      <td>0</td>\n",
       "      <td>0</td>\n",
       "      <td>0</td>\n",
       "      <td>1</td>\n",
       "      <td>0</td>\n",
       "    </tr>\n",
       "  </tbody>\n",
       "</table></div>"
      ],
      "text/plain": [
       "   age  education  campaign  pdays  previous  emp.var.rate  cons.price.idx  \\\n",
       "0   43          3         1    999         1          -2.9          92.201   \n",
       "1   74          2         1    999         1          -2.9          92.201   \n",
       "2   34          4         2     12         1          -2.9          92.201   \n",
       "4   27          3         2    999         0          -2.9          92.201   \n",
       "5   36          3         2    999         0          -2.9          92.201   \n",
       "\n",
       "   cons.conf.idx  euribor3m  nr.employed  ...  month_dec  month_jul  \\\n",
       "0          -31.4      0.884       5076.2  ...          0          0   \n",
       "1          -31.4      0.883       5076.2  ...          0          0   \n",
       "2          -31.4      0.883       5076.2  ...          0          0   \n",
       "4          -31.4      0.879       5076.2  ...          0          0   \n",
       "5          -31.4      0.884       5076.2  ...          0          0   \n",
       "\n",
       "   month_jun  month_mar  month_may  month_nov  month_oct  month_sep  \\\n",
       "0          0          0          0          0          0          0   \n",
       "1          0          0          0          0          0          0   \n",
       "2          0          0          0          0          0          0   \n",
       "4          0          0          0          0          0          0   \n",
       "5          0          0          0          0          0          0   \n",
       "\n",
       "   poutcome_nonexistent  poutcome_success  \n",
       "0                     0                 0  \n",
       "1                     0                 0  \n",
       "2                     0                 1  \n",
       "4                     1                 0  \n",
       "5                     1                 0  \n",
       "\n",
       "[5 rows x 37 columns]"
      ]
     },
     "execution_count": 33,
     "metadata": {},
     "output_type": "execute_result"
    }
   ],
   "source": [
    "X.head()"
   ]
  },
  {
   "cell_type": "code",
   "execution_count": 34,
   "metadata": {},
   "outputs": [
    {
     "name": "stdout",
     "output_type": "stream",
     "text": [
      "Index(['age', 'education', 'campaign', 'pdays', 'previous', 'emp.var.rate',\n",
      "       'cons.price.idx', 'cons.conf.idx', 'euribor3m', 'nr.employed',\n",
      "       'job_blue-collar', 'job_entrepreneur', 'job_housemaid',\n",
      "       'job_management', 'job_retired', 'job_self-employed', 'job_services',\n",
      "       'job_student', 'job_technician', 'job_unemployed', 'marital_married',\n",
      "       'marital_single', 'default_yes', 'housing_yes', 'loan_yes',\n",
      "       'contact_telephone', 'month_aug', 'month_dec', 'month_jul', 'month_jun',\n",
      "       'month_mar', 'month_may', 'month_nov', 'month_oct', 'month_sep',\n",
      "       'poutcome_nonexistent', 'poutcome_success'],\n",
      "      dtype='object')\n"
     ]
    }
   ],
   "source": [
    "print(X.columns)"
   ]
  },
  {
   "attachments": {},
   "cell_type": "markdown",
   "metadata": {},
   "source": [
    "#### 5.3 Binning"
   ]
  },
  {
   "cell_type": "markdown",
   "metadata": {},
   "source": [
    "`age`"
   ]
  },
  {
   "cell_type": "code",
   "execution_count": 35,
   "metadata": {},
   "outputs": [],
   "source": [
    "def age_mapper(x):\n",
    "    if x<21: return 0\n",
    "    elif x<=30: return 1\n",
    "    elif x<=40: return 2\n",
    "    elif x<=50: return 3\n",
    "    elif x<=60: return 4\n",
    "    else: return 5\n",
    "\n",
    "X['age'] = X['age'].apply(age_mapper)"
   ]
  },
  {
   "cell_type": "markdown",
   "metadata": {},
   "source": [
    "### 6 Fitting Model"
   ]
  },
  {
   "attachments": {},
   "cell_type": "markdown",
   "metadata": {},
   "source": [
    "#### 6.1 Dividing Dataset into Train and Test sets"
   ]
  },
  {
   "cell_type": "markdown",
   "metadata": {},
   "source": [
    "As dataset is highly imbalanced, Train-Test split must be **stratified**."
   ]
  },
  {
   "cell_type": "code",
   "execution_count": 36,
   "metadata": {},
   "outputs": [],
   "source": [
    "# split train 80% & test 20%\n",
    "X_train, X_test, y_train, y_test = train_test_split(X, y, test_size = .20, random_state=50, stratify=y)"
   ]
  },
  {
   "cell_type": "code",
   "execution_count": 37,
   "metadata": {},
   "outputs": [
    {
     "name": "stdout",
     "output_type": "stream",
     "text": [
      "train\n",
      " yes\n",
      "0      0.888678\n",
      "1      0.111322\n",
      "dtype: float64 \n",
      "\n",
      "test\n",
      " yes\n",
      "0      0.888613\n",
      "1      0.111387\n",
      "dtype: float64\n"
     ]
    }
   ],
   "source": [
    "print('train\\n',y_train.value_counts(normalize=True),'\\n\\ntest\\n',y_test.value_counts(normalize=True))"
   ]
  },
  {
   "attachments": {},
   "cell_type": "markdown",
   "metadata": {},
   "source": [
    "#### 6.2 Model building"
   ]
  },
  {
   "cell_type": "markdown",
   "metadata": {},
   "source": [
    "##### UDF for measuring time to train the best estimator model and its size"
   ]
  },
  {
   "cell_type": "code",
   "execution_count": 38,
   "metadata": {},
   "outputs": [],
   "source": [
    "def model_measure(estimator, X_train, y_train):\n",
    "    global model_count\n",
    "    start_time = perf()\n",
    "    trained_model = estimator.fit(X_train, y_train)\n",
    "    model_time_to_train = perf() - start_time\n",
    "\n",
    "    dir_path = './model_files/Q1/'\n",
    "\n",
    "    if not os.path.exists(dir_path):\n",
    "        os.makedirs(dir_path)\n",
    "\n",
    "    with open(f'{dir_path}{str(model_count)}.pkl','wb') as file:\n",
    "        pickle.dump(trained_model, file)\n",
    "\n",
    "    # measure the model size\n",
    "    PATH = f'{dir_path}{str(model_count)}.pkl'\n",
    "    model_size = os.path.getsize(PATH)/1024\n",
    "\n",
    "    model_count += 1\n",
    "    return trained_model, model_time_to_train, model_size\n"
   ]
  },
  {
   "cell_type": "code",
   "execution_count": 39,
   "metadata": {},
   "outputs": [],
   "source": [
    "def eval_metrics(test, pred):\n",
    "    return recall_score(test, pred, average='weighted'), accuracy_score(test, pred), precision_score(test, pred), roc_auc_score(test, pred), confusion_matrix(test, pred)"
   ]
  },
  {
   "cell_type": "markdown",
   "metadata": {},
   "source": [
    "##### Hyperparameter Tuning and Cross Validation"
   ]
  },
  {
   "cell_type": "code",
   "execution_count": 40,
   "metadata": {},
   "outputs": [
    {
     "data": {
      "text/html": [
       "<style>#sk-container-id-1 {color: black;background-color: white;}#sk-container-id-1 pre{padding: 0;}#sk-container-id-1 div.sk-toggleable {background-color: white;}#sk-container-id-1 label.sk-toggleable__label {cursor: pointer;display: block;width: 100%;margin-bottom: 0;padding: 0.3em;box-sizing: border-box;text-align: center;}#sk-container-id-1 label.sk-toggleable__label-arrow:before {content: \"▸\";float: left;margin-right: 0.25em;color: #696969;}#sk-container-id-1 label.sk-toggleable__label-arrow:hover:before {color: black;}#sk-container-id-1 div.sk-estimator:hover label.sk-toggleable__label-arrow:before {color: black;}#sk-container-id-1 div.sk-toggleable__content {max-height: 0;max-width: 0;overflow: hidden;text-align: left;background-color: #f0f8ff;}#sk-container-id-1 div.sk-toggleable__content pre {margin: 0.2em;color: black;border-radius: 0.25em;background-color: #f0f8ff;}#sk-container-id-1 input.sk-toggleable__control:checked~div.sk-toggleable__content {max-height: 200px;max-width: 100%;overflow: auto;}#sk-container-id-1 input.sk-toggleable__control:checked~label.sk-toggleable__label-arrow:before {content: \"▾\";}#sk-container-id-1 div.sk-estimator input.sk-toggleable__control:checked~label.sk-toggleable__label {background-color: #d4ebff;}#sk-container-id-1 div.sk-label input.sk-toggleable__control:checked~label.sk-toggleable__label {background-color: #d4ebff;}#sk-container-id-1 input.sk-hidden--visually {border: 0;clip: rect(1px 1px 1px 1px);clip: rect(1px, 1px, 1px, 1px);height: 1px;margin: -1px;overflow: hidden;padding: 0;position: absolute;width: 1px;}#sk-container-id-1 div.sk-estimator {font-family: monospace;background-color: #f0f8ff;border: 1px dotted black;border-radius: 0.25em;box-sizing: border-box;margin-bottom: 0.5em;}#sk-container-id-1 div.sk-estimator:hover {background-color: #d4ebff;}#sk-container-id-1 div.sk-parallel-item::after {content: \"\";width: 100%;border-bottom: 1px solid gray;flex-grow: 1;}#sk-container-id-1 div.sk-label:hover label.sk-toggleable__label {background-color: #d4ebff;}#sk-container-id-1 div.sk-serial::before {content: \"\";position: absolute;border-left: 1px solid gray;box-sizing: border-box;top: 0;bottom: 0;left: 50%;z-index: 0;}#sk-container-id-1 div.sk-serial {display: flex;flex-direction: column;align-items: center;background-color: white;padding-right: 0.2em;padding-left: 0.2em;position: relative;}#sk-container-id-1 div.sk-item {position: relative;z-index: 1;}#sk-container-id-1 div.sk-parallel {display: flex;align-items: stretch;justify-content: center;background-color: white;position: relative;}#sk-container-id-1 div.sk-item::before, #sk-container-id-1 div.sk-parallel-item::before {content: \"\";position: absolute;border-left: 1px solid gray;box-sizing: border-box;top: 0;bottom: 0;left: 50%;z-index: -1;}#sk-container-id-1 div.sk-parallel-item {display: flex;flex-direction: column;z-index: 1;position: relative;background-color: white;}#sk-container-id-1 div.sk-parallel-item:first-child::after {align-self: flex-end;width: 50%;}#sk-container-id-1 div.sk-parallel-item:last-child::after {align-self: flex-start;width: 50%;}#sk-container-id-1 div.sk-parallel-item:only-child::after {width: 0;}#sk-container-id-1 div.sk-dashed-wrapped {border: 1px dashed gray;margin: 0 0.4em 0.5em 0.4em;box-sizing: border-box;padding-bottom: 0.4em;background-color: white;}#sk-container-id-1 div.sk-label label {font-family: monospace;font-weight: bold;display: inline-block;line-height: 1.2em;}#sk-container-id-1 div.sk-label-container {text-align: center;}#sk-container-id-1 div.sk-container {/* jupyter's `normalize.less` sets `[hidden] { display: none; }` but bootstrap.min.css set `[hidden] { display: none !important; }` so we also need the `!important` here to be able to override the default hidden behavior on the sphinx rendered scikit-learn.org. See: https://github.com/scikit-learn/scikit-learn/issues/21755 */display: inline-block !important;position: relative;}#sk-container-id-1 div.sk-text-repr-fallback {display: none;}</style><div id=\"sk-container-id-1\" class=\"sk-top-container\"><div class=\"sk-text-repr-fallback\"><pre>GridSearchCV(cv=5, estimator=DecisionTreeClassifier(),\n",
       "             param_grid={&#x27;criterion&#x27;: [&#x27;gini&#x27;, &#x27;entropy&#x27;],\n",
       "                         &#x27;max_depth&#x27;: [2, 3, 4, 5],\n",
       "                         &#x27;min_samples_leaf&#x27;: [5, 10, 12, 15, 20, 30],\n",
       "                         &#x27;min_samples_split&#x27;: [2, 3, 4, 5, 6, 8]},\n",
       "             scoring=make_scorer(recall_score, average=weighted))</pre><b>In a Jupyter environment, please rerun this cell to show the HTML representation or trust the notebook. <br />On GitHub, the HTML representation is unable to render, please try loading this page with nbviewer.org.</b></div><div class=\"sk-container\" hidden><div class=\"sk-item sk-dashed-wrapped\"><div class=\"sk-label-container\"><div class=\"sk-label sk-toggleable\"><input class=\"sk-toggleable__control sk-hidden--visually\" id=\"sk-estimator-id-1\" type=\"checkbox\" ><label for=\"sk-estimator-id-1\" class=\"sk-toggleable__label sk-toggleable__label-arrow\">GridSearchCV</label><div class=\"sk-toggleable__content\"><pre>GridSearchCV(cv=5, estimator=DecisionTreeClassifier(),\n",
       "             param_grid={&#x27;criterion&#x27;: [&#x27;gini&#x27;, &#x27;entropy&#x27;],\n",
       "                         &#x27;max_depth&#x27;: [2, 3, 4, 5],\n",
       "                         &#x27;min_samples_leaf&#x27;: [5, 10, 12, 15, 20, 30],\n",
       "                         &#x27;min_samples_split&#x27;: [2, 3, 4, 5, 6, 8]},\n",
       "             scoring=make_scorer(recall_score, average=weighted))</pre></div></div></div><div class=\"sk-parallel\"><div class=\"sk-parallel-item\"><div class=\"sk-item\"><div class=\"sk-label-container\"><div class=\"sk-label sk-toggleable\"><input class=\"sk-toggleable__control sk-hidden--visually\" id=\"sk-estimator-id-2\" type=\"checkbox\" ><label for=\"sk-estimator-id-2\" class=\"sk-toggleable__label sk-toggleable__label-arrow\">estimator: DecisionTreeClassifier</label><div class=\"sk-toggleable__content\"><pre>DecisionTreeClassifier()</pre></div></div></div><div class=\"sk-serial\"><div class=\"sk-item\"><div class=\"sk-estimator sk-toggleable\"><input class=\"sk-toggleable__control sk-hidden--visually\" id=\"sk-estimator-id-3\" type=\"checkbox\" ><label for=\"sk-estimator-id-3\" class=\"sk-toggleable__label sk-toggleable__label-arrow\">DecisionTreeClassifier</label><div class=\"sk-toggleable__content\"><pre>DecisionTreeClassifier()</pre></div></div></div></div></div></div></div></div></div></div>"
      ],
      "text/plain": [
       "GridSearchCV(cv=5, estimator=DecisionTreeClassifier(),\n",
       "             param_grid={'criterion': ['gini', 'entropy'],\n",
       "                         'max_depth': [2, 3, 4, 5],\n",
       "                         'min_samples_leaf': [5, 10, 12, 15, 20, 30],\n",
       "                         'min_samples_split': [2, 3, 4, 5, 6, 8]},\n",
       "             scoring=make_scorer(recall_score, average=weighted))"
      ]
     },
     "execution_count": 40,
     "metadata": {},
     "output_type": "execute_result"
    }
   ],
   "source": [
    "# create a decision tree classifier instance\n",
    "DTclf = DecisionTreeClassifier()\n",
    "\n",
    "# weighted recall is chosen as performance metrics\n",
    "weighted_recall = make_scorer(recall_score, average='weighted')\n",
    "\n",
    "# define the hyperparameter grid to search over\n",
    "param_grid = {\n",
    "    'criterion':['gini','entropy'],\n",
    "    'max_depth': [*range(2,6)],\n",
    "    'min_samples_split': [2, 3, 4, 5, 6, 8],\n",
    "    'min_samples_leaf': [5, 10, 12, 15, 20, 30],\n",
    "}\n",
    "\n",
    "# create a GridSearchCV instance with the decision tree classifier and hyperparameter grid\n",
    "grid_search = GridSearchCV(DTclf, param_grid=param_grid, scoring=weighted_recall, cv=5)\n",
    "\n",
    "# fit the GridSearchCV instance on the data\n",
    "grid_search.fit(X_train, y_train)"
   ]
  },
  {
   "cell_type": "markdown",
   "metadata": {},
   "source": [
    "##### Test Model"
   ]
  },
  {
   "cell_type": "code",
   "execution_count": 41,
   "metadata": {},
   "outputs": [
    {
     "name": "stdout",
     "output_type": "stream",
     "text": [
      "Best Train Score: 0.901719 ,Test Score: 0.902602\n"
     ]
    }
   ],
   "source": [
    "vanila_model = DecisionTreeClassifier(**grid_search.best_params_)\n",
    "\n",
    "# measure time to train the best estimator model and its size\n",
    "best_clf, dt_time_to_train, dt_model_size = model_measure(vanila_model, X_train, y_train)\n",
    "\n",
    "dt_train_score = grid_search.best_score_\n",
    "y_pred = best_clf.predict(X_test)\n",
    "\n",
    "dt_test_score, dt_test_acc, dt_test_prec, dt_test_roc, conf_mat = eval_metrics(y_test, y_pred)\n",
    "print('Best Train Score:',round(dt_train_score,6),',Test Score:', round(dt_test_score,6))"
   ]
  },
  {
   "cell_type": "markdown",
   "metadata": {},
   "source": [
    "##### Confusion Matrix"
   ]
  },
  {
   "cell_type": "code",
   "execution_count": 42,
   "metadata": {},
   "outputs": [
    {
     "data": {
      "image/png": "[encoded data removed]",
      "text/plain": [
       "<Figure size 640x480 with 2 Axes>"
      ]
     },
     "metadata": {},
     "output_type": "display_data"
    }
   ],
   "source": [
    "# create the confusion matrix display\n",
    "cmd = ConfusionMatrixDisplay(conf_mat, display_labels=['no', 'yes'])\n",
    "\n",
    "# plot the confusion matrix\n",
    "cmd.plot(cmap=plt.cm.Blues)\n",
    "\n",
    "# add a title and axis labels\n",
    "plt.title('Confusion matrix of DTclf')\n",
    "plt.xlabel('Predicted label')\n",
    "plt.ylabel('True label')\n",
    "\n",
    "# show the plot\n",
    "plt.show()"
   ]
  },
  {
   "attachments": {},
   "cell_type": "markdown",
   "metadata": {},
   "source": [
    "##### Storing model train & test metrics"
   ]
  },
  {
   "cell_type": "code",
   "execution_count": 43,
   "metadata": {},
   "outputs": [
    {
     "data": {
      "text/html": [
       "<div><div id=f9d92266-2878-4898-89fc-d06a0834784b style=\"display:none; background-color:#9D6CFF; color:white; width:200px; height:30px; padding-left:5px; border-radius:4px; flex-direction:row; justify-content:space-around; align-items:center;\" onmouseover=\"this.style.backgroundColor='#BA9BF8'\" onmouseout=\"this.style.backgroundColor='#9D6CFF'\" onclick=\"window.commands?.execute('create-mitosheet-from-dataframe-output');\">See Full Dataframe in Mito</div> <script> if (window.commands?.hasCommand('create-mitosheet-from-dataframe-output')) document.getElementById('f9d92266-2878-4898-89fc-d06a0834784b').style.display = 'flex' </script> <table border=\"1\" class=\"dataframe\">\n",
       "  <thead>\n",
       "    <tr style=\"text-align: right;\">\n",
       "      <th></th>\n",
       "      <th>train_whtd_rcl</th>\n",
       "      <th>test_whtd_rcl</th>\n",
       "      <th>test_acc</th>\n",
       "      <th>test_prec</th>\n",
       "      <th>test_roc</th>\n",
       "      <th>time_to_train(ns)</th>\n",
       "      <th>model_size(KB)</th>\n",
       "    </tr>\n",
       "  </thead>\n",
       "  <tbody>\n",
       "    <tr>\n",
       "      <th>DTclf</th>\n",
       "      <td>0.901719</td>\n",
       "      <td>0.902602</td>\n",
       "      <td>0.902602</td>\n",
       "      <td>0.643432</td>\n",
       "      <td>0.631061</td>\n",
       "      <td>122392500.0</td>\n",
       "      <td>5.635742</td>\n",
       "    </tr>\n",
       "  </tbody>\n",
       "</table></div>"
      ],
      "text/plain": [
       "       train_whtd_rcl  test_whtd_rcl  test_acc  test_prec  test_roc  \\\n",
       "DTclf        0.901719       0.902602  0.902602   0.643432  0.631061   \n",
       "\n",
       "       time_to_train(ns)  model_size(KB)  \n",
       "DTclf        122392500.0        5.635742  "
      ]
     },
     "execution_count": 43,
     "metadata": {},
     "output_type": "execute_result"
    }
   ],
   "source": [
    "model_scores = pd.DataFrame(columns=['train_whtd_rcl', 'test_whtd_rcl', 'test_acc', 'test_prec', 'test_roc','time_to_train(ns)','model_size(KB)'])\n",
    "model_scores.loc['DTclf'] = [dt_train_score, dt_test_score, dt_test_acc, dt_test_prec, dt_test_roc, dt_time_to_train, dt_model_size]\n",
    "model_scores"
   ]
  },
  {
   "attachments": {},
   "cell_type": "markdown",
   "metadata": {},
   "source": [
    "BEST PARAMETERS"
   ]
  },
  {
   "cell_type": "code",
   "execution_count": 44,
   "metadata": {},
   "outputs": [
    {
     "name": "stdout",
     "output_type": "stream",
     "text": [
      "Best hyperparameters:  {'criterion': 'gini', 'max_depth': 5, 'min_samples_leaf': 20, 'min_samples_split': 3}\n"
     ]
    }
   ],
   "source": [
    "print(\"Best hyperparameters: \", grid_search.best_params_)"
   ]
  },
  {
   "attachments": {},
   "cell_type": "markdown",
   "metadata": {},
   "source": [
    "#### Tree Graphics"
   ]
  },
  {
   "cell_type": "code",
   "execution_count": 45,
   "metadata": {},
   "outputs": [
    {
     "data": {
      "image/svg+xml": [
       "<?xml version=\"1.0\" encoding=\"UTF-8\" standalone=\"no\"?>\n",
       "<!DOCTYPE svg PUBLIC \"-//W3C//DTD SVG 1.1//EN\"\n",
       " \"http://www.w3.org/Graphics/SVG/1.1/DTD/svg11.dtd\">\n",
       "<!-- Generated by graphviz version 7.1.0 (20230121.1956)\n",
       " -->\n",
       "<!-- Title: Tree Pages: 1 -->\n",
       "<svg width=\"3702pt\" height=\"671pt\"\n",
       " viewBox=\"0.00 0.00 3702.00 671.00\" xmlns=\"http://www.w3.org/2000/svg\" xmlns:xlink=\"http://www.w3.org/1999/xlink\">\n",
       "<g id=\"graph0\" class=\"graph\" transform=\"scale(1 1) rotate(0) translate(4 667)\">\n",
       "<title>Tree</title>\n",
       "<polygon fill=\"white\" stroke=\"none\" points=\"-4,4 -4,-667 3698,-667 3698,4 -4,4\"/>\n",
       "<!-- 0 -->\n",
       "<g id=\"node1\" class=\"node\">\n",
       "<title>0</title>\n",
       "<path fill=\"#e89152\" stroke=\"black\" d=\"M2085.5,-663C2085.5,-663 1945.5,-663 1945.5,-663 1939.5,-663 1933.5,-657 1933.5,-651 1933.5,-651 1933.5,-592 1933.5,-592 1933.5,-586 1939.5,-580 1945.5,-580 1945.5,-580 2085.5,-580 2085.5,-580 2091.5,-580 2097.5,-586 2097.5,-592 2097.5,-592 2097.5,-651 2097.5,-651 2097.5,-657 2091.5,-663 2085.5,-663\"/>\n",
       "<text text-anchor=\"start\" x=\"1941.5\" y=\"-647.8\" font-family=\"Helvetica,sans-Serif\" font-size=\"14.00\">nr.employed ≤ 5087.65</text>\n",
       "<text text-anchor=\"start\" x=\"1978\" y=\"-632.8\" font-family=\"Helvetica,sans-Serif\" font-size=\"14.00\">gini = 0.198</text>\n",
       "<text text-anchor=\"start\" x=\"1959.5\" y=\"-617.8\" font-family=\"Helvetica,sans-Serif\" font-size=\"14.00\">samples = 30596</text>\n",
       "<text text-anchor=\"start\" x=\"1946\" y=\"-602.8\" font-family=\"Helvetica,sans-Serif\" font-size=\"14.00\">value = [27190, 3406]</text>\n",
       "<text text-anchor=\"start\" x=\"1983\" y=\"-587.8\" font-family=\"Helvetica,sans-Serif\" font-size=\"14.00\">class = no</text>\n",
       "</g>\n",
       "<!-- 1 -->\n",
       "<g id=\"node2\" class=\"node\">\n",
       "<title>1</title>\n",
       "<path fill=\"#fae5d6\" stroke=\"black\" d=\"M1734.5,-544C1734.5,-544 1612.5,-544 1612.5,-544 1606.5,-544 1600.5,-538 1600.5,-532 1600.5,-532 1600.5,-473 1600.5,-473 1600.5,-467 1606.5,-461 1612.5,-461 1612.5,-461 1734.5,-461 1734.5,-461 1740.5,-461 1746.5,-467 1746.5,-473 1746.5,-473 1746.5,-532 1746.5,-532 1746.5,-538 1740.5,-544 1734.5,-544\"/>\n",
       "<text text-anchor=\"start\" x=\"1632.5\" y=\"-528.8\" font-family=\"Helvetica,sans-Serif\" font-size=\"14.00\">pdays ≤ 16.5</text>\n",
       "<text text-anchor=\"start\" x=\"1636\" y=\"-513.8\" font-family=\"Helvetica,sans-Serif\" font-size=\"14.00\">gini = 0.493</text>\n",
       "<text text-anchor=\"start\" x=\"1622\" y=\"-498.8\" font-family=\"Helvetica,sans-Serif\" font-size=\"14.00\">samples = 3539</text>\n",
       "<text text-anchor=\"start\" x=\"1608.5\" y=\"-483.8\" font-family=\"Helvetica,sans-Serif\" font-size=\"14.00\">value = [1972, 1567]</text>\n",
       "<text text-anchor=\"start\" x=\"1641\" y=\"-468.8\" font-family=\"Helvetica,sans-Serif\" font-size=\"14.00\">class = no</text>\n",
       "</g>\n",
       "<!-- 0&#45;&gt;1 -->\n",
       "<g id=\"edge1\" class=\"edge\">\n",
       "<title>0&#45;&gt;1</title>\n",
       "<path fill=\"none\" stroke=\"black\" d=\"M1933.15,-592.33C1880.08,-574.17 1811.26,-550.63 1757.81,-532.34\"/>\n",
       "<polygon fill=\"black\" stroke=\"black\" points=\"1759.02,-529.06 1748.43,-529.13 1756.75,-535.68 1759.02,-529.06\"/>\n",
       "<text text-anchor=\"middle\" x=\"1758\" y=\"-547.39\" font-family=\"Helvetica,sans-Serif\" font-size=\"14.00\">True</text>\n",
       "</g>\n",
       "<!-- 32 -->\n",
       "<g id=\"node33\" class=\"node\">\n",
       "<title>32</title>\n",
       "<path fill=\"#e78a47\" stroke=\"black\" d=\"M2753,-544C2753,-544 2620,-544 2620,-544 2614,-544 2608,-538 2608,-532 2608,-532 2608,-473 2608,-473 2608,-467 2614,-461 2620,-461 2620,-461 2753,-461 2753,-461 2759,-461 2765,-467 2765,-473 2765,-473 2765,-532 2765,-532 2765,-538 2759,-544 2753,-544\"/>\n",
       "<text text-anchor=\"start\" x=\"2616\" y=\"-528.8\" font-family=\"Helvetica,sans-Serif\" font-size=\"14.00\">cons.conf.idx ≤ &#45;46.65</text>\n",
       "<text text-anchor=\"start\" x=\"2649\" y=\"-513.8\" font-family=\"Helvetica,sans-Serif\" font-size=\"14.00\">gini = 0.127</text>\n",
       "<text text-anchor=\"start\" x=\"2630.5\" y=\"-498.8\" font-family=\"Helvetica,sans-Serif\" font-size=\"14.00\">samples = 27057</text>\n",
       "<text text-anchor=\"start\" x=\"2617\" y=\"-483.8\" font-family=\"Helvetica,sans-Serif\" font-size=\"14.00\">value = [25218, 1839]</text>\n",
       "<text text-anchor=\"start\" x=\"2654\" y=\"-468.8\" font-family=\"Helvetica,sans-Serif\" font-size=\"14.00\">class = no</text>\n",
       "</g>\n",
       "<!-- 0&#45;&gt;32 -->\n",
       "<g id=\"edge32\" class=\"edge\">\n",
       "<title>0&#45;&gt;32</title>\n",
       "<path fill=\"none\" stroke=\"black\" d=\"M2097.78,-606.15C2224.27,-584.1 2465.59,-542.02 2596.56,-519.18\"/>\n",
       "<polygon fill=\"black\" stroke=\"black\" points=\"2596.98,-522.66 2606.23,-517.5 2595.78,-515.77 2596.98,-522.66\"/>\n",
       "<text text-anchor=\"middle\" x=\"2593.34\" y=\"-533.99\" font-family=\"Helvetica,sans-Serif\" font-size=\"14.00\">False</text>\n",
       "</g>\n",
       "<!-- 2 -->\n",
       "<g id=\"node3\" class=\"node\">\n",
       "<title>2</title>\n",
       "<path fill=\"#8dc6f0\" stroke=\"black\" d=\"M851.5,-425C851.5,-425 711.5,-425 711.5,-425 705.5,-425 699.5,-419 699.5,-413 699.5,-413 699.5,-354 699.5,-354 699.5,-348 705.5,-342 711.5,-342 711.5,-342 851.5,-342 851.5,-342 857.5,-342 863.5,-348 863.5,-354 863.5,-354 863.5,-413 863.5,-413 863.5,-419 857.5,-425 851.5,-425\"/>\n",
       "<text text-anchor=\"start\" x=\"707.5\" y=\"-409.8\" font-family=\"Helvetica,sans-Serif\" font-size=\"14.00\">nr.employed ≤ 5049.85</text>\n",
       "<text text-anchor=\"start\" x=\"744\" y=\"-394.8\" font-family=\"Helvetica,sans-Serif\" font-size=\"14.00\">gini = 0.417</text>\n",
       "<text text-anchor=\"start\" x=\"734\" y=\"-379.8\" font-family=\"Helvetica,sans-Serif\" font-size=\"14.00\">samples = 863</text>\n",
       "<text text-anchor=\"start\" x=\"724.5\" y=\"-364.8\" font-family=\"Helvetica,sans-Serif\" font-size=\"14.00\">value = [256, 607]</text>\n",
       "<text text-anchor=\"start\" x=\"745.5\" y=\"-349.8\" font-family=\"Helvetica,sans-Serif\" font-size=\"14.00\">class = yes</text>\n",
       "</g>\n",
       "<!-- 1&#45;&gt;2 -->\n",
       "<g id=\"edge2\" class=\"edge\">\n",
       "<title>1&#45;&gt;2</title>\n",
       "<path fill=\"none\" stroke=\"black\" d=\"M1600.12,-491.88C1438.76,-470.71 1053.28,-420.15 874.95,-396.76\"/>\n",
       "<polygon fill=\"black\" stroke=\"black\" points=\"875.63,-393.32 865.26,-395.49 874.72,-400.26 875.63,-393.32\"/>\n",
       "</g>\n",
       "<!-- 17 -->\n",
       "<g id=\"node18\" class=\"node\">\n",
       "<title>17</title>\n",
       "<path fill=\"#f4c7a8\" stroke=\"black\" d=\"M1746,-425C1746,-425 1601,-425 1601,-425 1595,-425 1589,-419 1589,-413 1589,-413 1589,-354 1589,-354 1589,-348 1595,-342 1601,-342 1601,-342 1746,-342 1746,-342 1752,-342 1758,-348 1758,-354 1758,-354 1758,-413 1758,-413 1758,-419 1752,-425 1746,-425\"/>\n",
       "<text text-anchor=\"start\" x=\"1597\" y=\"-409.8\" font-family=\"Helvetica,sans-Serif\" font-size=\"14.00\">contact_telephone ≤ 0.5</text>\n",
       "<text text-anchor=\"start\" x=\"1640\" y=\"-394.8\" font-family=\"Helvetica,sans-Serif\" font-size=\"14.00\">gini = 0.46</text>\n",
       "<text text-anchor=\"start\" x=\"1622\" y=\"-379.8\" font-family=\"Helvetica,sans-Serif\" font-size=\"14.00\">samples = 2676</text>\n",
       "<text text-anchor=\"start\" x=\"1612.5\" y=\"-364.8\" font-family=\"Helvetica,sans-Serif\" font-size=\"14.00\">value = [1716, 960]</text>\n",
       "<text text-anchor=\"start\" x=\"1641\" y=\"-349.8\" font-family=\"Helvetica,sans-Serif\" font-size=\"14.00\">class = no</text>\n",
       "</g>\n",
       "<!-- 1&#45;&gt;17 -->\n",
       "<g id=\"edge17\" class=\"edge\">\n",
       "<title>1&#45;&gt;17</title>\n",
       "<path fill=\"none\" stroke=\"black\" d=\"M1673.5,-460.58C1673.5,-452.79 1673.5,-444.53 1673.5,-436.45\"/>\n",
       "<polygon fill=\"black\" stroke=\"black\" points=\"1677,-436.71 1673.5,-426.71 1670,-436.71 1677,-436.71\"/>\n",
       "</g>\n",
       "<!-- 3 -->\n",
       "<g id=\"node4\" class=\"node\">\n",
       "<title>3</title>\n",
       "<path fill=\"#80c0ee\" stroke=\"black\" d=\"M481,-306C481,-306 328,-306 328,-306 322,-306 316,-300 316,-294 316,-294 316,-235 316,-235 316,-229 322,-223 328,-223 328,-223 481,-223 481,-223 487,-223 493,-229 493,-235 493,-235 493,-294 493,-294 493,-300 487,-306 481,-306\"/>\n",
       "<text text-anchor=\"start\" x=\"324\" y=\"-290.8\" font-family=\"Helvetica,sans-Serif\" font-size=\"14.00\">poutcome_success ≤ 0.5</text>\n",
       "<text text-anchor=\"start\" x=\"367\" y=\"-275.8\" font-family=\"Helvetica,sans-Serif\" font-size=\"14.00\">gini = 0.388</text>\n",
       "<text text-anchor=\"start\" x=\"357\" y=\"-260.8\" font-family=\"Helvetica,sans-Serif\" font-size=\"14.00\">samples = 690</text>\n",
       "<text text-anchor=\"start\" x=\"347.5\" y=\"-245.8\" font-family=\"Helvetica,sans-Serif\" font-size=\"14.00\">value = [182, 508]</text>\n",
       "<text text-anchor=\"start\" x=\"368.5\" y=\"-230.8\" font-family=\"Helvetica,sans-Serif\" font-size=\"14.00\">class = yes</text>\n",
       "</g>\n",
       "<!-- 2&#45;&gt;3 -->\n",
       "<g id=\"edge3\" class=\"edge\">\n",
       "<title>2&#45;&gt;3</title>\n",
       "<path fill=\"none\" stroke=\"black\" d=\"M699.23,-356.97C641.8,-339.14 564.83,-315.26 503.95,-296.36\"/>\n",
       "<polygon fill=\"black\" stroke=\"black\" points=\"505.2,-293.09 494.62,-293.47 503.13,-299.77 505.2,-293.09\"/>\n",
       "</g>\n",
       "<!-- 10 -->\n",
       "<g id=\"node11\" class=\"node\">\n",
       "<title>10</title>\n",
       "<path fill=\"#cde6f8\" stroke=\"black\" d=\"M836,-306C836,-306 727,-306 727,-306 721,-306 715,-300 715,-294 715,-294 715,-235 715,-235 715,-229 721,-223 727,-223 727,-223 836,-223 836,-223 842,-223 848,-229 848,-235 848,-235 848,-294 848,-294 848,-300 842,-306 836,-306\"/>\n",
       "<text text-anchor=\"start\" x=\"723\" y=\"-290.8\" font-family=\"Helvetica,sans-Serif\" font-size=\"14.00\">euribor3m ≤ 0.865</text>\n",
       "<text text-anchor=\"start\" x=\"748\" y=\"-275.8\" font-family=\"Helvetica,sans-Serif\" font-size=\"14.00\">gini = 0.49</text>\n",
       "<text text-anchor=\"start\" x=\"734\" y=\"-260.8\" font-family=\"Helvetica,sans-Serif\" font-size=\"14.00\">samples = 173</text>\n",
       "<text text-anchor=\"start\" x=\"733\" y=\"-245.8\" font-family=\"Helvetica,sans-Serif\" font-size=\"14.00\">value = [74, 99]</text>\n",
       "<text text-anchor=\"start\" x=\"745.5\" y=\"-230.8\" font-family=\"Helvetica,sans-Serif\" font-size=\"14.00\">class = yes</text>\n",
       "</g>\n",
       "<!-- 2&#45;&gt;10 -->\n",
       "<g id=\"edge10\" class=\"edge\">\n",
       "<title>2&#45;&gt;10</title>\n",
       "<path fill=\"none\" stroke=\"black\" d=\"M781.5,-341.58C781.5,-333.79 781.5,-325.53 781.5,-317.45\"/>\n",
       "<polygon fill=\"black\" stroke=\"black\" points=\"785,-317.71 781.5,-307.71 778,-317.71 785,-317.71\"/>\n",
       "</g>\n",
       "<!-- 4 -->\n",
       "<g id=\"node5\" class=\"node\">\n",
       "<title>4</title>\n",
       "<path fill=\"#d3e9f9\" stroke=\"black\" d=\"M245,-187C245,-187 130,-187 130,-187 124,-187 118,-181 118,-175 118,-175 118,-116 118,-116 118,-110 124,-104 130,-104 130,-104 245,-104 245,-104 251,-104 257,-110 257,-116 257,-116 257,-175 257,-175 257,-181 251,-187 245,-187\"/>\n",
       "<text text-anchor=\"start\" x=\"126\" y=\"-171.8\" font-family=\"Helvetica,sans-Serif\" font-size=\"14.00\">marital_single ≤ 0.5</text>\n",
       "<text text-anchor=\"start\" x=\"150\" y=\"-156.8\" font-family=\"Helvetica,sans-Serif\" font-size=\"14.00\">gini = 0.492</text>\n",
       "<text text-anchor=\"start\" x=\"144\" y=\"-141.8\" font-family=\"Helvetica,sans-Serif\" font-size=\"14.00\">samples = 64</text>\n",
       "<text text-anchor=\"start\" x=\"139\" y=\"-126.8\" font-family=\"Helvetica,sans-Serif\" font-size=\"14.00\">value = [28, 36]</text>\n",
       "<text text-anchor=\"start\" x=\"151.5\" y=\"-111.8\" font-family=\"Helvetica,sans-Serif\" font-size=\"14.00\">class = yes</text>\n",
       "</g>\n",
       "<!-- 3&#45;&gt;4 -->\n",
       "<g id=\"edge4\" class=\"edge\">\n",
       "<title>3&#45;&gt;4</title>\n",
       "<path fill=\"none\" stroke=\"black\" d=\"M328.6,-222.58C308.74,-211.87 287.27,-200.29 267.21,-189.48\"/>\n",
       "<polygon fill=\"black\" stroke=\"black\" points=\"268.97,-186.45 258.51,-184.79 265.65,-192.61 268.97,-186.45\"/>\n",
       "</g>\n",
       "<!-- 7 -->\n",
       "<g id=\"node8\" class=\"node\">\n",
       "<title>7</title>\n",
       "<path fill=\"#7abded\" stroke=\"black\" d=\"M457.5,-187C457.5,-187 351.5,-187 351.5,-187 345.5,-187 339.5,-181 339.5,-175 339.5,-175 339.5,-116 339.5,-116 339.5,-110 345.5,-104 351.5,-104 351.5,-104 457.5,-104 457.5,-104 463.5,-104 469.5,-110 469.5,-116 469.5,-116 469.5,-175 469.5,-175 469.5,-181 463.5,-187 457.5,-187\"/>\n",
       "<text text-anchor=\"start\" x=\"356\" y=\"-171.8\" font-family=\"Helvetica,sans-Serif\" font-size=\"14.00\">campaign ≤ 3.5</text>\n",
       "<text text-anchor=\"start\" x=\"367\" y=\"-156.8\" font-family=\"Helvetica,sans-Serif\" font-size=\"14.00\">gini = 0.371</text>\n",
       "<text text-anchor=\"start\" x=\"357\" y=\"-141.8\" font-family=\"Helvetica,sans-Serif\" font-size=\"14.00\">samples = 626</text>\n",
       "<text text-anchor=\"start\" x=\"347.5\" y=\"-126.8\" font-family=\"Helvetica,sans-Serif\" font-size=\"14.00\">value = [154, 472]</text>\n",
       "<text text-anchor=\"start\" x=\"368.5\" y=\"-111.8\" font-family=\"Helvetica,sans-Serif\" font-size=\"14.00\">class = yes</text>\n",
       "</g>\n",
       "<!-- 3&#45;&gt;7 -->\n",
       "<g id=\"edge7\" class=\"edge\">\n",
       "<title>3&#45;&gt;7</title>\n",
       "<path fill=\"none\" stroke=\"black\" d=\"M404.5,-222.58C404.5,-214.79 404.5,-206.53 404.5,-198.45\"/>\n",
       "<polygon fill=\"black\" stroke=\"black\" points=\"408,-198.71 404.5,-188.71 401,-198.71 408,-198.71\"/>\n",
       "</g>\n",
       "<!-- 5 -->\n",
       "<g id=\"node6\" class=\"node\">\n",
       "<title>5</title>\n",
       "<path fill=\"#a0d0f3\" stroke=\"black\" d=\"M101,-68C101,-68 12,-68 12,-68 6,-68 0,-62 0,-56 0,-56 0,-12 0,-12 0,-6 6,0 12,0 12,0 101,0 101,0 107,0 113,-6 113,-12 113,-12 113,-56 113,-56 113,-62 107,-68 101,-68\"/>\n",
       "<text text-anchor=\"start\" x=\"23\" y=\"-52.8\" font-family=\"Helvetica,sans-Serif\" font-size=\"14.00\">gini = 0.45</text>\n",
       "<text text-anchor=\"start\" x=\"13\" y=\"-37.8\" font-family=\"Helvetica,sans-Serif\" font-size=\"14.00\">samples = 38</text>\n",
       "<text text-anchor=\"start\" x=\"8\" y=\"-22.8\" font-family=\"Helvetica,sans-Serif\" font-size=\"14.00\">value = [13, 25]</text>\n",
       "<text text-anchor=\"start\" x=\"20.5\" y=\"-7.8\" font-family=\"Helvetica,sans-Serif\" font-size=\"14.00\">class = yes</text>\n",
       "</g>\n",
       "<!-- 4&#45;&gt;5 -->\n",
       "<g id=\"edge5\" class=\"edge\">\n",
       "<title>4&#45;&gt;5</title>\n",
       "<path fill=\"none\" stroke=\"black\" d=\"M138.72,-103.73C127.7,-94.51 116,-84.74 104.99,-75.53\"/>\n",
       "<polygon fill=\"black\" stroke=\"black\" points=\"107.42,-73 97.5,-69.27 102.93,-78.37 107.42,-73\"/>\n",
       "</g>\n",
       "<!-- 6 -->\n",
       "<g id=\"node7\" class=\"node\">\n",
       "<title>6</title>\n",
       "<path fill=\"#f8ddca\" stroke=\"black\" d=\"M232,-68C232,-68 143,-68 143,-68 137,-68 131,-62 131,-56 131,-56 131,-12 131,-12 131,-6 137,0 143,0 143,0 232,0 232,0 238,0 244,-6 244,-12 244,-12 244,-56 244,-56 244,-62 238,-68 232,-68\"/>\n",
       "<text text-anchor=\"start\" x=\"150\" y=\"-52.8\" font-family=\"Helvetica,sans-Serif\" font-size=\"14.00\">gini = 0.488</text>\n",
       "<text text-anchor=\"start\" x=\"144\" y=\"-37.8\" font-family=\"Helvetica,sans-Serif\" font-size=\"14.00\">samples = 26</text>\n",
       "<text text-anchor=\"start\" x=\"139\" y=\"-22.8\" font-family=\"Helvetica,sans-Serif\" font-size=\"14.00\">value = [15, 11]</text>\n",
       "<text text-anchor=\"start\" x=\"155\" y=\"-7.8\" font-family=\"Helvetica,sans-Serif\" font-size=\"14.00\">class = no</text>\n",
       "</g>\n",
       "<!-- 4&#45;&gt;6 -->\n",
       "<g id=\"edge6\" class=\"edge\">\n",
       "<title>4&#45;&gt;6</title>\n",
       "<path fill=\"none\" stroke=\"black\" d=\"M187.5,-103.73C187.5,-95.88 187.5,-87.63 187.5,-79.67\"/>\n",
       "<polygon fill=\"black\" stroke=\"black\" points=\"191,-79.81 187.5,-69.81 184,-79.81 191,-79.81\"/>\n",
       "</g>\n",
       "<!-- 8 -->\n",
       "<g id=\"node9\" class=\"node\">\n",
       "<title>8</title>\n",
       "<path fill=\"#75bbed\" stroke=\"black\" d=\"M380.5,-68C380.5,-68 274.5,-68 274.5,-68 268.5,-68 262.5,-62 262.5,-56 262.5,-56 262.5,-12 262.5,-12 262.5,-6 268.5,0 274.5,0 274.5,0 380.5,0 380.5,0 386.5,0 392.5,-6 392.5,-12 392.5,-12 392.5,-56 392.5,-56 392.5,-62 386.5,-68 380.5,-68\"/>\n",
       "<text text-anchor=\"start\" x=\"290\" y=\"-52.8\" font-family=\"Helvetica,sans-Serif\" font-size=\"14.00\">gini = 0.357</text>\n",
       "<text text-anchor=\"start\" x=\"280\" y=\"-37.8\" font-family=\"Helvetica,sans-Serif\" font-size=\"14.00\">samples = 576</text>\n",
       "<text text-anchor=\"start\" x=\"270.5\" y=\"-22.8\" font-family=\"Helvetica,sans-Serif\" font-size=\"14.00\">value = [134, 442]</text>\n",
       "<text text-anchor=\"start\" x=\"291.5\" y=\"-7.8\" font-family=\"Helvetica,sans-Serif\" font-size=\"14.00\">class = yes</text>\n",
       "</g>\n",
       "<!-- 7&#45;&gt;8 -->\n",
       "<g id=\"edge8\" class=\"edge\">\n",
       "<title>7&#45;&gt;8</title>\n",
       "<path fill=\"none\" stroke=\"black\" d=\"M375.83,-103.73C369.8,-95.15 363.43,-86.09 357.35,-77.46\"/>\n",
       "<polygon fill=\"black\" stroke=\"black\" points=\"360.4,-75.7 351.79,-69.54 354.68,-79.73 360.4,-75.7\"/>\n",
       "</g>\n",
       "<!-- 9 -->\n",
       "<g id=\"node10\" class=\"node\">\n",
       "<title>9</title>\n",
       "<path fill=\"#bddef6\" stroke=\"black\" d=\"M512,-68C512,-68 423,-68 423,-68 417,-68 411,-62 411,-56 411,-56 411,-12 411,-12 411,-6 417,0 423,0 423,0 512,0 512,0 518,0 524,-6 524,-12 524,-12 524,-56 524,-56 524,-62 518,-68 512,-68\"/>\n",
       "<text text-anchor=\"start\" x=\"434\" y=\"-52.8\" font-family=\"Helvetica,sans-Serif\" font-size=\"14.00\">gini = 0.48</text>\n",
       "<text text-anchor=\"start\" x=\"424\" y=\"-37.8\" font-family=\"Helvetica,sans-Serif\" font-size=\"14.00\">samples = 50</text>\n",
       "<text text-anchor=\"start\" x=\"419\" y=\"-22.8\" font-family=\"Helvetica,sans-Serif\" font-size=\"14.00\">value = [20, 30]</text>\n",
       "<text text-anchor=\"start\" x=\"431.5\" y=\"-7.8\" font-family=\"Helvetica,sans-Serif\" font-size=\"14.00\">class = yes</text>\n",
       "</g>\n",
       "<!-- 7&#45;&gt;9 -->\n",
       "<g id=\"edge9\" class=\"edge\">\n",
       "<title>7&#45;&gt;9</title>\n",
       "<path fill=\"none\" stroke=\"black\" d=\"M427.96,-103.73C432.79,-95.34 437.88,-86.47 442.76,-78.01\"/>\n",
       "<polygon fill=\"black\" stroke=\"black\" points=\"445.63,-80.02 447.59,-69.61 439.57,-76.53 445.63,-80.02\"/>\n",
       "</g>\n",
       "<!-- 11 -->\n",
       "<g id=\"node12\" class=\"node\">\n",
       "<title>11</title>\n",
       "<path fill=\"#82c1ef\" stroke=\"black\" d=\"M757,-187C757,-187 668,-187 668,-187 662,-187 656,-181 656,-175 656,-175 656,-116 656,-116 656,-110 662,-104 668,-104 668,-104 757,-104 757,-104 763,-104 769,-110 769,-116 769,-116 769,-175 769,-175 769,-181 763,-187 757,-187\"/>\n",
       "<text text-anchor=\"start\" x=\"664\" y=\"-171.8\" font-family=\"Helvetica,sans-Serif\" font-size=\"14.00\">campaign ≤ 1.5</text>\n",
       "<text text-anchor=\"start\" x=\"675\" y=\"-156.8\" font-family=\"Helvetica,sans-Serif\" font-size=\"14.00\">gini = 0.393</text>\n",
       "<text text-anchor=\"start\" x=\"669\" y=\"-141.8\" font-family=\"Helvetica,sans-Serif\" font-size=\"14.00\">samples = 41</text>\n",
       "<text text-anchor=\"start\" x=\"664\" y=\"-126.8\" font-family=\"Helvetica,sans-Serif\" font-size=\"14.00\">value = [11, 30]</text>\n",
       "<text text-anchor=\"start\" x=\"676.5\" y=\"-111.8\" font-family=\"Helvetica,sans-Serif\" font-size=\"14.00\">class = yes</text>\n",
       "</g>\n",
       "<!-- 10&#45;&gt;11 -->\n",
       "<g id=\"edge11\" class=\"edge\">\n",
       "<title>10&#45;&gt;11</title>\n",
       "<path fill=\"none\" stroke=\"black\" d=\"M757.37,-222.58C752.51,-214.34 747.34,-205.58 742.32,-197.06\"/>\n",
       "<polygon fill=\"black\" stroke=\"black\" points=\"745.37,-195.34 737.27,-188.5 739.34,-198.9 745.37,-195.34\"/>\n",
       "</g>\n",
       "<!-- 14 -->\n",
       "<g id=\"node15\" class=\"node\">\n",
       "<title>14</title>\n",
       "<path fill=\"#eef6fd\" stroke=\"black\" d=\"M900,-187C900,-187 799,-187 799,-187 793,-187 787,-181 787,-175 787,-175 787,-116 787,-116 787,-110 793,-104 799,-104 799,-104 900,-104 900,-104 906,-104 912,-110 912,-116 912,-116 912,-175 912,-175 912,-181 906,-187 900,-187\"/>\n",
       "<text text-anchor=\"start\" x=\"795\" y=\"-171.8\" font-family=\"Helvetica,sans-Serif\" font-size=\"14.00\">euribor3m ≤ 0.88</text>\n",
       "<text text-anchor=\"start\" x=\"812\" y=\"-156.8\" font-family=\"Helvetica,sans-Serif\" font-size=\"14.00\">gini = 0.499</text>\n",
       "<text text-anchor=\"start\" x=\"802\" y=\"-141.8\" font-family=\"Helvetica,sans-Serif\" font-size=\"14.00\">samples = 132</text>\n",
       "<text text-anchor=\"start\" x=\"801\" y=\"-126.8\" font-family=\"Helvetica,sans-Serif\" font-size=\"14.00\">value = [63, 69]</text>\n",
       "<text text-anchor=\"start\" x=\"813.5\" y=\"-111.8\" font-family=\"Helvetica,sans-Serif\" font-size=\"14.00\">class = yes</text>\n",
       "</g>\n",
       "<!-- 10&#45;&gt;14 -->\n",
       "<g id=\"edge14\" class=\"edge\">\n",
       "<title>10&#45;&gt;14</title>\n",
       "<path fill=\"none\" stroke=\"black\" d=\"M805.28,-222.58C810.07,-214.34 815.16,-205.58 820.12,-197.06\"/>\n",
       "<polygon fill=\"black\" stroke=\"black\" points=\"823.09,-198.91 825.08,-188.51 817.03,-195.4 823.09,-198.91\"/>\n",
       "</g>\n",
       "<!-- 12 -->\n",
       "<g id=\"node13\" class=\"node\">\n",
       "<title>12</title>\n",
       "<path fill=\"#68b4eb\" stroke=\"black\" d=\"M635,-68C635,-68 554,-68 554,-68 548,-68 542,-62 542,-56 542,-56 542,-12 542,-12 542,-6 548,0 554,0 554,0 635,0 635,0 641,0 647,-6 647,-12 647,-12 647,-56 647,-56 647,-62 641,-68 635,-68\"/>\n",
       "<text text-anchor=\"start\" x=\"557\" y=\"-52.8\" font-family=\"Helvetica,sans-Serif\" font-size=\"14.00\">gini = 0.308</text>\n",
       "<text text-anchor=\"start\" x=\"551\" y=\"-37.8\" font-family=\"Helvetica,sans-Serif\" font-size=\"14.00\">samples = 21</text>\n",
       "<text text-anchor=\"start\" x=\"550\" y=\"-22.8\" font-family=\"Helvetica,sans-Serif\" font-size=\"14.00\">value = [4, 17]</text>\n",
       "<text text-anchor=\"start\" x=\"558.5\" y=\"-7.8\" font-family=\"Helvetica,sans-Serif\" font-size=\"14.00\">class = yes</text>\n",
       "</g>\n",
       "<!-- 11&#45;&gt;12 -->\n",
       "<g id=\"edge12\" class=\"edge\">\n",
       "<title>11&#45;&gt;12</title>\n",
       "<path fill=\"none\" stroke=\"black\" d=\"M668.56,-103.73C658.83,-94.7 648.51,-85.12 638.77,-76.08\"/>\n",
       "<polygon fill=\"black\" stroke=\"black\" points=\"641.2,-73.57 631.49,-69.33 636.44,-78.7 641.2,-73.57\"/>\n",
       "</g>\n",
       "<!-- 13 -->\n",
       "<g id=\"node14\" class=\"node\">\n",
       "<title>13</title>\n",
       "<path fill=\"#a4d2f3\" stroke=\"black\" d=\"M758,-68C758,-68 677,-68 677,-68 671,-68 665,-62 665,-56 665,-56 665,-12 665,-12 665,-6 671,0 677,0 677,0 758,0 758,0 764,0 770,-6 770,-12 770,-12 770,-56 770,-56 770,-62 764,-68 758,-68\"/>\n",
       "<text text-anchor=\"start\" x=\"680\" y=\"-52.8\" font-family=\"Helvetica,sans-Serif\" font-size=\"14.00\">gini = 0.455</text>\n",
       "<text text-anchor=\"start\" x=\"674\" y=\"-37.8\" font-family=\"Helvetica,sans-Serif\" font-size=\"14.00\">samples = 20</text>\n",
       "<text text-anchor=\"start\" x=\"673\" y=\"-22.8\" font-family=\"Helvetica,sans-Serif\" font-size=\"14.00\">value = [7, 13]</text>\n",
       "<text text-anchor=\"start\" x=\"681.5\" y=\"-7.8\" font-family=\"Helvetica,sans-Serif\" font-size=\"14.00\">class = yes</text>\n",
       "</g>\n",
       "<!-- 11&#45;&gt;13 -->\n",
       "<g id=\"edge13\" class=\"edge\">\n",
       "<title>11&#45;&gt;13</title>\n",
       "<path fill=\"none\" stroke=\"black\" d=\"M714.36,-103.73C714.72,-95.88 715.1,-87.63 715.46,-79.67\"/>\n",
       "<polygon fill=\"black\" stroke=\"black\" points=\"718.95,-79.96 715.91,-69.81 711.96,-79.64 718.95,-79.96\"/>\n",
       "</g>\n",
       "<!-- 15 -->\n",
       "<g id=\"node16\" class=\"node\">\n",
       "<title>15</title>\n",
       "<path fill=\"#f2c09c\" stroke=\"black\" d=\"M889,-68C889,-68 800,-68 800,-68 794,-68 788,-62 788,-56 788,-56 788,-12 788,-12 788,-6 794,0 800,0 800,0 889,0 889,0 895,0 901,-6 901,-12 901,-12 901,-56 901,-56 901,-62 895,-68 889,-68\"/>\n",
       "<text text-anchor=\"start\" x=\"807\" y=\"-52.8\" font-family=\"Helvetica,sans-Serif\" font-size=\"14.00\">gini = 0.444</text>\n",
       "<text text-anchor=\"start\" x=\"801\" y=\"-37.8\" font-family=\"Helvetica,sans-Serif\" font-size=\"14.00\">samples = 33</text>\n",
       "<text text-anchor=\"start\" x=\"796\" y=\"-22.8\" font-family=\"Helvetica,sans-Serif\" font-size=\"14.00\">value = [22, 11]</text>\n",
       "<text text-anchor=\"start\" x=\"812\" y=\"-7.8\" font-family=\"Helvetica,sans-Serif\" font-size=\"14.00\">class = no</text>\n",
       "</g>\n",
       "<!-- 14&#45;&gt;15 -->\n",
       "<g id=\"edge15\" class=\"edge\">\n",
       "<title>14&#45;&gt;15</title>\n",
       "<path fill=\"none\" stroke=\"black\" d=\"M847.64,-103.73C847.28,-95.88 846.9,-87.63 846.54,-79.67\"/>\n",
       "<polygon fill=\"black\" stroke=\"black\" points=\"850.04,-79.64 846.09,-69.81 843.05,-79.96 850.04,-79.64\"/>\n",
       "</g>\n",
       "<!-- 16 -->\n",
       "<g id=\"node17\" class=\"node\">\n",
       "<title>16</title>\n",
       "<path fill=\"#c5e2f7\" stroke=\"black\" d=\"M1020,-68C1020,-68 931,-68 931,-68 925,-68 919,-62 919,-56 919,-56 919,-12 919,-12 919,-6 925,0 931,0 931,0 1020,0 1020,0 1026,0 1032,-6 1032,-12 1032,-12 1032,-56 1032,-56 1032,-62 1026,-68 1020,-68\"/>\n",
       "<text text-anchor=\"start\" x=\"938\" y=\"-52.8\" font-family=\"Helvetica,sans-Serif\" font-size=\"14.00\">gini = 0.485</text>\n",
       "<text text-anchor=\"start\" x=\"932\" y=\"-37.8\" font-family=\"Helvetica,sans-Serif\" font-size=\"14.00\">samples = 99</text>\n",
       "<text text-anchor=\"start\" x=\"927\" y=\"-22.8\" font-family=\"Helvetica,sans-Serif\" font-size=\"14.00\">value = [41, 58]</text>\n",
       "<text text-anchor=\"start\" x=\"939.5\" y=\"-7.8\" font-family=\"Helvetica,sans-Serif\" font-size=\"14.00\">class = yes</text>\n",
       "</g>\n",
       "<!-- 14&#45;&gt;16 -->\n",
       "<g id=\"edge16\" class=\"edge\">\n",
       "<title>14&#45;&gt;16</title>\n",
       "<path fill=\"none\" stroke=\"black\" d=\"M896.42,-103.73C906.91,-94.61 918.05,-84.93 928.54,-75.81\"/>\n",
       "<polygon fill=\"black\" stroke=\"black\" points=\"930.79,-78.49 936.04,-69.29 926.2,-73.21 930.79,-78.49\"/>\n",
       "</g>\n",
       "<!-- 18 -->\n",
       "<g id=\"node19\" class=\"node\">\n",
       "<title>18</title>\n",
       "<path fill=\"#f5d0b5\" stroke=\"black\" d=\"M1563,-306C1563,-306 1444,-306 1444,-306 1438,-306 1432,-300 1432,-294 1432,-294 1432,-235 1432,-235 1432,-229 1438,-223 1444,-223 1444,-223 1563,-223 1563,-223 1569,-223 1575,-229 1575,-235 1575,-235 1575,-294 1575,-294 1575,-300 1569,-306 1563,-306\"/>\n",
       "<text text-anchor=\"start\" x=\"1440\" y=\"-290.8\" font-family=\"Helvetica,sans-Serif\" font-size=\"14.00\">emp.var.rate ≤ &#45;2.35</text>\n",
       "<text text-anchor=\"start\" x=\"1466\" y=\"-275.8\" font-family=\"Helvetica,sans-Serif\" font-size=\"14.00\">gini = 0.473</text>\n",
       "<text text-anchor=\"start\" x=\"1452\" y=\"-260.8\" font-family=\"Helvetica,sans-Serif\" font-size=\"14.00\">samples = 2243</text>\n",
       "<text text-anchor=\"start\" x=\"1442.5\" y=\"-245.8\" font-family=\"Helvetica,sans-Serif\" font-size=\"14.00\">value = [1381, 862]</text>\n",
       "<text text-anchor=\"start\" x=\"1471\" y=\"-230.8\" font-family=\"Helvetica,sans-Serif\" font-size=\"14.00\">class = no</text>\n",
       "</g>\n",
       "<!-- 17&#45;&gt;18 -->\n",
       "<g id=\"edge18\" class=\"edge\">\n",
       "<title>17&#45;&gt;18</title>\n",
       "<path fill=\"none\" stroke=\"black\" d=\"M1614.04,-341.58C1600.58,-332.32 1586.18,-322.41 1572.37,-312.9\"/>\n",
       "<polygon fill=\"black\" stroke=\"black\" points=\"1574.39,-310.04 1564.17,-307.26 1570.42,-315.81 1574.39,-310.04\"/>\n",
       "</g>\n",
       "<!-- 25 -->\n",
       "<g id=\"node26\" class=\"node\">\n",
       "<title>25</title>\n",
       "<path fill=\"#eda673\" stroke=\"black\" d=\"M1856.5,-306C1856.5,-306 1716.5,-306 1716.5,-306 1710.5,-306 1704.5,-300 1704.5,-294 1704.5,-294 1704.5,-235 1704.5,-235 1704.5,-229 1710.5,-223 1716.5,-223 1716.5,-223 1856.5,-223 1856.5,-223 1862.5,-223 1868.5,-229 1868.5,-235 1868.5,-235 1868.5,-294 1868.5,-294 1868.5,-300 1862.5,-306 1856.5,-306\"/>\n",
       "<text text-anchor=\"start\" x=\"1712.5\" y=\"-290.8\" font-family=\"Helvetica,sans-Serif\" font-size=\"14.00\">cons.price.idx ≤ 93.812</text>\n",
       "<text text-anchor=\"start\" x=\"1753\" y=\"-275.8\" font-family=\"Helvetica,sans-Serif\" font-size=\"14.00\">gini = 0.35</text>\n",
       "<text text-anchor=\"start\" x=\"1739\" y=\"-260.8\" font-family=\"Helvetica,sans-Serif\" font-size=\"14.00\">samples = 433</text>\n",
       "<text text-anchor=\"start\" x=\"1733.5\" y=\"-245.8\" font-family=\"Helvetica,sans-Serif\" font-size=\"14.00\">value = [335, 98]</text>\n",
       "<text text-anchor=\"start\" x=\"1754\" y=\"-230.8\" font-family=\"Helvetica,sans-Serif\" font-size=\"14.00\">class = no</text>\n",
       "</g>\n",
       "<!-- 17&#45;&gt;25 -->\n",
       "<g id=\"edge25\" class=\"edge\">\n",
       "<title>17&#45;&gt;25</title>\n",
       "<path fill=\"none\" stroke=\"black\" d=\"M1713.02,-341.58C1721.5,-332.8 1730.54,-323.44 1739.28,-314.39\"/>\n",
       "<polygon fill=\"black\" stroke=\"black\" points=\"1741.71,-316.91 1746.14,-307.29 1736.68,-312.05 1741.71,-316.91\"/>\n",
       "</g>\n",
       "<!-- 19 -->\n",
       "<g id=\"node20\" class=\"node\">\n",
       "<title>19</title>\n",
       "<path fill=\"#f3c4a2\" stroke=\"black\" d=\"M1318,-187C1318,-187 1209,-187 1209,-187 1203,-187 1197,-181 1197,-175 1197,-175 1197,-116 1197,-116 1197,-110 1203,-104 1209,-104 1209,-104 1318,-104 1318,-104 1324,-104 1330,-110 1330,-116 1330,-116 1330,-175 1330,-175 1330,-181 1324,-187 1318,-187\"/>\n",
       "<text text-anchor=\"start\" x=\"1205\" y=\"-171.8\" font-family=\"Helvetica,sans-Serif\" font-size=\"14.00\">euribor3m ≤ 0.738</text>\n",
       "<text text-anchor=\"start\" x=\"1226\" y=\"-156.8\" font-family=\"Helvetica,sans-Serif\" font-size=\"14.00\">gini = 0.453</text>\n",
       "<text text-anchor=\"start\" x=\"1212\" y=\"-141.8\" font-family=\"Helvetica,sans-Serif\" font-size=\"14.00\">samples = 1507</text>\n",
       "<text text-anchor=\"start\" x=\"1206.5\" y=\"-126.8\" font-family=\"Helvetica,sans-Serif\" font-size=\"14.00\">value = [984, 523]</text>\n",
       "<text text-anchor=\"start\" x=\"1231\" y=\"-111.8\" font-family=\"Helvetica,sans-Serif\" font-size=\"14.00\">class = no</text>\n",
       "</g>\n",
       "<!-- 18&#45;&gt;19 -->\n",
       "<g id=\"edge19\" class=\"edge\">\n",
       "<title>18&#45;&gt;19</title>\n",
       "<path fill=\"none\" stroke=\"black\" d=\"M1431.82,-228.55C1403.03,-214.52 1369.79,-198.31 1340.49,-184.03\"/>\n",
       "<polygon fill=\"black\" stroke=\"black\" points=\"1342.18,-180.96 1331.66,-179.73 1339.12,-187.26 1342.18,-180.96\"/>\n",
       "</g>\n",
       "<!-- 22 -->\n",
       "<g id=\"node23\" class=\"node\">\n",
       "<title>22</title>\n",
       "<path fill=\"#fbede2\" stroke=\"black\" d=\"M1589.5,-187C1589.5,-187 1417.5,-187 1417.5,-187 1411.5,-187 1405.5,-181 1405.5,-175 1405.5,-175 1405.5,-116 1405.5,-116 1405.5,-110 1411.5,-104 1417.5,-104 1417.5,-104 1589.5,-104 1589.5,-104 1595.5,-104 1601.5,-110 1601.5,-116 1601.5,-116 1601.5,-175 1601.5,-175 1601.5,-181 1595.5,-187 1589.5,-187\"/>\n",
       "<text text-anchor=\"start\" x=\"1413.5\" y=\"-171.8\" font-family=\"Helvetica,sans-Serif\" font-size=\"14.00\">poutcome_nonexistent ≤ 0.5</text>\n",
       "<text text-anchor=\"start\" x=\"1466\" y=\"-156.8\" font-family=\"Helvetica,sans-Serif\" font-size=\"14.00\">gini = 0.497</text>\n",
       "<text text-anchor=\"start\" x=\"1456\" y=\"-141.8\" font-family=\"Helvetica,sans-Serif\" font-size=\"14.00\">samples = 736</text>\n",
       "<text text-anchor=\"start\" x=\"1446.5\" y=\"-126.8\" font-family=\"Helvetica,sans-Serif\" font-size=\"14.00\">value = [397, 339]</text>\n",
       "<text text-anchor=\"start\" x=\"1471\" y=\"-111.8\" font-family=\"Helvetica,sans-Serif\" font-size=\"14.00\">class = no</text>\n",
       "</g>\n",
       "<!-- 18&#45;&gt;22 -->\n",
       "<g id=\"edge22\" class=\"edge\">\n",
       "<title>18&#45;&gt;22</title>\n",
       "<path fill=\"none\" stroke=\"black\" d=\"M1503.5,-222.58C1503.5,-214.79 1503.5,-206.53 1503.5,-198.45\"/>\n",
       "<polygon fill=\"black\" stroke=\"black\" points=\"1507,-198.71 1503.5,-188.71 1500,-198.71 1507,-198.71\"/>\n",
       "</g>\n",
       "<!-- 20 -->\n",
       "<g id=\"node21\" class=\"node\">\n",
       "<title>20</title>\n",
       "<path fill=\"#f9e1d0\" stroke=\"black\" d=\"M1168.5,-68C1168.5,-68 1062.5,-68 1062.5,-68 1056.5,-68 1050.5,-62 1050.5,-56 1050.5,-56 1050.5,-12 1050.5,-12 1050.5,-6 1056.5,0 1062.5,0 1062.5,0 1168.5,0 1168.5,0 1174.5,0 1180.5,-6 1180.5,-12 1180.5,-12 1180.5,-56 1180.5,-56 1180.5,-62 1174.5,-68 1168.5,-68\"/>\n",
       "<text text-anchor=\"start\" x=\"1078\" y=\"-52.8\" font-family=\"Helvetica,sans-Serif\" font-size=\"14.00\">gini = 0.491</text>\n",
       "<text text-anchor=\"start\" x=\"1068\" y=\"-37.8\" font-family=\"Helvetica,sans-Serif\" font-size=\"14.00\">samples = 345</text>\n",
       "<text text-anchor=\"start\" x=\"1058.5\" y=\"-22.8\" font-family=\"Helvetica,sans-Serif\" font-size=\"14.00\">value = [196, 149]</text>\n",
       "<text text-anchor=\"start\" x=\"1083\" y=\"-7.8\" font-family=\"Helvetica,sans-Serif\" font-size=\"14.00\">class = no</text>\n",
       "</g>\n",
       "<!-- 19&#45;&gt;20 -->\n",
       "<g id=\"edge20\" class=\"edge\">\n",
       "<title>19&#45;&gt;20</title>\n",
       "<path fill=\"none\" stroke=\"black\" d=\"M1208.39,-103.73C1195.69,-94.33 1182.2,-84.35 1169.55,-74.99\"/>\n",
       "<polygon fill=\"black\" stroke=\"black\" points=\"1171.85,-72.33 1161.72,-69.2 1167.68,-77.96 1171.85,-72.33\"/>\n",
       "</g>\n",
       "<!-- 21 -->\n",
       "<g id=\"node22\" class=\"node\">\n",
       "<title>21</title>\n",
       "<path fill=\"#f1bd97\" stroke=\"black\" d=\"M1316.5,-68C1316.5,-68 1210.5,-68 1210.5,-68 1204.5,-68 1198.5,-62 1198.5,-56 1198.5,-56 1198.5,-12 1198.5,-12 1198.5,-6 1204.5,0 1210.5,0 1210.5,0 1316.5,0 1316.5,0 1322.5,0 1328.5,-6 1328.5,-12 1328.5,-12 1328.5,-56 1328.5,-56 1328.5,-62 1322.5,-68 1316.5,-68\"/>\n",
       "<text text-anchor=\"start\" x=\"1226\" y=\"-52.8\" font-family=\"Helvetica,sans-Serif\" font-size=\"14.00\">gini = 0.437</text>\n",
       "<text text-anchor=\"start\" x=\"1212\" y=\"-37.8\" font-family=\"Helvetica,sans-Serif\" font-size=\"14.00\">samples = 1162</text>\n",
       "<text text-anchor=\"start\" x=\"1206.5\" y=\"-22.8\" font-family=\"Helvetica,sans-Serif\" font-size=\"14.00\">value = [788, 374]</text>\n",
       "<text text-anchor=\"start\" x=\"1231\" y=\"-7.8\" font-family=\"Helvetica,sans-Serif\" font-size=\"14.00\">class = no</text>\n",
       "</g>\n",
       "<!-- 19&#45;&gt;21 -->\n",
       "<g id=\"edge21\" class=\"edge\">\n",
       "<title>19&#45;&gt;21</title>\n",
       "<path fill=\"none\" stroke=\"black\" d=\"M1263.5,-103.73C1263.5,-95.88 1263.5,-87.63 1263.5,-79.67\"/>\n",
       "<polygon fill=\"black\" stroke=\"black\" points=\"1267,-79.81 1263.5,-69.81 1260,-79.81 1267,-79.81\"/>\n",
       "</g>\n",
       "<!-- 23 -->\n",
       "<g id=\"node24\" class=\"node\">\n",
       "<title>23</title>\n",
       "<path fill=\"#f3c3a0\" stroke=\"black\" d=\"M1464.5,-68C1464.5,-68 1358.5,-68 1358.5,-68 1352.5,-68 1346.5,-62 1346.5,-56 1346.5,-56 1346.5,-12 1346.5,-12 1346.5,-6 1352.5,0 1358.5,0 1358.5,0 1464.5,0 1464.5,0 1470.5,0 1476.5,-6 1476.5,-12 1476.5,-12 1476.5,-56 1476.5,-56 1476.5,-62 1470.5,-68 1464.5,-68\"/>\n",
       "<text text-anchor=\"start\" x=\"1374\" y=\"-52.8\" font-family=\"Helvetica,sans-Serif\" font-size=\"14.00\">gini = 0.451</text>\n",
       "<text text-anchor=\"start\" x=\"1364\" y=\"-37.8\" font-family=\"Helvetica,sans-Serif\" font-size=\"14.00\">samples = 315</text>\n",
       "<text text-anchor=\"start\" x=\"1354.5\" y=\"-22.8\" font-family=\"Helvetica,sans-Serif\" font-size=\"14.00\">value = [207, 108]</text>\n",
       "<text text-anchor=\"start\" x=\"1379\" y=\"-7.8\" font-family=\"Helvetica,sans-Serif\" font-size=\"14.00\">class = no</text>\n",
       "</g>\n",
       "<!-- 22&#45;&gt;23 -->\n",
       "<g id=\"edge23\" class=\"edge\">\n",
       "<title>22&#45;&gt;23</title>\n",
       "<path fill=\"none\" stroke=\"black\" d=\"M1469.24,-103.73C1461.89,-94.97 1454.1,-85.7 1446.71,-76.91\"/>\n",
       "<polygon fill=\"black\" stroke=\"black\" points=\"1449.56,-74.86 1440.45,-69.46 1444.2,-79.37 1449.56,-74.86\"/>\n",
       "</g>\n",
       "<!-- 24 -->\n",
       "<g id=\"node25\" class=\"node\">\n",
       "<title>24</title>\n",
       "<path fill=\"#dceefa\" stroke=\"black\" d=\"M1612.5,-68C1612.5,-68 1506.5,-68 1506.5,-68 1500.5,-68 1494.5,-62 1494.5,-56 1494.5,-56 1494.5,-12 1494.5,-12 1494.5,-6 1500.5,0 1506.5,0 1506.5,0 1612.5,0 1612.5,0 1618.5,0 1624.5,-6 1624.5,-12 1624.5,-12 1624.5,-56 1624.5,-56 1624.5,-62 1618.5,-68 1612.5,-68\"/>\n",
       "<text text-anchor=\"start\" x=\"1522\" y=\"-52.8\" font-family=\"Helvetica,sans-Serif\" font-size=\"14.00\">gini = 0.495</text>\n",
       "<text text-anchor=\"start\" x=\"1512\" y=\"-37.8\" font-family=\"Helvetica,sans-Serif\" font-size=\"14.00\">samples = 421</text>\n",
       "<text text-anchor=\"start\" x=\"1502.5\" y=\"-22.8\" font-family=\"Helvetica,sans-Serif\" font-size=\"14.00\">value = [190, 231]</text>\n",
       "<text text-anchor=\"start\" x=\"1523.5\" y=\"-7.8\" font-family=\"Helvetica,sans-Serif\" font-size=\"14.00\">class = yes</text>\n",
       "</g>\n",
       "<!-- 22&#45;&gt;24 -->\n",
       "<g id=\"edge24\" class=\"edge\">\n",
       "<title>22&#45;&gt;24</title>\n",
       "<path fill=\"none\" stroke=\"black\" d=\"M1524.35,-103.73C1528.6,-95.43 1533.08,-86.67 1537.36,-78.28\"/>\n",
       "<polygon fill=\"black\" stroke=\"black\" points=\"1540.34,-80.14 1541.78,-69.65 1534.11,-76.96 1540.34,-80.14\"/>\n",
       "</g>\n",
       "<!-- 26 -->\n",
       "<g id=\"node27\" class=\"node\">\n",
       "<title>26</title>\n",
       "<path fill=\"#f2bf9b\" stroke=\"black\" d=\"M1841,-187C1841,-187 1732,-187 1732,-187 1726,-187 1720,-181 1720,-175 1720,-175 1720,-116 1720,-116 1720,-110 1726,-104 1732,-104 1732,-104 1841,-104 1841,-104 1847,-104 1853,-110 1853,-116 1853,-116 1853,-175 1853,-175 1853,-181 1847,-187 1841,-187\"/>\n",
       "<text text-anchor=\"start\" x=\"1728\" y=\"-171.8\" font-family=\"Helvetica,sans-Serif\" font-size=\"14.00\">euribor3m ≤ 0.715</text>\n",
       "<text text-anchor=\"start\" x=\"1749\" y=\"-156.8\" font-family=\"Helvetica,sans-Serif\" font-size=\"14.00\">gini = 0.443</text>\n",
       "<text text-anchor=\"start\" x=\"1739\" y=\"-141.8\" font-family=\"Helvetica,sans-Serif\" font-size=\"14.00\">samples = 233</text>\n",
       "<text text-anchor=\"start\" x=\"1733.5\" y=\"-126.8\" font-family=\"Helvetica,sans-Serif\" font-size=\"14.00\">value = [156, 77]</text>\n",
       "<text text-anchor=\"start\" x=\"1754\" y=\"-111.8\" font-family=\"Helvetica,sans-Serif\" font-size=\"14.00\">class = no</text>\n",
       "</g>\n",
       "<!-- 25&#45;&gt;26 -->\n",
       "<g id=\"edge26\" class=\"edge\">\n",
       "<title>25&#45;&gt;26</title>\n",
       "<path fill=\"none\" stroke=\"black\" d=\"M1786.5,-222.58C1786.5,-214.79 1786.5,-206.53 1786.5,-198.45\"/>\n",
       "<polygon fill=\"black\" stroke=\"black\" points=\"1790,-198.71 1786.5,-188.71 1783,-198.71 1790,-198.71\"/>\n",
       "</g>\n",
       "<!-- 29 -->\n",
       "<g id=\"node30\" class=\"node\">\n",
       "<title>29</title>\n",
       "<path fill=\"#e89050\" stroke=\"black\" d=\"M2024.5,-187C2024.5,-187 1926.5,-187 1926.5,-187 1920.5,-187 1914.5,-181 1914.5,-175 1914.5,-175 1914.5,-116 1914.5,-116 1914.5,-110 1920.5,-104 1926.5,-104 1926.5,-104 2024.5,-104 2024.5,-104 2030.5,-104 2036.5,-110 2036.5,-116 2036.5,-116 2036.5,-175 2036.5,-175 2036.5,-181 2030.5,-187 2024.5,-187\"/>\n",
       "<text text-anchor=\"start\" x=\"1927\" y=\"-171.8\" font-family=\"Helvetica,sans-Serif\" font-size=\"14.00\">campaign ≤ 1.5</text>\n",
       "<text text-anchor=\"start\" x=\"1938\" y=\"-156.8\" font-family=\"Helvetica,sans-Serif\" font-size=\"14.00\">gini = 0.188</text>\n",
       "<text text-anchor=\"start\" x=\"1928\" y=\"-141.8\" font-family=\"Helvetica,sans-Serif\" font-size=\"14.00\">samples = 200</text>\n",
       "<text text-anchor=\"start\" x=\"1922.5\" y=\"-126.8\" font-family=\"Helvetica,sans-Serif\" font-size=\"14.00\">value = [179, 21]</text>\n",
       "<text text-anchor=\"start\" x=\"1943\" y=\"-111.8\" font-family=\"Helvetica,sans-Serif\" font-size=\"14.00\">class = no</text>\n",
       "</g>\n",
       "<!-- 25&#45;&gt;29 -->\n",
       "<g id=\"edge29\" class=\"edge\">\n",
       "<title>25&#45;&gt;29</title>\n",
       "<path fill=\"none\" stroke=\"black\" d=\"M1852.6,-222.58C1869.49,-212.13 1887.71,-200.85 1904.81,-190.26\"/>\n",
       "<polygon fill=\"black\" stroke=\"black\" points=\"1906.24,-193.49 1912.9,-185.25 1902.55,-187.54 1906.24,-193.49\"/>\n",
       "</g>\n",
       "<!-- 27 -->\n",
       "<g id=\"node28\" class=\"node\">\n",
       "<title>27</title>\n",
       "<path fill=\"#e2f1fb\" stroke=\"black\" d=\"M1744,-68C1744,-68 1655,-68 1655,-68 1649,-68 1643,-62 1643,-56 1643,-56 1643,-12 1643,-12 1643,-6 1649,0 1655,0 1655,0 1744,0 1744,0 1750,0 1756,-6 1756,-12 1756,-12 1756,-56 1756,-56 1756,-62 1750,-68 1744,-68\"/>\n",
       "<text text-anchor=\"start\" x=\"1662\" y=\"-52.8\" font-family=\"Helvetica,sans-Serif\" font-size=\"14.00\">gini = 0.497</text>\n",
       "<text text-anchor=\"start\" x=\"1656\" y=\"-37.8\" font-family=\"Helvetica,sans-Serif\" font-size=\"14.00\">samples = 63</text>\n",
       "<text text-anchor=\"start\" x=\"1651\" y=\"-22.8\" font-family=\"Helvetica,sans-Serif\" font-size=\"14.00\">value = [29, 34]</text>\n",
       "<text text-anchor=\"start\" x=\"1663.5\" y=\"-7.8\" font-family=\"Helvetica,sans-Serif\" font-size=\"14.00\">class = yes</text>\n",
       "</g>\n",
       "<!-- 26&#45;&gt;27 -->\n",
       "<g id=\"edge27\" class=\"edge\">\n",
       "<title>26&#45;&gt;27</title>\n",
       "<path fill=\"none\" stroke=\"black\" d=\"M1754.1,-103.73C1747.22,-95.06 1739.94,-85.9 1733.01,-77.18\"/>\n",
       "<polygon fill=\"black\" stroke=\"black\" points=\"1735.86,-75.14 1726.9,-69.48 1730.38,-79.49 1735.86,-75.14\"/>\n",
       "</g>\n",
       "<!-- 28 -->\n",
       "<g id=\"node29\" class=\"node\">\n",
       "<title>28</title>\n",
       "<path fill=\"#eeac7c\" stroke=\"black\" d=\"M1884.5,-68C1884.5,-68 1786.5,-68 1786.5,-68 1780.5,-68 1774.5,-62 1774.5,-56 1774.5,-56 1774.5,-12 1774.5,-12 1774.5,-6 1780.5,0 1786.5,0 1786.5,0 1884.5,0 1884.5,0 1890.5,0 1896.5,-6 1896.5,-12 1896.5,-12 1896.5,-56 1896.5,-56 1896.5,-62 1890.5,-68 1884.5,-68\"/>\n",
       "<text text-anchor=\"start\" x=\"1798\" y=\"-52.8\" font-family=\"Helvetica,sans-Serif\" font-size=\"14.00\">gini = 0.378</text>\n",
       "<text text-anchor=\"start\" x=\"1788\" y=\"-37.8\" font-family=\"Helvetica,sans-Serif\" font-size=\"14.00\">samples = 170</text>\n",
       "<text text-anchor=\"start\" x=\"1782.5\" y=\"-22.8\" font-family=\"Helvetica,sans-Serif\" font-size=\"14.00\">value = [127, 43]</text>\n",
       "<text text-anchor=\"start\" x=\"1803\" y=\"-7.8\" font-family=\"Helvetica,sans-Serif\" font-size=\"14.00\">class = no</text>\n",
       "</g>\n",
       "<!-- 26&#45;&gt;28 -->\n",
       "<g id=\"edge28\" class=\"edge\">\n",
       "<title>26&#45;&gt;28</title>\n",
       "<path fill=\"none\" stroke=\"black\" d=\"M1804.75,-103.73C1808.42,-95.52 1812.29,-86.86 1816.01,-78.56\"/>\n",
       "<polygon fill=\"black\" stroke=\"black\" points=\"1819.09,-80.24 1819.98,-69.68 1812.7,-77.38 1819.09,-80.24\"/>\n",
       "</g>\n",
       "<!-- 30 -->\n",
       "<g id=\"node31\" class=\"node\">\n",
       "<title>30</title>\n",
       "<path fill=\"#e78c4a\" stroke=\"black\" d=\"M2024.5,-68C2024.5,-68 1926.5,-68 1926.5,-68 1920.5,-68 1914.5,-62 1914.5,-56 1914.5,-56 1914.5,-12 1914.5,-12 1914.5,-6 1920.5,0 1926.5,0 1926.5,0 2024.5,0 2024.5,0 2030.5,0 2036.5,-6 2036.5,-12 2036.5,-12 2036.5,-56 2036.5,-56 2036.5,-62 2030.5,-68 2024.5,-68\"/>\n",
       "<text text-anchor=\"start\" x=\"1938\" y=\"-52.8\" font-family=\"Helvetica,sans-Serif\" font-size=\"14.00\">gini = 0.146</text>\n",
       "<text text-anchor=\"start\" x=\"1928\" y=\"-37.8\" font-family=\"Helvetica,sans-Serif\" font-size=\"14.00\">samples = 164</text>\n",
       "<text text-anchor=\"start\" x=\"1922.5\" y=\"-22.8\" font-family=\"Helvetica,sans-Serif\" font-size=\"14.00\">value = [151, 13]</text>\n",
       "<text text-anchor=\"start\" x=\"1943\" y=\"-7.8\" font-family=\"Helvetica,sans-Serif\" font-size=\"14.00\">class = no</text>\n",
       "</g>\n",
       "<!-- 29&#45;&gt;30 -->\n",
       "<g id=\"edge30\" class=\"edge\">\n",
       "<title>29&#45;&gt;30</title>\n",
       "<path fill=\"none\" stroke=\"black\" d=\"M1975.5,-103.73C1975.5,-95.88 1975.5,-87.63 1975.5,-79.67\"/>\n",
       "<polygon fill=\"black\" stroke=\"black\" points=\"1979,-79.81 1975.5,-69.81 1972,-79.81 1979,-79.81\"/>\n",
       "</g>\n",
       "<!-- 31 -->\n",
       "<g id=\"node32\" class=\"node\">\n",
       "<title>31</title>\n",
       "<path fill=\"#eca572\" stroke=\"black\" d=\"M2148,-68C2148,-68 2067,-68 2067,-68 2061,-68 2055,-62 2055,-56 2055,-56 2055,-12 2055,-12 2055,-6 2061,0 2067,0 2067,0 2148,0 2148,0 2154,0 2160,-6 2160,-12 2160,-12 2160,-56 2160,-56 2160,-62 2154,-68 2148,-68\"/>\n",
       "<text text-anchor=\"start\" x=\"2070\" y=\"-52.8\" font-family=\"Helvetica,sans-Serif\" font-size=\"14.00\">gini = 0.346</text>\n",
       "<text text-anchor=\"start\" x=\"2064\" y=\"-37.8\" font-family=\"Helvetica,sans-Serif\" font-size=\"14.00\">samples = 36</text>\n",
       "<text text-anchor=\"start\" x=\"2063\" y=\"-22.8\" font-family=\"Helvetica,sans-Serif\" font-size=\"14.00\">value = [28, 8]</text>\n",
       "<text text-anchor=\"start\" x=\"2075\" y=\"-7.8\" font-family=\"Helvetica,sans-Serif\" font-size=\"14.00\">class = no</text>\n",
       "</g>\n",
       "<!-- 29&#45;&gt;31 -->\n",
       "<g id=\"edge31\" class=\"edge\">\n",
       "<title>29&#45;&gt;31</title>\n",
       "<path fill=\"none\" stroke=\"black\" d=\"M2024.65,-103.73C2035.76,-94.51 2047.54,-84.74 2058.64,-75.53\"/>\n",
       "<polygon fill=\"black\" stroke=\"black\" points=\"2060.73,-78.34 2066.19,-69.27 2056.26,-72.96 2060.73,-78.34\"/>\n",
       "</g>\n",
       "<!-- 33 -->\n",
       "<g id=\"node34\" class=\"node\">\n",
       "<title>33</title>\n",
       "<path fill=\"#eca36e\" stroke=\"black\" d=\"M2743.5,-425C2743.5,-425 2629.5,-425 2629.5,-425 2623.5,-425 2617.5,-419 2617.5,-413 2617.5,-413 2617.5,-354 2617.5,-354 2617.5,-348 2623.5,-342 2629.5,-342 2629.5,-342 2743.5,-342 2743.5,-342 2749.5,-342 2755.5,-348 2755.5,-354 2755.5,-354 2755.5,-413 2755.5,-413 2755.5,-419 2749.5,-425 2743.5,-425\"/>\n",
       "<text text-anchor=\"start\" x=\"2628\" y=\"-409.8\" font-family=\"Helvetica,sans-Serif\" font-size=\"14.00\">euribor3m ≤ 1.504</text>\n",
       "<text text-anchor=\"start\" x=\"2649\" y=\"-394.8\" font-family=\"Helvetica,sans-Serif\" font-size=\"14.00\">gini = 0.334</text>\n",
       "<text text-anchor=\"start\" x=\"2635\" y=\"-379.8\" font-family=\"Helvetica,sans-Serif\" font-size=\"14.00\">samples = 2041</text>\n",
       "<text text-anchor=\"start\" x=\"2625.5\" y=\"-364.8\" font-family=\"Helvetica,sans-Serif\" font-size=\"14.00\">value = [1608, 433]</text>\n",
       "<text text-anchor=\"start\" x=\"2654\" y=\"-349.8\" font-family=\"Helvetica,sans-Serif\" font-size=\"14.00\">class = no</text>\n",
       "</g>\n",
       "<!-- 32&#45;&gt;33 -->\n",
       "<g id=\"edge33\" class=\"edge\">\n",
       "<title>32&#45;&gt;33</title>\n",
       "<path fill=\"none\" stroke=\"black\" d=\"M2686.5,-460.58C2686.5,-452.79 2686.5,-444.53 2686.5,-436.45\"/>\n",
       "<polygon fill=\"black\" stroke=\"black\" points=\"2690,-436.71 2686.5,-426.71 2683,-436.71 2690,-436.71\"/>\n",
       "</g>\n",
       "<!-- 46 -->\n",
       "<g id=\"node47\" class=\"node\">\n",
       "<title>46</title>\n",
       "<path fill=\"#e78945\" stroke=\"black\" d=\"M3352,-425C3352,-425 3221,-425 3221,-425 3215,-425 3209,-419 3209,-413 3209,-413 3209,-354 3209,-354 3209,-348 3215,-342 3221,-342 3221,-342 3352,-342 3352,-342 3358,-342 3364,-348 3364,-354 3364,-354 3364,-413 3364,-413 3364,-419 3358,-425 3352,-425\"/>\n",
       "<text text-anchor=\"start\" x=\"3235\" y=\"-409.8\" font-family=\"Helvetica,sans-Serif\" font-size=\"14.00\">month_oct ≤ 0.5</text>\n",
       "<text text-anchor=\"start\" x=\"3249\" y=\"-394.8\" font-family=\"Helvetica,sans-Serif\" font-size=\"14.00\">gini = 0.106</text>\n",
       "<text text-anchor=\"start\" x=\"3230.5\" y=\"-379.8\" font-family=\"Helvetica,sans-Serif\" font-size=\"14.00\">samples = 25016</text>\n",
       "<text text-anchor=\"start\" x=\"3217\" y=\"-364.8\" font-family=\"Helvetica,sans-Serif\" font-size=\"14.00\">value = [23610, 1406]</text>\n",
       "<text text-anchor=\"start\" x=\"3254\" y=\"-349.8\" font-family=\"Helvetica,sans-Serif\" font-size=\"14.00\">class = no</text>\n",
       "</g>\n",
       "<!-- 32&#45;&gt;46 -->\n",
       "<g id=\"edge46\" class=\"edge\">\n",
       "<title>32&#45;&gt;46</title>\n",
       "<path fill=\"none\" stroke=\"black\" d=\"M2765.25,-486.14C2876.9,-464.37 3080.6,-424.65 3197.56,-401.84\"/>\n",
       "<polygon fill=\"black\" stroke=\"black\" points=\"3197.98,-405.33 3207.12,-399.98 3196.64,-398.46 3197.98,-405.33\"/>\n",
       "</g>\n",
       "<!-- 34 -->\n",
       "<g id=\"node35\" class=\"node\">\n",
       "<title>34</title>\n",
       "<path fill=\"#eb9d65\" stroke=\"black\" d=\"M2635.5,-306C2635.5,-306 2521.5,-306 2521.5,-306 2515.5,-306 2509.5,-300 2509.5,-294 2509.5,-294 2509.5,-235 2509.5,-235 2509.5,-229 2515.5,-223 2521.5,-223 2521.5,-223 2635.5,-223 2635.5,-223 2641.5,-223 2647.5,-229 2647.5,-235 2647.5,-235 2647.5,-294 2647.5,-294 2647.5,-300 2641.5,-306 2635.5,-306\"/>\n",
       "<text text-anchor=\"start\" x=\"2520\" y=\"-290.8\" font-family=\"Helvetica,sans-Serif\" font-size=\"14.00\">euribor3m ≤ 1.378</text>\n",
       "<text text-anchor=\"start\" x=\"2541\" y=\"-275.8\" font-family=\"Helvetica,sans-Serif\" font-size=\"14.00\">gini = 0.296</text>\n",
       "<text text-anchor=\"start\" x=\"2527\" y=\"-260.8\" font-family=\"Helvetica,sans-Serif\" font-size=\"14.00\">samples = 1826</text>\n",
       "<text text-anchor=\"start\" x=\"2517.5\" y=\"-245.8\" font-family=\"Helvetica,sans-Serif\" font-size=\"14.00\">value = [1496, 330]</text>\n",
       "<text text-anchor=\"start\" x=\"2546\" y=\"-230.8\" font-family=\"Helvetica,sans-Serif\" font-size=\"14.00\">class = no</text>\n",
       "</g>\n",
       "<!-- 33&#45;&gt;34 -->\n",
       "<g id=\"edge34\" class=\"edge\">\n",
       "<title>33&#45;&gt;34</title>\n",
       "<path fill=\"none\" stroke=\"black\" d=\"M2648.73,-341.58C2640.62,-332.8 2631.98,-323.44 2623.63,-314.39\"/>\n",
       "<polygon fill=\"black\" stroke=\"black\" points=\"2626.45,-312.29 2617.1,-307.31 2621.31,-317.03 2626.45,-312.29\"/>\n",
       "</g>\n",
       "<!-- 41 -->\n",
       "<g id=\"node42\" class=\"node\">\n",
       "<title>41</title>\n",
       "<path fill=\"#fdf5ef\" stroke=\"black\" d=\"M2847.5,-306C2847.5,-306 2741.5,-306 2741.5,-306 2735.5,-306 2729.5,-300 2729.5,-294 2729.5,-294 2729.5,-235 2729.5,-235 2729.5,-229 2735.5,-223 2741.5,-223 2741.5,-223 2847.5,-223 2847.5,-223 2853.5,-223 2859.5,-229 2859.5,-235 2859.5,-235 2859.5,-294 2859.5,-294 2859.5,-300 2853.5,-306 2847.5,-306\"/>\n",
       "<text text-anchor=\"start\" x=\"2746\" y=\"-290.8\" font-family=\"Helvetica,sans-Serif\" font-size=\"14.00\">education ≤ 3.5</text>\n",
       "<text text-anchor=\"start\" x=\"2757\" y=\"-275.8\" font-family=\"Helvetica,sans-Serif\" font-size=\"14.00\">gini = 0.499</text>\n",
       "<text text-anchor=\"start\" x=\"2747\" y=\"-260.8\" font-family=\"Helvetica,sans-Serif\" font-size=\"14.00\">samples = 215</text>\n",
       "<text text-anchor=\"start\" x=\"2737.5\" y=\"-245.8\" font-family=\"Helvetica,sans-Serif\" font-size=\"14.00\">value = [112, 103]</text>\n",
       "<text text-anchor=\"start\" x=\"2762\" y=\"-230.8\" font-family=\"Helvetica,sans-Serif\" font-size=\"14.00\">class = no</text>\n",
       "</g>\n",
       "<!-- 33&#45;&gt;41 -->\n",
       "<g id=\"edge41\" class=\"edge\">\n",
       "<title>33&#45;&gt;41</title>\n",
       "<path fill=\"none\" stroke=\"black\" d=\"M2724.27,-341.58C2732.38,-332.8 2741.02,-323.44 2749.37,-314.39\"/>\n",
       "<polygon fill=\"black\" stroke=\"black\" points=\"2751.69,-317.03 2755.9,-307.31 2746.55,-312.29 2751.69,-317.03\"/>\n",
       "</g>\n",
       "<!-- 35 -->\n",
       "<g id=\"node36\" class=\"node\">\n",
       "<title>35</title>\n",
       "<path fill=\"#fbeade\" stroke=\"black\" d=\"M2415.5,-187C2415.5,-187 2309.5,-187 2309.5,-187 2303.5,-187 2297.5,-181 2297.5,-175 2297.5,-175 2297.5,-116 2297.5,-116 2297.5,-110 2303.5,-104 2309.5,-104 2309.5,-104 2415.5,-104 2415.5,-104 2421.5,-104 2427.5,-110 2427.5,-116 2427.5,-116 2427.5,-175 2427.5,-175 2427.5,-181 2421.5,-187 2415.5,-187\"/>\n",
       "<text text-anchor=\"start\" x=\"2325.5\" y=\"-171.8\" font-family=\"Helvetica,sans-Serif\" font-size=\"14.00\">pdays ≤ 6.5</text>\n",
       "<text text-anchor=\"start\" x=\"2325\" y=\"-156.8\" font-family=\"Helvetica,sans-Serif\" font-size=\"14.00\">gini = 0.496</text>\n",
       "<text text-anchor=\"start\" x=\"2315\" y=\"-141.8\" font-family=\"Helvetica,sans-Serif\" font-size=\"14.00\">samples = 242</text>\n",
       "<text text-anchor=\"start\" x=\"2305.5\" y=\"-126.8\" font-family=\"Helvetica,sans-Serif\" font-size=\"14.00\">value = [132, 110]</text>\n",
       "<text text-anchor=\"start\" x=\"2330\" y=\"-111.8\" font-family=\"Helvetica,sans-Serif\" font-size=\"14.00\">class = no</text>\n",
       "</g>\n",
       "<!-- 34&#45;&gt;35 -->\n",
       "<g id=\"edge35\" class=\"edge\">\n",
       "<title>34&#45;&gt;35</title>\n",
       "<path fill=\"none\" stroke=\"black\" d=\"M2509.26,-226C2486.37,-213.6 2460.81,-199.75 2437.5,-187.13\"/>\n",
       "<polygon fill=\"black\" stroke=\"black\" points=\"2439.46,-184.21 2429,-182.52 2436.13,-190.36 2439.46,-184.21\"/>\n",
       "</g>\n",
       "<!-- 38 -->\n",
       "<g id=\"node39\" class=\"node\">\n",
       "<title>38</title>\n",
       "<path fill=\"#e99559\" stroke=\"black\" d=\"M2635.5,-187C2635.5,-187 2521.5,-187 2521.5,-187 2515.5,-187 2509.5,-181 2509.5,-175 2509.5,-175 2509.5,-116 2509.5,-116 2509.5,-110 2515.5,-104 2521.5,-104 2521.5,-104 2635.5,-104 2635.5,-104 2641.5,-104 2647.5,-110 2647.5,-116 2647.5,-116 2647.5,-175 2647.5,-175 2647.5,-181 2641.5,-187 2635.5,-187\"/>\n",
       "<text text-anchor=\"start\" x=\"2548.5\" y=\"-171.8\" font-family=\"Helvetica,sans-Serif\" font-size=\"14.00\">age ≤ 1.5</text>\n",
       "<text text-anchor=\"start\" x=\"2541\" y=\"-156.8\" font-family=\"Helvetica,sans-Serif\" font-size=\"14.00\">gini = 0.239</text>\n",
       "<text text-anchor=\"start\" x=\"2527\" y=\"-141.8\" font-family=\"Helvetica,sans-Serif\" font-size=\"14.00\">samples = 1584</text>\n",
       "<text text-anchor=\"start\" x=\"2517.5\" y=\"-126.8\" font-family=\"Helvetica,sans-Serif\" font-size=\"14.00\">value = [1364, 220]</text>\n",
       "<text text-anchor=\"start\" x=\"2546\" y=\"-111.8\" font-family=\"Helvetica,sans-Serif\" font-size=\"14.00\">class = no</text>\n",
       "</g>\n",
       "<!-- 34&#45;&gt;38 -->\n",
       "<g id=\"edge38\" class=\"edge\">\n",
       "<title>34&#45;&gt;38</title>\n",
       "<path fill=\"none\" stroke=\"black\" d=\"M2578.5,-222.58C2578.5,-214.79 2578.5,-206.53 2578.5,-198.45\"/>\n",
       "<polygon fill=\"black\" stroke=\"black\" points=\"2582,-198.71 2578.5,-188.71 2575,-198.71 2582,-198.71\"/>\n",
       "</g>\n",
       "<!-- 36 -->\n",
       "<g id=\"node37\" class=\"node\">\n",
       "<title>36</title>\n",
       "<path fill=\"#83c2ef\" stroke=\"black\" d=\"M2271,-68C2271,-68 2190,-68 2190,-68 2184,-68 2178,-62 2178,-56 2178,-56 2178,-12 2178,-12 2178,-6 2184,0 2190,0 2190,0 2271,0 2271,0 2277,0 2283,-6 2283,-12 2283,-12 2283,-56 2283,-56 2283,-62 2277,-68 2271,-68\"/>\n",
       "<text text-anchor=\"start\" x=\"2193\" y=\"-52.8\" font-family=\"Helvetica,sans-Serif\" font-size=\"14.00\">gini = 0.397</text>\n",
       "<text text-anchor=\"start\" x=\"2187\" y=\"-37.8\" font-family=\"Helvetica,sans-Serif\" font-size=\"14.00\">samples = 33</text>\n",
       "<text text-anchor=\"start\" x=\"2186\" y=\"-22.8\" font-family=\"Helvetica,sans-Serif\" font-size=\"14.00\">value = [9, 24]</text>\n",
       "<text text-anchor=\"start\" x=\"2194.5\" y=\"-7.8\" font-family=\"Helvetica,sans-Serif\" font-size=\"14.00\">class = yes</text>\n",
       "</g>\n",
       "<!-- 35&#45;&gt;36 -->\n",
       "<g id=\"edge36\" class=\"edge\">\n",
       "<title>35&#45;&gt;36</title>\n",
       "<path fill=\"none\" stroke=\"black\" d=\"M2313.35,-103.73C2302.24,-94.51 2290.46,-84.74 2279.36,-75.53\"/>\n",
       "<polygon fill=\"black\" stroke=\"black\" points=\"2281.74,-72.96 2271.81,-69.27 2277.27,-78.34 2281.74,-72.96\"/>\n",
       "</g>\n",
       "<!-- 37 -->\n",
       "<g id=\"node38\" class=\"node\">\n",
       "<title>37</title>\n",
       "<path fill=\"#f7d9c3\" stroke=\"black\" d=\"M2411.5,-68C2411.5,-68 2313.5,-68 2313.5,-68 2307.5,-68 2301.5,-62 2301.5,-56 2301.5,-56 2301.5,-12 2301.5,-12 2301.5,-6 2307.5,0 2313.5,0 2313.5,0 2411.5,0 2411.5,0 2417.5,0 2423.5,-6 2423.5,-12 2423.5,-12 2423.5,-56 2423.5,-56 2423.5,-62 2417.5,-68 2411.5,-68\"/>\n",
       "<text text-anchor=\"start\" x=\"2325\" y=\"-52.8\" font-family=\"Helvetica,sans-Serif\" font-size=\"14.00\">gini = 0.484</text>\n",
       "<text text-anchor=\"start\" x=\"2315\" y=\"-37.8\" font-family=\"Helvetica,sans-Serif\" font-size=\"14.00\">samples = 209</text>\n",
       "<text text-anchor=\"start\" x=\"2309.5\" y=\"-22.8\" font-family=\"Helvetica,sans-Serif\" font-size=\"14.00\">value = [123, 86]</text>\n",
       "<text text-anchor=\"start\" x=\"2330\" y=\"-7.8\" font-family=\"Helvetica,sans-Serif\" font-size=\"14.00\">class = no</text>\n",
       "</g>\n",
       "<!-- 35&#45;&gt;37 -->\n",
       "<g id=\"edge37\" class=\"edge\">\n",
       "<title>35&#45;&gt;37</title>\n",
       "<path fill=\"none\" stroke=\"black\" d=\"M2362.5,-103.73C2362.5,-95.88 2362.5,-87.63 2362.5,-79.67\"/>\n",
       "<polygon fill=\"black\" stroke=\"black\" points=\"2366,-79.81 2362.5,-69.81 2359,-79.81 2366,-79.81\"/>\n",
       "</g>\n",
       "<!-- 39 -->\n",
       "<g id=\"node40\" class=\"node\">\n",
       "<title>39</title>\n",
       "<path fill=\"#f0b48a\" stroke=\"black\" d=\"M2551.5,-68C2551.5,-68 2453.5,-68 2453.5,-68 2447.5,-68 2441.5,-62 2441.5,-56 2441.5,-56 2441.5,-12 2441.5,-12 2441.5,-6 2447.5,0 2453.5,0 2453.5,0 2551.5,0 2551.5,0 2557.5,0 2563.5,-6 2563.5,-12 2563.5,-12 2563.5,-56 2563.5,-56 2563.5,-62 2557.5,-68 2551.5,-68\"/>\n",
       "<text text-anchor=\"start\" x=\"2465\" y=\"-52.8\" font-family=\"Helvetica,sans-Serif\" font-size=\"14.00\">gini = 0.411</text>\n",
       "<text text-anchor=\"start\" x=\"2455\" y=\"-37.8\" font-family=\"Helvetica,sans-Serif\" font-size=\"14.00\">samples = 259</text>\n",
       "<text text-anchor=\"start\" x=\"2449.5\" y=\"-22.8\" font-family=\"Helvetica,sans-Serif\" font-size=\"14.00\">value = [184, 75]</text>\n",
       "<text text-anchor=\"start\" x=\"2470\" y=\"-7.8\" font-family=\"Helvetica,sans-Serif\" font-size=\"14.00\">class = no</text>\n",
       "</g>\n",
       "<!-- 38&#45;&gt;39 -->\n",
       "<g id=\"edge39\" class=\"edge\">\n",
       "<title>38&#45;&gt;39</title>\n",
       "<path fill=\"none\" stroke=\"black\" d=\"M2550.2,-103.73C2544.31,-95.24 2538.09,-86.28 2532.16,-77.73\"/>\n",
       "<polygon fill=\"black\" stroke=\"black\" points=\"2535.05,-75.76 2526.48,-69.54 2529.3,-79.75 2535.05,-75.76\"/>\n",
       "</g>\n",
       "<!-- 40 -->\n",
       "<g id=\"node41\" class=\"node\">\n",
       "<title>40</title>\n",
       "<path fill=\"#e89051\" stroke=\"black\" d=\"M2707.5,-68C2707.5,-68 2593.5,-68 2593.5,-68 2587.5,-68 2581.5,-62 2581.5,-56 2581.5,-56 2581.5,-12 2581.5,-12 2581.5,-6 2587.5,0 2593.5,0 2593.5,0 2707.5,0 2707.5,0 2713.5,0 2719.5,-6 2719.5,-12 2719.5,-12 2719.5,-56 2719.5,-56 2719.5,-62 2713.5,-68 2707.5,-68\"/>\n",
       "<text text-anchor=\"start\" x=\"2613\" y=\"-52.8\" font-family=\"Helvetica,sans-Serif\" font-size=\"14.00\">gini = 0.195</text>\n",
       "<text text-anchor=\"start\" x=\"2599\" y=\"-37.8\" font-family=\"Helvetica,sans-Serif\" font-size=\"14.00\">samples = 1325</text>\n",
       "<text text-anchor=\"start\" x=\"2589.5\" y=\"-22.8\" font-family=\"Helvetica,sans-Serif\" font-size=\"14.00\">value = [1180, 145]</text>\n",
       "<text text-anchor=\"start\" x=\"2618\" y=\"-7.8\" font-family=\"Helvetica,sans-Serif\" font-size=\"14.00\">class = no</text>\n",
       "</g>\n",
       "<!-- 38&#45;&gt;40 -->\n",
       "<g id=\"edge40\" class=\"edge\">\n",
       "<title>38&#45;&gt;40</title>\n",
       "<path fill=\"none\" stroke=\"black\" d=\"M2605.31,-103.73C2610.89,-95.24 2616.78,-86.28 2622.4,-77.73\"/>\n",
       "<polygon fill=\"black\" stroke=\"black\" points=\"2625.2,-79.84 2627.77,-69.56 2619.35,-76 2625.2,-79.84\"/>\n",
       "</g>\n",
       "<!-- 42 -->\n",
       "<g id=\"node43\" class=\"node\">\n",
       "<title>42</title>\n",
       "<path fill=\"#fae9dc\" stroke=\"black\" d=\"M2843.5,-187C2843.5,-187 2745.5,-187 2745.5,-187 2739.5,-187 2733.5,-181 2733.5,-175 2733.5,-175 2733.5,-116 2733.5,-116 2733.5,-110 2739.5,-104 2745.5,-104 2745.5,-104 2843.5,-104 2843.5,-104 2849.5,-104 2855.5,-110 2855.5,-116 2855.5,-116 2855.5,-175 2855.5,-175 2855.5,-181 2849.5,-187 2843.5,-187\"/>\n",
       "<text text-anchor=\"start\" x=\"2748\" y=\"-171.8\" font-family=\"Helvetica,sans-Serif\" font-size=\"14.00\">loan_yes ≤ 0.5</text>\n",
       "<text text-anchor=\"start\" x=\"2757\" y=\"-156.8\" font-family=\"Helvetica,sans-Serif\" font-size=\"14.00\">gini = 0.495</text>\n",
       "<text text-anchor=\"start\" x=\"2747\" y=\"-141.8\" font-family=\"Helvetica,sans-Serif\" font-size=\"14.00\">samples = 184</text>\n",
       "<text text-anchor=\"start\" x=\"2741.5\" y=\"-126.8\" font-family=\"Helvetica,sans-Serif\" font-size=\"14.00\">value = [101, 83]</text>\n",
       "<text text-anchor=\"start\" x=\"2762\" y=\"-111.8\" font-family=\"Helvetica,sans-Serif\" font-size=\"14.00\">class = no</text>\n",
       "</g>\n",
       "<!-- 41&#45;&gt;42 -->\n",
       "<g id=\"edge42\" class=\"edge\">\n",
       "<title>41&#45;&gt;42</title>\n",
       "<path fill=\"none\" stroke=\"black\" d=\"M2794.5,-222.58C2794.5,-214.79 2794.5,-206.53 2794.5,-198.45\"/>\n",
       "<polygon fill=\"black\" stroke=\"black\" points=\"2798,-198.71 2794.5,-188.71 2791,-198.71 2798,-198.71\"/>\n",
       "</g>\n",
       "<!-- 45 -->\n",
       "<g id=\"node46\" class=\"node\">\n",
       "<title>45</title>\n",
       "<path fill=\"#a6d3f3\" stroke=\"black\" d=\"M2975,-179.5C2975,-179.5 2886,-179.5 2886,-179.5 2880,-179.5 2874,-173.5 2874,-167.5 2874,-167.5 2874,-123.5 2874,-123.5 2874,-117.5 2880,-111.5 2886,-111.5 2886,-111.5 2975,-111.5 2975,-111.5 2981,-111.5 2987,-117.5 2987,-123.5 2987,-123.5 2987,-167.5 2987,-167.5 2987,-173.5 2981,-179.5 2975,-179.5\"/>\n",
       "<text text-anchor=\"start\" x=\"2893\" y=\"-164.3\" font-family=\"Helvetica,sans-Serif\" font-size=\"14.00\">gini = 0.458</text>\n",
       "<text text-anchor=\"start\" x=\"2887\" y=\"-149.3\" font-family=\"Helvetica,sans-Serif\" font-size=\"14.00\">samples = 31</text>\n",
       "<text text-anchor=\"start\" x=\"2882\" y=\"-134.3\" font-family=\"Helvetica,sans-Serif\" font-size=\"14.00\">value = [11, 20]</text>\n",
       "<text text-anchor=\"start\" x=\"2894.5\" y=\"-119.3\" font-family=\"Helvetica,sans-Serif\" font-size=\"14.00\">class = yes</text>\n",
       "</g>\n",
       "<!-- 41&#45;&gt;45 -->\n",
       "<g id=\"edge45\" class=\"edge\">\n",
       "<title>41&#45;&gt;45</title>\n",
       "<path fill=\"none\" stroke=\"black\" d=\"M2842.07,-222.58C2855.39,-211.12 2869.86,-198.67 2883.17,-187.22\"/>\n",
       "<polygon fill=\"black\" stroke=\"black\" points=\"2885.28,-190.02 2890.57,-180.85 2880.71,-184.72 2885.28,-190.02\"/>\n",
       "</g>\n",
       "<!-- 43 -->\n",
       "<g id=\"node44\" class=\"node\">\n",
       "<title>43</title>\n",
       "<path fill=\"#fdf6f0\" stroke=\"black\" d=\"M2839,-68C2839,-68 2750,-68 2750,-68 2744,-68 2738,-62 2738,-56 2738,-56 2738,-12 2738,-12 2738,-6 2744,0 2750,0 2750,0 2839,0 2839,0 2845,0 2851,-6 2851,-12 2851,-12 2851,-56 2851,-56 2851,-62 2845,-68 2839,-68\"/>\n",
       "<text text-anchor=\"start\" x=\"2757\" y=\"-52.8\" font-family=\"Helvetica,sans-Serif\" font-size=\"14.00\">gini = 0.499</text>\n",
       "<text text-anchor=\"start\" x=\"2747\" y=\"-37.8\" font-family=\"Helvetica,sans-Serif\" font-size=\"14.00\">samples = 156</text>\n",
       "<text text-anchor=\"start\" x=\"2746\" y=\"-22.8\" font-family=\"Helvetica,sans-Serif\" font-size=\"14.00\">value = [81, 75]</text>\n",
       "<text text-anchor=\"start\" x=\"2762\" y=\"-7.8\" font-family=\"Helvetica,sans-Serif\" font-size=\"14.00\">class = no</text>\n",
       "</g>\n",
       "<!-- 42&#45;&gt;43 -->\n",
       "<g id=\"edge43\" class=\"edge\">\n",
       "<title>42&#45;&gt;43</title>\n",
       "<path fill=\"none\" stroke=\"black\" d=\"M2794.5,-103.73C2794.5,-95.88 2794.5,-87.63 2794.5,-79.67\"/>\n",
       "<polygon fill=\"black\" stroke=\"black\" points=\"2798,-79.81 2794.5,-69.81 2791,-79.81 2798,-79.81\"/>\n",
       "</g>\n",
       "<!-- 44 -->\n",
       "<g id=\"node45\" class=\"node\">\n",
       "<title>44</title>\n",
       "<path fill=\"#efb388\" stroke=\"black\" d=\"M2962,-68C2962,-68 2881,-68 2881,-68 2875,-68 2869,-62 2869,-56 2869,-56 2869,-12 2869,-12 2869,-6 2875,0 2881,0 2881,0 2962,0 2962,0 2968,0 2974,-6 2974,-12 2974,-12 2974,-56 2974,-56 2974,-62 2968,-68 2962,-68\"/>\n",
       "<text text-anchor=\"start\" x=\"2884\" y=\"-52.8\" font-family=\"Helvetica,sans-Serif\" font-size=\"14.00\">gini = 0.408</text>\n",
       "<text text-anchor=\"start\" x=\"2878\" y=\"-37.8\" font-family=\"Helvetica,sans-Serif\" font-size=\"14.00\">samples = 28</text>\n",
       "<text text-anchor=\"start\" x=\"2877\" y=\"-22.8\" font-family=\"Helvetica,sans-Serif\" font-size=\"14.00\">value = [20, 8]</text>\n",
       "<text text-anchor=\"start\" x=\"2889\" y=\"-7.8\" font-family=\"Helvetica,sans-Serif\" font-size=\"14.00\">class = no</text>\n",
       "</g>\n",
       "<!-- 42&#45;&gt;44 -->\n",
       "<g id=\"edge44\" class=\"edge\">\n",
       "<title>42&#45;&gt;44</title>\n",
       "<path fill=\"none\" stroke=\"black\" d=\"M2841.79,-103.73C2852.37,-94.61 2863.59,-84.93 2874.17,-75.81\"/>\n",
       "<polygon fill=\"black\" stroke=\"black\" points=\"2876.44,-78.47 2881.73,-69.29 2871.87,-73.17 2876.44,-78.47\"/>\n",
       "</g>\n",
       "<!-- 47 -->\n",
       "<g id=\"node48\" class=\"node\">\n",
       "<title>47</title>\n",
       "<path fill=\"#e78845\" stroke=\"black\" d=\"M3363,-306C3363,-306 3210,-306 3210,-306 3204,-306 3198,-300 3198,-294 3198,-294 3198,-235 3198,-235 3198,-229 3204,-223 3210,-223 3210,-223 3363,-223 3363,-223 3369,-223 3375,-229 3375,-235 3375,-235 3375,-294 3375,-294 3375,-300 3369,-306 3363,-306\"/>\n",
       "<text text-anchor=\"start\" x=\"3206\" y=\"-290.8\" font-family=\"Helvetica,sans-Serif\" font-size=\"14.00\">poutcome_success ≤ 0.5</text>\n",
       "<text text-anchor=\"start\" x=\"3249\" y=\"-275.8\" font-family=\"Helvetica,sans-Serif\" font-size=\"14.00\">gini = 0.104</text>\n",
       "<text text-anchor=\"start\" x=\"3230.5\" y=\"-260.8\" font-family=\"Helvetica,sans-Serif\" font-size=\"14.00\">samples = 24962</text>\n",
       "<text text-anchor=\"start\" x=\"3217\" y=\"-245.8\" font-family=\"Helvetica,sans-Serif\" font-size=\"14.00\">value = [23589, 1373]</text>\n",
       "<text text-anchor=\"start\" x=\"3254\" y=\"-230.8\" font-family=\"Helvetica,sans-Serif\" font-size=\"14.00\">class = no</text>\n",
       "</g>\n",
       "<!-- 46&#45;&gt;47 -->\n",
       "<g id=\"edge47\" class=\"edge\">\n",
       "<title>46&#45;&gt;47</title>\n",
       "<path fill=\"none\" stroke=\"black\" d=\"M3286.5,-341.58C3286.5,-333.79 3286.5,-325.53 3286.5,-317.45\"/>\n",
       "<polygon fill=\"black\" stroke=\"black\" points=\"3290,-317.71 3286.5,-307.71 3283,-317.71 3290,-317.71\"/>\n",
       "</g>\n",
       "<!-- 54 -->\n",
       "<g id=\"node55\" class=\"node\">\n",
       "<title>54</title>\n",
       "<path fill=\"#b7dbf6\" stroke=\"black\" d=\"M3559,-306C3559,-306 3470,-306 3470,-306 3464,-306 3458,-300 3458,-294 3458,-294 3458,-235 3458,-235 3458,-229 3464,-223 3470,-223 3470,-223 3559,-223 3559,-223 3565,-223 3571,-229 3571,-235 3571,-235 3571,-294 3571,-294 3571,-300 3565,-306 3559,-306\"/>\n",
       "<text text-anchor=\"start\" x=\"3484.5\" y=\"-290.8\" font-family=\"Helvetica,sans-Serif\" font-size=\"14.00\">age ≤ 2.5</text>\n",
       "<text text-anchor=\"start\" x=\"3477\" y=\"-275.8\" font-family=\"Helvetica,sans-Serif\" font-size=\"14.00\">gini = 0.475</text>\n",
       "<text text-anchor=\"start\" x=\"3471\" y=\"-260.8\" font-family=\"Helvetica,sans-Serif\" font-size=\"14.00\">samples = 54</text>\n",
       "<text text-anchor=\"start\" x=\"3466\" y=\"-245.8\" font-family=\"Helvetica,sans-Serif\" font-size=\"14.00\">value = [21, 33]</text>\n",
       "<text text-anchor=\"start\" x=\"3478.5\" y=\"-230.8\" font-family=\"Helvetica,sans-Serif\" font-size=\"14.00\">class = yes</text>\n",
       "</g>\n",
       "<!-- 46&#45;&gt;54 -->\n",
       "<g id=\"edge54\" class=\"edge\">\n",
       "<title>46&#45;&gt;54</title>\n",
       "<path fill=\"none\" stroke=\"black\" d=\"M3364.33,-342.56C3391.32,-328.71 3421.33,-313.31 3447.38,-299.94\"/>\n",
       "<polygon fill=\"black\" stroke=\"black\" points=\"3448.88,-303.11 3456.18,-295.43 3445.69,-296.88 3448.88,-303.11\"/>\n",
       "</g>\n",
       "<!-- 48 -->\n",
       "<g id=\"node49\" class=\"node\">\n",
       "<title>48</title>\n",
       "<path fill=\"#e68844\" stroke=\"black\" d=\"M3287,-187C3287,-187 3156,-187 3156,-187 3150,-187 3144,-181 3144,-175 3144,-175 3144,-116 3144,-116 3144,-110 3150,-104 3156,-104 3156,-104 3287,-104 3287,-104 3293,-104 3299,-110 3299,-116 3299,-116 3299,-175 3299,-175 3299,-181 3293,-187 3287,-187\"/>\n",
       "<text text-anchor=\"start\" x=\"3163\" y=\"-171.8\" font-family=\"Helvetica,sans-Serif\" font-size=\"14.00\">euribor3m ≤ 1.286</text>\n",
       "<text text-anchor=\"start\" x=\"3184\" y=\"-156.8\" font-family=\"Helvetica,sans-Serif\" font-size=\"14.00\">gini = 0.102</text>\n",
       "<text text-anchor=\"start\" x=\"3165.5\" y=\"-141.8\" font-family=\"Helvetica,sans-Serif\" font-size=\"14.00\">samples = 24819</text>\n",
       "<text text-anchor=\"start\" x=\"3152\" y=\"-126.8\" font-family=\"Helvetica,sans-Serif\" font-size=\"14.00\">value = [23484, 1335]</text>\n",
       "<text text-anchor=\"start\" x=\"3189\" y=\"-111.8\" font-family=\"Helvetica,sans-Serif\" font-size=\"14.00\">class = no</text>\n",
       "</g>\n",
       "<!-- 47&#45;&gt;48 -->\n",
       "<g id=\"edge48\" class=\"edge\">\n",
       "<title>47&#45;&gt;48</title>\n",
       "<path fill=\"none\" stroke=\"black\" d=\"M3263.77,-222.58C3259.19,-214.34 3254.32,-205.58 3249.59,-197.06\"/>\n",
       "<polygon fill=\"black\" stroke=\"black\" points=\"3252.76,-195.57 3244.85,-188.52 3246.64,-198.96 3252.76,-195.57\"/>\n",
       "</g>\n",
       "<!-- 51 -->\n",
       "<g id=\"node52\" class=\"node\">\n",
       "<title>51</title>\n",
       "<path fill=\"#eeaf81\" stroke=\"black\" d=\"M3427.5,-187C3427.5,-187 3329.5,-187 3329.5,-187 3323.5,-187 3317.5,-181 3317.5,-175 3317.5,-175 3317.5,-116 3317.5,-116 3317.5,-110 3323.5,-104 3329.5,-104 3329.5,-104 3427.5,-104 3427.5,-104 3433.5,-104 3439.5,-110 3439.5,-116 3439.5,-116 3439.5,-175 3439.5,-175 3439.5,-181 3433.5,-187 3427.5,-187\"/>\n",
       "<text text-anchor=\"start\" x=\"3325.5\" y=\"-171.8\" font-family=\"Helvetica,sans-Serif\" font-size=\"14.00\">month_nov ≤ 0.5</text>\n",
       "<text text-anchor=\"start\" x=\"3345\" y=\"-156.8\" font-family=\"Helvetica,sans-Serif\" font-size=\"14.00\">gini = 0.39</text>\n",
       "<text text-anchor=\"start\" x=\"3331\" y=\"-141.8\" font-family=\"Helvetica,sans-Serif\" font-size=\"14.00\">samples = 143</text>\n",
       "<text text-anchor=\"start\" x=\"3325.5\" y=\"-126.8\" font-family=\"Helvetica,sans-Serif\" font-size=\"14.00\">value = [105, 38]</text>\n",
       "<text text-anchor=\"start\" x=\"3346\" y=\"-111.8\" font-family=\"Helvetica,sans-Serif\" font-size=\"14.00\">class = no</text>\n",
       "</g>\n",
       "<!-- 47&#45;&gt;51 -->\n",
       "<g id=\"edge51\" class=\"edge\">\n",
       "<title>47&#45;&gt;51</title>\n",
       "<path fill=\"none\" stroke=\"black\" d=\"M3318.68,-222.58C3325.37,-214.07 3332.49,-205.01 3339.4,-196.23\"/>\n",
       "<polygon fill=\"black\" stroke=\"black\" points=\"3342.13,-198.41 3345.56,-188.39 3336.63,-194.09 3342.13,-198.41\"/>\n",
       "</g>\n",
       "<!-- 49 -->\n",
       "<g id=\"node50\" class=\"node\">\n",
       "<title>49</title>\n",
       "<path fill=\"#e89050\" stroke=\"black\" d=\"M3118.5,-68C3118.5,-68 3004.5,-68 3004.5,-68 2998.5,-68 2992.5,-62 2992.5,-56 2992.5,-56 2992.5,-12 2992.5,-12 2992.5,-6 2998.5,0 3004.5,0 3004.5,0 3118.5,0 3118.5,0 3124.5,0 3130.5,-6 3130.5,-12 3130.5,-12 3130.5,-56 3130.5,-56 3130.5,-62 3124.5,-68 3118.5,-68\"/>\n",
       "<text text-anchor=\"start\" x=\"3024\" y=\"-52.8\" font-family=\"Helvetica,sans-Serif\" font-size=\"14.00\">gini = 0.189</text>\n",
       "<text text-anchor=\"start\" x=\"3010\" y=\"-37.8\" font-family=\"Helvetica,sans-Serif\" font-size=\"14.00\">samples = 1942</text>\n",
       "<text text-anchor=\"start\" x=\"3000.5\" y=\"-22.8\" font-family=\"Helvetica,sans-Serif\" font-size=\"14.00\">value = [1737, 205]</text>\n",
       "<text text-anchor=\"start\" x=\"3029\" y=\"-7.8\" font-family=\"Helvetica,sans-Serif\" font-size=\"14.00\">class = no</text>\n",
       "</g>\n",
       "<!-- 48&#45;&gt;49 -->\n",
       "<g id=\"edge49\" class=\"edge\">\n",
       "<title>48&#45;&gt;49</title>\n",
       "<path fill=\"none\" stroke=\"black\" d=\"M3161.92,-103.73C3148.13,-94.29 3133.48,-84.26 3119.75,-74.86\"/>\n",
       "<polygon fill=\"black\" stroke=\"black\" points=\"3121.89,-72.09 3111.66,-69.33 3117.94,-77.87 3121.89,-72.09\"/>\n",
       "</g>\n",
       "<!-- 50 -->\n",
       "<g id=\"node51\" class=\"node\">\n",
       "<title>50</title>\n",
       "<path fill=\"#e68843\" stroke=\"black\" d=\"M3292,-68C3292,-68 3161,-68 3161,-68 3155,-68 3149,-62 3149,-56 3149,-56 3149,-12 3149,-12 3149,-6 3155,0 3161,0 3161,0 3292,0 3292,0 3298,0 3304,-6 3304,-12 3304,-12 3304,-56 3304,-56 3304,-62 3298,-68 3292,-68\"/>\n",
       "<text text-anchor=\"start\" x=\"3189\" y=\"-52.8\" font-family=\"Helvetica,sans-Serif\" font-size=\"14.00\">gini = 0.094</text>\n",
       "<text text-anchor=\"start\" x=\"3170.5\" y=\"-37.8\" font-family=\"Helvetica,sans-Serif\" font-size=\"14.00\">samples = 22877</text>\n",
       "<text text-anchor=\"start\" x=\"3157\" y=\"-22.8\" font-family=\"Helvetica,sans-Serif\" font-size=\"14.00\">value = [21747, 1130]</text>\n",
       "<text text-anchor=\"start\" x=\"3194\" y=\"-7.8\" font-family=\"Helvetica,sans-Serif\" font-size=\"14.00\">class = no</text>\n",
       "</g>\n",
       "<!-- 48&#45;&gt;50 -->\n",
       "<g id=\"edge50\" class=\"edge\">\n",
       "<title>48&#45;&gt;50</title>\n",
       "<path fill=\"none\" stroke=\"black\" d=\"M3223.36,-103.73C3223.72,-95.88 3224.1,-87.63 3224.46,-79.67\"/>\n",
       "<polygon fill=\"black\" stroke=\"black\" points=\"3227.95,-79.96 3224.91,-69.81 3220.96,-79.64 3227.95,-79.96\"/>\n",
       "</g>\n",
       "<!-- 52 -->\n",
       "<g id=\"node53\" class=\"node\">\n",
       "<title>52</title>\n",
       "<path fill=\"#f1ba92\" stroke=\"black\" d=\"M3423,-68C3423,-68 3334,-68 3334,-68 3328,-68 3322,-62 3322,-56 3322,-56 3322,-12 3322,-12 3322,-6 3328,0 3334,0 3334,0 3423,0 3423,0 3429,0 3435,-6 3435,-12 3435,-12 3435,-56 3435,-56 3435,-62 3429,-68 3423,-68\"/>\n",
       "<text text-anchor=\"start\" x=\"3341\" y=\"-52.8\" font-family=\"Helvetica,sans-Serif\" font-size=\"14.00\">gini = 0.428</text>\n",
       "<text text-anchor=\"start\" x=\"3331\" y=\"-37.8\" font-family=\"Helvetica,sans-Serif\" font-size=\"14.00\">samples = 113</text>\n",
       "<text text-anchor=\"start\" x=\"3330\" y=\"-22.8\" font-family=\"Helvetica,sans-Serif\" font-size=\"14.00\">value = [78, 35]</text>\n",
       "<text text-anchor=\"start\" x=\"3346\" y=\"-7.8\" font-family=\"Helvetica,sans-Serif\" font-size=\"14.00\">class = no</text>\n",
       "</g>\n",
       "<!-- 51&#45;&gt;52 -->\n",
       "<g id=\"edge52\" class=\"edge\">\n",
       "<title>51&#45;&gt;52</title>\n",
       "<path fill=\"none\" stroke=\"black\" d=\"M3378.5,-103.73C3378.5,-95.88 3378.5,-87.63 3378.5,-79.67\"/>\n",
       "<polygon fill=\"black\" stroke=\"black\" points=\"3382,-79.81 3378.5,-69.81 3375,-79.81 3382,-79.81\"/>\n",
       "</g>\n",
       "<!-- 53 -->\n",
       "<g id=\"node54\" class=\"node\">\n",
       "<title>53</title>\n",
       "<path fill=\"#e88f4f\" stroke=\"black\" d=\"M3546,-68C3546,-68 3465,-68 3465,-68 3459,-68 3453,-62 3453,-56 3453,-56 3453,-12 3453,-12 3453,-6 3459,0 3465,0 3465,0 3546,0 3546,0 3552,0 3558,-6 3558,-12 3558,-12 3558,-56 3558,-56 3558,-62 3552,-68 3546,-68\"/>\n",
       "<text text-anchor=\"start\" x=\"3472\" y=\"-52.8\" font-family=\"Helvetica,sans-Serif\" font-size=\"14.00\">gini = 0.18</text>\n",
       "<text text-anchor=\"start\" x=\"3462\" y=\"-37.8\" font-family=\"Helvetica,sans-Serif\" font-size=\"14.00\">samples = 30</text>\n",
       "<text text-anchor=\"start\" x=\"3461\" y=\"-22.8\" font-family=\"Helvetica,sans-Serif\" font-size=\"14.00\">value = [27, 3]</text>\n",
       "<text text-anchor=\"start\" x=\"3473\" y=\"-7.8\" font-family=\"Helvetica,sans-Serif\" font-size=\"14.00\">class = no</text>\n",
       "</g>\n",
       "<!-- 51&#45;&gt;53 -->\n",
       "<g id=\"edge53\" class=\"edge\">\n",
       "<title>51&#45;&gt;53</title>\n",
       "<path fill=\"none\" stroke=\"black\" d=\"M3425.79,-103.73C3436.37,-94.61 3447.59,-84.93 3458.17,-75.81\"/>\n",
       "<polygon fill=\"black\" stroke=\"black\" points=\"3460.44,-78.47 3465.73,-69.29 3455.87,-73.17 3460.44,-78.47\"/>\n",
       "</g>\n",
       "<!-- 55 -->\n",
       "<g id=\"node56\" class=\"node\">\n",
       "<title>55</title>\n",
       "<path fill=\"#8bc6f0\" stroke=\"black\" d=\"M3559,-179.5C3559,-179.5 3470,-179.5 3470,-179.5 3464,-179.5 3458,-173.5 3458,-167.5 3458,-167.5 3458,-123.5 3458,-123.5 3458,-117.5 3464,-111.5 3470,-111.5 3470,-111.5 3559,-111.5 3559,-111.5 3565,-111.5 3571,-117.5 3571,-123.5 3571,-123.5 3571,-167.5 3571,-167.5 3571,-173.5 3565,-179.5 3559,-179.5\"/>\n",
       "<text text-anchor=\"start\" x=\"3477\" y=\"-164.3\" font-family=\"Helvetica,sans-Serif\" font-size=\"14.00\">gini = 0.415</text>\n",
       "<text text-anchor=\"start\" x=\"3471\" y=\"-149.3\" font-family=\"Helvetica,sans-Serif\" font-size=\"14.00\">samples = 34</text>\n",
       "<text text-anchor=\"start\" x=\"3466\" y=\"-134.3\" font-family=\"Helvetica,sans-Serif\" font-size=\"14.00\">value = [10, 24]</text>\n",
       "<text text-anchor=\"start\" x=\"3478.5\" y=\"-119.3\" font-family=\"Helvetica,sans-Serif\" font-size=\"14.00\">class = yes</text>\n",
       "</g>\n",
       "<!-- 54&#45;&gt;55 -->\n",
       "<g id=\"edge55\" class=\"edge\">\n",
       "<title>54&#45;&gt;55</title>\n",
       "<path fill=\"none\" stroke=\"black\" d=\"M3514.5,-222.58C3514.5,-212.43 3514.5,-201.5 3514.5,-191.18\"/>\n",
       "<polygon fill=\"black\" stroke=\"black\" points=\"3518,-191.37 3514.5,-181.37 3511,-191.37 3518,-191.37\"/>\n",
       "</g>\n",
       "<!-- 56 -->\n",
       "<g id=\"node57\" class=\"node\">\n",
       "<title>56</title>\n",
       "<path fill=\"#fae8db\" stroke=\"black\" d=\"M3682,-179.5C3682,-179.5 3601,-179.5 3601,-179.5 3595,-179.5 3589,-173.5 3589,-167.5 3589,-167.5 3589,-123.5 3589,-123.5 3589,-117.5 3595,-111.5 3601,-111.5 3601,-111.5 3682,-111.5 3682,-111.5 3688,-111.5 3694,-117.5 3694,-123.5 3694,-123.5 3694,-167.5 3694,-167.5 3694,-173.5 3688,-179.5 3682,-179.5\"/>\n",
       "<text text-anchor=\"start\" x=\"3604\" y=\"-164.3\" font-family=\"Helvetica,sans-Serif\" font-size=\"14.00\">gini = 0.495</text>\n",
       "<text text-anchor=\"start\" x=\"3598\" y=\"-149.3\" font-family=\"Helvetica,sans-Serif\" font-size=\"14.00\">samples = 20</text>\n",
       "<text text-anchor=\"start\" x=\"3597\" y=\"-134.3\" font-family=\"Helvetica,sans-Serif\" font-size=\"14.00\">value = [11, 9]</text>\n",
       "<text text-anchor=\"start\" x=\"3609\" y=\"-119.3\" font-family=\"Helvetica,sans-Serif\" font-size=\"14.00\">class = no</text>\n",
       "</g>\n",
       "<!-- 54&#45;&gt;56 -->\n",
       "<g id=\"edge56\" class=\"edge\">\n",
       "<title>54&#45;&gt;56</title>\n",
       "<path fill=\"none\" stroke=\"black\" d=\"M3558.92,-222.58C3571.24,-211.23 3584.62,-198.9 3596.95,-187.55\"/>\n",
       "<polygon fill=\"black\" stroke=\"black\" points=\"3599.19,-190.24 3604.17,-180.89 3594.45,-185.09 3599.19,-190.24\"/>\n",
       "</g>\n",
       "</g>\n",
       "</svg>\n"
      ],
      "text/plain": [
       "<graphviz.sources.Source at 0x20b8d4580a0>"
      ]
     },
     "execution_count": 45,
     "metadata": {},
     "output_type": "execute_result"
    }
   ],
   "source": [
    "import graphviz\n",
    "dot_data = export_graphviz(best_clf, out_file=None, feature_names=X.columns,\n",
    "                           class_names=['no','yes'], filled=True, rounded=True,\n",
    "                           special_characters=True)\n",
    "graph = graphviz.Source(dot_data)\n",
    "graph"
   ]
  },
  {
   "attachments": {},
   "cell_type": "markdown",
   "metadata": {},
   "source": [
    "## NB Classifier 🤓"
   ]
  },
  {
   "attachments": {},
   "cell_type": "markdown",
   "metadata": {},
   "source": [
    "### Have to follow steps from 1 to 5 of Decision Tree Classifier. After that..."
   ]
  },
  {
   "cell_type": "code",
   "execution_count": 46,
   "metadata": {},
   "outputs": [],
   "source": [
    "from sklearn.naive_bayes import GaussianNB, MultinomialNB, BernoulliNB\n",
    "from sklearn.model_selection import cross_val_score"
   ]
  },
  {
   "cell_type": "code",
   "execution_count": 47,
   "metadata": {},
   "outputs": [],
   "source": [
    "X_nb = X.copy()"
   ]
  },
  {
   "cell_type": "code",
   "execution_count": 48,
   "metadata": {},
   "outputs": [
    {
     "data": {
      "text/plain": [
       "-50.8"
      ]
     },
     "execution_count": 48,
     "metadata": {},
     "output_type": "execute_result"
    }
   ],
   "source": [
    "X_nb.describe().loc['min'].min()"
   ]
  },
  {
   "attachments": {},
   "cell_type": "markdown",
   "metadata": {},
   "source": [
    "Numerical features have negetive values in it. Need to be normalised, otherwise model fitting process would generate error."
   ]
  },
  {
   "cell_type": "code",
   "execution_count": 49,
   "metadata": {},
   "outputs": [
    {
     "data": {
      "text/plain": [
       "['emp.var.rate', 'cons.price.idx', 'cons.conf.idx', 'euribor3m', 'nr.employed']"
      ]
     },
     "execution_count": 49,
     "metadata": {},
     "output_type": "execute_result"
    }
   ],
   "source": [
    "numerical_features = list(X.dtypes[X.dtypes=='float'].index)\n",
    "numerical_features"
   ]
  },
  {
   "attachments": {},
   "cell_type": "markdown",
   "metadata": {},
   "source": [
    "##### Normalization of continuous features"
   ]
  },
  {
   "cell_type": "code",
   "execution_count": 50,
   "metadata": {},
   "outputs": [
    {
     "data": {
      "text/plain": [
       "0.0"
      ]
     },
     "execution_count": 50,
     "metadata": {},
     "output_type": "execute_result"
    }
   ],
   "source": [
    "X_nb[numerical_features] = X_nb[numerical_features].apply(lambda x:(x - x.min()) / (x.max() - x.min()))\n",
    "X_nb.describe().loc['min'].min()"
   ]
  },
  {
   "cell_type": "markdown",
   "metadata": {},
   "source": [
    "##### NB Classifier Models"
   ]
  },
  {
   "cell_type": "code",
   "execution_count": 51,
   "metadata": {},
   "outputs": [],
   "source": [
    "nb_models = {'gnb':GaussianNB(),\n",
    "            'mnb':MultinomialNB(),\n",
    "            'bnb':BernoulliNB()}"
   ]
  },
  {
   "attachments": {},
   "cell_type": "markdown",
   "metadata": {},
   "source": [
    "##### Performance metric ~ Weighted Recall"
   ]
  },
  {
   "cell_type": "code",
   "execution_count": 52,
   "metadata": {},
   "outputs": [],
   "source": [
    "weighted_recall = make_scorer(recall_score, average='weighted')"
   ]
  },
  {
   "cell_type": "markdown",
   "metadata": {},
   "source": [
    "##### Train-Test split"
   ]
  },
  {
   "cell_type": "code",
   "execution_count": 53,
   "metadata": {},
   "outputs": [],
   "source": [
    "X_train, X_test, y_train, y_test = train_test_split(X_nb, y, test_size=0.2, random_state=50, stratify=y)"
   ]
  },
  {
   "cell_type": "code",
   "execution_count": 54,
   "metadata": {},
   "outputs": [
    {
     "data": {
      "image/png": "[encoded data removed]",
      "text/plain": [
       "<Figure size 640x480 with 2 Axes>"
      ]
     },
     "metadata": {},
     "output_type": "display_data"
    },
    {
     "data": {
      "image/png": "[encoded data removed]",
      "text/plain": [
       "<Figure size 640x480 with 2 Axes>"
      ]
     },
     "metadata": {},
     "output_type": "display_data"
    },
    {
     "data": {
      "image/png": "[encoded data removed]",
      "text/plain": [
       "<Figure size 640x480 with 2 Axes>"
      ]
     },
     "metadata": {},
     "output_type": "display_data"
    }
   ],
   "source": [
    "for model in nb_models:\n",
    "    # average of all performance metrics calculated from each fold\n",
    "    nb_mean_train_score = cross_val_score(estimator=nb_models[model],X=X_train,y=y_train,cv=5, scoring=weighted_recall).mean()\n",
    "\n",
    "    fit_model, time_to_train, model_size = model_measure(nb_models[model],X_train, y_train)\n",
    "\n",
    "    # calculate predicted values\n",
    "    y_pred = fit_model.predict(X_test)\n",
    "    \n",
    "    nb_test_score, nb_test_acc, nb_test_prec, nb_test_roc, conf_mat = eval_metrics(y_test, y_pred)\n",
    "\n",
    "    model_scores.loc[model] = [nb_mean_train_score, nb_test_score, nb_test_acc, nb_test_prec, nb_test_roc, time_to_train, model_size]\n",
    "\n",
    "    # create the confusion matrix display\n",
    "    cmd = ConfusionMatrixDisplay(conf_mat, display_labels=['no', 'yes'])\n",
    "\n",
    "    # plot the confusion matrix\n",
    "    cmd.plot(cmap=plt.cm.Blues)\n",
    "\n",
    "    # add a title and axis labels\n",
    "    plt.title(f'Confusion matrix of {model}')\n",
    "    plt.xlabel('Predicted label')\n",
    "    plt.ylabel('True label')\n",
    "\n",
    "    # show the plot\n",
    "    plt.show()"
   ]
  },
  {
   "attachments": {},
   "cell_type": "markdown",
   "metadata": {},
   "source": [
    "##### Compare Performance b/w DTClassifier & NBClassifier models"
   ]
  },
  {
   "cell_type": "code",
   "execution_count": 55,
   "metadata": {},
   "outputs": [
    {
     "data": {
      "text/html": [
       "<div><div id=b6e46d54-7bf7-40d0-8a7f-d32666af1f5a style=\"display:none; background-color:#9D6CFF; color:white; width:200px; height:30px; padding-left:5px; border-radius:4px; flex-direction:row; justify-content:space-around; align-items:center;\" onmouseover=\"this.style.backgroundColor='#BA9BF8'\" onmouseout=\"this.style.backgroundColor='#9D6CFF'\" onclick=\"window.commands?.execute('create-mitosheet-from-dataframe-output');\">See Full Dataframe in Mito</div> <script> if (window.commands?.hasCommand('create-mitosheet-from-dataframe-output')) document.getElementById('b6e46d54-7bf7-40d0-8a7f-d32666af1f5a').style.display = 'flex' </script> <table border=\"1\" class=\"dataframe\">\n",
       "  <thead>\n",
       "    <tr style=\"text-align: right;\">\n",
       "      <th></th>\n",
       "      <th>train_whtd_rcl</th>\n",
       "      <th>test_whtd_rcl</th>\n",
       "      <th>test_acc</th>\n",
       "      <th>test_prec</th>\n",
       "      <th>test_roc</th>\n",
       "      <th>time_to_train(ns)</th>\n",
       "      <th>model_size(KB)</th>\n",
       "    </tr>\n",
       "  </thead>\n",
       "  <tbody>\n",
       "    <tr>\n",
       "      <th>DTclf</th>\n",
       "      <td>0.901719</td>\n",
       "      <td>0.902602</td>\n",
       "      <td>0.902602</td>\n",
       "      <td>0.643432</td>\n",
       "      <td>0.631061</td>\n",
       "      <td>122392500.0</td>\n",
       "      <td>5.635742</td>\n",
       "    </tr>\n",
       "    <tr>\n",
       "      <th>gnb</th>\n",
       "      <td>0.870637</td>\n",
       "      <td>0.869002</td>\n",
       "      <td>0.869002</td>\n",
       "      <td>0.412993</td>\n",
       "      <td>0.671698</td>\n",
       "      <td>33630600.0</td>\n",
       "      <td>2.317383</td>\n",
       "    </tr>\n",
       "    <tr>\n",
       "      <th>mnb</th>\n",
       "      <td>0.889071</td>\n",
       "      <td>0.891881</td>\n",
       "      <td>0.891881</td>\n",
       "      <td>0.525050</td>\n",
       "      <td>0.636322</td>\n",
       "      <td>20652300.0</td>\n",
       "      <td>2.334961</td>\n",
       "    </tr>\n",
       "    <tr>\n",
       "      <th>bnb</th>\n",
       "      <td>0.876651</td>\n",
       "      <td>0.878938</td>\n",
       "      <td>0.878938</td>\n",
       "      <td>0.443425</td>\n",
       "      <td>0.643411</td>\n",
       "      <td>38823300.0</td>\n",
       "      <td>2.352539</td>\n",
       "    </tr>\n",
       "  </tbody>\n",
       "</table></div>"
      ],
      "text/plain": [
       "       train_whtd_rcl  test_whtd_rcl  test_acc  test_prec  test_roc  \\\n",
       "DTclf        0.901719       0.902602  0.902602   0.643432  0.631061   \n",
       "gnb          0.870637       0.869002  0.869002   0.412993  0.671698   \n",
       "mnb          0.889071       0.891881  0.891881   0.525050  0.636322   \n",
       "bnb          0.876651       0.878938  0.878938   0.443425  0.643411   \n",
       "\n",
       "       time_to_train(ns)  model_size(KB)  \n",
       "DTclf        122392500.0        5.635742  \n",
       "gnb           33630600.0        2.317383  \n",
       "mnb           20652300.0        2.334961  \n",
       "bnb           38823300.0        2.352539  "
      ]
     },
     "execution_count": 55,
     "metadata": {},
     "output_type": "execute_result"
    }
   ],
   "source": [
    "model_scores"
   ]
  }
 ],
 "metadata": {
  "kernelspec": {
   "display_name": "Python 3",
   "language": "python",
   "name": "python3"
  },
  "language_info": {
   "codemirror_mode": {
    "name": "ipython",
    "version": 3
   },
   "file_extension": ".py",
   "mimetype": "text/x-python",
   "name": "python",
   "nbconvert_exporter": "python",
   "pygments_lexer": "ipython3",
   "version": "3.10.4"
  },
  "vscode": {
   "interpreter": {
    "hash": "22a8ea357d453445cc82658ebbb40350f6423fa9803dd2d6bb589b92cbb3f7a5"
   }
  }
 },
 "nbformat": 4,
 "nbformat_minor": 4
}
